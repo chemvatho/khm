{
  "cells": [
    {
      "cell_type": "markdown",
      "metadata": {
        "id": "view-in-github",
        "colab_type": "text"
      },
      "source": [
        "<a href=\"https://colab.research.google.com/github/chemvatho/proper_project/blob/main/CLASS__ProPer_Projects.ipynb\" target=\"_parent\"><img src=\"https://colab.research.google.com/assets/colab-badge.svg\" alt=\"Open In Colab\"/></a>"
      ]
    },
    {
      "cell_type": "markdown",
      "metadata": {
        "id": "wnqDPx9_O2wv"
      },
      "source": [
        "#Install libraries"
      ]
    },
    {
      "cell_type": "code",
      "execution_count": null,
      "metadata": {
        "colab": {
          "base_uri": "https://localhost:8080/"
        },
        "id": "sQo8nfQfS3rB",
        "outputId": "203b7333-7a31-436e-9383-1697b5736a2d"
      },
      "outputs": [
        {
          "output_type": "stream",
          "name": "stdout",
          "text": [
            "\r0% [Working]\r            \rGet:1 https://cloud.r-project.org/bin/linux/ubuntu jammy-cran40/ InRelease [3,626 B]\n",
            "Hit:2 https://developer.download.nvidia.com/compute/cuda/repos/ubuntu2204/x86_64  InRelease\n",
            "Hit:3 http://archive.ubuntu.com/ubuntu jammy InRelease\n",
            "Get:4 http://security.ubuntu.com/ubuntu jammy-security InRelease [110 kB]\n",
            "Get:5 http://archive.ubuntu.com/ubuntu jammy-updates InRelease [119 kB]\n",
            "Get:6 https://ppa.launchpadcontent.net/c2d4u.team/c2d4u4.0+/ubuntu jammy InRelease [18.1 kB]\n",
            "Hit:7 https://ppa.launchpadcontent.net/deadsnakes/ppa/ubuntu jammy InRelease\n",
            "Get:8 https://ppa.launchpadcontent.net/graphics-drivers/ppa/ubuntu jammy InRelease [24.3 kB]\n",
            "Hit:9 http://archive.ubuntu.com/ubuntu jammy-backports InRelease\n",
            "Get:10 http://security.ubuntu.com/ubuntu jammy-security/universe amd64 Packages [1,063 kB]\n",
            "Hit:11 https://ppa.launchpadcontent.net/ubuntugis/ppa/ubuntu jammy InRelease\n",
            "Get:12 http://archive.ubuntu.com/ubuntu jammy-updates/main amd64 Packages [1,677 kB]\n",
            "Get:13 https://ppa.launchpadcontent.net/c2d4u.team/c2d4u4.0+/ubuntu jammy/main Sources [2,264 kB]\n",
            "Get:14 http://security.ubuntu.com/ubuntu jammy-security/main amd64 Packages [1,398 kB]\n",
            "Get:15 http://archive.ubuntu.com/ubuntu jammy-updates/universe amd64 Packages [1,333 kB]\n",
            "Get:16 https://ppa.launchpadcontent.net/c2d4u.team/c2d4u4.0+/ubuntu jammy/main amd64 Packages [1,162 kB]\n",
            "Get:17 https://ppa.launchpadcontent.net/graphics-drivers/ppa/ubuntu jammy/main amd64 Packages [44.4 kB]\n",
            "Fetched 9,216 kB in 3s (2,676 kB/s)\n",
            "Reading package lists... Done\n"
          ]
        }
      ],
      "source": [
        "!apt-get update"
      ]
    },
    {
      "cell_type": "code",
      "execution_count": null,
      "metadata": {
        "colab": {
          "base_uri": "https://localhost:8080/"
        },
        "id": "BhF-39xRz95P",
        "outputId": "456d97a3-7797-4ae4-e10c-d143b21b5109"
      },
      "outputs": [
        {
          "output_type": "stream",
          "name": "stdout",
          "text": [
            "Collecting praatio<5\n",
            "  Downloading praatio-4.4.0-py2.py3-none-any.whl (62 kB)\n",
            "\u001b[2K     \u001b[90m━━━━━━━━━━━━━━━━━━━━━━━━━━━━━━━━━━━━━━━━\u001b[0m \u001b[32m62.5/62.5 kB\u001b[0m \u001b[31m1.8 MB/s\u001b[0m eta \u001b[36m0:00:00\u001b[0m\n",
            "\u001b[?25hInstalling collected packages: praatio\n",
            "Successfully installed praatio-4.4.0\n",
            "Collecting pydub\n",
            "  Downloading pydub-0.25.1-py2.py3-none-any.whl (32 kB)\n",
            "Installing collected packages: pydub\n",
            "Successfully installed pydub-0.25.1\n",
            "Collecting praat-parselmouth\n",
            "  Downloading praat_parselmouth-0.4.3-cp310-cp310-manylinux_2_12_x86_64.manylinux2010_x86_64.whl (10.7 MB)\n",
            "\u001b[2K     \u001b[90m━━━━━━━━━━━━━━━━━━━━━━━━━━━━━━━━━━━━━━━━\u001b[0m \u001b[32m10.7/10.7 MB\u001b[0m \u001b[31m22.3 MB/s\u001b[0m eta \u001b[36m0:00:00\u001b[0m\n",
            "\u001b[?25hRequirement already satisfied: numpy>=1.7.0 in /usr/local/lib/python3.10/dist-packages (from praat-parselmouth) (1.23.5)\n",
            "Installing collected packages: praat-parselmouth\n",
            "Successfully installed praat-parselmouth-0.4.3\n",
            "Collecting config\n",
            "  Downloading config-0.5.1-py2.py3-none-any.whl (20 kB)\n",
            "Installing collected packages: config\n",
            "Successfully installed config-0.5.1\n",
            "Reading package lists... Done\n",
            "Building dependency tree... Done\n",
            "Reading state information... Done\n",
            "The following additional packages will be installed:\n",
            "  oss-compat\n",
            "Suggested packages:\n",
            "  libasound2-plugins\n",
            "Recommended packages:\n",
            "  osspd\n",
            "The following NEW packages will be installed:\n",
            "  oss-compat praat\n",
            "0 upgraded, 2 newly installed, 0 to remove and 34 not upgraded.\n",
            "Need to get 15.8 MB of archives.\n",
            "After this operation, 70.0 MB of additional disk space will be used.\n",
            "Get:1 http://archive.ubuntu.com/ubuntu jammy/universe amd64 oss-compat amd64 7 [5,000 B]\n",
            "Get:2 http://archive.ubuntu.com/ubuntu jammy/universe amd64 praat amd64 6.2.09-1 [15.8 MB]\n",
            "Fetched 15.8 MB in 3s (4,677 kB/s)\n",
            "Selecting previously unselected package oss-compat.\n",
            "(Reading database ... 121730 files and directories currently installed.)\n",
            "Preparing to unpack .../oss-compat_7_amd64.deb ...\n",
            "Unpacking oss-compat (7) ...\n",
            "Selecting previously unselected package praat.\n",
            "Preparing to unpack .../praat_6.2.09-1_amd64.deb ...\n",
            "Unpacking praat (6.2.09-1) ...\n",
            "Setting up oss-compat (7) ...\n",
            "Setting up praat (6.2.09-1) ...\n",
            "Processing triggers for hicolor-icon-theme (0.17-2) ...\n",
            "Processing triggers for man-db (2.10.2-1) ...\n",
            "Requirement already satisfied: pandas in /usr/local/lib/python3.10/dist-packages (1.5.3)\n",
            "Requirement already satisfied: numpy in /usr/local/lib/python3.10/dist-packages (1.23.5)\n",
            "Requirement already satisfied: scipy in /usr/local/lib/python3.10/dist-packages (1.11.4)\n",
            "Requirement already satisfied: python-dateutil>=2.8.1 in /usr/local/lib/python3.10/dist-packages (from pandas) (2.8.2)\n",
            "Requirement already satisfied: pytz>=2020.1 in /usr/local/lib/python3.10/dist-packages (from pandas) (2023.3.post1)\n",
            "Requirement already satisfied: six>=1.5 in /usr/local/lib/python3.10/dist-packages (from python-dateutil>=2.8.1->pandas) (1.16.0)\n",
            "Requirement already satisfied: ipywidgets in /usr/local/lib/python3.10/dist-packages (7.7.1)\n",
            "Requirement already satisfied: ipykernel>=4.5.1 in /usr/local/lib/python3.10/dist-packages (from ipywidgets) (5.5.6)\n",
            "Requirement already satisfied: ipython-genutils~=0.2.0 in /usr/local/lib/python3.10/dist-packages (from ipywidgets) (0.2.0)\n",
            "Requirement already satisfied: traitlets>=4.3.1 in /usr/local/lib/python3.10/dist-packages (from ipywidgets) (5.7.1)\n",
            "Requirement already satisfied: widgetsnbextension~=3.6.0 in /usr/local/lib/python3.10/dist-packages (from ipywidgets) (3.6.6)\n",
            "Requirement already satisfied: ipython>=4.0.0 in /usr/local/lib/python3.10/dist-packages (from ipywidgets) (7.34.0)\n",
            "Requirement already satisfied: jupyterlab-widgets>=1.0.0 in /usr/local/lib/python3.10/dist-packages (from ipywidgets) (3.0.9)\n",
            "Requirement already satisfied: jupyter-client in /usr/local/lib/python3.10/dist-packages (from ipykernel>=4.5.1->ipywidgets) (6.1.12)\n",
            "Requirement already satisfied: tornado>=4.2 in /usr/local/lib/python3.10/dist-packages (from ipykernel>=4.5.1->ipywidgets) (6.3.2)\n",
            "Requirement already satisfied: setuptools>=18.5 in /usr/local/lib/python3.10/dist-packages (from ipython>=4.0.0->ipywidgets) (67.7.2)\n",
            "Collecting jedi>=0.16 (from ipython>=4.0.0->ipywidgets)\n",
            "  Downloading jedi-0.19.1-py2.py3-none-any.whl (1.6 MB)\n",
            "\u001b[2K     \u001b[90m━━━━━━━━━━━━━━━━━━━━━━━━━━━━━━━━━━━━━━━━\u001b[0m \u001b[32m1.6/1.6 MB\u001b[0m \u001b[31m9.3 MB/s\u001b[0m eta \u001b[36m0:00:00\u001b[0m\n",
            "\u001b[?25hRequirement already satisfied: decorator in /usr/local/lib/python3.10/dist-packages (from ipython>=4.0.0->ipywidgets) (4.4.2)\n",
            "Requirement already satisfied: pickleshare in /usr/local/lib/python3.10/dist-packages (from ipython>=4.0.0->ipywidgets) (0.7.5)\n",
            "Requirement already satisfied: prompt-toolkit!=3.0.0,!=3.0.1,<3.1.0,>=2.0.0 in /usr/local/lib/python3.10/dist-packages (from ipython>=4.0.0->ipywidgets) (3.0.43)\n",
            "Requirement already satisfied: pygments in /usr/local/lib/python3.10/dist-packages (from ipython>=4.0.0->ipywidgets) (2.16.1)\n",
            "Requirement already satisfied: backcall in /usr/local/lib/python3.10/dist-packages (from ipython>=4.0.0->ipywidgets) (0.2.0)\n",
            "Requirement already satisfied: matplotlib-inline in /usr/local/lib/python3.10/dist-packages (from ipython>=4.0.0->ipywidgets) (0.1.6)\n",
            "Requirement already satisfied: pexpect>4.3 in /usr/local/lib/python3.10/dist-packages (from ipython>=4.0.0->ipywidgets) (4.9.0)\n",
            "Requirement already satisfied: notebook>=4.4.1 in /usr/local/lib/python3.10/dist-packages (from widgetsnbextension~=3.6.0->ipywidgets) (6.5.5)\n",
            "Requirement already satisfied: parso<0.9.0,>=0.8.3 in /usr/local/lib/python3.10/dist-packages (from jedi>=0.16->ipython>=4.0.0->ipywidgets) (0.8.3)\n",
            "Requirement already satisfied: jinja2 in /usr/local/lib/python3.10/dist-packages (from notebook>=4.4.1->widgetsnbextension~=3.6.0->ipywidgets) (3.1.3)\n",
            "Requirement already satisfied: pyzmq<25,>=17 in /usr/local/lib/python3.10/dist-packages (from notebook>=4.4.1->widgetsnbextension~=3.6.0->ipywidgets) (23.2.1)\n",
            "Requirement already satisfied: argon2-cffi in /usr/local/lib/python3.10/dist-packages (from notebook>=4.4.1->widgetsnbextension~=3.6.0->ipywidgets) (23.1.0)\n",
            "Requirement already satisfied: jupyter-core>=4.6.1 in /usr/local/lib/python3.10/dist-packages (from notebook>=4.4.1->widgetsnbextension~=3.6.0->ipywidgets) (5.7.1)\n",
            "Requirement already satisfied: nbformat in /usr/local/lib/python3.10/dist-packages (from notebook>=4.4.1->widgetsnbextension~=3.6.0->ipywidgets) (5.9.2)\n",
            "Requirement already satisfied: nbconvert>=5 in /usr/local/lib/python3.10/dist-packages (from notebook>=4.4.1->widgetsnbextension~=3.6.0->ipywidgets) (6.5.4)\n",
            "Requirement already satisfied: nest-asyncio>=1.5 in /usr/local/lib/python3.10/dist-packages (from notebook>=4.4.1->widgetsnbextension~=3.6.0->ipywidgets) (1.6.0)\n",
            "Requirement already satisfied: Send2Trash>=1.8.0 in /usr/local/lib/python3.10/dist-packages (from notebook>=4.4.1->widgetsnbextension~=3.6.0->ipywidgets) (1.8.2)\n",
            "Requirement already satisfied: terminado>=0.8.3 in /usr/local/lib/python3.10/dist-packages (from notebook>=4.4.1->widgetsnbextension~=3.6.0->ipywidgets) (0.18.0)\n",
            "Requirement already satisfied: prometheus-client in /usr/local/lib/python3.10/dist-packages (from notebook>=4.4.1->widgetsnbextension~=3.6.0->ipywidgets) (0.19.0)\n",
            "Requirement already satisfied: nbclassic>=0.4.7 in /usr/local/lib/python3.10/dist-packages (from notebook>=4.4.1->widgetsnbextension~=3.6.0->ipywidgets) (1.0.0)\n",
            "Requirement already satisfied: python-dateutil>=2.1 in /usr/local/lib/python3.10/dist-packages (from jupyter-client->ipykernel>=4.5.1->ipywidgets) (2.8.2)\n",
            "Requirement already satisfied: ptyprocess>=0.5 in /usr/local/lib/python3.10/dist-packages (from pexpect>4.3->ipython>=4.0.0->ipywidgets) (0.7.0)\n",
            "Requirement already satisfied: wcwidth in /usr/local/lib/python3.10/dist-packages (from prompt-toolkit!=3.0.0,!=3.0.1,<3.1.0,>=2.0.0->ipython>=4.0.0->ipywidgets) (0.2.13)\n",
            "Requirement already satisfied: platformdirs>=2.5 in /usr/local/lib/python3.10/dist-packages (from jupyter-core>=4.6.1->notebook>=4.4.1->widgetsnbextension~=3.6.0->ipywidgets) (4.1.0)\n",
            "Requirement already satisfied: jupyter-server>=1.8 in /usr/local/lib/python3.10/dist-packages (from nbclassic>=0.4.7->notebook>=4.4.1->widgetsnbextension~=3.6.0->ipywidgets) (1.24.0)\n",
            "Requirement already satisfied: notebook-shim>=0.2.3 in /usr/local/lib/python3.10/dist-packages (from nbclassic>=0.4.7->notebook>=4.4.1->widgetsnbextension~=3.6.0->ipywidgets) (0.2.3)\n",
            "Requirement already satisfied: lxml in /usr/local/lib/python3.10/dist-packages (from nbconvert>=5->notebook>=4.4.1->widgetsnbextension~=3.6.0->ipywidgets) (4.9.4)\n",
            "Requirement already satisfied: beautifulsoup4 in /usr/local/lib/python3.10/dist-packages (from nbconvert>=5->notebook>=4.4.1->widgetsnbextension~=3.6.0->ipywidgets) (4.11.2)\n",
            "Requirement already satisfied: bleach in /usr/local/lib/python3.10/dist-packages (from nbconvert>=5->notebook>=4.4.1->widgetsnbextension~=3.6.0->ipywidgets) (6.1.0)\n",
            "Requirement already satisfied: defusedxml in /usr/local/lib/python3.10/dist-packages (from nbconvert>=5->notebook>=4.4.1->widgetsnbextension~=3.6.0->ipywidgets) (0.7.1)\n",
            "Requirement already satisfied: entrypoints>=0.2.2 in /usr/local/lib/python3.10/dist-packages (from nbconvert>=5->notebook>=4.4.1->widgetsnbextension~=3.6.0->ipywidgets) (0.4)\n",
            "Requirement already satisfied: jupyterlab-pygments in /usr/local/lib/python3.10/dist-packages (from nbconvert>=5->notebook>=4.4.1->widgetsnbextension~=3.6.0->ipywidgets) (0.3.0)\n",
            "Requirement already satisfied: MarkupSafe>=2.0 in /usr/local/lib/python3.10/dist-packages (from nbconvert>=5->notebook>=4.4.1->widgetsnbextension~=3.6.0->ipywidgets) (2.1.4)\n",
            "Requirement already satisfied: mistune<2,>=0.8.1 in /usr/local/lib/python3.10/dist-packages (from nbconvert>=5->notebook>=4.4.1->widgetsnbextension~=3.6.0->ipywidgets) (0.8.4)\n",
            "Requirement already satisfied: nbclient>=0.5.0 in /usr/local/lib/python3.10/dist-packages (from nbconvert>=5->notebook>=4.4.1->widgetsnbextension~=3.6.0->ipywidgets) (0.9.0)\n",
            "Requirement already satisfied: packaging in /usr/local/lib/python3.10/dist-packages (from nbconvert>=5->notebook>=4.4.1->widgetsnbextension~=3.6.0->ipywidgets) (23.2)\n",
            "Requirement already satisfied: pandocfilters>=1.4.1 in /usr/local/lib/python3.10/dist-packages (from nbconvert>=5->notebook>=4.4.1->widgetsnbextension~=3.6.0->ipywidgets) (1.5.1)\n",
            "Requirement already satisfied: tinycss2 in /usr/local/lib/python3.10/dist-packages (from nbconvert>=5->notebook>=4.4.1->widgetsnbextension~=3.6.0->ipywidgets) (1.2.1)\n",
            "Requirement already satisfied: fastjsonschema in /usr/local/lib/python3.10/dist-packages (from nbformat->notebook>=4.4.1->widgetsnbextension~=3.6.0->ipywidgets) (2.19.1)\n",
            "Requirement already satisfied: jsonschema>=2.6 in /usr/local/lib/python3.10/dist-packages (from nbformat->notebook>=4.4.1->widgetsnbextension~=3.6.0->ipywidgets) (4.19.2)\n",
            "Requirement already satisfied: six>=1.5 in /usr/local/lib/python3.10/dist-packages (from python-dateutil>=2.1->jupyter-client->ipykernel>=4.5.1->ipywidgets) (1.16.0)\n",
            "Requirement already satisfied: argon2-cffi-bindings in /usr/local/lib/python3.10/dist-packages (from argon2-cffi->notebook>=4.4.1->widgetsnbextension~=3.6.0->ipywidgets) (21.2.0)\n",
            "Requirement already satisfied: attrs>=22.2.0 in /usr/local/lib/python3.10/dist-packages (from jsonschema>=2.6->nbformat->notebook>=4.4.1->widgetsnbextension~=3.6.0->ipywidgets) (23.2.0)\n",
            "Requirement already satisfied: jsonschema-specifications>=2023.03.6 in /usr/local/lib/python3.10/dist-packages (from jsonschema>=2.6->nbformat->notebook>=4.4.1->widgetsnbextension~=3.6.0->ipywidgets) (2023.12.1)\n",
            "Requirement already satisfied: referencing>=0.28.4 in /usr/local/lib/python3.10/dist-packages (from jsonschema>=2.6->nbformat->notebook>=4.4.1->widgetsnbextension~=3.6.0->ipywidgets) (0.32.1)\n",
            "Requirement already satisfied: rpds-py>=0.7.1 in /usr/local/lib/python3.10/dist-packages (from jsonschema>=2.6->nbformat->notebook>=4.4.1->widgetsnbextension~=3.6.0->ipywidgets) (0.17.1)\n",
            "Requirement already satisfied: anyio<4,>=3.1.0 in /usr/local/lib/python3.10/dist-packages (from jupyter-server>=1.8->nbclassic>=0.4.7->notebook>=4.4.1->widgetsnbextension~=3.6.0->ipywidgets) (3.7.1)\n",
            "Requirement already satisfied: websocket-client in /usr/local/lib/python3.10/dist-packages (from jupyter-server>=1.8->nbclassic>=0.4.7->notebook>=4.4.1->widgetsnbextension~=3.6.0->ipywidgets) (1.7.0)\n",
            "Requirement already satisfied: cffi>=1.0.1 in /usr/local/lib/python3.10/dist-packages (from argon2-cffi-bindings->argon2-cffi->notebook>=4.4.1->widgetsnbextension~=3.6.0->ipywidgets) (1.16.0)\n",
            "Requirement already satisfied: soupsieve>1.2 in /usr/local/lib/python3.10/dist-packages (from beautifulsoup4->nbconvert>=5->notebook>=4.4.1->widgetsnbextension~=3.6.0->ipywidgets) (2.5)\n",
            "Requirement already satisfied: webencodings in /usr/local/lib/python3.10/dist-packages (from bleach->nbconvert>=5->notebook>=4.4.1->widgetsnbextension~=3.6.0->ipywidgets) (0.5.1)\n",
            "Requirement already satisfied: idna>=2.8 in /usr/local/lib/python3.10/dist-packages (from anyio<4,>=3.1.0->jupyter-server>=1.8->nbclassic>=0.4.7->notebook>=4.4.1->widgetsnbextension~=3.6.0->ipywidgets) (3.6)\n",
            "Requirement already satisfied: sniffio>=1.1 in /usr/local/lib/python3.10/dist-packages (from anyio<4,>=3.1.0->jupyter-server>=1.8->nbclassic>=0.4.7->notebook>=4.4.1->widgetsnbextension~=3.6.0->ipywidgets) (1.3.0)\n",
            "Requirement already satisfied: exceptiongroup in /usr/local/lib/python3.10/dist-packages (from anyio<4,>=3.1.0->jupyter-server>=1.8->nbclassic>=0.4.7->notebook>=4.4.1->widgetsnbextension~=3.6.0->ipywidgets) (1.2.0)\n",
            "Requirement already satisfied: pycparser in /usr/local/lib/python3.10/dist-packages (from cffi>=1.0.1->argon2-cffi-bindings->argon2-cffi->notebook>=4.4.1->widgetsnbextension~=3.6.0->ipywidgets) (2.21)\n",
            "Installing collected packages: jedi\n",
            "Successfully installed jedi-0.19.1\n",
            "Collecting amfm_decompy\n",
            "  Downloading AMFM_decompy-1.0.11.tar.gz (751 kB)\n",
            "\u001b[2K     \u001b[90m━━━━━━━━━━━━━━━━━━━━━━━━━━━━━━━━━━━━━━━━\u001b[0m \u001b[32m751.5/751.5 kB\u001b[0m \u001b[31m7.5 MB/s\u001b[0m eta \u001b[36m0:00:00\u001b[0m\n",
            "\u001b[?25h  Preparing metadata (setup.py) ... \u001b[?25l\u001b[?25hdone\n",
            "Requirement already satisfied: numpy in /usr/local/lib/python3.10/dist-packages (from amfm_decompy) (1.23.5)\n",
            "Requirement already satisfied: scipy in /usr/local/lib/python3.10/dist-packages (from amfm_decompy) (1.11.4)\n",
            "Building wheels for collected packages: amfm_decompy\n",
            "  Building wheel for amfm_decompy (setup.py) ... \u001b[?25l\u001b[?25hdone\n",
            "  Created wheel for amfm_decompy: filename=AMFM_decompy-1.0.11-py3-none-any.whl size=42835 sha256=960459e6c1b0d1997120470c6de2d830457047cd58a83f76bd7588a674b9b1a8\n",
            "  Stored in directory: /root/.cache/pip/wheels/07/81/e7/443ad333f2f4ed8c06fc027caeb0d0c84b896fe7e56c2e92b1\n",
            "Successfully built amfm_decompy\n",
            "Installing collected packages: amfm_decompy\n",
            "Successfully installed amfm_decompy-1.0.11\n",
            "Collecting aubio\n",
            "  Downloading aubio-0.4.9.tar.gz (479 kB)\n",
            "\u001b[2K     \u001b[90m━━━━━━━━━━━━━━━━━━━━━━━━━━━━━━━━━━━━━━━━\u001b[0m \u001b[32m479.0/479.0 kB\u001b[0m \u001b[31m6.6 MB/s\u001b[0m eta \u001b[36m0:00:00\u001b[0m\n",
            "\u001b[?25h  Preparing metadata (setup.py) ... \u001b[?25l\u001b[?25hdone\n",
            "Requirement already satisfied: numpy in /usr/local/lib/python3.10/dist-packages (from aubio) (1.23.5)\n",
            "Building wheels for collected packages: aubio\n",
            "  Building wheel for aubio (setup.py) ... \u001b[?25l\u001b[?25hdone\n",
            "  Created wheel for aubio: filename=aubio-0.4.9-cp310-cp310-linux_x86_64.whl size=425178 sha256=bb7c30cdc1dc3bd8cda002474f42e082ad4fb01a655f53b834c3ec52619db5e8\n",
            "  Stored in directory: /root/.cache/pip/wheels/00/30/30/a06fe7e9c7fe740486c219851b2bc1c7ed4a97e9c257efd3d7\n",
            "Successfully built aubio\n",
            "Installing collected packages: aubio\n",
            "Successfully installed aubio-0.4.9\n"
          ]
        }
      ],
      "source": [
        "!pip install 'praatio<5'\n",
        "!pip install pydub\n",
        "!pip install praat-parselmouth\n",
        "!pip install config\n",
        "!apt-get install praat\n",
        "!pip install pandas numpy scipy\n",
        "!pip install ipywidgets\n",
        "!pip install amfm_decompy\n",
        "!pip install aubio"
      ]
    },
    {
      "cell_type": "code",
      "source": [
        "!git clone https://github.com/chemvatho/proper_project\n",
        "\n",
        "!mv /content/proper_project/*.py /content/\n",
        "!mv /content/proper_project/*.w /content/\n"
      ],
      "metadata": {
        "colab": {
          "base_uri": "https://localhost:8080/"
        },
        "id": "EbeVHEbQZroe",
        "outputId": "2a72aa24-2778-404a-96d5-d19f517280fe"
      },
      "execution_count": 7,
      "outputs": [
        {
          "output_type": "stream",
          "name": "stdout",
          "text": [
            "fatal: destination path 'proper_project' already exists and is not an empty directory.\n"
          ]
        }
      ]
    },
    {
      "cell_type": "markdown",
      "metadata": {
        "id": "9ni6K5buOxLr"
      },
      "source": [
        "#Directories"
      ]
    },
    {
      "cell_type": "code",
      "execution_count": 9,
      "metadata": {
        "id": "T35AQmF1Gcdf",
        "colab": {
          "base_uri": "https://localhost:8080/"
        },
        "outputId": "ee16da97-160b-4fef-ff6c-4a37c67b16ac"
      },
      "outputs": [
        {
          "output_type": "stream",
          "name": "stdout",
          "text": [
            "Directory already exists: /content/Proper_project/praat_data/audio/\n",
            "Directory already exists: /content/Proper_project/praat_data/intensity_tiers/\n",
            "Directory already exists: /content/Proper_project/praat_data/pitch_objects/\n",
            "Directory already exists: /content/Proper_project/praat_data/pitch_tiers/\n",
            "Directory already exists: /content/Proper_project/praat_data/textgrids/\n",
            "Directory already exists: /content/Proper_project/data_tables/\n",
            "Directory already exists: /content/Proper_project/output_csv/\n"
          ]
        }
      ],
      "source": [
        "from MakingDirectories import DirectoryCreator\n",
        "\n",
        "# Input directory paths\n",
        "InDirAudio = \"/content/Proper_project/praat_data/audio/\"\n",
        "OutDirIntensityTier = \"/content/Proper_project/praat_data/intensity_tiers/\"\n",
        "OutDirPitchObject = \"/content/Proper_project/praat_data/pitch_objects/\"\n",
        "OutDirPitchTier = \"/content/Proper_project/praat_data/pitch_tiers/\"\n",
        "OutDirTextGrid = \"/content/Proper_project/praat_data/textgrids/\"\n",
        "\n",
        "#different path\n",
        "OutDirDatatable = \"/content/Proper_project/data_tables/\"\n",
        "OutDirOutput_csv = \"/content/Proper_project/output_csv/\"\n",
        "\n",
        "# Create an instance of DirectoryCreator\n",
        "dir_creator = DirectoryCreator(\n",
        "    InDirAudio, OutDirIntensityTier, OutDirPitchObject, OutDirPitchTier,\n",
        "    OutDirTextGrid, OutDirDatatable, OutDirOutput_csv\n",
        ")\n",
        "\n",
        "# Create directories\n",
        "dir_creator.create_directories()\n",
        "\n",
        "!mv /content/proper_project/proper_resources/textgrids /content/Proper_project/praat_data/\n",
        "!mv /content/proper_project/proper_resources/audio /content/Proper_project/praat_data/\n",
        "\n",
        "!rm -r /content/proper_project\n"
      ]
    },
    {
      "cell_type": "code",
      "execution_count": null,
      "metadata": {
        "id": "qK2yGyvESq6X",
        "colab": {
          "base_uri": "https://localhost:8080/"
        },
        "outputId": "c6aff95e-9346-4f31-fc8a-bd3d0944dfab"
      },
      "outputs": [
        {
          "output_type": "stream",
          "name": "stdout",
          "text": [
            "Audio File: /content/Proper_project/praat_data/audio/glenn_1.wav\n",
            "Name Prefix: glenn_1\n",
            "--------------------------------------------\n",
            "Audio File: /content/Proper_project/praat_data/audio/AH_1.wav\n",
            "Name Prefix: AH_1\n",
            "--------------------------------------------\n",
            "Audio File: /content/Proper_project/praat_data/audio/DM_1.wav\n",
            "Name Prefix: DM_1\n",
            "--------------------------------------------\n",
            "Audio File: /content/Proper_project/praat_data/audio/Khm_1.wav\n",
            "Name Prefix: Khm_1\n",
            "--------------------------------------------\n",
            "Audio File: /content/Proper_project/praat_data/audio/misc_58.wav\n",
            "Name Prefix: misc_58\n",
            "--------------------------------------------\n",
            "Audio File: /content/Proper_project/praat_data/audio/joe_7.wav\n",
            "Name Prefix: joe_7\n",
            "--------------------------------------------\n"
          ]
        }
      ],
      "source": [
        "from loading_audio_textgrid import AudioTextgridLoader\n",
        "\n",
        "# Example usage:\n",
        "audio_dir_path = \"/content/Proper_project/praat_data/audio\"\n",
        "textgrid_dir_path = \"/content/Proper_project/praat_data/textgrids\"\n",
        "\n",
        "\n",
        "loader = AudioTextgridLoader(audio_dir_path, textgrid_dir_path)\n",
        "loader.print_loaded_audio_prefixes()"
      ]
    },
    {
      "cell_type": "markdown",
      "metadata": {
        "id": "u7bhmXbROqMQ"
      },
      "source": [
        "#looking for sound files (.wav)"
      ]
    },
    {
      "cell_type": "markdown",
      "metadata": {
        "id": "WkW48UIfgEJU"
      },
      "source": [
        "#Create IntensityTier, PitchObjects, PitchTier\n"
      ]
    },
    {
      "cell_type": "code",
      "execution_count": null,
      "metadata": {
        "id": "Y93vWB_aOAAg",
        "colab": {
          "base_uri": "https://localhost:8080/"
        },
        "outputId": "fe2b48df-8c20-4f20-aac5-196abfbc46ce"
      },
      "outputs": [
        {
          "output_type": "stream",
          "name": "stdout",
          "text": [
            "Processing complete for sound file: glenn_1.wav\n",
            "Processing complete for sound file: AH_1.wav\n",
            "Processing complete for sound file: DM_1.wav\n",
            "Processing complete for sound file: Khm_1.wav\n",
            "Processing complete for sound file: misc_58.wav\n",
            "Processing complete for sound file: joe_7.wav\n"
          ]
        }
      ],
      "source": [
        "from PitchIntensityExtractor import PitchIntensityExtractor\n",
        "\n",
        "# Instantiate the class\n",
        "pitch_intensity_extractor = PitchIntensityExtractor(InDirAudio, OutDirIntensityTier, OutDirPitchObject, OutDirPitchTier)\n",
        "\n",
        "# Process files\n",
        "pitch_intensity_extractor.process_files()\n",
        "\n"
      ]
    },
    {
      "cell_type": "markdown",
      "source": [
        "# Praat pitch"
      ],
      "metadata": {
        "id": "LZOavSLzP5ja"
      }
    },
    {
      "cell_type": "code",
      "execution_count": null,
      "metadata": {
        "id": "T9yShXfjmbKI",
        "colab": {
          "base_uri": "https://localhost:8080/",
          "height": 859,
          "referenced_widgets": [
            "6e79d1ff798e40268bbf476e14a0933c",
            "732b70d420e34c0e804d8260bc0df0b2",
            "8efd7fa5b4cd4bb6a1d5979c81050f9a",
            "ddfc4f042ea4499582d89b2d381104e3",
            "da6e5ca12f9b47578c634eee9312ba59",
            "8f233a87cb9840dd856936b7441dc46c",
            "1a5750d8bea24bfea8218f2bb5fa6a8c",
            "4bc5e8a38db8478584331e038584f0ff",
            "a396d30583ba4d4bb59eb9ba53c021a9",
            "6d7ebf1213d84e8a8ed351763c1c15ea",
            "89d3041a6cfc4eda8e113b1258a9a017",
            "00ba91e6ed9846efbe9f27c59a82db74",
            "7fbcccfc289a4c3ca3e5e8dd545abada",
            "644c8a528a3144fbb5be7c1c8971262c"
          ]
        },
        "outputId": "26557aec-9d83-4f1e-d757-d5f038ac734e"
      },
      "outputs": [
        {
          "output_type": "display_data",
          "data": {
            "text/plain": [
              "Dropdown(description='Select Audio File:', options=('glenn_1.wav', 'AH_1.wav', 'DM_1.wav', 'Khm_1.wav', 'misc_…"
            ],
            "application/vnd.jupyter.widget-view+json": {
              "version_major": 2,
              "version_minor": 0,
              "model_id": "6e79d1ff798e40268bbf476e14a0933c"
            }
          },
          "metadata": {}
        },
        {
          "output_type": "display_data",
          "data": {
            "text/plain": [
              "FloatSlider(value=40.0, description='Pitch Floor:', min=1.0, step=1.0)"
            ],
            "application/vnd.jupyter.widget-view+json": {
              "version_major": 2,
              "version_minor": 0,
              "model_id": "ddfc4f042ea4499582d89b2d381104e3"
            }
          },
          "metadata": {}
        },
        {
          "output_type": "display_data",
          "data": {
            "text/plain": [
              "FloatSlider(value=10.0, description='Smooth:', min=1.0, step=1.0)"
            ],
            "application/vnd.jupyter.widget-view+json": {
              "version_major": 2,
              "version_minor": 0,
              "model_id": "1a5750d8bea24bfea8218f2bb5fa6a8c"
            }
          },
          "metadata": {}
        },
        {
          "output_type": "display_data",
          "data": {
            "text/plain": [
              "Button(description='Process and Plot', style=ButtonStyle())"
            ],
            "application/vnd.jupyter.widget-view+json": {
              "version_major": 2,
              "version_minor": 0,
              "model_id": "6d7ebf1213d84e8a8ed351763c1c15ea"
            }
          },
          "metadata": {}
        },
        {
          "output_type": "display_data",
          "data": {
            "text/plain": [
              "Output()"
            ],
            "application/vnd.jupyter.widget-view+json": {
              "version_major": 2,
              "version_minor": 0,
              "model_id": "7fbcccfc289a4c3ca3e5e8dd545abada"
            }
          },
          "metadata": {}
        }
      ],
      "source": [
        "from f0_smooth_praat import Praat_PitchAnalysis\n",
        "\n",
        "# Your audio directory here\n",
        "\n",
        "InDirAudio = \"/content/Proper_project/praat_data/audio\"\n",
        "OutDirPitchTier = \"/content/Proper_project/praat_data/pitch_tiers/\"\n",
        "\n",
        "pitch_analysis = Praat_PitchAnalysis(InDirAudio, OutDirPitchTier)\n",
        "pitch_analysis.display_widgets()"
      ]
    },
    {
      "cell_type": "markdown",
      "metadata": {
        "id": "ayRA3e6xs-0V"
      },
      "source": [
        "#Preparation your DATA\n"
      ]
    },
    {
      "cell_type": "markdown",
      "metadata": {
        "id": "P3oz9e3XeQ8l"
      },
      "source": [
        "#Intensity, f0_smooth, and pitchObjects to csv"
      ]
    },
    {
      "cell_type": "code",
      "execution_count": null,
      "metadata": {
        "id": "cXnsYtEBRt8m",
        "colab": {
          "base_uri": "https://localhost:8080/"
        },
        "outputId": "1e47d979-ce9b-45f5-d7ff-463ab607bcc0"
      },
      "outputs": [
        {
          "output_type": "stream",
          "name": "stdout",
          "text": [
            "Full time data for 'glenn_1' saved to /content/Proper_project/data_tables/glenn_1_fullTime_data.csv\n",
            "Full time data for 'AH_1' saved to /content/Proper_project/data_tables/AH_1_fullTime_data.csv\n",
            "Full time data for 'DM_1' saved to /content/Proper_project/data_tables/DM_1_fullTime_data.csv\n",
            "Full time data for 'Khm_1' saved to /content/Proper_project/data_tables/Khm_1_fullTime_data.csv\n",
            "Full time data for 'misc_58' saved to /content/Proper_project/data_tables/misc_58_fullTime_data.csv\n",
            "Full time data for 'joe_7' saved to /content/Proper_project/data_tables/joe_7_fullTime_data.csv\n",
            "Intensity data for 'joe_7' saved to /content/Proper_project/data_tables/joe_7_intensity_data.csv\n",
            "Intensity data for 'misc_58' saved to /content/Proper_project/data_tables/misc_58_intensity_data.csv\n",
            "Intensity data for 'DM_1' saved to /content/Proper_project/data_tables/DM_1_intensity_data.csv\n",
            "Intensity data for 'AH_1' saved to /content/Proper_project/data_tables/AH_1_intensity_data.csv\n",
            "Intensity data for 'glenn_1' saved to /content/Proper_project/data_tables/glenn_1_intensity_data.csv\n",
            "Intensity data for 'Khm_1' saved to /content/Proper_project/data_tables/Khm_1_intensity_data.csv\n",
            "F0 smooth data for 'misc_58' saved to /content/Proper_project/data_tables/misc_58_f0_smooth_data.csv\n",
            "F0 smooth data for 'glenn_1' saved to /content/Proper_project/data_tables/glenn_1_f0_smooth_data.csv\n",
            "F0 smooth data for 'joe_7' saved to /content/Proper_project/data_tables/joe_7_f0_smooth_data.csv\n",
            "F0 smooth data for 'DM_1' saved to /content/Proper_project/data_tables/DM_1_f0_smooth_data.csv\n",
            "F0 smooth data for 'Khm_1' saved to /content/Proper_project/data_tables/Khm_1_f0_smooth_data.csv\n",
            "F0 smooth data for 'AH_1' saved to /content/Proper_project/data_tables/AH_1_f0_smooth_data.csv\n",
            "Data saved to CSV files conditioned by audio file name.\n",
            "Full time data for 'glenn_1' saved to /content/Proper_project/data_tables/glenn_1_fullTime_data.csv\n",
            "Full time data for 'AH_1' saved to /content/Proper_project/data_tables/AH_1_fullTime_data.csv\n",
            "Full time data for 'DM_1' saved to /content/Proper_project/data_tables/DM_1_fullTime_data.csv\n",
            "Full time data for 'Khm_1' saved to /content/Proper_project/data_tables/Khm_1_fullTime_data.csv\n",
            "Full time data for 'misc_58' saved to /content/Proper_project/data_tables/misc_58_fullTime_data.csv\n",
            "Full time data for 'joe_7' saved to /content/Proper_project/data_tables/joe_7_fullTime_data.csv\n",
            "Intensity data for 'joe_7' saved to /content/Proper_project/data_tables/joe_7_intensity_data.csv\n",
            "Intensity data for 'misc_58' saved to /content/Proper_project/data_tables/misc_58_intensity_data.csv\n",
            "Intensity data for 'DM_1' saved to /content/Proper_project/data_tables/DM_1_intensity_data.csv\n",
            "Intensity data for 'AH_1' saved to /content/Proper_project/data_tables/AH_1_intensity_data.csv\n",
            "Intensity data for 'glenn_1' saved to /content/Proper_project/data_tables/glenn_1_intensity_data.csv\n",
            "Intensity data for 'Khm_1' saved to /content/Proper_project/data_tables/Khm_1_intensity_data.csv\n",
            "F0 smooth data for 'misc_58' saved to /content/Proper_project/data_tables/misc_58_f0_smooth_data.csv\n",
            "F0 smooth data for 'glenn_1' saved to /content/Proper_project/data_tables/glenn_1_f0_smooth_data.csv\n",
            "F0 smooth data for 'joe_7' saved to /content/Proper_project/data_tables/joe_7_f0_smooth_data.csv\n",
            "F0 smooth data for 'DM_1' saved to /content/Proper_project/data_tables/DM_1_f0_smooth_data.csv\n",
            "F0 smooth data for 'Khm_1' saved to /content/Proper_project/data_tables/Khm_1_f0_smooth_data.csv\n",
            "F0 smooth data for 'AH_1' saved to /content/Proper_project/data_tables/AH_1_f0_smooth_data.csv\n",
            "Data saved to CSV files conditioned by audio file name.\n"
          ]
        }
      ],
      "source": [
        "from Intensity_Pitch_to_csv import AudioProcessor\n",
        "\n",
        "# Define the directory paths\n",
        "audio_directory = \"/content/Proper_project/praat_data/audio\"\n",
        "intensity_directory = \"/content/Proper_project/praat_data/intensity_tiers/\"\n",
        "pitch_directory = \"/content/Proper_project/praat_data/pitch_tiers/\"\n",
        "\n",
        "# Create an instance of the AudioProcessor class\n",
        "processor = AudioProcessor(audio_directory, intensity_directory, pitch_directory)\n",
        "\n",
        "# Process audio files\n",
        "fullTime_df, intensity_df, f0_smooth_df = processor.process_audio_files()\n",
        "\n",
        "# Save the processed data to CSV files\n",
        "processor.save_to_csv_by_file(fullTime_df, intensity_df, f0_smooth_df)\n"
      ]
    },
    {
      "cell_type": "markdown",
      "metadata": {
        "id": "ncDAvrPWJ_MF"
      },
      "source": [
        "# F0_row1, strength_row1, and strength_rowmax"
      ]
    },
    {
      "cell_type": "markdown",
      "metadata": {
        "id": "u2jgbQ9g1Xj7"
      },
      "source": [
        "# Raw f0_strength"
      ]
    },
    {
      "cell_type": "code",
      "execution_count": null,
      "metadata": {
        "id": "8IEOxGk87hzP",
        "colab": {
          "base_uri": "https://localhost:8080/",
          "height": 630,
          "referenced_widgets": [
            "84c5fd6a7e7c48889ce054bba5a249b7",
            "7bfff8952fb24c77bc7a96e7bcdfbae4",
            "38af38e2c180499285523d9815e8a139",
            "54dc9a870ad542f4a2751e22d3e8223a",
            "0b1b19bbafe547c88b7423ba88914ba1",
            "9c23085bb4cb4e1e84034c2b5cff3572",
            "f065c96d2ac24e41bbf8944d48b51ec3",
            "73677bcca04f431f85b5f80314dff62e",
            "a36c8172ccea456b8586b6992d37a854",
            "4355db936f954f55bc3d68acd439169f",
            "90b788bfa09544339cfc6871f7a52d86"
          ]
        },
        "outputId": "efc3e4da-4abe-471b-99a5-b1eda2c022a1"
      },
      "outputs": [
        {
          "output_type": "display_data",
          "data": {
            "text/plain": [
              "Dropdown(description='Select audio file:', options=('glenn_1.wav', 'AH_1.wav', 'DM_1.wav', 'Khm_1.wav', 'misc_…"
            ],
            "application/vnd.jupyter.widget-view+json": {
              "version_major": 2,
              "version_minor": 0,
              "model_id": "84c5fd6a7e7c48889ce054bba5a249b7"
            }
          },
          "metadata": {}
        },
        {
          "output_type": "display_data",
          "data": {
            "text/plain": [
              "IntSlider(value=36, description='Pitch Floor:', min=1, style=SliderStyle(description_width='initial'))"
            ],
            "application/vnd.jupyter.widget-view+json": {
              "version_major": 2,
              "version_minor": 0,
              "model_id": "54dc9a870ad542f4a2751e22d3e8223a"
            }
          },
          "metadata": {}
        },
        {
          "output_type": "display_data",
          "data": {
            "text/plain": [
              "IntSlider(value=10, description='Smooth:', min=1, style=SliderStyle(description_width='initial'))"
            ],
            "application/vnd.jupyter.widget-view+json": {
              "version_major": 2,
              "version_minor": 0,
              "model_id": "f065c96d2ac24e41bbf8944d48b51ec3"
            }
          },
          "metadata": {}
        },
        {
          "output_type": "display_data",
          "data": {
            "text/plain": [
              "Output()"
            ],
            "application/vnd.jupyter.widget-view+json": {
              "version_major": 2,
              "version_minor": 0,
              "model_id": "4355db936f954f55bc3d68acd439169f"
            }
          },
          "metadata": {}
        }
      ],
      "source": [
        "from f0_strength_raw import PitchExtractor\n",
        "\n",
        "# Provide the necessary directories and parameters\n",
        "audio_directory = \"/content/Proper_project/praat_data/audio/\"\n",
        "output_directory = \"/content/Proper_project/output_csv/\"\n",
        "# Additional parameters if needed\n",
        "\n",
        "pitch_floor_value = 36  # Initial value for pitch_floor\n",
        "smooth_value = 10  # Initial value for smooth\n",
        "\n",
        "pitch_extractor = PitchExtractor(audio_directory, output_directory)\n",
        "pitch_extractor.extract_pitch(pitch_floor_value, smooth_value)"
      ]
    },
    {
      "cell_type": "markdown",
      "metadata": {
        "id": "ZvA2wRMt2MlE"
      },
      "source": [
        "Fill missing data"
      ]
    },
    {
      "cell_type": "code",
      "execution_count": null,
      "metadata": {
        "id": "MRhxsdNj2QZk",
        "colab": {
          "base_uri": "https://localhost:8080/"
        },
        "outputId": "771fb396-0506-454a-d7e5-c71090c3e561"
      },
      "outputs": [
        {
          "output_type": "stream",
          "name": "stdout",
          "text": [
            "Processed and interpolated file: misc_58_Pitch_strength_data.csv\n",
            "Processed and interpolated file: AH_1_Pitch_strength_data.csv\n",
            "Processed and interpolated file: glenn_1_Pitch_strength_data.csv\n",
            "Processed and interpolated file: DM_1_Pitch_strength_data.csv\n",
            "Processed and interpolated file: joe_7_Pitch_strength_data.csv\n",
            "Processed and interpolated file: Khm_1_Pitch_strength_data.csv\n"
          ]
        }
      ],
      "source": [
        "from f0_strength_final import DataProcessor\n",
        "\n",
        "# Define your directory path and prefix pattern\n",
        "directory_path = '/content/Proper_project/output_csv/'\n",
        "prefix_pattern = ['AH_1','DM_1', 'glenn_1', 'joe_7', 'misc_58', 'Khm_1']\n",
        "\n",
        "# Create an instance of the DataProcessor class\n",
        "data_processor = DataProcessor(directory_path, prefix_pattern)\n",
        "\n",
        "# Process and interpolate the files in the directory\n",
        "data_processor.process_files()"
      ]
    },
    {
      "cell_type": "markdown",
      "metadata": {
        "id": "c1h8bYSgEqHb"
      },
      "source": [
        "# Read TextGrids: 'Syllable' tier and 'Wordboundaries' Tier\n"
      ]
    },
    {
      "cell_type": "code",
      "execution_count": null,
      "metadata": {
        "id": "kw1WTi_wZjkI",
        "colab": {
          "base_uri": "https://localhost:8080/"
        },
        "outputId": "01c706ee-221b-4cac-ced0-bc6857e690ed"
      },
      "outputs": [
        {
          "output_type": "stream",
          "name": "stdout",
          "text": [
            "File: joe_7 - Syllable Intervals:\n",
            "Start: 399, End: 497, Label: 'can'\n",
            "Start: 497, End: 576, Label: 'I'\n",
            "Start: 576, End: 748, Label: 'ask'\n",
            "Start: 748, End: 896, Label: 'you a'\n",
            "Start: 896, End: 1135, Label: 'ques-'\n",
            "Start: 1135, End: 1381, Label: 'tion'\n",
            "File: misc_58 - Syllable Intervals:\n",
            "Start: 453, End: 589, Label: 'can I'\n",
            "Start: 589, End: 755, Label: 'ask'\n",
            "Start: 755, End: 942, Label: 'you a'\n",
            "Start: 942, End: 1144, Label: 'ques-'\n",
            "Start: 1144, End: 1384, Label: 'tion'\n",
            "File: DM_1 - Syllable Intervals:\n",
            "Start: 274, End: 401, Label: 'auch'\n",
            "Start: 401, End: 480, Label: 'ei'\n",
            "Start: 480, End: 600, Label: 'ne'\n",
            "Start: 600, End: 828, Label: 'bach'\n",
            "Start: 828, End: 1006, Label: 'blüt'\n",
            "Start: 1006, End: 1124, Label: 'en'\n",
            "Start: 1124, End: 1381, Label: 'kur'\n",
            "Start: 1381, End: 1617, Label: 'kann'\n",
            "Start: 1617, End: 1727, Label: 'nur'\n",
            "Start: 1727, End: 1897, Label: 'dok'\n",
            "Start: 1897, End: 2040, Label: 'tor'\n",
            "Start: 2040, End: 2245, Label: 'bah'\n",
            "Start: 2245, End: 2383, Label: 'ber'\n",
            "Start: 2383, End: 2552, Label: 'mach'\n",
            "Start: 2552, End: 2813, Label: 'en'\n",
            "File: AH_1 - Syllable Intervals:\n",
            "Start: 166, End: 243, Label: 'ich'\n",
            "Start: 243, End: 448, Label: 'kann'\n",
            "Start: 448, End: 550, Label: 'gar'\n",
            "Start: 550, End: 726, Label: 'nicht'\n",
            "Start: 726, End: 976, Label: 'glau'\n",
            "Start: 976, End: 1121, Label: 'ben'\n",
            "Start: 1121, End: 1246, Label: 'dass'\n",
            "Start: 1246, End: 1348, Label: 'so'\n",
            "Start: 1348, End: 1542, Label: 'gar'\n",
            "Start: 1542, End: 1677, Label: 'dok'\n",
            "Start: 1677, End: 1834, Label: 'tor'\n",
            "Start: 1834, End: 1998, Label: 'bah'\n",
            "Start: 1998, End: 2132, Label: 'ber'\n",
            "Start: 2132, End: 2280, Label: 'so'\n",
            "Start: 2280, End: 2482, Label: 'eins'\n",
            "Start: 2482, End: 2736, Label: 'hat'\n",
            "File: Khm_1 - Syllable Intervals:\n",
            "Start: 407, End: 867, Label: 'khɲum'\n",
            "Start: 867, End: 1067, Label: 'som'\n",
            "Start: 1067, End: 1227, Label: 'suɜ'\n",
            "Start: 1227, End: 1418, Label: 'muɜj'\n",
            "Start: 1418, End: 1671, Label: 'mɘːl'\n",
            "Start: 1671, End: 1855, Label: 'bɑŋ'\n",
            "Start: 1855, End: 2127, Label: 'phʔon'\n",
            "File: glenn_1 - Syllable Intervals:\n",
            "Start: 292, End: 375, Label: 'can'\n",
            "Start: 375, End: 441, Label: 'I'\n",
            "Start: 441, End: 619, Label: 'ask'\n",
            "Start: 619, End: 735, Label: 'you a'\n",
            "Start: 735, End: 978, Label: 'ques-'\n",
            "Start: 978, End: 1169, Label: 'tion'\n",
            "File: joe_7 - Word Intervals:\n",
            "Start: 399, End: 497, Label: 'can'\n",
            "Start: 497, End: 576, Label: 'I'\n",
            "Start: 576, End: 748, Label: 'ask'\n",
            "Start: 748, End: 896, Label: 'you (a)'\n",
            "Start: 896, End: 1381, Label: 'question'\n",
            "File: misc_58 - Word Intervals:\n",
            "Start: 453, End: 534, Label: 'can'\n",
            "Start: 534, End: 589, Label: 'I'\n",
            "Start: 589, End: 755, Label: 'ask'\n",
            "Start: 755, End: 942, Label: 'you (a)'\n",
            "Start: 942, End: 1384, Label: 'question'\n",
            "File: DM_1 - Word Intervals:\n",
            "Start: 274, End: 401, Label: 'Auch'\n",
            "Start: 401, End: 600, Label: 'eine'\n",
            "Start: 600, End: 1381, Label: 'Bachblütenkur'\n",
            "Start: 1381, End: 1617, Label: 'kann'\n",
            "Start: 1617, End: 1727, Label: 'nur'\n",
            "Start: 1727, End: 2040, Label: 'Doktor'\n",
            "Start: 2040, End: 2383, Label: 'Bahber'\n",
            "Start: 2383, End: 2813, Label: 'machen'\n",
            "File: AH_1 - Word Intervals:\n",
            "Start: 166, End: 243, Label: 'Ich'\n",
            "Start: 243, End: 448, Label: 'kann'\n",
            "Start: 448, End: 550, Label: 'gar'\n",
            "Start: 550, End: 726, Label: 'nicht'\n",
            "Start: 726, End: 1121, Label: 'glauben'\n",
            "Start: 1121, End: 1246, Label: 'dass'\n",
            "Start: 1246, End: 1542, Label: 'sogar'\n",
            "Start: 1542, End: 1834, Label: 'Doktor'\n",
            "Start: 1834, End: 2132, Label: 'Bahber'\n",
            "Start: 2132, End: 2280, Label: 'so'\n",
            "Start: 2280, End: 2482, Label: 'eins'\n",
            "Start: 2482, End: 2736, Label: 'hat'\n",
            "File: Khm_1 - Word Intervals:\n",
            "Start: 407, End: 867, Label: 'ខ្ញុំ'\n",
            "Start: 867, End: 1067, Label: 'សុំ'\n",
            "Start: 1067, End: 1227, Label: 'សួរ'\n",
            "Start: 1227, End: 1418, Label: 'មួយ'\n",
            "Start: 1418, End: 1671, Label: 'មើល'\n",
            "Start: 1671, End: 1855, Label: 'បង'\n",
            "Start: 1855, End: 2127, Label: 'ប្អូន'\n",
            "File: glenn_1 - Word Intervals:\n",
            "Start: 292, End: 375, Label: 'can'\n",
            "Start: 375, End: 441, Label: 'I'\n",
            "Start: 441, End: 619, Label: 'ask'\n",
            "Start: 619, End: 735, Label: 'you (a)'\n",
            "Start: 735, End: 1169, Label: 'question'\n",
            "Syllable DataFrame saved to CSV: /content/Proper_project/data_tables/joe_7_syllable_data.csv\n",
            "Syllable DataFrame saved to CSV: /content/Proper_project/data_tables/misc_58_syllable_data.csv\n",
            "Syllable DataFrame saved to CSV: /content/Proper_project/data_tables/DM_1_syllable_data.csv\n",
            "Syllable DataFrame saved to CSV: /content/Proper_project/data_tables/AH_1_syllable_data.csv\n",
            "Syllable DataFrame saved to CSV: /content/Proper_project/data_tables/Khm_1_syllable_data.csv\n",
            "Syllable DataFrame saved to CSV: /content/Proper_project/data_tables/glenn_1_syllable_data.csv\n",
            "Word DataFrame saved to CSV: /content/Proper_project/data_tables/joe_7_word_data.csv\n",
            "Word DataFrame saved to CSV: /content/Proper_project/data_tables/misc_58_word_data.csv\n",
            "Word DataFrame saved to CSV: /content/Proper_project/data_tables/DM_1_word_data.csv\n",
            "Word DataFrame saved to CSV: /content/Proper_project/data_tables/AH_1_word_data.csv\n",
            "Word DataFrame saved to CSV: /content/Proper_project/data_tables/Khm_1_word_data.csv\n",
            "Word DataFrame saved to CSV: /content/Proper_project/data_tables/glenn_1_word_data.csv\n",
            "File: joe_7 - Syllable Intervals:\n",
            "Start: 399, End: 497, Label: 'can'\n",
            "Start: 497, End: 576, Label: 'I'\n",
            "Start: 576, End: 748, Label: 'ask'\n",
            "Start: 748, End: 896, Label: 'you a'\n",
            "Start: 896, End: 1135, Label: 'ques-'\n",
            "Start: 1135, End: 1381, Label: 'tion'\n",
            "File: misc_58 - Syllable Intervals:\n",
            "Start: 453, End: 589, Label: 'can I'\n",
            "Start: 589, End: 755, Label: 'ask'\n",
            "Start: 755, End: 942, Label: 'you a'\n",
            "Start: 942, End: 1144, Label: 'ques-'\n",
            "Start: 1144, End: 1384, Label: 'tion'\n",
            "File: DM_1 - Syllable Intervals:\n",
            "Start: 274, End: 401, Label: 'auch'\n",
            "Start: 401, End: 480, Label: 'ei'\n",
            "Start: 480, End: 600, Label: 'ne'\n",
            "Start: 600, End: 828, Label: 'bach'\n",
            "Start: 828, End: 1006, Label: 'blüt'\n",
            "Start: 1006, End: 1124, Label: 'en'\n",
            "Start: 1124, End: 1381, Label: 'kur'\n",
            "Start: 1381, End: 1617, Label: 'kann'\n",
            "Start: 1617, End: 1727, Label: 'nur'\n",
            "Start: 1727, End: 1897, Label: 'dok'\n",
            "Start: 1897, End: 2040, Label: 'tor'\n",
            "Start: 2040, End: 2245, Label: 'bah'\n",
            "Start: 2245, End: 2383, Label: 'ber'\n",
            "Start: 2383, End: 2552, Label: 'mach'\n",
            "Start: 2552, End: 2813, Label: 'en'\n",
            "File: AH_1 - Syllable Intervals:\n",
            "Start: 166, End: 243, Label: 'ich'\n",
            "Start: 243, End: 448, Label: 'kann'\n",
            "Start: 448, End: 550, Label: 'gar'\n",
            "Start: 550, End: 726, Label: 'nicht'\n",
            "Start: 726, End: 976, Label: 'glau'\n",
            "Start: 976, End: 1121, Label: 'ben'\n",
            "Start: 1121, End: 1246, Label: 'dass'\n",
            "Start: 1246, End: 1348, Label: 'so'\n",
            "Start: 1348, End: 1542, Label: 'gar'\n",
            "Start: 1542, End: 1677, Label: 'dok'\n",
            "Start: 1677, End: 1834, Label: 'tor'\n",
            "Start: 1834, End: 1998, Label: 'bah'\n",
            "Start: 1998, End: 2132, Label: 'ber'\n",
            "Start: 2132, End: 2280, Label: 'so'\n",
            "Start: 2280, End: 2482, Label: 'eins'\n",
            "Start: 2482, End: 2736, Label: 'hat'\n",
            "File: Khm_1 - Syllable Intervals:\n",
            "Start: 407, End: 867, Label: 'khɲum'\n",
            "Start: 867, End: 1067, Label: 'som'\n",
            "Start: 1067, End: 1227, Label: 'suɜ'\n",
            "Start: 1227, End: 1418, Label: 'muɜj'\n",
            "Start: 1418, End: 1671, Label: 'mɘːl'\n",
            "Start: 1671, End: 1855, Label: 'bɑŋ'\n",
            "Start: 1855, End: 2127, Label: 'phʔon'\n",
            "File: glenn_1 - Syllable Intervals:\n",
            "Start: 292, End: 375, Label: 'can'\n",
            "Start: 375, End: 441, Label: 'I'\n",
            "Start: 441, End: 619, Label: 'ask'\n",
            "Start: 619, End: 735, Label: 'you a'\n",
            "Start: 735, End: 978, Label: 'ques-'\n",
            "Start: 978, End: 1169, Label: 'tion'\n",
            "File: joe_7 - Word Intervals:\n",
            "Start: 399, End: 497, Label: 'can'\n",
            "Start: 497, End: 576, Label: 'I'\n",
            "Start: 576, End: 748, Label: 'ask'\n",
            "Start: 748, End: 896, Label: 'you (a)'\n",
            "Start: 896, End: 1381, Label: 'question'\n",
            "File: misc_58 - Word Intervals:\n",
            "Start: 453, End: 534, Label: 'can'\n",
            "Start: 534, End: 589, Label: 'I'\n",
            "Start: 589, End: 755, Label: 'ask'\n",
            "Start: 755, End: 942, Label: 'you (a)'\n",
            "Start: 942, End: 1384, Label: 'question'\n",
            "File: DM_1 - Word Intervals:\n",
            "Start: 274, End: 401, Label: 'Auch'\n",
            "Start: 401, End: 600, Label: 'eine'\n",
            "Start: 600, End: 1381, Label: 'Bachblütenkur'\n",
            "Start: 1381, End: 1617, Label: 'kann'\n",
            "Start: 1617, End: 1727, Label: 'nur'\n",
            "Start: 1727, End: 2040, Label: 'Doktor'\n",
            "Start: 2040, End: 2383, Label: 'Bahber'\n",
            "Start: 2383, End: 2813, Label: 'machen'\n",
            "File: AH_1 - Word Intervals:\n",
            "Start: 166, End: 243, Label: 'Ich'\n",
            "Start: 243, End: 448, Label: 'kann'\n",
            "Start: 448, End: 550, Label: 'gar'\n",
            "Start: 550, End: 726, Label: 'nicht'\n",
            "Start: 726, End: 1121, Label: 'glauben'\n",
            "Start: 1121, End: 1246, Label: 'dass'\n",
            "Start: 1246, End: 1542, Label: 'sogar'\n",
            "Start: 1542, End: 1834, Label: 'Doktor'\n",
            "Start: 1834, End: 2132, Label: 'Bahber'\n",
            "Start: 2132, End: 2280, Label: 'so'\n",
            "Start: 2280, End: 2482, Label: 'eins'\n",
            "Start: 2482, End: 2736, Label: 'hat'\n",
            "File: Khm_1 - Word Intervals:\n",
            "Start: 407, End: 867, Label: 'ខ្ញុំ'\n",
            "Start: 867, End: 1067, Label: 'សុំ'\n",
            "Start: 1067, End: 1227, Label: 'សួរ'\n",
            "Start: 1227, End: 1418, Label: 'មួយ'\n",
            "Start: 1418, End: 1671, Label: 'មើល'\n",
            "Start: 1671, End: 1855, Label: 'បង'\n",
            "Start: 1855, End: 2127, Label: 'ប្អូន'\n",
            "File: glenn_1 - Word Intervals:\n",
            "Start: 292, End: 375, Label: 'can'\n",
            "Start: 375, End: 441, Label: 'I'\n",
            "Start: 441, End: 619, Label: 'ask'\n",
            "Start: 619, End: 735, Label: 'you (a)'\n",
            "Start: 735, End: 1169, Label: 'question'\n",
            "Syllable DataFrame saved to CSV: /content/Proper_project/data_tables/joe_7_syllable_data.csv\n",
            "Syllable DataFrame saved to CSV: /content/Proper_project/data_tables/misc_58_syllable_data.csv\n",
            "Syllable DataFrame saved to CSV: /content/Proper_project/data_tables/DM_1_syllable_data.csv\n",
            "Syllable DataFrame saved to CSV: /content/Proper_project/data_tables/AH_1_syllable_data.csv\n",
            "Syllable DataFrame saved to CSV: /content/Proper_project/data_tables/Khm_1_syllable_data.csv\n",
            "Syllable DataFrame saved to CSV: /content/Proper_project/data_tables/glenn_1_syllable_data.csv\n",
            "Word DataFrame saved to CSV: /content/Proper_project/data_tables/joe_7_word_data.csv\n",
            "Word DataFrame saved to CSV: /content/Proper_project/data_tables/misc_58_word_data.csv\n",
            "Word DataFrame saved to CSV: /content/Proper_project/data_tables/DM_1_word_data.csv\n",
            "Word DataFrame saved to CSV: /content/Proper_project/data_tables/AH_1_word_data.csv\n",
            "Word DataFrame saved to CSV: /content/Proper_project/data_tables/Khm_1_word_data.csv\n",
            "Word DataFrame saved to CSV: /content/Proper_project/data_tables/glenn_1_word_data.csv\n"
          ]
        }
      ],
      "source": [
        "from Syll_Word_Bound import TextGridProcessor\n",
        "\n",
        "\n",
        "# Define your directories\n",
        "textgrid_directory = \"/content/Proper_project/praat_data/textgrids\"\n",
        "output_directory = \"/content/Proper_project/data_tables\"\n",
        "\n",
        "# Create an instance of TextGridProcessor\n",
        "textgrid_processor = TextGridProcessor(textgrid_directory, output_directory)\n",
        "\n",
        "# Process TextGrid files\n",
        "textgrid_processor.process_textgrid_files()\n",
        "\n",
        "# Convert data to DataFrames\n",
        "textgrid_processor.convert_to_dataframes()\n",
        "\n",
        "# Save DataFrames to separate CSV files\n",
        "textgrid_processor.save_to_csv()\n",
        "\n"
      ]
    },
    {
      "cell_type": "markdown",
      "metadata": {
        "id": "35YAxTrKJSsn"
      },
      "source": [
        "#Merge files (.csv) to raw_df\n"
      ]
    },
    {
      "cell_type": "code",
      "execution_count": null,
      "metadata": {
        "id": "s0AWtgmgAoiI"
      },
      "outputs": [],
      "source": [
        "from merge_csv_files import DataMerger\n",
        "\n",
        "# Define your list of prefixes\n",
        "prefixes = ['AH_1','DM_1', 'glenn_1', 'joe_7', 'misc_58', 'Khm_1']\n",
        "\n",
        "# Instantiate the DataMerger class with your prefixes\n",
        "data_merger = DataMerger(prefixes)\n",
        "\n",
        "# Call the merge_data method to perform the data merging and CSV writing\n",
        "data_merger.merge_data()\n"
      ]
    },
    {
      "cell_type": "code",
      "execution_count": null,
      "metadata": {
        "id": "yJZvlQW7bfL_",
        "colab": {
          "base_uri": "https://localhost:8080/",
          "height": 596,
          "referenced_widgets": [
            "7f9767629b214fd7b2aeadd093b2b34d",
            "fae4be4739e3447181342b80c739725e",
            "26ec25666563479a8c19caa5bcd04f6f",
            "ef09224ff39e4e178f8bd1d66a6b0f5f",
            "61d1c61788fa4b5dacc9a1a60e3854d3",
            "55379cf4cb504467b38387ca055b5f88",
            "3f013bdb5d6948458c134bada0e588f9"
          ]
        },
        "outputId": "9557c6a0-ac59-4f7d-a8a3-a3b7651e7344"
      },
      "outputs": [
        {
          "output_type": "display_data",
          "data": {
            "text/plain": [
              "interactive(children=(Dropdown(description='Select File', options=('joe', 'Khm', 'DM', 'AH', 'glenn', 'misc'),…"
            ],
            "application/vnd.jupyter.widget-view+json": {
              "version_major": 2,
              "version_minor": 0,
              "model_id": "7f9767629b214fd7b2aeadd093b2b34d"
            }
          },
          "metadata": {}
        }
      ],
      "source": [
        "# Import the DataPlotter class from the saved .py file\n",
        "from plot_total_periodic_power import DataPlotter\n",
        "\n",
        "# Define your merged_directory\n",
        "merged_directory = '/content/Proper_project/data_tables/'\n",
        "\n",
        "# Create an instance of DataPlotter\n",
        "data_plotter_instance = DataPlotter(merged_directory)\n"
      ]
    },
    {
      "cell_type": "markdown",
      "metadata": {
        "id": "9rKKxLeeKgHJ"
      },
      "source": [
        "#Data_Visualization"
      ]
    },
    {
      "cell_type": "markdown",
      "metadata": {
        "id": "ZAkU7HGWp0aA"
      },
      "source": [
        "#Prepare periodic energy & F0 curves:"
      ]
    },
    {
      "cell_type": "markdown",
      "metadata": {
        "id": "oFL3jEPUGeE0"
      },
      "source": [
        "Calculate Periodic Energy and F0 Curves"
      ]
    },
    {
      "cell_type": "code",
      "execution_count": null,
      "metadata": {
        "id": "qvoVb727b-Vd",
        "colab": {
          "base_uri": "https://localhost:8080/"
        },
        "outputId": "a72cb1f3-68f6-441f-d29c-9cf2bf8ca755"
      },
      "outputs": [
        {
          "output_type": "stream",
          "name": "stdout",
          "text": [
            "File '/content/Proper_project/data_tables//AH_1_merged.csv' processed and saved as '/content/Proper_project/PerEnergy_F0Curves//AH_1_processed.csv'\n",
            "File '/content/Proper_project/data_tables//DM_1_merged.csv' processed and saved as '/content/Proper_project/PerEnergy_F0Curves//DM_1_processed.csv'\n",
            "File '/content/Proper_project/data_tables//glenn_1_merged.csv' processed and saved as '/content/Proper_project/PerEnergy_F0Curves//glenn_1_processed.csv'\n",
            "File '/content/Proper_project/data_tables//joe_7_merged.csv' processed and saved as '/content/Proper_project/PerEnergy_F0Curves//joe_7_processed.csv'\n",
            "File '/content/Proper_project/data_tables//misc_58_merged.csv' processed and saved as '/content/Proper_project/PerEnergy_F0Curves//misc_58_processed.csv'\n",
            "File '/content/Proper_project/data_tables//Khm_1_merged.csv' processed and saved as '/content/Proper_project/PerEnergy_F0Curves//Khm_1_processed.csv'\n",
            "File '/content/Proper_project/data_tables//AH_1_merged.csv' processed and saved as '/content/Proper_project/PerEnergy_F0Curves//AH_1_processed.csv'\n",
            "File '/content/Proper_project/data_tables//DM_1_merged.csv' processed and saved as '/content/Proper_project/PerEnergy_F0Curves//DM_1_processed.csv'\n",
            "File '/content/Proper_project/data_tables//glenn_1_merged.csv' processed and saved as '/content/Proper_project/PerEnergy_F0Curves//glenn_1_processed.csv'\n",
            "File '/content/Proper_project/data_tables//joe_7_merged.csv' processed and saved as '/content/Proper_project/PerEnergy_F0Curves//joe_7_processed.csv'\n",
            "File '/content/Proper_project/data_tables//misc_58_merged.csv' processed and saved as '/content/Proper_project/PerEnergy_F0Curves//misc_58_processed.csv'\n",
            "File '/content/Proper_project/data_tables//Khm_1_merged.csv' processed and saved as '/content/Proper_project/PerEnergy_F0Curves//Khm_1_processed.csv'\n"
          ]
        }
      ],
      "source": [
        "from Calculate_Periodic_Energy_F0_Curves import DataProcessor\n",
        "\n",
        "# Define your directories and prefixes\n",
        "InputDir = \"/content/Proper_project/data_tables/\"\n",
        "OutputDir = \"/content/Proper_project/PerEnergy_F0Curves/\"\n",
        "\n",
        "prefixes = ['AH_1', 'DM_1', 'glenn_1', 'joe_7', 'misc_58', 'Khm_1']\n",
        "\n",
        "# Create an instance of the DataProcessor class\n",
        "data_processor = DataProcessor(InputDir, OutputDir, prefixes)\n",
        "\n",
        "# Call the process_data method to start processing\n",
        "data_processor.process_data()\n"
      ]
    },
    {
      "cell_type": "markdown",
      "metadata": {
        "id": "k269DSV_VYEL"
      },
      "source": [
        "#Plot DATA"
      ]
    },
    {
      "cell_type": "markdown",
      "metadata": {
        "id": "NXQtGrfGHP0Y"
      },
      "source": [
        "#Best Plot with collections of colors and frames"
      ]
    },
    {
      "cell_type": "code",
      "execution_count": null,
      "metadata": {
        "colab": {
          "base_uri": "https://localhost:8080/",
          "height": 767,
          "referenced_widgets": [
            "42bee828eb5a43d58c298be44b096b98",
            "d1fcfd0daa714b84ac2cc06d9430bc82",
            "d30e6881b3d9421b9dd19e9a0194b7b5"
          ]
        },
        "id": "C9WENsrCY81h",
        "outputId": "c28e705a-2b89-434a-f94d-28d7f12de186"
      },
      "outputs": [
        {
          "output_type": "display_data",
          "data": {
            "text/plain": [
              "Dropdown(description='Select Prefix:', index=3, options=('AH_1', 'DM_1', 'glenn_1', 'joe_7', 'misc_58', 'Khm_1…"
            ],
            "application/vnd.jupyter.widget-view+json": {
              "version_major": 2,
              "version_minor": 0,
              "model_id": "42bee828eb5a43d58c298be44b096b98"
            }
          },
          "metadata": {}
        },
        {
          "output_type": "display_data",
          "data": {
            "text/plain": [
              "<Figure size 640x480 with 0 Axes>"
            ]
          },
          "metadata": {}
        },
        {
          "output_type": "display_data",
          "data": {
            "text/plain": [
              "<Figure size 1200x800 with 1 Axes>"
            ],
            "image/png": "[encoded data removed]"
          },
          "metadata": {}
        }
      ],
      "source": [
        "import os\n",
        "from plot_periogram_f0 import F0Plotter\n",
        "\n",
        "# Specify the file prefixes and data file path\n",
        "data_file_path = \"/content/Proper_project/PerEnergy_F0Curves/\"\n",
        "file_prefixes = ['AH_1', 'DM_1', 'glenn_1', 'joe_7', 'misc_58', 'Khm_1']\n",
        "\n",
        "# Create an instance of F0Plotter\n",
        "f0_plotter = F0Plotter(file_prefixes, data_file_path)\n",
        "\n",
        "# Assuming you have the list of all files in the directory\n",
        "all_files = os.listdir(data_file_path)\n",
        "f0_plotter.all_files = all_files\n",
        "\n",
        "# Display the dropdown widget to interact with\n",
        "display(f0_plotter.dropdown)\n"
      ]
    },
    {
      "cell_type": "code",
      "source": [
        "from plot_periogram_noeffect import F0_No_Effect_Plotter\n",
        "\n",
        "# Define the file prefixes and data path\n",
        "data_file_path = \"/content/Proper_project/PerEnergy_F0Curves/\"\n",
        "file_prefixes = ['AH_1', 'DM_1', 'glenn_1', 'joe_7', 'misc_58', 'Khm_1']\n",
        "\n",
        "# Instantiate F0_No_Effect_Plotter object\n",
        "f0_plotter = F0_No_Effect_Plotter(file_prefixes, data_file_path)\n",
        "\n",
        "# Display the dropdown to select the file prefix\n",
        "display(f0_plotter.dropdown)\n"
      ],
      "metadata": {
        "colab": {
          "base_uri": "https://localhost:8080/",
          "height": 811,
          "referenced_widgets": [
            "7a021e20481c492abf76336a450eadd4",
            "67ccca18d7c44a4b9b7b944e499e5342",
            "a79b7b6de9294b2d95af890a166435fe",
            "89255085908e4ade863af7bc9d13b968",
            "a78979bc116346e891b871782d623988",
            "4cbd29bdb60d4a3989f19c46deb0db96"
          ]
        },
        "id": "N3r9nYqPmxMD",
        "outputId": "48115726-cf99-4644-ef3c-68acf848457b"
      },
      "execution_count": null,
      "outputs": [
        {
          "output_type": "display_data",
          "data": {
            "text/plain": [
              "Dropdown(description='Select Prefix:', options=('AH_1', 'DM_1', 'glenn_1', 'joe_7', 'misc_58'), value='AH_1')"
            ],
            "application/vnd.jupyter.widget-view+json": {
              "version_major": 2,
              "version_minor": 0,
              "model_id": "7a021e20481c492abf76336a450eadd4"
            }
          },
          "metadata": {}
        },
        {
          "output_type": "stream",
          "name": "stderr",
          "text": [
            "/content/plot_periogram_noeffect.py:120: UserWarning: Creating legend with loc=\"best\" can be slow with large amounts of data.\n",
            "  plt.tight_layout()\n",
            "/usr/local/lib/python3.10/dist-packages/IPython/core/pylabtools.py:151: UserWarning: Creating legend with loc=\"best\" can be slow with large amounts of data.\n",
            "  fig.canvas.print_figure(bytes_io, **kw)\n"
          ]
        },
        {
          "output_type": "display_data",
          "data": {
            "text/plain": [
              "<Figure size 1200x800 with 1 Axes>"
            ],
            "image/png": "[encoded data removed]"
          },
          "metadata": {}
        }
      ]
    },
    {
      "cell_type": "markdown",
      "metadata": {
        "id": "ZSvjTh0uMDll"
      },
      "source": [
        "#Re-adjust selected tokens: change the perFloor value of specific tokens"
      ]
    },
    {
      "cell_type": "markdown",
      "metadata": {
        "id": "aOtLOLuuKJEI"
      },
      "source": [
        "# ***Re-adjust 3:***"
      ]
    },
    {
      "cell_type": "code",
      "source": [
        "from Re_adjust_to_plot import Datadjust\n",
        "\n",
        "# Example usage:\n",
        "directory_path = \"/content/Proper_project/PerEnergy_F0Curves/\"\n",
        "file_prefixes = ['AH_1', 'DM_1', 'glenn_1', 'joe_7', 'misc_58', 'Khm_1']\n",
        "\n",
        "processor = Datadjust(directory_path)\n",
        "processor.process_files(file_prefixes)\n"
      ],
      "metadata": {
        "colab": {
          "base_uri": "https://localhost:8080/"
        },
        "id": "2z8hqsSbV9YU",
        "outputId": "d9839ccc-37e9-4743-a52c-0682f916eb45"
      },
      "execution_count": null,
      "outputs": [
        {
          "output_type": "stream",
          "name": "stderr",
          "text": [
            "/usr/local/lib/python3.10/dist-packages/pandas/core/arraylike.py:402: RuntimeWarning: divide by zero encountered in log10\n",
            "  result = getattr(ufunc, method)(*inputs, **kwargs)\n",
            "/usr/local/lib/python3.10/dist-packages/pandas/core/arraylike.py:402: RuntimeWarning: divide by zero encountered in log10\n",
            "  result = getattr(ufunc, method)(*inputs, **kwargs)\n"
          ]
        },
        {
          "output_type": "stream",
          "name": "stdout",
          "text": [
            "File AH_1_adjusted.csv saved in Re_adjust folder.\n",
            "File DM_1_adjusted.csv saved in Re_adjust folder.\n"
          ]
        },
        {
          "output_type": "stream",
          "name": "stderr",
          "text": [
            "/usr/local/lib/python3.10/dist-packages/pandas/core/arraylike.py:402: RuntimeWarning: divide by zero encountered in log10\n",
            "  result = getattr(ufunc, method)(*inputs, **kwargs)\n",
            "/usr/local/lib/python3.10/dist-packages/pandas/core/arraylike.py:402: RuntimeWarning: divide by zero encountered in log10\n",
            "  result = getattr(ufunc, method)(*inputs, **kwargs)\n",
            "/usr/local/lib/python3.10/dist-packages/pandas/core/arraylike.py:402: RuntimeWarning: divide by zero encountered in log10\n",
            "  result = getattr(ufunc, method)(*inputs, **kwargs)\n"
          ]
        },
        {
          "output_type": "stream",
          "name": "stdout",
          "text": [
            "File glenn_1_adjusted.csv saved in Re_adjust folder.\n",
            "File joe_7_adjusted.csv saved in Re_adjust folder.\n",
            "File misc_58_adjusted.csv saved in Re_adjust folder.\n"
          ]
        },
        {
          "output_type": "stream",
          "name": "stderr",
          "text": [
            "/usr/local/lib/python3.10/dist-packages/pandas/core/arraylike.py:402: RuntimeWarning: divide by zero encountered in log10\n",
            "  result = getattr(ufunc, method)(*inputs, **kwargs)\n",
            "/usr/local/lib/python3.10/dist-packages/pandas/core/arraylike.py:402: RuntimeWarning: divide by zero encountered in log10\n",
            "  result = getattr(ufunc, method)(*inputs, **kwargs)\n"
          ]
        },
        {
          "output_type": "stream",
          "name": "stdout",
          "text": [
            "File Khm_1_adjusted.csv saved in Re_adjust folder.\n",
            "File AH_1_adjusted.csv saved in Re_adjust folder.\n"
          ]
        },
        {
          "output_type": "stream",
          "name": "stderr",
          "text": [
            "/usr/local/lib/python3.10/dist-packages/pandas/core/arraylike.py:402: RuntimeWarning: divide by zero encountered in log10\n",
            "  result = getattr(ufunc, method)(*inputs, **kwargs)\n",
            "/usr/local/lib/python3.10/dist-packages/pandas/core/arraylike.py:402: RuntimeWarning: divide by zero encountered in log10\n",
            "  result = getattr(ufunc, method)(*inputs, **kwargs)\n"
          ]
        },
        {
          "output_type": "stream",
          "name": "stdout",
          "text": [
            "File DM_1_adjusted.csv saved in Re_adjust folder.\n",
            "File glenn_1_adjusted.csv saved in Re_adjust folder.\n",
            "File joe_7_adjusted.csv saved in Re_adjust folder.\n"
          ]
        },
        {
          "output_type": "stream",
          "name": "stderr",
          "text": [
            "/usr/local/lib/python3.10/dist-packages/pandas/core/arraylike.py:402: RuntimeWarning: divide by zero encountered in log10\n",
            "  result = getattr(ufunc, method)(*inputs, **kwargs)\n",
            "/usr/local/lib/python3.10/dist-packages/pandas/core/arraylike.py:402: RuntimeWarning: divide by zero encountered in log10\n",
            "  result = getattr(ufunc, method)(*inputs, **kwargs)\n",
            "/usr/local/lib/python3.10/dist-packages/pandas/core/arraylike.py:402: RuntimeWarning: divide by zero encountered in log10\n",
            "  result = getattr(ufunc, method)(*inputs, **kwargs)\n"
          ]
        },
        {
          "output_type": "stream",
          "name": "stdout",
          "text": [
            "File misc_58_adjusted.csv saved in Re_adjust folder.\n",
            "File Khm_1_adjusted.csv saved in Re_adjust folder.\n"
          ]
        }
      ]
    },
    {
      "cell_type": "markdown",
      "metadata": {
        "id": "Kblau8Xhqmzw"
      },
      "source": [
        "#Replot DATA"
      ]
    },
    {
      "cell_type": "code",
      "source": [
        "from Plot_periogram_re_adjust import F0Plotter\n",
        "\n",
        "data_file_path = \"/content/Proper_project/PerEnergy_F0Curves/Re_adjust\"\n",
        "file_prefixes = ['AH_1', 'DM_1', 'glenn_1', 'joe_7', 'misc_58', 'Khm_1']\n",
        "\n",
        "f0_plotter = F0Plotter(file_prefixes, data_file_path)\n",
        "\n",
        "display(f0_plotter.dropdown)\n"
      ],
      "metadata": {
        "colab": {
          "base_uri": "https://localhost:8080/",
          "height": 804,
          "referenced_widgets": [
            "2381240373be48f084f148f84b409d1f",
            "b2fa4962fe3a4fdd81d7e1b691c9f8b4",
            "24aabf0d541245f49c475a9ce8d7a0d5",
            "39277c43a1904b5bb4f40131b6d7ff6d",
            "8494ee61459d4d95ad4e80f3f13dd2ff",
            "3be8f65d09164e7a816c944a8f905558"
          ]
        },
        "id": "PwXVRfLIW3W-",
        "outputId": "ce0148ed-f8f1-41ae-d0d4-2464e7f1dd8a"
      },
      "execution_count": null,
      "outputs": [
        {
          "output_type": "display_data",
          "data": {
            "text/plain": [
              "Dropdown(description='Select Prefix:', index=1, options=('AH_1', 'DM_1', 'glenn_1', 'joe_7', 'misc_58', 'Khm_1…"
            ],
            "application/vnd.jupyter.widget-view+json": {
              "version_major": 2,
              "version_minor": 0,
              "model_id": "2381240373be48f084f148f84b409d1f"
            }
          },
          "metadata": {}
        },
        {
          "output_type": "stream",
          "name": "stderr",
          "text": [
            "/usr/local/lib/python3.10/dist-packages/IPython/core/pylabtools.py:151: UserWarning: Creating legend with loc=\"best\" can be slow with large amounts of data.\n",
            "  fig.canvas.print_figure(bytes_io, **kw)\n"
          ]
        },
        {
          "output_type": "display_data",
          "data": {
            "text/plain": [
              "<Figure size 1200x800 with 1 Axes>"
            ],
            "image/png": "[encoded data removed]"
          },
          "metadata": {}
        }
      ]
    },
    {
      "cell_type": "markdown",
      "metadata": {
        "id": "AgMW4jlnm9k_"
      },
      "source": [
        "#Minimize the columns or Drop columns"
      ]
    },
    {
      "cell_type": "code",
      "execution_count": null,
      "metadata": {
        "id": "cQIa7RWPn_Uh"
      },
      "outputs": [],
      "source": [
        "# Import necessary libraries\n",
        "import pandas as pd\n",
        "\n",
        "# Load main_df data\n",
        "main_df = pd.read_csv('/content/Proper_project/PerEnergy_F0Curves/joe_7_processed.csv')\n",
        "\n",
        "# Get rid of some variables\n",
        "columns_to_drop = ['f0_smooth', 'intensity', 'strength_row1', 'f0_row1', 'strength_rowmax',\n",
        "                   'total_power', 'periodic_power', 'max_data_per_power', 'max_data_strength',\n",
        "                   'max_speaker_per_power', 'max_speaker_strength', 'max_token_per_power',\n",
        "                   'max_token_strength', 'perFloor_indeed', 'strengThresh_indeed',\n",
        "                   'periodic_fraction', 'postPP', 'logPP', 'f0_interp', 'f0_interp_stretch']\n",
        "mini_main_df = main_df.drop(columns=columns_to_drop)\n",
        "\n",
        "print(\"Columns removed successfully.\")\n",
        "\n",
        "print(mini_main_df.columns)\n",
        "\n",
        "mini_main_df.to_csv(\"/content/drive/MyDrive/Proper_project/data_tables/mini_main_df.csv\", index=False)"
      ]
    },
    {
      "cell_type": "markdown",
      "metadata": {
        "id": "khuuq6mLFpgM"
      },
      "source": [
        "# ProPer analyses (IV): *Synchrony*, *∆F0*/*DeltaF0*, *Mass* and *Speech-rate*\n",
        "\n",
        "Quantifying continuous prosody with periodic energy and F0 data to quantify prosodic strength (*Mass*), to describe pitch contours (using *Synchrony* within intervals and *∆F0*/*DeltaF0* between intervals) and to calculate local *Speech-rate*."
      ]
    },
    {
      "cell_type": "code",
      "execution_count": null,
      "metadata": {
        "id": "uEEuiNlCF1Ev"
      },
      "outputs": [],
      "source": [
        "import pandas as pd\n",
        "import numpy as np\n",
        "import matplotlib.pyplot as plt\n",
        "import librosa\n",
        "\n",
        "# Load data from CSV file\n",
        "main_df = pd.read_csv(\"/content/drive/MyDrive/Proper_project/data_tables/mini_main_df.csv\")\n",
        "mini_data = main_df.drop_duplicates(subset=['file', 't'], keep='first')\n",
        "\n",
        "# Check if manual syllable boundaries exist\n",
        "manual = len(main_df['syll_bounds']) > 0\n",
        "print(mini_data.columns)"
      ]
    },
    {
      "cell_type": "markdown",
      "metadata": {
        "id": "BrnVgzdBBLfy"
      },
      "source": [
        "# Detect boundaries\n",
        "\n"
      ]
    },
    {
      "cell_type": "markdown",
      "metadata": {
        "id": "knRJIaJQTMnw"
      },
      "source": [
        "Additional Functions for loop(just for fun)"
      ]
    },
    {
      "cell_type": "code",
      "execution_count": null,
      "metadata": {
        "id": "en-x9hbvbC1B"
      },
      "outputs": [],
      "source": [
        "import numpy as np\n",
        "from functools import reduce\n",
        "from itertools import chain\n",
        "\n",
        "def andCond(cond, bVector):\n",
        "    return np.logical_and(cond, bVector)\n",
        "\n",
        "def condMap(cond, f, arguments, combf):\n",
        "    for argument in arguments:\n",
        "        cond = reduce(combf, map(lambda x: f(argument, x), cond))\n",
        "    return cond\n",
        "\n",
        "Lags = [1, 10, 20, 25, 30, 40, 50]\n",
        "\n",
        "def mkBoundetect(single_token, useManual, autoMan):\n",
        "    sss = single_token['smogPP_2ndDerDyn']\n",
        "\n",
        "    def ssscmp(x):\n",
        "        return sss > x\n",
        "\n",
        "    def ssscmpf(f):\n",
        "        def inner(x):\n",
        "            return sss > f(sss, x)\n",
        "        return inner\n",
        "\n",
        "    if useManual:\n",
        "        cond = np.ones_like(sss, dtype=bool)\n",
        "        cond = andCond(cond, ssscmp(0.05))\n",
        "\n",
        "        for lag in Lags:\n",
        "            cond = condMap(cond, ssscmpf(np.roll), [lag], andCond)\n",
        "\n",
        "        for lead_val in Lags:\n",
        "            cond = condMap(cond, ssscmpf(np.roll), [-lead_val], andCond)\n",
        "\n",
        "        cond = andCond(\n",
        "            cond,\n",
        "            np.logical_or(\n",
        "                single_token['t'] < single_token['syll_boundsSeq'] + autoMan,\n",
        "                single_token['t'] < np.roll(single_token['syll_boundsSeq'], -autoMan)\n",
        "            )\n",
        "        )\n",
        "\n",
        "        result = np.where(cond)[0]\n",
        "        return result\n",
        "\n",
        "    else:\n",
        "        cond = np.ones_like(sss, dtype=bool)\n",
        "        cond = andCond(cond, ssscmp(0.05))\n",
        "\n",
        "        for lag in Lags:\n",
        "            cond = condMap(cond, ssscmpf(np.roll), [lag], andCond)\n",
        "\n",
        "        for lead_val in Lags:\n",
        "            cond = condMap(cond, ssscmpf(np.roll), [-lead_val], andCond)\n",
        "\n",
        "        result = np.where(cond)[0]\n",
        "        return result\n",
        "\n",
        "def trySensitivity(ee, detection_sensitivity, expSyllNum):\n",
        "    colnames = ee['single_token'].columns\n",
        "    if len(ee['boundetect']) >= expSyllNum:\n",
        "        return ee\n",
        "\n",
        "    ee['single_token']['smogPP_2ndDerDyn'] = np.array([bwfilter(smogPP_2ndDer, 1000, detection_sensitivity, 2) for smogPP_2ndDer in ee['single_token']['smogPP_2ndDer']])\n",
        "    ee['boundetect'] = mkBoundetect(ee['single_token'], useManual, autoMan)\n",
        "    return ee\n"
      ]
    },
    {
      "cell_type": "markdown",
      "metadata": {
        "id": "2cgfELzNTO5U"
      },
      "source": [
        "SECOND\n"
      ]
    },
    {
      "cell_type": "code",
      "execution_count": null,
      "metadata": {
        "id": "3zbaBDOqbE-x"
      },
      "outputs": [],
      "source": [
        "import pandas as pd\n",
        "import numpy as np\n",
        "\n",
        "# Assuming you have loaded the necessary data into a DataFrame named 'main_df'\n",
        "\n",
        "comp_df = main_df.copy()\n",
        "\n",
        "useManual = True\n",
        "autoMan = 40\n",
        "averageSyll = 175\n",
        "\n",
        "if useManual:\n",
        "    comp_df['syll_boundsSeq'] = comp_df.groupby('file')['syll_bounds'].fillna(method='ffill')\n",
        "    comp_df['syll_boundsSeq'] = comp_df['syll_boundsSeq'].fillna(0)\n",
        "\n",
        "comp_df['useManualStatus'] = useManual\n",
        "comp_df['autoManStatus'] = autoMan\n",
        "comp_df['averageSyllStatus'] = averageSyll\n",
        "comp_df['auto_bounds'] = np.nan\n",
        "comp_df['DeltaF0'] = np.nan\n",
        "\n",
        "for file, single_token in comp_df.groupby('file'):\n",
        "    single_token['smogPP_1stDer'] = np.where(single_token['t'] == 0, 0,\n",
        "                                             (single_token['smogPP_20Hz'] - single_token['smogPP_20Hz'].shift(1)) * 1000)\n",
        "    single_token['smogPP_1stDer'] = single_token['smogPP_1stDer'].rolling(window=40, win_type='parzen').mean()\n",
        "    single_token['smogPP_2ndDer'] = np.where(single_token['t'] == 0, 0,\n",
        "                                             (single_token['smogPP_1stDer'] - single_token['smogPP_1stDer'].shift(1)) * 20)\n",
        "\n",
        "\n",
        "    # Calculate the 2nd derivative of 'smogPP_2ndDer' with respect to 't'\n",
        "    single_token['smogPP_2ndDerDyn'] = single_token['smogPP_2ndDer'].diff(periods=2) / single_token['t'].diff(periods=2)\n",
        "\n",
        "\n",
        "    sss = single_token['smogPP_2ndDerDyn']\n",
        "    Lags = [1, 10, 20, 25, 30, 40, 50]\n",
        "\n",
        "    def mkBoundetect(single_token):\n",
        "        def andCond(cond, bVector):\n",
        "            return cond & bVector\n",
        "\n",
        "        def condMap(cond, f, arguments, combf):\n",
        "            for argument in arguments:\n",
        "                cond = combf(cond, f(sss, argument))\n",
        "            return cond\n",
        "\n",
        "        ssscmp = lambda x: sss > x\n",
        "        ssscmpf = lambda f: lambda x: sss > f(sss, x)\n",
        "\n",
        "        cond = np.array(True)\n",
        "        cond = andCond(ssscmp(0.05), cond)\n",
        "        cond = condMap(cond, np.roll, Lags, np.logical_and)\n",
        "        cond = condMap(cond, np.roll, Lags, np.logical_and)\n",
        "        cond = andCond(\n",
        "            (single_token['t'] < single_token['syll_boundsSeq'] + autoMan) |\n",
        "            (single_token['t'] < single_token['syll_boundsSeq'].shift(-1, fill_value=0).fillna(0) + autoMan),\n",
        "            cond\n",
        "        )\n",
        "        return np.where(cond)[0]\n",
        "    #Boundaries Detection\n",
        "    boundetect = mkBoundetect(single_token)\n",
        "    single_token['boundetect'] = np.nan  # Create a new column with NaN values\n",
        "    single_token.loc[boundetect, 'boundetect'] = boundetect  # Assign values based on boundetect\n",
        "\n",
        "    single_token.loc[boundetect, 'auto_bounds'] = single_token['t'].iloc[boundetect]\n",
        " #previous\n",
        "    #boundetect = mkBoundetect(single_token)\n",
        "    #single_token.loc[boundetect, 'auto_bounds'] = single_token['t'].iloc[boundetect]\n",
        "\n",
        "\n",
        "    # Save the DataFrame including 'smogPP_2ndDerDyn' column to CSV\n",
        "    import os\n",
        "\n",
        "    # Define the directory path\n",
        "    directory_path = \"/content/drive/MyDrive/Proper_project/data_tables/single_tokens\"\n",
        "\n",
        "    # Create the directory if it doesn't exist\n",
        "    if not os.path.exists(directory_path):\n",
        "        os.makedirs(directory_path)\n",
        "\n",
        "    # Now you can save the file to the directory\n",
        "    single_token.to_csv(os.path.join(directory_path, f\"{file}_analysis.csv\"), index=False)\n",
        "\n",
        "\n",
        "\n",
        "# Rest of the code for reading and combining the single df files, and processing auto_bounds if useManual is True\n",
        "# Read and combine the single df files\n",
        "dir_singles = \"/content/drive/MyDrive/Proper_project/data_tables/single_tokens/\"\n",
        "files = [f for f in os.listdir(dir_singles) if f.endswith(\".csv\")]\n",
        "\n",
        "comp_df_comb = pd.concat([pd.read_csv(os.path.join(dir_singles, f)) for f in files], ignore_index=True)\n",
        "\n",
        "# Delete temporary single_token files\n",
        "#for f in files:\n",
        "    #os.remove(os.path.join(dir_singles, f))\n",
        "\n",
        "if useManual:\n",
        "    comp_df['auto_boundsSeq'] = comp_df.groupby('file')['auto_bounds'].fillna(method='ffill')\n",
        "    comp_df['auto_boundsSeq'] = comp_df['auto_boundsSeq'].fillna(0)\n",
        "    comp_df['auto_bounds'] = np.where(\n",
        "        (~comp_df['syll_bounds'].isna() &\n",
        "         (comp_df['syll_bounds'] > comp_df['auto_boundsSeq'] + autoMan) &\n",
        "         (comp_df['syll_bounds'] - autoMan < 0) &\n",
        "         (comp_df['syll_bounds'] > comp_df['auto_boundsSeq'].shift(-1, fill_value=0).fillna(0) + autoMan) &\n",
        "         (comp_df['syll_bounds'] + autoMan > comp_df['t'].max())),\n",
        "        comp_df['syll_bounds'], comp_df['auto_bounds']\n",
        "    )\n",
        "    comp_df['auto_boundsSeq'] = comp_df.groupby('file')['auto_bounds'].fillna(method='ffill')\n",
        "    comp_df['auto_boundsSeq'] = comp_df['auto_boundsSeq'].fillna(0)\n",
        "\n",
        "boundetected = comp_df['auto_bounds'].dropna().index.tolist()\n",
        "files = comp_df['file'].drop_duplicates().tolist()\n",
        "print(comp_df.columns)\n",
        "#print(boundetect)\n"
      ]
    },
    {
      "cell_type": "markdown",
      "metadata": {
        "id": "u3GDdVv7tPf8"
      },
      "source": [
        "#Read file (works)"
      ]
    },
    {
      "cell_type": "code",
      "execution_count": null,
      "metadata": {
        "id": "Bc8CBnzD93hc"
      },
      "outputs": [],
      "source": [
        "import os\n",
        "import pandas as pd\n",
        "from functools import reduce\n",
        "\n",
        "dir_singles = \"/content/drive/MyDrive/Proper_project/data_tables/single_tokens/\"\n",
        "files = [f for f in os.listdir(dir_singles) if f.endswith(\".csv\")]\n",
        "comp_df_comb = pd.concat([pd.read_csv(os.path.join(dir_singles, f)) for f in files], ignore_index=True)\n",
        "comp_df = comp_df_comb.copy()\n",
        "\n",
        "\n",
        "# Delete temporary single_token files\n",
        "\n",
        "#for f in files:\n",
        "    #os.remove(os.path.join(dir_singles, f))\n",
        "\n",
        "# Check if useManual is TRUE (adjust accordingly)\n",
        "useManual = True\n",
        "\n",
        "if useManual:\n",
        "    autoMan = 1  # Assuming 'autoMan' is a constant, adjust accordingly\n",
        "\n",
        "    # Group by 'file' and perform the required operations\n",
        "def process_group(group):\n",
        "    print(\"Group DataFrame before processing:\")\n",
        "    #print(group)\n",
        "\n",
        "    group['auto_boundsSeq'] = 0  # Initialize auto_boundsSeq column with zeros\n",
        "\n",
        "    auto_bounds = []\n",
        "    for idx, row in group.iterrows():\n",
        "        if (not pd.isna(row['syll_bounds'])) and (\n",
        "            (row['syll_bounds'] > row['auto_boundsSeq'] + autoMan or\n",
        "             row['syll_bounds'] - autoMan < 0) and\n",
        "            (row['syll_bounds'] > auto_boundsSeq.shift(-autoMan).fillna(0).max() or\n",
        "             row['syll_bounds'] + autoMan > group['t'].max())\n",
        "        ):\n",
        "            auto_bounds.append(row['syll_bounds'])\n",
        "        else:\n",
        "            auto_bounds.append(None)  # Replace None with the desired else value\n",
        "        group['auto_bounds'] = auto_bounds\n",
        "        group['auto_boundsSeq'] = auto_boundsSeq\n",
        "\n",
        "    print(\"Group DataFrame after processing:\")\n",
        "    #print(group)\n",
        "\n",
        "    return group\n",
        "\n",
        "\n",
        "    grouped = comp_df.groupby('file').apply(process_group)\n",
        "    comp_df = grouped.reset_index(drop=True)\n",
        "\n",
        "# Create a list of detected boundaries\n",
        "boundetect = comp_df[comp_df['auto_bounds'].notna()].index.tolist()\n",
        "\n",
        "# Get the list of unique filenames\n",
        "unique_files = comp_df['file'].drop_duplicates().tolist()\n"
      ]
    },
    {
      "cell_type": "code",
      "execution_count": null,
      "metadata": {
        "colab": {
          "base_uri": "https://localhost:8080/"
        },
        "id": "PKC903Ky93e5",
        "outputId": "84272f8c-6bed-4e2a-a9b5-54b81448fb8b"
      },
      "outputs": [
        {
          "name": "stdout",
          "output_type": "stream",
          "text": [
            "DataFrame saved to /content/drive/MyDrive/Proper_project/data_tables/comp_df.csv\n"
          ]
        }
      ],
      "source": [
        "# Save the modified DataFrame to a CSV file\n",
        "output_file_path = \"/content/drive/MyDrive/Proper_project/data_tables/comp_df.csv\"\n",
        "comp_df.to_csv(output_file_path, index=False)\n",
        "\n",
        "print(f\"DataFrame saved to {output_file_path}\")\n"
      ]
    },
    {
      "cell_type": "markdown",
      "metadata": {
        "id": "lH_-AOV795Lz"
      },
      "source": [
        "#plot"
      ]
    },
    {
      "cell_type": "code",
      "execution_count": null,
      "metadata": {
        "id": "-3M3EE11XsKh"
      },
      "outputs": [],
      "source": [
        "import pandas as pd\n",
        "import matplotlib.pyplot as plt\n",
        "from matplotlib.lines import Line2D\n",
        "\n",
        "# Read data from CSV file\n",
        "data_file = '/content/drive/MyDrive/Proper_project/data_tables/comp_df.csv'  # Update with your data file path\n",
        "data = pd.read_csv(data_file)\n",
        "\n",
        "# Define the function to create the plot\n",
        "def create_single_plot(data, detect_sel_file, manual):\n",
        "    auto_boundsPlot = data[data['file'] == detect_sel_file]\n",
        "\n",
        "    plt.figure(figsize=(12, 8))\n",
        "\n",
        "    # Fine-tune layout\n",
        "    plt.subplots_adjust(left=0.08, right=0.92, top=1, bottom=0.08)  # Adjust the values as needed\n",
        "    plt.plot(auto_boundsPlot['t'], auto_boundsPlot['smogPP_20Hz'] * 100, color='blue', alpha=0.9, linewidth=1.5, label='Periodic energy (smogPP_20Hz)')\n",
        "\n",
        "    if manual:\n",
        "        plt.vlines(auto_boundsPlot['syll_bounds'], ymin=0, ymax=100, linestyles='dotted', colors='darkred', linewidth=1, alpha=0.8)\n",
        "        plt.vlines(auto_boundsPlot['syll_end'], ymin=0, ymax=100, linestyles='dotted', colors='darkred', linewidth=1, alpha=0.8)\n",
        "    plt.hlines(0, xmin=auto_boundsPlot['t'].min(), xmax=auto_boundsPlot['t'].max(), colors='black', linewidth=0.8, alpha=1)\n",
        "\n",
        "    #plt.vlines(auto_boundsPlot['auto_bounds'], ymin=0, ymax=100, colors='magenta', linewidth=0.5, alpha=0.5)\n",
        "\n",
        "    plt.plot(auto_boundsPlot['t'], auto_boundsPlot['smogPP_1stDer'] * 0.5, color='red', alpha=0.5, linewidth=0.5, label='1st Derivative')\n",
        "    plt.plot(auto_boundsPlot['t'], auto_boundsPlot['smogPP_2ndDer'] * 0.5, color='purple', alpha=0.5, linewidth=0.5, label='2nd Derivative')\n",
        "    plt.plot(auto_boundsPlot['t'], auto_boundsPlot['smogPP_2ndDerDyn'] * 2, color='green', alpha=0.5, linewidth=0.5, label='Dynamic 2nd Derivative')\n",
        "\n",
        "    if manual:\n",
        "        if manual:\n",
        "          for index, row in auto_boundsPlot.iterrows():\n",
        "              if pd.notna(row['syll_mid']) and pd.notna(row['syll_label']):\n",
        "                plt.text(row['syll_mid'], 110, str(row['syll_label']), size=10, color='black')\n",
        "\n",
        "    #plt.title(f'Auto Bounds Plot for {detect_sel_file}')\n",
        "    plt.xlabel('Time')\n",
        "    plt.ylabel('Value')\n",
        "    plt.legend()#(loc='upper left', handles=[Line2D([], [], color='red', alpha=0.4, linewidth=1.5), Line2D([], [], color='black', alpha=0.4, linewidth=1), Line2D([], [], color='gold', alpha=0.8, linewidth=1), Line2D([], [], color='green', alpha=0.6, linewidth=1)])\n",
        "    plt.grid(False)\n",
        "    #plt.savefig(f'plots/{detect_sel_file}_autoBoundsPlot.pdf')\n",
        "    plt.show()\n",
        "\n",
        "# Iterate through files and create plots\n",
        "files = data['file'].unique()\n",
        "for detect_sel_file in files:\n",
        "    create_single_plot(data, detect_sel_file, manual=True)  # Set manual to True for manual version\n"
      ]
    },
    {
      "cell_type": "markdown",
      "metadata": {
        "id": "q5xu2MdyB9rX"
      },
      "source": [
        "#Calculation\n",
        "\n",
        "The following are a set of functions that are based on the boundary detection above (*boundary_detection* chunk) and computations within and across resulting intervals (in the following *run_fun* chunk). We measure the area under the periodic energy curve (*mass*), and the center of mass of the periodic energy curve (*CoM*). We calculate local *speech-rate* in terms of the temporal distance between consecutive CoMs, and we calcualte *∆F0*/*DeltaF0* as the F0 distance between consecutive CoMs. We also locate the center of gravity of F0 (*CoG*), and we calcualte *synchrony* as the distance between centers (CoG - CoM)."
      ]
    },
    {
      "cell_type": "code",
      "execution_count": null,
      "metadata": {
        "id": "_BdyzSw7DFal"
      },
      "outputs": [],
      "source": [
        "import pandas as pd\n",
        "\n",
        "\n",
        "# Read data from CSV file\n",
        "comp_df = '/content/drive/MyDrive/Proper_project/data_tables/comp_df.csv'  # Update with your data file path\n",
        "comp_df = pd.read_csv(comp_df)\n",
        "print(comp_df.columns)\n"
      ]
    },
    {
      "cell_type": "markdown",
      "metadata": {
        "id": "FPceeueCUwBq"
      },
      "source": [
        "# Calculate COM and COG"
      ]
    },
    {
      "cell_type": "code",
      "execution_count": null,
      "metadata": {
        "id": "ZUA5sITPPqok"
      },
      "outputs": [],
      "source": [
        "import pandas as pd\n",
        "import numpy as np\n",
        "from functools import partial\n",
        "\n",
        "# Define intervals from detected boundaries\n",
        "boundaries = np.append(comp_df['t'][boundetect], 0) #boundetect is token from previous function in Read file\n",
        "l = len(boundaries)\n",
        "filenames = np.append(comp_df['file'][boundetect], \"\")\n",
        "intervals = pd.DataFrame({\n",
        "    'file': filenames[1:l-1],\n",
        "    'fileEnd': filenames[2:l],\n",
        "    'start': boundaries[1:l-1],\n",
        "    'end': boundaries[2:l]\n",
        "})\n",
        "\n",
        "intervals = intervals[intervals['file'] == intervals['fileEnd']]\n",
        "intervals.drop(columns=['fileEnd'], inplace=True)\n",
        "\n",
        "\n",
        "# Calculation functions (specific)\n",
        "import numpy as np\n",
        "\n",
        "def mass(df):\n",
        "    x = round(np.nansum(df['smogPP_20Hz']), 3)\n",
        "    return x\n",
        "\n",
        "def interval_duration(df):\n",
        "    x = np.sum(df['smogPP_20Hz'] > 0.01)\n",
        "    return x\n",
        "\n",
        "def center_of_mass(df):\n",
        "    if np.nansum(df['smogPP_20Hz']) < 5:\n",
        "        return 0\n",
        "    else:\n",
        "        x = round(np.nansum(df['smogPP_20Hz'] * df['t']) / np.nansum(df['smogPP_20Hz']), 3)\n",
        "        return x\n",
        "\n",
        "def center_of_gravity(df):\n",
        "    f0_floor = min(df['f0_realFloorStretch'].min() - 0.1 * df['f0_speaker_range'].min(),\n",
        "                   df['f0_realFloorStretch'].min() - 0.1 * 100)\n",
        "    if np.nansum(df['smogPP_20Hz']) < 5:\n",
        "        return 0\n",
        "    x = round(\n",
        "        np.nansum((df['f0_interp_stretch_smooth'] - f0_floor) * df['t'] * df['smogPP_20Hz']) /\n",
        "        np.nansum((df['f0_interp_stretch_smooth'] - f0_floor) * df['smogPP_20Hz']), 3)\n",
        "    return x\n",
        "\n",
        "\n",
        "# Interval calculation function\n",
        "def interval_kalk(df, interval, fn, field_name):\n",
        "    selection = (\n",
        "        (df['t'] >= interval['start']) &\n",
        "        (df['t'] < interval['end']) &\n",
        "        (df['file'] == interval['file'])\n",
        "    )\n",
        "    x = fn(df[selection])\n",
        "    df.loc[selection, field_name] = x\n",
        "    return x\n",
        "\n",
        "# Mapping function (general)\n",
        "def mark_map(df, func):\n",
        "    indices = df.index.tolist()\n",
        "    for w in indices:\n",
        "        func(df.loc[w])\n",
        "    return df\n",
        "\n",
        "# Calculation functions (specific)\n",
        "def mass(df):\n",
        "    x = round(np.nansum(df['smogPP_20Hz']), 3)\n",
        "    return x\n",
        "\n",
        "\n",
        "def interval_duration(df):\n",
        "    x = sum(df['smogPP_20Hz'] > 0.01)\n",
        "    return x\n",
        "\n",
        "def center_of_mass(df):\n",
        "    if np.nansum(df['smogPP_20Hz']) < 5:\n",
        "        return 0\n",
        "    else:\n",
        "        x = round(np.nansum(df['smogPP_20Hz'] * df['t']) / np.nansum(df['smogPP_20Hz']))\n",
        "        return x\n",
        "\n",
        "\n",
        "def center_of_gravity(df):\n",
        "    f0_floor = min(df['f0_realFloorStretch'].min() - 0.1 * df['f0_speaker_range'].min(),\n",
        "                   df['f0_realFloorStretch'].min() - 0.1 * 100)\n",
        "    if np.nansum(df['smogPP_20Hz']) < 5:\n",
        "        return 0\n",
        "    x = round(\n",
        "        np.nansum((df['f0_interp_stretch_smooth'] - f0_floor) * df['t'] * df['smogPP_20Hz']) /\n",
        "        np.nansum((df['f0_interp_stretch_smooth'] - f0_floor) * df['smogPP_20Hz']), 3)\n",
        "    return x\n",
        "def f0_at_center_of_mass(df):\n",
        "    matching_rows = df[df['t'] == round(df['CoM'])]\n",
        "    if not matching_rows.empty:\n",
        "        return matching_rows['f0_interp_stretch_smooth'].values[0]\n",
        "    else:\n",
        "        return 0  # or any default value you prefer\n",
        "def f0_at_center_of_gravity(df):\n",
        "    matching_rows = df[df['t'] == round(df['CoG'])]\n",
        "    if not matching_rows.empty:\n",
        "        return matching_rows['f0_interp_stretch_smooth'].values[0]\n",
        "    else:\n",
        "        return 0  # or any default value you prefer\n",
        "def per_at_center_of_mass(df):\n",
        "    matching_rows = df[df['t'] == round(df['CoM'])]\n",
        "    if not matching_rows.empty:\n",
        "        return matching_rows['smogPP_20Hz'].values[0]\n",
        "    else:\n",
        "        return 0  # or any default value you prefer\n",
        "\n",
        "def per_at_center_of_gravity(df):\n",
        "    matching_rows = df[df['t'] == round(df['CoG'])]\n",
        "    if not matching_rows.empty:\n",
        "        return matching_rows['smogPP_20Hz'].values[0]\n",
        "    else:\n",
        "        return 0  # or any default value you prefer\n",
        "\n",
        "def synchrony(df):\n",
        "    return round(df['CoG'] - df['CoM'], 3)\n",
        "\n",
        "# Map specific functions to the new DataFrame\n",
        "def apply_functions(row, df):\n",
        "    interval_kalk(df, row, mass, 'mass')\n",
        "    interval_kalk(df, row, interval_duration, 'intervalDuration')\n",
        "    interval_kalk(df, row, center_of_mass, 'CoM')\n",
        "    interval_kalk(df, row, center_of_gravity, 'CoG')\n",
        "    interval_kalk(df, row, f0_at_center_of_mass, 'f0atCoM')\n",
        "    interval_kalk(df, row, f0_at_center_of_gravity, 'f0atCoG')\n",
        "    interval_kalk(df, row, per_at_center_of_mass, 'PERatCoM')\n",
        "    interval_kalk(df, row, per_at_center_of_gravity, 'PERatCoG')\n",
        "    interval_kalk(df, row, synchrony, 'synchrony')\n",
        "    return row\n",
        "\n",
        "# Create a new DataFrame to store the results\n",
        "result_df = intervals.copy()\n",
        "\n",
        "# Map specific functions to the new DataFrame\n",
        "for index, row in result_df.iterrows():\n",
        "    row = apply_functions(row, comp_df)\n",
        "\n",
        "# Change '0's to 'NA's\n",
        "comp_df['CoM'] = np.where(comp_df['CoM'] == 0, np.nan, comp_df['CoM'])\n",
        "comp_df['CoG'] = np.where(comp_df['CoG'] == 0, np.nan, comp_df['CoG'])\n",
        "comp_df['f0atCoM'] = np.where(comp_df['f0atCoM'] == 0, np.nan, comp_df['f0atCoM'])\n",
        "comp_df['f0atCoG'] = np.where(comp_df['f0atCoG'] == 0, np.nan, comp_df['f0atCoG'])\n",
        "comp_df['PERatCoM'] = np.where(comp_df['PERatCoM'] == 0, np.nan, comp_df['PERatCoM'])\n",
        "comp_df['PERatCoG'] = np.where(comp_df['PERatCoG'] == 0, np.nan, comp_df['PERatCoG'])\n",
        "\n",
        "# Compute ∆F0\n",
        "\n",
        "f0atCoM_list = comp_df.loc[boundetect, 'f0atCoM']\n",
        "realFluct_i = np.where(~np.isnan(f0atCoM_list))[0]\n",
        "relevantFluct_i = realFluct_i[1:]\n",
        "DeltaListF0 = np.diff(f0atCoM_list.iloc[realFluct_i])\n",
        "DeltaF0List = f0atCoM_list.copy()\n",
        "DeltaF0List.iloc[relevantFluct_i] = DeltaListF0\n",
        "comp_df.loc[boundetect, 'DeltaF0'] = DeltaF0List\n",
        "\n",
        "\n",
        "\n",
        "# Add, clean, and scale parameters\n",
        "from itertools import groupby\n",
        "\n",
        "# Ignore weak intervals\n",
        "comp_df['CoM_corr'] = np.where(\n",
        "    (comp_df['CoM'] != comp_df['CoM'].shift()) |\n",
        "    ((~comp_df['CoM'].isna()) & (comp_df['CoM'].shift().isna())),\n",
        "    comp_df['CoM'],\n",
        "    np.nan\n",
        ")\n",
        "comp_df['CoG_corr'] = np.where(\n",
        "    (comp_df['CoG'] != comp_df['CoG'].shift()) |\n",
        "    ((~comp_df['CoG'].isna()) & (comp_df['CoG'].shift().isna())),\n",
        "    comp_df['CoG'],\n",
        "    np.nan\n",
        ")\n",
        "\n",
        "# Put CoM values in their time's row\n",
        "comp_df['CoMatCoM'] = np.where(comp_df['CoM'] == comp_df['t'], comp_df['CoM'], np.nan)\n",
        "\n",
        "# '∆F0': Add token-initial values (relative to speaker's median F0)\n",
        "\n",
        "# Calculate the speaker's median F0 value\n",
        "f0_speaker_median = comp_df['f0_interp_stretch_smooth'].median()\n",
        "\n",
        "# Calculate '∆F0' using the defined speaker's median F0\n",
        "min_CoM = np.min(np.where(~np.isnan(comp_df['CoM'])))\n",
        "comp_df['DeltaF0'] = np.where(\n",
        "    (min_CoM == comp_df['t'] + 1),\n",
        "    comp_df['f0atCoM'] - f0_speaker_median,\n",
        "    np.where(\n",
        "        (~comp_df['auto_bounds'].isna() & ~comp_df['f0atCoM'].isna()),\n",
        "        comp_df['DeltaF0'],\n",
        "        np.nan\n",
        "    )\n",
        ")\n",
        "\n",
        "\n",
        "# '∆F0': Stretch observations\n",
        "comp_df['DeltaF0'] = np.where(\n",
        "    ~comp_df['mass'].isna(),\n",
        "    comp_df['DeltaF0'].fillna(method='ffill'),\n",
        "    np.nan\n",
        ")\n",
        "\n",
        "\n",
        "# Calculate the range of the speaker's F0 values\n",
        "f0_speaker_range = comp_df['f0_interp_stretch_smooth'].max() - comp_df['f0_interp_stretch_smooth'].min()\n",
        "\n",
        "# Normalize parameters\n",
        "comp_df['DeltaF0_rel'] = round((comp_df['DeltaF0'] / f0_speaker_range) * 100, 3)\n",
        "comp_df['sync_rel'] = round((comp_df['synchrony'] / comp_df['intervalDuration']) * 100, 3)\n",
        "comp_df['mass_rel'] = round(comp_df['mass'] / (comp_df['smogPP_20Hz'].sum() / len(comp_df['CoM_corr'].dropna().unique())), 3)\n",
        "comp_df['intervalDuration_rel'] = np.where(\n",
        "    ~comp_df['intervalDuration'].isna(),\n",
        "    round(comp_df['intervalDuration'] / comp_df['intervalDuration'].max(), 3),\n",
        "    np.nan\n",
        ")\n",
        "\n",
        "# Create plot-friendly data\n",
        "comp_df['DeltaF0Label'] = np.where(\n",
        "    round(comp_df['DeltaF0']) > 0,\n",
        "    '+' + round(comp_df['DeltaF0']).astype(str) + 'Hz (' + round(abs(comp_df['DeltaF0_rel'])).astype(str) + '%)',\n",
        "    round(comp_df['DeltaF0']).astype(str) + 'Hz (' + round(abs(comp_df['DeltaF0_rel'])).astype(str) + '%)'\n",
        ")\n",
        "comp_df['syncLabel'] = np.where(\n",
        "    round(comp_df['synchrony']) > 0,\n",
        "    '+' + round(comp_df['synchrony']).astype(str) + ' ms (' + round(abs(comp_df['sync_rel'])).astype(str) + '%)',\n",
        "    round(comp_df['synchrony']).astype(str) + ' ms (' + round(abs(comp_df['sync_rel'])).astype(str) + '%)'\n",
        ")\n"
      ]
    },
    {
      "cell_type": "code",
      "execution_count": null,
      "metadata": {
        "id": "MP7E95IadrGu"
      },
      "outputs": [],
      "source": [
        "print(comp_df.columns)"
      ]
    },
    {
      "cell_type": "markdown",
      "metadata": {
        "id": "gvPpedUpLdDy"
      },
      "source": [
        "speech-rate"
      ]
    },
    {
      "cell_type": "code",
      "execution_count": null,
      "metadata": {
        "id": "LLVNSRRdhnHl"
      },
      "outputs": [],
      "source": [
        "from scipy.signal import butter, filtfilt\n",
        "from scipy.interpolate import interp1d\n",
        "from scipy.interpolate import interp1d\n",
        "\n",
        "# Stretch observations\n",
        "comp_df['CoM_seq'] = comp_df['CoM_corr'].fillna(method='ffill')\n",
        "\n",
        "# Calculate consecutive CoM diffs\n",
        "comp_df['CoM_diff'] = np.where(\n",
        "    ~comp_df['CoM_corr'].isna(),\n",
        "    comp_df['CoM_corr'] - comp_df['CoM_seq'].shift(2),\n",
        "    np.nan\n",
        ")\n",
        "\n",
        "# Normalize CoM_diff (0--1)\n",
        "comp_df['CoM_diff_rel'] = np.where(\n",
        "    ~comp_df['CoM_corr'].isna(),\n",
        "    round(comp_df['CoM_diff'] / max(comp_df['CoM_diff'].dropna()), 3),\n",
        "    np.nan\n",
        ")\n",
        "\n",
        "# Add token-initial value (relative to interval durationss in the tokens)\n",
        "comp_df['CoM_diff_rel'] = np.where(\n",
        "    comp_df['t'] == comp_df['CoM_corr'].min(),\n",
        "    comp_df['intervalDuration_rel'],\n",
        "    comp_df['CoM_diff_rel']\n",
        ")\n",
        "\n",
        "# Stretch observations to keep values @ CoM\n",
        "comp_df['CoM_diff_rel'] = comp_df['CoM_diff_rel'].fillna(method='ffill')\n",
        "comp_df['CoM_diff_rel'] = np.where(\n",
        "    (comp_df['t'] == comp_df['CoM_corr']) & ~comp_df['CoM_corr'].isna(),\n",
        "    comp_df['CoM_diff_rel'],\n",
        "    np.nan\n",
        ")\n",
        "\n",
        "# Invert values (1--0)\n",
        "comp_df['CoM_diff_relInv'] = np.where(\n",
        "    ~comp_df['CoM_diff_rel'].isna(),\n",
        "    (comp_df['CoM_diff_rel'] * -1) + 1,\n",
        "    np.nan\n",
        ")\n",
        "\n",
        "valid_indices = ~np.isnan(comp_df['CoM_diff_relInv'])\n",
        "\n",
        "if valid_indices.any():\n",
        "    valid_t = comp_df['t'][valid_indices]\n",
        "    valid_CoM_diff_relInv = comp_df['CoM_diff_relInv'][valid_indices]\n",
        "\n",
        "    interp_func = interp1d(valid_t, valid_CoM_diff_relInv, kind='linear', fill_value='extrapolate')\n",
        "    comp_df['CoM_diff_relInterp'] = interp_func(comp_df['t'])\n",
        "else:\n",
        "    comp_df['CoM_diff_relInterp'] = np.nan\n",
        "\n",
        "# Drop NaN values from CoM_diff_relInv\n",
        "valid_indices = ~np.isnan(comp_df['CoM_diff_relInv'])\n",
        "valid_t = comp_df['t'][valid_indices]\n",
        "valid_CoM_diff_relInv = comp_df['CoM_diff_relInv'][valid_indices]\n",
        "\n",
        "# Stretch observations before smoothing\n",
        "CoM_diff_relInterpStretch = comp_df['CoM_diff_relInterp'].copy()\n",
        "\n",
        "if np.isnan(CoM_diff_relInterpStretch).all():\n",
        "    first_non_na = 0\n",
        "    last_non_na = 0\n",
        "else:\n",
        "    first_non_na = np.min(np.where(~np.isnan(CoM_diff_relInterpStretch))[0])\n",
        "    last_non_na = np.max(np.where(~np.isnan(CoM_diff_relInterpStretch))[0])\n",
        "\n",
        "CoM_diff_relInterpStretch[:first_non_na] = CoM_diff_relInterpStretch[first_non_na]\n",
        "CoM_diff_relInterpStretch[last_non_na:] = CoM_diff_relInterpStretch[last_non_na]\n",
        "\n",
        "if len(valid_t) > 0:\n",
        "    comp_df['CoM_diff_relInterpStretch'] = np.where(\n",
        "        (np.isnan(CoM_diff_relInterpStretch) & (comp_df['t'] < valid_t.iloc[0])),\n",
        "        valid_CoM_diff_relInv.iloc[0],\n",
        "        np.where(\n",
        "            (np.isnan(CoM_diff_relInterpStretch) & (comp_df['t'] >= valid_t.iloc[-1])),\n",
        "            valid_CoM_diff_relInv.iloc[-1],\n",
        "            CoM_diff_relInterpStretch\n",
        "        )\n",
        "    )\n",
        "else:\n",
        "    comp_df['CoM_diff_relInterpStretch'] = CoM_diff_relInterpStretch\n",
        "\n",
        "# Smooth and unstretch\n",
        "def butter_lowpass(cutoff, fs, order=5):\n",
        "    nyquist = 0.5 * fs\n",
        "    normal_cutoff = cutoff / nyquist\n",
        "    b, a = butter(order, normal_cutoff, btype='low', analog=False)\n",
        "    return b, a\n",
        "\n",
        "def butter_lowpass_filter(data, cutoff, fs, order=5):\n",
        "    b, a = butter_lowpass(cutoff, fs, order=order)\n",
        "    y = filtfilt(b, a, data)\n",
        "    return y\n",
        "\n",
        "fs = 1000  # Sampling frequency in Hz\n",
        "cutoff = 2  # Cutoff frequency in Hz\n",
        "comp_df['CoM_diff_relSmoothInterp'] = butter_lowpass_filter(CoM_diff_relInterpStretch, cutoff, fs)\n",
        "\n",
        "# Calculate local speech rate\n",
        "comp_df['localSpeechRate'] = np.where(\n",
        "    ~comp_df['CoM_diff_relInterp'].isna(),\n",
        "    round(comp_df['CoM_diff_relSmoothInterp'], 4),\n",
        "    np.nan\n",
        ")\n",
        "\n",
        "\n",
        "# Interpolate labels from the TextGrid manual annotations\n",
        "if len(comp_df['syll_mid']) > 0:\n",
        "    comp_df['syll_label'] = comp_df['syll_label'].fillna(method='ffill')\n",
        "\n",
        "if len(comp_df['word_label']) > 0:\n",
        "    comp_df['word_label'] = comp_df['word_label'].fillna(method='ffill')\n",
        "\n",
        "# Interpolate syllable labels\n",
        "if len(comp_df['syll_mid']) > 0:\n",
        "    comp_df['syll_label'] = comp_df.groupby('file', group_keys=False)['syll_label'].apply(\n",
        "    lambda x: x.ffill() if x.notna().any() else x\n",
        "    )\n",
        "\n",
        "# Interpolate word labels\n",
        "if len(comp_df['word_label']) > 0:\n",
        "    comp_df['word_label'] = comp_df.groupby('file', group_keys=False)['word_label'].apply(\n",
        "    lambda x: x.ffill() if x.notna().any() else x\n",
        "    )\n",
        "\n"
      ]
    },
    {
      "cell_type": "code",
      "execution_count": null,
      "metadata": {
        "id": "c1gXoSbjPqZI"
      },
      "outputs": [],
      "source": [
        "print(comp_df.columns)"
      ]
    },
    {
      "cell_type": "code",
      "execution_count": null,
      "metadata": {
        "colab": {
          "base_uri": "https://localhost:8080/"
        },
        "id": "OSPi9Gnykm8x",
        "outputId": "5008a1e5-0844-4875-9c58-74346f184040"
      },
      "outputs": [
        {
          "name": "stdout",
          "output_type": "stream",
          "text": [
            "DataFrame saved to /content/drive/MyDrive/Proper_project/data_tables/comp_CoM_CoG_df.csv\n"
          ]
        }
      ],
      "source": [
        "# Save the modified DataFrame to a CSV file\n",
        "output_file_path = \"/content/drive/MyDrive/Proper_project/data_tables/comp_CoM_CoG_df.csv\"\n",
        "comp_df.to_csv(output_file_path, index=False)\n",
        "\n",
        "print(f\"DataFrame saved to {output_file_path}\")"
      ]
    },
    {
      "cell_type": "markdown",
      "metadata": {
        "id": "yEX_DCYuk0hV"
      },
      "source": [
        "#Plot periograms with computations overlaid"
      ]
    },
    {
      "cell_type": "code",
      "execution_count": null,
      "metadata": {
        "id": "KaGgaCaQxEF4"
      },
      "outputs": [],
      "source": [
        "import pandas as pd\n",
        "\n",
        "# Define a list of file names\n",
        "comp_df = pd.read_csv(\"/content/drive/MyDrive/Proper_project/data_tables/comp_CoM_CoG_df.csv\")\n",
        "files = comp_df['file'].unique()\n",
        "print(comp_df.columns)"
      ]
    },
    {
      "cell_type": "code",
      "execution_count": null,
      "metadata": {
        "id": "WoNnAp6Q6-PY"
      },
      "outputs": [],
      "source": [
        "import matplotlib.pyplot as plt\n",
        "import pandas as pd\n",
        "import numpy as np  # Import the numpy module\n",
        "from matplotlib.colors import Normalize, LinearSegmentedColormap\n",
        "from matplotlib.collections import LineCollection\n",
        "\n",
        "yScale = ['tokenScale', 'speakerScale']\n",
        "\n",
        "\n",
        "# Loop through files (assuming 'files' is a list of filenames)\n",
        "for sel_file in files:\n",
        "    single_token = comp_df[comp_df['file'] == sel_file]\n",
        "\n",
        "    plotFloor = single_token['plotFloorToken'].iloc[0] if yScale == 'tokenScale' else \\\n",
        "                single_token['plotFloorSpeaker'].iloc[0] if yScale == 'speakerScale' else \\\n",
        "                single_token['plotFloorData'].iloc[0]\n",
        "\n",
        "    plotUnits = round(single_token['f0_token_range'].iloc[0] / 30) if yScale == 'tokenScale' else \\\n",
        "                round(single_token['f0_speaker_range'].iloc[0] / 30) if yScale == 'speakerScale' else \\\n",
        "                round(single_token['f0_data_range'].iloc[0] / 30)\n",
        "\n",
        "    f0range = single_token['f0_token_range'].iloc[0] if yScale == 'tokenScale' else \\\n",
        "                single_token['f0_speaker_range'].iloc[0] if yScale == 'speakerScale' else \\\n",
        "                single_token['f0_data_range'].iloc[0]\n",
        "\n",
        "    f0max = single_token['f0_token_max'].iloc[0] if yScale == 'tokenScale' else \\\n",
        "            single_token['f0_speaker_max'].iloc[0] if yScale == 'speakerScale' else \\\n",
        "            single_token['f0_data_max'].iloc[0]\n",
        "\n",
        "    midLow = round(single_token['f0_token_min'].iloc[0] - single_token['f0_token_range'].iloc[0] / 2) \\\n",
        "             if yScale == 'tokenScale' else \\\n",
        "             round(single_token['f0_speaker_min'].iloc[0] - single_token['f0_speaker_range'].iloc[0] / 2) \\\n",
        "             if yScale == 'speakerScale' else \\\n",
        "             round(single_token['f0_data_min'].iloc[0] - single_token['f0_data_range'].iloc[0] / 2)\n",
        "\n",
        "    midHigh = round(single_token['f0_token_max'].iloc[0] - single_token['f0_token_range'].iloc[0] / 2) \\\n",
        "              if yScale == 'tokenScale' else \\\n",
        "              round(single_token['f0_speaker_max'].iloc[0] - single_token['f0_speaker_range'].iloc[0] / 2) \\\n",
        "              if yScale == 'speakerScale' else \\\n",
        "              round(single_token['f0_data_max'].iloc[0] - single_token['f0_data_range'].iloc[0] / 2)\n",
        "\n",
        "    # Calculate max and min bounds based on 'manual' condition\n",
        "    manual = True  # Assuming manual is a variable defined elsewhere\n",
        "\n",
        "    if manual:\n",
        "        maxBounds = single_token[['auto_bounds', 'syll_bounds']].max().max()\n",
        "        minBounds = single_token[['auto_bounds', 'syll_bounds']].min().min()\n",
        "    else:\n",
        "        maxBounds = single_token['auto_bounds'].max()\n",
        "        minBounds = single_token['auto_bounds'].min()\n",
        "\n",
        "\n",
        "    # Create the plot\n",
        "    plt.figure(figsize=(14, 8))\n",
        "\n",
        "    # Create the LineCollection plot\n",
        "    #plt.plot(single_token['t'], single_token['f0_interp_stretch_smooth'], color='blue', alpha=1, linewidth=3.5)\n",
        "\n",
        "    # Creating the LineCollection plot\n",
        "    cmap = LinearSegmentedColormap.from_list(\"\", [(1, 0, 0), (0, 0, 0)])\n",
        "    x = single_token['t']\n",
        "    y = single_token['f0_interp_stretch_smooth']\n",
        "    alphas = single_token['smogPP_20Hz']\n",
        "    # Define a range of linewidths based on data range\n",
        "    linewidths = alphas * 12\n",
        "\n",
        "    points = np.array([x, y]).T.reshape(-1, 1, 2)\n",
        "    segments = np.concatenate([points[:-1], points[1:]], axis=1)\n",
        "    lc = LineCollection(segments, cmap=cmap, linewidth=linewidths, alpha=alphas, label='f0_interp_stretch_smooth')\n",
        "    lc.set_array(x)\n",
        "    plt.gca().add_collection(lc)\n",
        "\n",
        "    #Other plots\n",
        "    plt.plot(single_token['t'], single_token['smogPP_20Hz'] * f0range + plotFloor,\n",
        "            color='red', alpha=1, linewidth=2)\n",
        "\n",
        "    plt.plot(single_token['t'], single_token['localSpeechRate'] * f0range + plotFloor,\n",
        "            color='green', alpha=1, linewidth=2.5, linestyle='solid')\n",
        "\n",
        "    #Boundaries\n",
        "    if manual:\n",
        "        plt.vlines(single_token['syll_bounds'], ymin=plotFloor, ymax=f0max + plotUnits * 9, linestyles='dotted', colors='black', linewidth=1, alpha=1)\n",
        "        plt.vlines(single_token['syll_end'], ymin=plotFloor, ymax=f0max + plotUnits * 9, linestyles='dotted', colors='black', linewidth=1, alpha=1)\n",
        "        #plt.vlines(single_token['auto_bounds'], ymin=plotFloor, ymax=f0max + plotUnits * 9, colors='green', linewidth=0.3, alpha=1)\n",
        "        plt.vlines(single_token['CoM_corr'], ymin=plotFloor, ymax=single_token['PERatCoM'] * f0range + plotFloor, colors='red', linewidth=1, alpha=1, linestyle='dashed')\n",
        "\n",
        "        #landmarks\n",
        "        plt.vlines(single_token['CoM_corr'], ymin=single_token['f0atCoM'] - plotUnits * 6, ymax=single_token['f0atCoM'] + plotUnits * 3, colors='red', linewidth=1, alpha=0.9, linestyle='dashed')\n",
        "        plt.vlines(single_token['CoG_corr'], ymin=single_token['f0atCoG'] - plotUnits * 6, ymax=single_token['f0atCoG'] + plotUnits * 3, colors='blue', linewidth=1, alpha=0.9, linestyle='solid')\n",
        "\n",
        "    # Adjust the code accordingly\n",
        "    for i in range(len(single_token)):\n",
        "        synchrony_value = single_token['synchrony'].iloc[i]\n",
        "        if not pd.isna(synchrony_value):\n",
        "            rounded_synchrony = round(synchrony_value) / 2\n",
        "        else:\n",
        "            rounded_synchrony = 0  # Default value for NaN\n",
        "\n",
        "        if pd.notna(single_token['f0atCoG'].iloc[i]) and pd.notna(single_token['CoM_corr'].iloc[i]):\n",
        "            plt.text(single_token['CoM_corr'].iloc[i] + rounded_synchrony, single_token['f0atCoG'].iloc[i] - plotUnits * 8, single_token['syncLabel'].iloc[i], color='green', size=8, family='serif')\n",
        "        if pd.notna(single_token['CoM'].iloc[i]):\n",
        "            plt.text(single_token['CoM'].iloc[i], plotFloor - plotUnits, single_token['mass_rel'].iloc[i], color='blue', size=8, family='serif')\n",
        "\n",
        "        if manual:\n",
        "            syll_mid = single_token['syll_mid'].iloc[i]\n",
        "            f0max = single_token['f0_token_max'].iloc[i]\n",
        "            syll_label = single_token['syll_label'].iloc[i]\n",
        "\n",
        "\n",
        "            # Check if syll_mid and f0max are finite and valid\n",
        "            if not (np.isfinite(syll_mid) and np.isfinite(f0max)):\n",
        "                # Handle invalid values here, like skipping the iteration or using defaults\n",
        "                continue  # Skip this iteration if values are not valid\n",
        "\n",
        "            plt.text(syll_mid, f0max + plotUnits * 8, syll_label, color='black', size=9, family='serif')\n",
        "\n",
        "    #Legends\n",
        "    # CoGs\n",
        "    plt.plot([minBounds - 20, minBounds - 20], [midHigh - plotUnits * 3, midHigh + plotUnits * 3], color=\"blue\", linewidth=1, alpha=0.8)\n",
        "    plt.text(minBounds - 30, midHigh, \"CoG\", color=\"blue\", alpha=1, size=8, family=\"serif\", ha=\"right\")\n",
        "\n",
        "    # CoMs\n",
        "    plt.plot([minBounds - 20, minBounds - 20], [midLow + plotUnits * 3, midLow - plotUnits * 3], color=\"red\", linewidth=1, alpha=0.8, linestyle='--')\n",
        "    plt.text(minBounds - 30, midLow, \"CoM\", color=\"red\", alpha=1, size=8, family=\"serif\", ha=\"right\")\n",
        "\n",
        "    # ∆F0 / F0 @ CoM\n",
        "    plt.text(maxBounds + 10, midHigh + plotUnits * 4, \"∆F0\", color=\"blue\", alpha=1, size=8, family=\"serif\", ha=\"left\")\n",
        "    plt.text(maxBounds + 10, midHigh + plotUnits * 2, \"low < 0 < high\", color=\"blue\", alpha=1, size=8, family=\"serif\", ha=\"left\")\n",
        "\n",
        "    # Synchrony\n",
        "    plt.text(maxBounds + 10, midHigh - plotUnits * 2, \"Synchrony\", color=\"red\", size=5, family=\"serif\", ha=\"left\")\n",
        "    plt.text(maxBounds + 10, midHigh - plotUnits * 4, \"fall < 0 < rise\", color=\"darkblue\", size=8, family=\"serif\", ha=\"left\")\n",
        "\n",
        "    # Mass\n",
        "    plt.text(maxBounds + 10, midLow + plotUnits, \"Mass\", color=\"red\", size=8, family=\"serif\", ha=\"left\")\n",
        "    plt.text(maxBounds + 10, midLow - plotUnits, \"weak < 1 < strong\", color=\"red\", size=8, family=\"serif\", ha=\"left\")\n",
        "\n",
        "\n",
        "\n",
        "    # Other plot settings\n",
        "    plt.xlim(minBounds - 100, single_token['t'].max())\n",
        "    plt.ylim(plotFloor - plotUnits, f0max + plotUnits * 12)\n",
        "    plt.xlabel('F0')  # Add your x-axis label here\n",
        "    plt.ylabel('Times(s)')  # Add your y-axis label here\n",
        "    plt.title('Plot periograms with computations overlaid')  # Add your plot title here\n",
        "    plt.grid(False)\n",
        "    #plt.savefig(f'plots/{sel_file}_PERIOGRAM+({yScale}).pdf', format='pdf')\n",
        "    plt.show()\n"
      ]
    },
    {
      "cell_type": "code",
      "execution_count": null,
      "metadata": {
        "id": "ilIzbw2UFc7O"
      },
      "outputs": [],
      "source": [
        "import matplotlib.pyplot as plt\n",
        "import pandas as pd\n",
        "from scipy.interpolate import UnivariateSpline\n",
        "\n",
        "# Assuming you've already defined and loaded your single_token DataFrame\n",
        "\n",
        "# Create the plot\n",
        "plt.figure(figsize=(13, 8))\n",
        "\n",
        "\n",
        "# Extract time series and f0 values from the data\n",
        "time_series = data['t'].values\n",
        "f0_values = data['f0_interp_smooth'].values\n",
        "\n",
        "# Remove NaN and Inf values from f0_values\n",
        "valid_indices = np.logical_and(np.isfinite(f0_values), ~np.isnan(f0_values))\n",
        "time_series = time_series[valid_indices]\n",
        "f0_values = f0_values[valid_indices]\n",
        "\n",
        "# Create LineCollection for the colored line\n",
        "cmap = LinearSegmentedColormap.from_list(\"\", [(1, 0, 0), (0, 0, 1)])\n",
        "\n",
        "# Use smoothing spline for well-connected and smooth curve\n",
        "smooth_time = np.linspace(time_series.min(), time_series.max(), num=200)  # Fewer points for smoother curve\n",
        "spl = UnivariateSpline(time_series, f0_values, s=1000)  # Adjust smoothing parameter 's' for smoothness\n",
        "smooth_f0_values = spl(smooth_time)\n",
        "\n",
        "# Calculate line widths based on f0 values\n",
        "min_line_width = 13\n",
        "max_line_width = 13\n",
        "normalized_f0 = (f0_values - f0_values.min()) / (f0_values.max() - f0_values.min())\n",
        "line_widths = min_line_width + normalized_f0 * (max_line_width - min_line_width)\n",
        "\n",
        "points = np.array([smooth_time, smooth_f0_values]).T\n",
        "segments = np.array([points[:-1], points[1:]]).transpose(1, 0, 2)\n",
        "lc = LineCollection(segments, cmap=cmap, linewidth=line_widths)\n",
        "lc.set_array(smooth_time)\n",
        "\n",
        "# Create a single figure and axis\n",
        "fig, ax = plt.subplots(figsize=(13, 8))\n",
        "\n",
        "# Add the LineCollection to the axis\n",
        "ax.add_collection(lc)\n",
        "ax.autoscale()\n",
        "\n",
        "ax.set_xlim(time_series.min(), time_series.max())  # Adjust x-axis range as needed\n",
        "ax.set_ylim(f0_values.min(), f0_values.max())  # Adjust y-axis range as needed\n",
        "ax.set_xlabel('Time')\n",
        "ax.set_ylabel('f0')\n",
        "ax.set_title('Well-Connected and Smooth Colored Line Plot of f0 vs. Time')\n",
        "\n",
        "\n",
        "#plt.plot(single_token['t'], single_token['f0_interp_stretch_smooth'],\n",
        "         #color='blue', alpha=single_token['smogPP_20Hz'].iloc[0] * 3.5)\n",
        "plt.plot(single_token['t'], single_token['smogPP_20Hz'] * f0range + plotFloor,\n",
        "         color='red', alpha=0.9, linewidth=1)\n",
        "plt.plot(single_token['t'], single_token['localSpeechRate'] * f0range + plotFloor,\n",
        "         color='green', alpha=0.9, linewidth=2.5, linestyle='solid')\n",
        "\n",
        "if manual:\n",
        "    plt.vlines(single_token['syll_bounds'], ymin=plotFloor, ymax=f0max + plotUnits * 9, linestyles='dotted', colors='black', linewidth=1, alpha=0.7)\n",
        "    plt.vlines(single_token['syll_end'], ymin=plotFloor, ymax=f0max + plotUnits * 9, linestyles='dotted', colors='black', linewidth=1, alpha=0.7)\n",
        "    plt.vlines(single_token['auto_bounds'], ymin=plotFloor, ymax=f0max + plotUnits * 9, colors='red', linewidth=0.02, alpha=0.5)\n",
        "    plt.vlines(single_token['CoM_corr'], ymin=plotFloor, ymax=single_token['PERatCoM'] * f0range + plotFloor, colors='red', linewidth=1, alpha=0.8, linestyle='dashed')\n",
        "\n",
        "    plt.vlines(single_token['CoM_corr'], ymin=single_token['f0atCoM'] - plotUnits * 3, ymax=single_token['f0atCoM'] + plotUnits * 3, colors='red', linewidth=1, alpha=0.9, linestyle='dashed')\n",
        "    plt.vlines(single_token['CoG_corr'], ymin=single_token['f0atCoG'] - plotUnits * 3, ymax=single_token['f0atCoG'] + plotUnits * 3, colors='blue', linewidth=1, alpha=0.9, linestyle='solid')\n",
        "\n",
        "\n",
        "# Annotations\n",
        "for i in range(len(single_token)):\n",
        "    synchrony_value = single_token['synchrony'].iloc[i]\n",
        "    if not pd.isna(synchrony_value):\n",
        "        rounded_synchrony = round(synchrony_value) / 2\n",
        "    else:\n",
        "        rounded_synchrony = 0  # Default value for NaN\n",
        "\n",
        "    if pd.notna(single_token['f0atCoG'].iloc[i]) and pd.notna(single_token['CoM_corr'].iloc[i]):\n",
        "        plt.text(single_token['CoM_corr'].iloc[i] + rounded_synchrony, single_token['f0atCoG'].iloc[i] - plotUnits * 4, single_token['syncLabel'].iloc[i], color='green', size=8, family='serif')\n",
        "    if pd.notna(single_token['CoM'].iloc[i]):\n",
        "        plt.text(single_token['CoM'].iloc[i], plotFloor - plotUnits, single_token['mass_rel'].iloc[i], color='blue', size=8, family='serif')\n",
        "    if manual:\n",
        "            syll_mid = single_token['syll_mid'].iloc[i]\n",
        "            f0max = single_token['f0_token_max'].iloc[i]\n",
        "            syll_label = single_token['syll_label'].iloc[i]\n",
        "            syll_end = single_token['syll_end'].iloc[i]  # Extracting syllable end\n",
        "\n",
        "            # Check if syll_mid and f0max are finite and valid\n",
        "            if not (np.isfinite(syll_mid) and np.isfinite(f0max)):\n",
        "                # Handle invalid values here, like skipping the iteration or using defaults\n",
        "                continue  # Skip this iteration if values are not valid\n",
        "\n",
        "            plt.text(syll_mid, f0max + plotUnits * 8, syll_label, color='black', size=9, family='serif')\n",
        "\n",
        "# CoGs\n",
        "plt.plot([minBounds - 20, minBounds - 20], [midHigh - plotUnits * 3, midHigh + plotUnits * 3], color=\"blue\", linewidth=1, alpha=0.8)\n",
        "plt.text(minBounds - 30, midHigh, \"CoG\", color=\"blue\", alpha=1, size=8, family=\"serif\", ha=\"right\")\n",
        "\n",
        "# CoMs\n",
        "plt.plot([minBounds - 20, minBounds - 20], [midLow + plotUnits * 3, midLow - plotUnits * 3], color=\"red\", linewidth=1, alpha=0.8, linestyle='--')\n",
        "plt.text(minBounds - 30, midLow, \"CoM\", color=\"red\", alpha=1, size=8, family=\"serif\", ha=\"right\")\n",
        "\n",
        "# ∆F0 / F0 @ CoM\n",
        "plt.text(maxBounds + 10, midHigh + plotUnits * 4, \"∆F0\", color=\"blue\", alpha=1, size=8, family=\"serif\", ha=\"left\")\n",
        "plt.text(maxBounds + 10, midHigh + plotUnits * 2, \"low < 0 < high\", color=\"blue\", alpha=1, size=8, family=\"serif\", ha=\"left\")\n",
        "\n",
        "# Synchrony\n",
        "plt.text(maxBounds + 10, midHigh - plotUnits * 2, \"Synchrony\", color=\"green\", size=8, family=\"serif\", ha=\"left\")\n",
        "plt.text(maxBounds + 10, midHigh - plotUnits * 4, \"fall < 0 < rise\", color=\"darkblue\", size=8, family=\"serif\", ha=\"left\")\n",
        "\n",
        "# Mass\n",
        "plt.text(maxBounds + 10, midLow + plotUnits, \"Mass\", color=\"red\", size=8, family=\"serif\", ha=\"left\")\n",
        "plt.text(maxBounds + 10, midLow - plotUnits, \"weak < 1 < strong\", color=\"red\", size=8, family=\"serif\", ha=\"left\")\n",
        "\n",
        "\n",
        "\n",
        "# Other plot settings\n",
        "plt.xlim(minBounds - 100, single_token['t'].max())\n",
        "plt.ylim(plotFloor - plotUnits, f0max + plotUnits * 12)\n",
        "plt.xlabel('Times')  # Add your x-axis label here\n",
        "plt.ylabel('F0')  # Add your y-axis label here\n",
        "plt.title('Plot periograms with computations overlaid')  # Add your plot title here\n",
        "plt.grid(False)\n",
        "\n",
        "# Save the plot to a PDF file\n",
        "#plt.savefig(f\"plots/{sel_file}_PERIOGRAM+({yScale}).pdf\", format='pdf')\n",
        "\n",
        "# Show the plot\n",
        "plt.show()\n"
      ]
    },
    {
      "cell_type": "markdown",
      "metadata": {
        "id": "HwtlP58SG-kU"
      },
      "source": [
        "# ***`Best Plot for all this projecks.:`***"
      ]
    },
    {
      "cell_type": "code",
      "execution_count": null,
      "metadata": {
        "id": "68Upgay2SBNB"
      },
      "outputs": [],
      "source": [
        "import matplotlib.pyplot as plt\n",
        "import numpy as np\n",
        "import pandas as pd\n",
        "from matplotlib.collections import LineCollection\n",
        "from matplotlib.colors import LinearSegmentedColormap\n",
        "from scipy.interpolate import CubicSpline\n",
        "\n",
        "# Load data from CSV file\n",
        "data = pd.read_csv('/content/drive/MyDrive/Proper_project/data_tables/comp_CoM_CoG_df.csv')\n",
        "\n",
        "# Extract time series and f0 values from the data\n",
        "time_series = data['t'].values\n",
        "f0_values = data['f0_interp_smooth'].values\n",
        "\n",
        "# Remove NaN and Inf values from f0_values\n",
        "valid_indices = np.logical_and(np.isfinite(f0_values), ~np.isnan(f0_values))\n",
        "time_series = time_series[valid_indices]\n",
        "f0_values = f0_values[valid_indices]\n",
        "\n",
        "# Create LineCollection for the colored line\n",
        "cmap = LinearSegmentedColormap.from_list(\"\", [(1, 0, 0), (0, 0, 1)])\n",
        "\n",
        "# Use cubic spline interpolation for very smooth curve\n",
        "smooth_time = np.linspace(time_series.min(), time_series.max(), num=3000)  # More points for smoother curve\n",
        "cs = CubicSpline(time_series, f0_values)\n",
        "smooth_f0_values = cs(smooth_time)\n",
        "\n",
        "points = np.array([smooth_time, smooth_f0_values]).T.reshape(-1, 1, 2)\n",
        "segments = np.concatenate([points[:-1], points[1:]], axis=1)\n",
        "lc = LineCollection(segments, cmap=cmap, linewidth=10)\n",
        "lc.set_array(smooth_time)\n",
        "\n",
        "# Create a single figure and axis\n",
        "fig, ax = plt.subplots(figsize=(10, 8))\n",
        "\n",
        "# Add the LineCollection to the axis\n",
        "ax.add_collection(lc)\n",
        "ax.autoscale()\n",
        "\n",
        "ax.set_xlim(time_series.min(), time_series.max())\n",
        "ax.set_xlabel('Time')\n",
        "ax.set_ylabel('f0')\n",
        "ax.set_title('Very Smooth Colored Line Plot of f0 vs. Time')\n",
        "\n",
        "# Add colorbar\n",
        "sc = plt.scatter([], [], c=[], cmap='jet')\n",
        "plt.colorbar(sc, label='Color')\n",
        "\n",
        "plt.show()\n"
      ]
    },
    {
      "cell_type": "markdown",
      "metadata": {
        "id": "aWAA7Lj4k-MQ"
      },
      "source": [
        "#Minimize comp_df table"
      ]
    },
    {
      "cell_type": "code",
      "execution_count": null,
      "metadata": {
        "id": "kMtXdsTWarLU"
      },
      "outputs": [],
      "source": [
        "import pandas as pd\n",
        "\n",
        "# Assuming comp_df is your original DataFrame\n",
        "mini_comp_df = comp_df.drop(columns=['plotFloorToken', 'plotFloorSpeaker', 'plotFloorData', 'intensityRel',\n",
        "                                     'total_powerRel', 'postPP_rel', 'logPP_rel', 'smogPP_1stDer',\n",
        "                                     'smogPP_2ndDer',  'CoM_seq', 'CoM_diff','smogPP_2ndDerDyn',\n",
        "                                     'CoM_diff_rel', 'CoM_diff_relInv', 'CoM_diff_relInterp',\n",
        "                                      'CoM_diff_relInterpStretch', 'CoM_diff_relSmoothInterp'])\n",
        "\n",
        "#Missing columns\n",
        "    #'smogPP_2ndDerDyn',\n",
        "    #'CoM_diff_relInterpStretch',\n",
        "\n",
        "\n",
        "# Drop any unused categorical levels\n",
        "mini_comp_df = mini_comp_df.apply(lambda x: x.cat.remove_unused_categories() if pd.api.types.is_categorical_dtype(x) else x)\n",
        "\n",
        "# Assuming mini_comp_df is your DataFrame\n",
        "mini_comp_df.to_csv(\"/content/drive/MyDrive/Proper_project/data_tables/mini_comp_df.csv\", index=False)\n"
      ]
    },
    {
      "cell_type": "code",
      "execution_count": null,
      "metadata": {
        "colab": {
          "base_uri": "https://localhost:8080/"
        },
        "id": "inyh_ZqJmkoU",
        "outputId": "f13d5627-832d-4d7d-bb77-0e17953916b0"
      },
      "outputs": [
        {
          "name": "stdout",
          "output_type": "stream",
          "text": [
            "Index(['file', 't', 'speaker', 'syll_start', 'syll_mid', 'syll_end',\n",
            "       'syll_bounds', 'syll_label', 'word_start', 'word_mid', 'word_end',\n",
            "       'word_bounds', 'word_label', 'perFloorStatus', 'relToStatus',\n",
            "       'strengThreshStatus', 'f0_data_min', 'f0_data_max', 'f0_data_range',\n",
            "       'f0_speaker_min', 'f0_speaker_max', 'f0_speaker_median',\n",
            "       'f0_speaker_mean', 'f0_speaker_range', 'f0_token_min', 'f0_token_max',\n",
            "       'f0_token_median', 'f0_token_mean', 'f0_token_range', 'smogPP_20Hz',\n",
            "       'smogPP_12Hz', 'smogPP_8Hz', 'smogPP_5Hz', 'f0_interp_stretch_smooth',\n",
            "       'f0_interp_smooth', 'f0_realFloorStretch', 'syll_boundsSeq',\n",
            "       'useManualStatus', 'autoManStatus', 'averageSyllStatus', 'auto_bounds',\n",
            "       'DeltaF0', 'boundetect', 'mass', 'intervalDuration', 'CoM', 'CoG',\n",
            "       'f0atCoM', 'f0atCoG', 'PERatCoM', 'PERatCoG', 'synchrony', 'CoM_corr',\n",
            "       'CoG_corr', 'CoMatCoM', 'DeltaF0_rel', 'sync_rel', 'mass_rel',\n",
            "       'intervalDuration_rel', 'DeltaF0Label', 'syncLabel', 'localSpeechRate'],\n",
            "      dtype='object')\n"
          ]
        }
      ],
      "source": [
        "print(mini_comp_df.columns)"
      ]
    },
    {
      "cell_type": "markdown",
      "metadata": {
        "id": "_BqaPABLmlTe"
      },
      "source": [
        "# ProPer scores (V): allocate ProPer values to manually segmented intervals, for data aggregation and stats"
      ]
    },
    {
      "cell_type": "code",
      "execution_count": null,
      "metadata": {
        "colab": {
          "base_uri": "https://localhost:8080/"
        },
        "id": "QvT-XaUWmklI",
        "outputId": "c72153bb-b6cf-47fb-98d1-8efd41adfe0c"
      },
      "outputs": [
        {
          "name": "stdout",
          "output_type": "stream",
          "text": [
            "Index(['file', 't', 'speaker', 'syll_start', 'syll_mid', 'syll_end',\n",
            "       'syll_bounds', 'syll_label', 'word_start', 'word_mid', 'word_end',\n",
            "       'word_bounds', 'word_label', 'perFloorStatus', 'relToStatus',\n",
            "       'strengThreshStatus', 'f0_data_min', 'f0_data_max', 'f0_data_range',\n",
            "       'f0_speaker_min', 'f0_speaker_max', 'f0_speaker_median',\n",
            "       'f0_speaker_mean', 'f0_speaker_range', 'f0_token_min', 'f0_token_max',\n",
            "       'f0_token_median', 'f0_token_mean', 'f0_token_range', 'smogPP_20Hz',\n",
            "       'smogPP_12Hz', 'smogPP_8Hz', 'smogPP_5Hz', 'f0_interp_stretch_smooth',\n",
            "       'f0_interp_smooth', 'f0_realFloorStretch', 'syll_boundsSeq',\n",
            "       'useManualStatus', 'autoManStatus', 'averageSyllStatus', 'auto_bounds',\n",
            "       'DeltaF0', 'boundetect', 'mass', 'intervalDuration', 'CoM', 'CoG',\n",
            "       'f0atCoM', 'f0atCoG', 'PERatCoM', 'PERatCoG', 'synchrony', 'CoM_corr',\n",
            "       'CoG_corr', 'CoMatCoM', 'DeltaF0_rel', 'sync_rel', 'mass_rel',\n",
            "       'intervalDuration_rel', 'DeltaF0Label', 'syncLabel', 'localSpeechRate'],\n",
            "      dtype='object')\n"
          ]
        }
      ],
      "source": [
        "import pandas as pd\n",
        "import numpy as np\n",
        "\n",
        "# Load the data\n",
        "comp_df = pd.read_csv(\"/content/drive/MyDrive/Proper_project/data_tables/mini_comp_df.csv\").drop_duplicates(subset=['file', 't'], keep='first')\n",
        "\n",
        "# Interpolate observations from the TextGrid manual annotations\n",
        "if 'syll_mid' in comp_df.columns and len(comp_df['syll_mid']) > 0:\n",
        "    comp_df['syll_mid'] = comp_df.groupby('file', group_keys=False)['syll_mid'].apply(lambda x: x.fillna(method='ffill'))\n",
        "\n",
        "if 'word_label' in comp_df.columns and len(comp_df['word_label']) > 0:\n",
        "    comp_df['word_mid'] = comp_df.groupby('file', group_keys=False)['syll_mid'].apply(lambda x: x.fillna(method='ffill'))\n",
        "\n",
        "\n",
        "print(comp_df.columns)"
      ]
    },
    {
      "cell_type": "markdown",
      "metadata": {
        "id": "SS08PNZKnA5E"
      },
      "source": [
        "# Prepare the scores_df table"
      ]
    },
    {
      "cell_type": "code",
      "execution_count": null,
      "metadata": {
        "id": "rbP4MnNcchNv"
      },
      "outputs": [],
      "source": [
        "import pandas as pd\n",
        "import numpy as np\n",
        "\n",
        "# Assuming you have a DataFrame named comp_df\n",
        "# Create a DataFrame similar to scores_df with the required calculations\n",
        "scores_df = comp_df.copy()\n",
        "\n",
        "# Group by 'file' and 'syll_mid'\n",
        "grouped = scores_df.groupby(['file', 'syll_mid'], group_keys=False)\n",
        "\n",
        "# Calculate syllCoMMap\n",
        "def calculate_syllCoMMap(group):\n",
        "    if group['CoMatCoM'].isna().all() or pd.isna(group['syll_mid'].iloc[0]):\n",
        "        group['syllCoMMap'] = np.nan\n",
        "    elif sum(~group['CoMatCoM'].isna()) == 1:\n",
        "        group['syllCoMMap'] = group['CoMatCoM'].mean()\n",
        "    else:\n",
        "        group['syllCoMMap'] = 0\n",
        "\n",
        "    return group\n",
        "\n",
        "scores_df = grouped.apply(calculate_syllCoMMap)\n",
        "\n",
        "# Calculate syllCoMMap2 and update syllCoMMap accordingly\n",
        "def calculate_syllCoMMap2(group):\n",
        "    group['syllCoMMap2'] = np.where((group['syllCoMMap'] == 0) & (group['CoMatCoM'] == True), group['mass_rel'], np.nan)\n",
        "    group['syllCoMMap2'] = group['syllCoMMap2'].max(skipna=True)\n",
        "    group['syllCoMMap'] = np.where((group['syllCoMMap'] == 0) & (group['CoMatCoM'] == True), group['syllCoMMap2'], group['syllCoMMap'])\n",
        "    group['syllCoMMap'] = np.where(group['syllCoMMap'] == 0, np.nan, group['syllCoMMap'])\n",
        "    return group\n",
        "\n",
        "scores_df = scores_df.groupby(['file', 'syll_mid'], group_keys=False).apply(calculate_syllCoMMap2)\n",
        "\n",
        "# Calculate syllCoMflicts\n",
        "def calculate_syllCoMflicts(group):\n",
        "    group['syllCoMflicts'] = np.where((sum(~group['CoMatCoM'].isna()) > 1) & (group['syllCoMMap'] != group['mass_rel']), np.nan, group['CoM'])\n",
        "    return group\n",
        "\n",
        "scores_df = scores_df.groupby(['file', 'syll_mid'], group_keys=False).apply(calculate_syllCoMflicts)\n",
        "\n",
        "# Stretch the relevant CoM values within syllabic intervals\n",
        "def stretch_syllCoMMap(group):\n",
        "    if sum(~group['CoMatCoM'].isna()) > 1:\n",
        "        group['syllCoMMap'] = group['syllCoMflicts'].mean(skipna=True)\n",
        "    return group\n",
        "\n",
        "scores_df = scores_df.groupby(['file', 'syll_mid'], group_keys=False).apply(stretch_syllCoMMap)\n",
        "\n",
        "# Reset index\n",
        "scores_df.reset_index(drop=True, inplace=True)\n",
        "\n"
      ]
    },
    {
      "cell_type": "code",
      "execution_count": null,
      "metadata": {
        "id": "2C_IxpotciGq"
      },
      "outputs": [],
      "source": [
        "# Update the DataFrame with the relevant ProPer parameters\n",
        "def update_proper_parameters(group):\n",
        "    t = True  # Assuming t is equivalent to True\n",
        "\n",
        "    group['intervalDuration'] = np.where(group['syllCoMMap'] == t, group['intervalDuration'], np.nan)\n",
        "    if all(group['intervalDuration'].isna()):\n",
        "        group['intervalDuration'] = np.nan\n",
        "    else:\n",
        "        group['intervalDuration'] = group['intervalDuration'].max(skipna=True)\n",
        "\n",
        "    group['CoM'] = np.where(group['syllCoMMap'] == t, group['CoM'], np.nan)\n",
        "    if all(group['CoM'].isna()):\n",
        "        group['CoM'] = np.nan\n",
        "    else:\n",
        "        group['CoM'] = group['CoM'].max(skipna=True)\n",
        "\n",
        "    group['CoG'] = np.where(group['syllCoMMap'] == t, group['CoG'], np.nan)\n",
        "    if all(group['CoG'].isna()):\n",
        "        group['CoG'] = np.nan\n",
        "    else:\n",
        "        group['CoG'] = group['CoG'].max(skipna=True)\n",
        "\n",
        "    group['f0atCoM'] = np.where(group['syllCoMMap'] == t, group['f0atCoM'], np.nan)\n",
        "    if all(group['f0atCoM'].isna()):\n",
        "        group['f0atCoM'] = np.nan\n",
        "    else:\n",
        "        group['f0atCoM'] = group['f0atCoM'].max(skipna=True)\n",
        "\n",
        "    group['DeltaF0'] = np.where(group['syllCoMMap'] == t, group['DeltaF0'], np.nan)\n",
        "    group['DeltaF0'] = group['DeltaF0'].max(skipna=True)\n",
        "\n",
        "    group['DeltaF0_rel'] = np.where(group['syllCoMMap'] == t, group['DeltaF0_rel'], np.nan)\n",
        "    if all(group['DeltaF0_rel'].isna()):\n",
        "        group['DeltaF0_rel'] = np.nan\n",
        "    else:\n",
        "        group['DeltaF0_rel'] = group['DeltaF0_rel'].max(skipna=True)\n",
        "\n",
        "    group['synchrony'] = np.where(group['syllCoMMap'] == t, group['synchrony'], np.nan)\n",
        "    if all(group['synchrony'].isna()):\n",
        "        group['synchrony'] = np.nan\n",
        "    else:\n",
        "        group['synchrony'] = group['synchrony'].max(skipna=True)\n",
        "\n",
        "    group['sync_rel'] = np.where(group['syllCoMMap'] == t, group['sync_rel'], np.nan)\n",
        "    if all(group['sync_rel'].isna()):\n",
        "        group['sync_rel'] = np.nan\n",
        "    else:\n",
        "        group['sync_rel'] = group['sync_rel'].max(skipna=True)\n",
        "\n",
        "    group['mass_rel'] = np.where(group['syllCoMMap'] == t, group['mass_rel'], np.nan)\n",
        "    if all(group['mass_rel'].isna()):\n",
        "        group['mass_rel'] = np.nan\n",
        "    else:\n",
        "        group['mass_rel'] = group['mass_rel'].max(skipna=True)\n",
        "\n",
        "    return group\n",
        "\n",
        "# Apply the function to the DataFrame\n",
        "updated_scores_df = scores_df.groupby(['file', 'syll_mid'], group_keys=False).apply(update_proper_parameters)\n",
        "\n",
        "# Reset index\n",
        "updated_scores_df.reset_index(drop=True, inplace=True)\n"
      ]
    },
    {
      "cell_type": "markdown",
      "metadata": {
        "id": "NHp7kjsPiG4u"
      },
      "source": [
        "#All scores"
      ]
    },
    {
      "cell_type": "code",
      "execution_count": null,
      "metadata": {
        "id": "mF5X0wsEgsOn"
      },
      "outputs": [],
      "source": [
        "import pandas as pd\n",
        "import numpy as np\n",
        "\n",
        "# Assuming you have a DataFrame named comp_df\n",
        "# Create a DataFrame similar to scores_df with the required calculations\n",
        "scores_df = comp_df.copy()\n",
        "\n",
        "# Group by 'file' and 'syll_mid'\n",
        "grouped = scores_df.groupby(['file', 'syll_mid'], group_keys=False)\n",
        "\n",
        "# Calculate syllCoMMap\n",
        "def calculate_syllCoMMap(group):\n",
        "    if group['CoMatCoM'].isna().all() or pd.isna(group['syll_mid'].iloc[0]):\n",
        "        group['syllCoMMap'] = np.nan\n",
        "    elif sum(~group['CoMatCoM'].isna()) == 1:\n",
        "        group['syllCoMMap'] = group['CoMatCoM'].mean()\n",
        "    else:\n",
        "        group['syllCoMMap'] = 0\n",
        "\n",
        "    return group\n",
        "\n",
        "scores_df = grouped.apply(calculate_syllCoMMap)\n",
        "\n",
        "# Calculate syllCoMMap2 and update syllCoMMap accordingly\n",
        "def calculate_syllCoMMap2(group):\n",
        "    group['syllCoMMap2'] = np.where((group['syllCoMMap'] == 0) & (group['CoMatCoM'] == True), group['mass_rel'], np.nan)\n",
        "    group['syllCoMMap2'] = group['syllCoMMap2'].max(skipna=True)\n",
        "    group['syllCoMMap'] = np.where((group['syllCoMMap'] == 0) & (group['CoMatCoM'] == True), group['syllCoMMap2'], group['syllCoMMap'])\n",
        "    group['syllCoMMap'] = np.where(group['syllCoMMap'] == 0, np.nan, group['syllCoMMap'])\n",
        "    return group\n",
        "\n",
        "scores_df = scores_df.groupby(['file', 'syll_mid'], group_keys=False).apply(calculate_syllCoMMap2)\n",
        "\n",
        "# Calculate syllCoMflicts\n",
        "def calculate_syllCoMflicts(group):\n",
        "    group['syllCoMflicts'] = np.where((sum(~group['CoMatCoM'].isna()) > 1) & (group['syllCoMMap'] != group['mass_rel']), np.nan, group['CoM'])\n",
        "    return group\n",
        "\n",
        "scores_df = scores_df.groupby(['file', 'syll_mid'], group_keys=False).apply(calculate_syllCoMflicts)\n",
        "\n",
        "# Stretch the relevant CoM values within syllabic intervals\n",
        "def stretch_syllCoMMap(group):\n",
        "    if sum(~group['CoMatCoM'].isna()) > 1:\n",
        "        group['syllCoMMap'] = group['syllCoMflicts'].mean(skipna=True)\n",
        "    return group\n",
        "\n",
        "scores_df = scores_df.groupby(['file', 'syll_mid'], group_keys=False).apply(stretch_syllCoMMap)\n",
        "\n",
        "# Update the DataFrame with the relevant ProPer parameters\n",
        "def update_proper_parameters(group):\n",
        "    t = True  # Assuming t is equivalent to True\n",
        "\n",
        "    group['intervalDuration'] = np.where(group['syllCoMMap'] == t, group['intervalDuration'], np.nan)\n",
        "    if all(group['intervalDuration'].isna()):\n",
        "        group['intervalDuration'] = np.nan\n",
        "    else:\n",
        "        group['intervalDuration'] = group['intervalDuration'].max(skipna=True)\n",
        "\n",
        "    group['CoM'] = np.where(group['syllCoMMap'] == t, group['CoM'], np.nan)\n",
        "    if all(group['CoM'].isna()):\n",
        "        group['CoM'] = np.nan\n",
        "    else:\n",
        "        group['CoM'] = group['CoM'].max(skipna=True)\n",
        "\n",
        "    group['CoG'] = np.where(group['syllCoMMap'] == t, group['CoG'], np.nan)\n",
        "    if all(group['CoG'].isna()):\n",
        "        group['CoG'] = np.nan\n",
        "    else:\n",
        "        group['CoG'] = group['CoG'].max(skipna=True)\n",
        "\n",
        "    group['f0atCoM'] = np.where(group['syllCoMMap'] == t, group['f0atCoM'], np.nan)\n",
        "    if all(group['f0atCoM'].isna()):\n",
        "        group['f0atCoM'] = np.nan\n",
        "    else:\n",
        "        group['f0atCoM'] = group['f0atCoM'].max(skipna=True)\n",
        "\n",
        "    group['DeltaF0'] = np.where(group['syllCoMMap'] == t, group['DeltaF0'], np.nan)\n",
        "    group['DeltaF0'] = group['DeltaF0'].max(skipna=True)\n",
        "\n",
        "    group['DeltaF0_rel'] = np.where(group['syllCoMMap'] == t, group['DeltaF0_rel'], np.nan)\n",
        "    if all(group['DeltaF0_rel'].isna()):\n",
        "        group['DeltaF0_rel'] = np.nan\n",
        "    else:\n",
        "        group['DeltaF0_rel'] = group['DeltaF0_rel'].max(skipna=True)\n",
        "\n",
        "    group['synchrony'] = np.where(group['syllCoMMap'] == t, group['synchrony'], np.nan)\n",
        "    if all(group['synchrony'].isna()):\n",
        "        group['synchrony'] = np.nan\n",
        "    else:\n",
        "        group['synchrony'] = group['synchrony'].max(skipna=True)\n",
        "\n",
        "    group['sync_rel'] = np.where(group['syllCoMMap'] == t, group['sync_rel'], np.nan)\n",
        "    if all(group['sync_rel'].isna()):\n",
        "        group['sync_rel'] = np.nan\n",
        "    else:\n",
        "        group['sync_rel'] = group['sync_rel'].max(skipna=True)\n",
        "\n",
        "    group['mass_rel'] = np.where(group['syllCoMMap'] == t, group['mass_rel'], np.nan)\n",
        "    if all(group['mass_rel'].isna()):\n",
        "        group['mass_rel'] = np.nan\n",
        "    else:\n",
        "        group['mass_rel'] = group['mass_rel'].max(skipna=True)\n",
        "\n",
        "    return group\n",
        "\n",
        "# Apply the function to the DataFrame\n",
        "updated_scores_df = scores_df.groupby(['file', 'syll_mid'], group_keys=False).apply(update_proper_parameters)\n",
        "\n",
        "# Reset index\n",
        "updated_scores_df.reset_index(drop=True, inplace=True)\n"
      ]
    },
    {
      "cell_type": "code",
      "execution_count": null,
      "metadata": {
        "id": "iUYkybprciDX"
      },
      "outputs": [],
      "source": [
        "#save all the DataFrames)\n",
        "\n",
        "# Save the updated DataFrame to a CSV file\n",
        "output_csv_filename = \"updated_scores.csv\"  # Specify the desired file name\n",
        "updated_scores_df.to_csv(output_csv_filename, index=False)\n",
        "\n",
        "print(f\"Updated DataFrame saved as {output_csv_filename}\")\n"
      ]
    },
    {
      "cell_type": "code",
      "execution_count": null,
      "metadata": {
        "id": "43CQaQiQe7xK"
      },
      "outputs": [],
      "source": [
        "import pandas as pd\n",
        "\n",
        "# Reduce rows\n",
        "scores_df = scores_df[scores_df['syllCoMMap'] == True]\n",
        "\n",
        "# Reduce columns\n",
        "columns_to_keep = [\n",
        "    'file', 'intervalDuration', 'CoM', 'CoG', 'f0atCoM', 'DeltaF0', 'DeltaF0_rel',\n",
        "    'synchrony', 'sync_rel', 'mass_rel', 'syllCoMMap', 'syllCoMMap2', 'syllCoMflicts'\n",
        "]\n",
        "\n",
        "mini_scores_df = scores_df[columns_to_keep].copy()\n",
        "\n",
        "# Uncomment this section if you also want to remove additional columns\n",
        "# columns_to_remove = [\n",
        "#     'f0_speaker_min', 'f0_speaker_max', 'f0_speaker_median', 'f0_speaker_mean',\n",
        "#     'f0_speaker_range', 'f0_token_min', 'f0_token_max', 'f0_token_median',\n",
        "#     'f0_token_mean', 'f0_token_range', 'CoM', 'CoG', 'intervalDuration_rel',\n",
        "#     'DeltaF0Label', 'syncLabel', 'localSpeechRate'\n",
        "# ]\n",
        "# nano_scores_df = mini_scores_df.drop(columns=columns_to_remove)\n",
        "\n",
        "# Save the reduced DataFrame to a CSV file\n",
        "output_reduced_csv_filename = \"reduced_scores.csv\"  # Specify the desired file name\n",
        "mini_scores_df.to_csv(output_reduced_csv_filename, index=False)\n",
        "\n",
        "print(f\"Reduced DataFrame saved as {output_reduced_csv_filename}\")\n"
      ]
    },
    {
      "cell_type": "code",
      "execution_count": null,
      "metadata": {
        "id": "yFNOdGhQch_O"
      },
      "outputs": [],
      "source": [
        "# Specify the list of calculated columns\n",
        "calculated_columns = ['intervalDuration', 'CoM', 'CoG', 'f0atCoM', 'DeltaF0',\n",
        "                      'DeltaF0_rel', 'synchrony', 'sync_rel', 'mass_rel',\n",
        "                      'syllCoMMap', 'syllCoMMap2', 'syllCoMflicts', ]\n",
        "\n",
        "# Create a new DataFrame with only the calculated columns\n",
        "calculated_df = updated_scores_df[['file', 'syll_mid'] + calculated_columns]\n",
        "\n",
        "# Save the new DataFrame to a CSV file\n",
        "output_calculated_csv_filename = \"calculated_results.csv\"  # Specify the desired file name\n",
        "calculated_df.to_csv(output_calculated_csv_filename, index=False)\n",
        "\n",
        "print(f\"Calculated results saved as {output_calculated_csv_filename}\")\n"
      ]
    }
  ],
  "metadata": {
    "colab": {
      "machine_shape": "hm",
      "provenance": [],
      "mount_file_id": "1OranFcjJh_TqUaEfvaswo81ULODpZaTJ",
      "authorship_tag": "ABX9TyOYnYBI09tK9eZLiia6olXQ",
      "include_colab_link": true
    },
    "kernelspec": {
      "display_name": "Python 3",
      "name": "python3"
    },
    "language_info": {
      "name": "python"
    },
    "widgets": {
      "application/vnd.jupyter.widget-state+json": {
        "6e79d1ff798e40268bbf476e14a0933c": {
          "model_module": "@jupyter-widgets/controls",
          "model_name": "DropdownModel",
          "model_module_version": "1.5.0",
          "state": {
            "_dom_classes": [],
            "_model_module": "@jupyter-widgets/controls",
            "_model_module_version": "1.5.0",
            "_model_name": "DropdownModel",
            "_options_labels": [
              "glenn_1.wav",
              "AH_1.wav",
              "DM_1.wav",
              "Khm_1.wav",
              "misc_58.wav",
              "joe_7.wav"
            ],
            "_view_count": null,
            "_view_module": "@jupyter-widgets/controls",
            "_view_module_version": "1.5.0",
            "_view_name": "DropdownView",
            "description": "Select Audio File:",
            "description_tooltip": null,
            "disabled": false,
            "index": 0,
            "layout": "IPY_MODEL_732b70d420e34c0e804d8260bc0df0b2",
            "style": "IPY_MODEL_8efd7fa5b4cd4bb6a1d5979c81050f9a"
          }
        },
        "732b70d420e34c0e804d8260bc0df0b2": {
          "model_module": "@jupyter-widgets/base",
          "model_name": "LayoutModel",
          "model_module_version": "1.2.0",
          "state": {
            "_model_module": "@jupyter-widgets/base",
            "_model_module_version": "1.2.0",
            "_model_name": "LayoutModel",
            "_view_count": null,
            "_view_module": "@jupyter-widgets/base",
            "_view_module_version": "1.2.0",
            "_view_name": "LayoutView",
            "align_content": null,
            "align_items": null,
            "align_self": null,
            "border": null,
            "bottom": null,
            "display": null,
            "flex": null,
            "flex_flow": null,
            "grid_area": null,
            "grid_auto_columns": null,
            "grid_auto_flow": null,
            "grid_auto_rows": null,
            "grid_column": null,
            "grid_gap": null,
            "grid_row": null,
            "grid_template_areas": null,
            "grid_template_columns": null,
            "grid_template_rows": null,
            "height": null,
            "justify_content": null,
            "justify_items": null,
            "left": null,
            "margin": null,
            "max_height": null,
            "max_width": null,
            "min_height": null,
            "min_width": null,
            "object_fit": null,
            "object_position": null,
            "order": null,
            "overflow": null,
            "overflow_x": null,
            "overflow_y": null,
            "padding": null,
            "right": null,
            "top": null,
            "visibility": null,
            "width": null
          }
        },
        "8efd7fa5b4cd4bb6a1d5979c81050f9a": {
          "model_module": "@jupyter-widgets/controls",
          "model_name": "DescriptionStyleModel",
          "model_module_version": "1.5.0",
          "state": {
            "_model_module": "@jupyter-widgets/controls",
            "_model_module_version": "1.5.0",
            "_model_name": "DescriptionStyleModel",
            "_view_count": null,
            "_view_module": "@jupyter-widgets/base",
            "_view_module_version": "1.2.0",
            "_view_name": "StyleView",
            "description_width": ""
          }
        },
        "ddfc4f042ea4499582d89b2d381104e3": {
          "model_module": "@jupyter-widgets/controls",
          "model_name": "FloatSliderModel",
          "model_module_version": "1.5.0",
          "state": {
            "_dom_classes": [],
            "_model_module": "@jupyter-widgets/controls",
            "_model_module_version": "1.5.0",
            "_model_name": "FloatSliderModel",
            "_view_count": null,
            "_view_module": "@jupyter-widgets/controls",
            "_view_module_version": "1.5.0",
            "_view_name": "FloatSliderView",
            "continuous_update": true,
            "description": "Pitch Floor:",
            "description_tooltip": null,
            "disabled": false,
            "layout": "IPY_MODEL_da6e5ca12f9b47578c634eee9312ba59",
            "max": 100,
            "min": 1,
            "orientation": "horizontal",
            "readout": true,
            "readout_format": ".2f",
            "step": 1,
            "style": "IPY_MODEL_8f233a87cb9840dd856936b7441dc46c",
            "value": 31
          }
        },
        "da6e5ca12f9b47578c634eee9312ba59": {
          "model_module": "@jupyter-widgets/base",
          "model_name": "LayoutModel",
          "model_module_version": "1.2.0",
          "state": {
            "_model_module": "@jupyter-widgets/base",
            "_model_module_version": "1.2.0",
            "_model_name": "LayoutModel",
            "_view_count": null,
            "_view_module": "@jupyter-widgets/base",
            "_view_module_version": "1.2.0",
            "_view_name": "LayoutView",
            "align_content": null,
            "align_items": null,
            "align_self": null,
            "border": null,
            "bottom": null,
            "display": null,
            "flex": null,
            "flex_flow": null,
            "grid_area": null,
            "grid_auto_columns": null,
            "grid_auto_flow": null,
            "grid_auto_rows": null,
            "grid_column": null,
            "grid_gap": null,
            "grid_row": null,
            "grid_template_areas": null,
            "grid_template_columns": null,
            "grid_template_rows": null,
            "height": null,
            "justify_content": null,
            "justify_items": null,
            "left": null,
            "margin": null,
            "max_height": null,
            "max_width": null,
            "min_height": null,
            "min_width": null,
            "object_fit": null,
            "object_position": null,
            "order": null,
            "overflow": null,
            "overflow_x": null,
            "overflow_y": null,
            "padding": null,
            "right": null,
            "top": null,
            "visibility": null,
            "width": null
          }
        },
        "8f233a87cb9840dd856936b7441dc46c": {
          "model_module": "@jupyter-widgets/controls",
          "model_name": "SliderStyleModel",
          "model_module_version": "1.5.0",
          "state": {
            "_model_module": "@jupyter-widgets/controls",
            "_model_module_version": "1.5.0",
            "_model_name": "SliderStyleModel",
            "_view_count": null,
            "_view_module": "@jupyter-widgets/base",
            "_view_module_version": "1.2.0",
            "_view_name": "StyleView",
            "description_width": "",
            "handle_color": null
          }
        },
        "1a5750d8bea24bfea8218f2bb5fa6a8c": {
          "model_module": "@jupyter-widgets/controls",
          "model_name": "FloatSliderModel",
          "model_module_version": "1.5.0",
          "state": {
            "_dom_classes": [],
            "_model_module": "@jupyter-widgets/controls",
            "_model_module_version": "1.5.0",
            "_model_name": "FloatSliderModel",
            "_view_count": null,
            "_view_module": "@jupyter-widgets/controls",
            "_view_module_version": "1.5.0",
            "_view_name": "FloatSliderView",
            "continuous_update": true,
            "description": "Smooth:",
            "description_tooltip": null,
            "disabled": false,
            "layout": "IPY_MODEL_4bc5e8a38db8478584331e038584f0ff",
            "max": 100,
            "min": 1,
            "orientation": "horizontal",
            "readout": true,
            "readout_format": ".2f",
            "step": 1,
            "style": "IPY_MODEL_a396d30583ba4d4bb59eb9ba53c021a9",
            "value": 12
          }
        },
        "4bc5e8a38db8478584331e038584f0ff": {
          "model_module": "@jupyter-widgets/base",
          "model_name": "LayoutModel",
          "model_module_version": "1.2.0",
          "state": {
            "_model_module": "@jupyter-widgets/base",
            "_model_module_version": "1.2.0",
            "_model_name": "LayoutModel",
            "_view_count": null,
            "_view_module": "@jupyter-widgets/base",
            "_view_module_version": "1.2.0",
            "_view_name": "LayoutView",
            "align_content": null,
            "align_items": null,
            "align_self": null,
            "border": null,
            "bottom": null,
            "display": null,
            "flex": null,
            "flex_flow": null,
            "grid_area": null,
            "grid_auto_columns": null,
            "grid_auto_flow": null,
            "grid_auto_rows": null,
            "grid_column": null,
            "grid_gap": null,
            "grid_row": null,
            "grid_template_areas": null,
            "grid_template_columns": null,
            "grid_template_rows": null,
            "height": null,
            "justify_content": null,
            "justify_items": null,
            "left": null,
            "margin": null,
            "max_height": null,
            "max_width": null,
            "min_height": null,
            "min_width": null,
            "object_fit": null,
            "object_position": null,
            "order": null,
            "overflow": null,
            "overflow_x": null,
            "overflow_y": null,
            "padding": null,
            "right": null,
            "top": null,
            "visibility": null,
            "width": null
          }
        },
        "a396d30583ba4d4bb59eb9ba53c021a9": {
          "model_module": "@jupyter-widgets/controls",
          "model_name": "SliderStyleModel",
          "model_module_version": "1.5.0",
          "state": {
            "_model_module": "@jupyter-widgets/controls",
            "_model_module_version": "1.5.0",
            "_model_name": "SliderStyleModel",
            "_view_count": null,
            "_view_module": "@jupyter-widgets/base",
            "_view_module_version": "1.2.0",
            "_view_name": "StyleView",
            "description_width": "",
            "handle_color": null
          }
        },
        "6d7ebf1213d84e8a8ed351763c1c15ea": {
          "model_module": "@jupyter-widgets/controls",
          "model_name": "ButtonModel",
          "model_module_version": "1.5.0",
          "state": {
            "_dom_classes": [],
            "_model_module": "@jupyter-widgets/controls",
            "_model_module_version": "1.5.0",
            "_model_name": "ButtonModel",
            "_view_count": null,
            "_view_module": "@jupyter-widgets/controls",
            "_view_module_version": "1.5.0",
            "_view_name": "ButtonView",
            "button_style": "",
            "description": "Process and Plot",
            "disabled": false,
            "icon": "",
            "layout": "IPY_MODEL_89d3041a6cfc4eda8e113b1258a9a017",
            "style": "IPY_MODEL_00ba91e6ed9846efbe9f27c59a82db74",
            "tooltip": ""
          }
        },
        "89d3041a6cfc4eda8e113b1258a9a017": {
          "model_module": "@jupyter-widgets/base",
          "model_name": "LayoutModel",
          "model_module_version": "1.2.0",
          "state": {
            "_model_module": "@jupyter-widgets/base",
            "_model_module_version": "1.2.0",
            "_model_name": "LayoutModel",
            "_view_count": null,
            "_view_module": "@jupyter-widgets/base",
            "_view_module_version": "1.2.0",
            "_view_name": "LayoutView",
            "align_content": null,
            "align_items": null,
            "align_self": null,
            "border": null,
            "bottom": null,
            "display": null,
            "flex": null,
            "flex_flow": null,
            "grid_area": null,
            "grid_auto_columns": null,
            "grid_auto_flow": null,
            "grid_auto_rows": null,
            "grid_column": null,
            "grid_gap": null,
            "grid_row": null,
            "grid_template_areas": null,
            "grid_template_columns": null,
            "grid_template_rows": null,
            "height": null,
            "justify_content": null,
            "justify_items": null,
            "left": null,
            "margin": null,
            "max_height": null,
            "max_width": null,
            "min_height": null,
            "min_width": null,
            "object_fit": null,
            "object_position": null,
            "order": null,
            "overflow": null,
            "overflow_x": null,
            "overflow_y": null,
            "padding": null,
            "right": null,
            "top": null,
            "visibility": null,
            "width": null
          }
        },
        "00ba91e6ed9846efbe9f27c59a82db74": {
          "model_module": "@jupyter-widgets/controls",
          "model_name": "ButtonStyleModel",
          "model_module_version": "1.5.0",
          "state": {
            "_model_module": "@jupyter-widgets/controls",
            "_model_module_version": "1.5.0",
            "_model_name": "ButtonStyleModel",
            "_view_count": null,
            "_view_module": "@jupyter-widgets/base",
            "_view_module_version": "1.2.0",
            "_view_name": "StyleView",
            "button_color": null,
            "font_weight": ""
          }
        },
        "7fbcccfc289a4c3ca3e5e8dd545abada": {
          "model_module": "@jupyter-widgets/output",
          "model_name": "OutputModel",
          "model_module_version": "1.0.0",
          "state": {
            "_dom_classes": [],
            "_model_module": "@jupyter-widgets/output",
            "_model_module_version": "1.0.0",
            "_model_name": "OutputModel",
            "_view_count": null,
            "_view_module": "@jupyter-widgets/output",
            "_view_module_version": "1.0.0",
            "_view_name": "OutputView",
            "layout": "IPY_MODEL_644c8a528a3144fbb5be7c1c8971262c",
            "msg_id": "",
            "outputs": [
              {
                "output_type": "stream",
                "name": "stdout",
                "text": [
                  "Processing complete for sound file: /content/Proper_project/praat_data/audio/glenn_1.wav\n"
                ]
              },
              {
                "output_type": "display_data",
                "data": {
                  "text/plain": "<Figure size 1200x800 with 1 Axes>",
                  "image/png": "iVBORw0KGgoAAAANSUhEUgAAA+0AAAK9CAYAAABRvo1QAAAAOXRFWHRTb2Z0d2FyZQBNYXRwbG90bGliIHZlcnNpb24zLjcuMSwgaHR0cHM6Ly9tYXRwbG90bGliLm9yZy/bCgiHAAAACXBIWXMAAA9hAAAPYQGoP6dpAACKeElEQVR4nOzde5yMdf/H8ffMnnexdp12FRYpRAixiJxyqohukkK3u1pRQrHSASWH0ul22OrnRkVR6XB3S05Ftcoh5FjIMeu4LJY9zvz+mGbszJ6Z3bl29vV8PPYx7XVdc81ndr/kPd/v9blMVqvVKgAAAAAAYDhmTxcAAAAAAAByRmgHAAAAAMCgCO0AAAAAABgUoR0AAAAAAIMitAMAAAAAYFCEdgAAAAAADIrQDgAAAACAQRHaAQAAAAAwKEI7AAAAAAAGRWgHAABu9eqrr6pWrVry8fFR48aNPV2OJOngwYMymUyaP3++p0sBAKBQCO0AAK8xf/58mUymHL9iY2Odjo2Pj1ebNm0UHBysiIgIPfnkk7p48WKBX+v8+fOaOHGiGjVqpDJlyigoKEgNGjTQ2LFjdezYMXe/NYdLly5pwoQJ+v7774vsNa7FihUrNGbMGLVu3Vrz5s3TK6+84umSSqwVK1ZoyJAhatCggXx8fBQVFeXpkgAAHuDr6QIAAHC3SZMmqWbNmk7bGjRo4PjvrVu3qmPHjqpXr55ef/11HT16VK+99pr27t2rb775Jt/z//nnn+rUqZMOHz6sf/zjH3r00Ufl7++v3377TXPnztXnn3+uP/74w+3vS7KF9okTJ0qS7rjjjiJ5jWuxZs0amc1mzZ07V/7+/p4up0RbtGiRFi9erFtvvVVVq1b1dDkAAA8htAMAvE63bt3UrFmzXPc/++yzCgsL0/fff69y5cpJkqKiovTII49oxYoVuvPOO3N9bkZGhnr37q0TJ07o+++/V5s2bZz2T548WdOmTXPPGzEgi8WitLQ0BQYG5rj/5MmTCgoKcltgt1qtSklJUVBQkFvOV5K88soreu+99+Tn56e77rpLO3bs8HRJAAAPYHk8AKBUOX/+vFauXKkHH3zQEdglaeDAgSpTpoyWLFmS5/M/++wzbdu2TePHj88W2CWpXLlymjx5stO2Tz75RE2bNlVQUJAqVqyoBx98UH/99ZfTMYMHD1aZMmX0119/qVevXipTpowqVaqkp59+WpmZmZJs12VXqlRJkjRx4kTH0v8JEyY4zrNmzRrdfvvtCgkJUfny5dWzZ0/t3r0722vltNR6woQJMplMTttMJpOGDx+uhQsX6uabb1ZAQICWL1+e48/GZDJp3rx5Sk5OdtRmv4Y8IyNDL730kmrXrq2AgABFRUXp2WefVWpqqtM5oqKidNddd+nbb79Vs2bNFBQUpHfeeSfH17ObNWuWatWqpaCgIN1222364YcfdMcddxRoJcKePXt03333KTw8XIGBgWrWrJm++uorp2Psl1389NNPGjVqlCpVqqSQkBDde++9OnXqVI71//jjj7rtttsUGBioWrVq6f3338+3FldVq1aVn59foZ8HAPAuhHYAgNdJSkrS6dOnnb7stm/froyMjGwz8f7+/mrcuLG2bNmS57ntge6hhx4qUC3z589X37595ePjoylTpuiRRx7R0qVL1aZNG507d87p2MzMTHXp0kUVKlTQa6+9pnbt2mnGjBl69913JUmVKlXSnDlzJEn33nuvPvjgA33wwQfq3bu3JGnVqlXq0qWLTp48qQkTJmjUqFGKj49X69atdfDgwQLVm5M1a9Zo5MiR6tevn956661cr63+4IMPdPvttysgIMBRW9u2bSVJ//rXv/TCCy/o1ltv1RtvvKF27dppypQpuv/++7Od5/fff1f//v3VuXNnvfXWW3k2s5szZ46GDx+u66+/XtOnT9ftt9+uXr166ejRo/m+r507d6ply5bavXu3YmNjNWPGDIWEhKhXr176/PPPsx3/xBNPaNu2bXrxxRc1dOhQ/fe//9Xw4cOzHbdv3z7dd9996ty5s2bMmKGwsDANHjxYO3fuzLcmAACysQIA4CXmzZtnlZTjl90nn3xilWRdt25dtuf/4x//sEZEROT5Gk2aNLGGhoYWqJ60tDRr5cqVrQ0aNLBevnzZsf3rr7+2SrK+8MILjm2DBg2ySrJOmjQp2+s1bdrU8f2pU6eskqwvvvhittdr3LixtXLlytYzZ844tm3bts1qNputAwcOdHqtGjVqZHv+iy++aHX9p4Ekq9lstu7cubNA73nQoEHWkJAQp21bt261SrL+61//ctr+9NNPWyVZ16xZ49hWo0YNqyTr8uXL832t1NRUa4UKFazNmze3pqenO7bPnz/fKsnarl07x7YDBw5YJVnnzZvn2NaxY0drw4YNrSkpKY5tFovF2qpVK2udOnUc2+zjqlOnTlaLxeLYPnLkSKuPj4/13Llz2erPOr5OnjxpDQgIsI4ePTrf95SbHj165Pg7AwB4P2baAQBeZ9asWVq5cqXTl93ly5clSQEBAdmeFxgY6Nifm/Pnz6ts2bIFqmPTpk06efKkHn/8cadrwHv06KG6devqf//7X7bnxMTEOH1/++23688//8z3tRISErR161YNHjxY4eHhju233HKLOnfurGXLlhWo5py0a9dO9evXv+rn21971KhRTttHjx4tSdl+DjVr1lSXLl3yPe+mTZt05swZPfLII/L1vdKmZ8CAAQoLC8vzuYmJiVqzZo369u2rCxcuOFZknDlzRl26dNHevXuzXcLw6KOPOl0+cPvttyszM1OHDh1yOq5+/fq6/fbbHd9XqlRJN910U4F+jwAAuKIRHQDA69x22225NqKzNzRzvZZaUoEanpUrV67A4cse5m666aZs++rWrasff/zRaVtgYKDjmnW7sLAwnT179ppeq169evr222+VnJyskJCQAtWelWsn/sI6dOiQzGazbrjhBqftERERKl++fLbQW9DXsz/P9by+vr753h5t3759slqtev755/X888/neMzJkyd13XXXOb6vXr260377BwOuvx/X4+zHFuT3CACAK0I7AKBUiYyMlGSbmXaVkJCQ76216tatqy1btujIkSOqVq2aW2vz8fFx6/ly49pszs7e8M6Vuzq35/a6RfV6ebFYLJKkp59+OtdZfdcPA3L7/Vit1qs6DgCAgmB5PACgVGnQoIF8fX21adMmp+1paWnaunVrnk3PJOnuu++WJH344Yf5vlaNGjUk2Rqrufr9998d+wsjt+Cb12vt2bNHFStWdMyyh4WFZWuCJynbjLe71KhRQxaLRXv37nXafuLECZ07d+6qfg7280q2WfOsMjIy8m28V6tWLUmSn5+fOnXqlONXQS+DAACgKBHaAQClSmhoqDp16qQPP/xQFy5ccGz/4IMPdPHiRf3jH//I8/n33XefGjZsqMmTJ2v9+vXZ9l+4cEHjx4+XJDVr1kyVK1dWXFyc03L8b775Rrt371aPHj0KXX9wcLAkZQvdkZGRaty4sRYsWOC0b8eOHVqxYoW6d+/u2Fa7dm0lJSXpt99+c2xLSEjIsWO6O9hf+80333Ta/vrrr0vSVf0cJNvPt0KFCnrvvfeUkZHh2L5w4cJ8l6JXrlxZd9xxh955550cV1243soNAABPYXk8AKDUmTx5slq1aqV27drp0Ucf1dGjRzVjxgzdeeed6tq1a57P9fPz09KlS9WpUye1bdtWffv2VevWreXn56edO3dq0aJFCgsL0+TJk+Xn56dp06bp4YcfVrt27dS/f3+dOHHCcdu0kSNHFrr2oKAg1a9fX4sXL9aNN96o8PBwNWjQQA0aNNCrr76qbt26KTo6WkOGDNHly5f173//W6GhoU73cr///vs1duxY3XvvvXryySd16dIlzZkzRzfeeKN+/fXXQteUn0aNGmnQoEF69913de7cObVr104bNmzQggUL1KtXL7Vv3/6qzuvv768JEyboiSeeUIcOHdS3b18dPHhQ8+fPV+3atfNdjj9r1iy1adNGDRs21COPPKJatWrpxIkTWr9+vY4ePapt27ZdVV3u8ttvvzluMbhv3z4lJSXp5ZdflmT7mdpXfQAAvBuhHQBQ6tx6661atWqVxo4dq5EjR6ps2bIaMmSIpkyZUqDn33DDDdq6daveeOMNff755/riiy9ksVh0ww036F//+peefPJJx7GDBw9WcHCwpk6dqrFjxyokJET33nuvpk2bpvLly19V/f/3f/+nJ554QiNHjlRaWppefPFFNWjQQJ06ddLy5cv14osv6oUXXpCfn5/atWunadOmOTV3q1Chgj7//HONGjVKY8aMUc2aNTVlyhTt3bu3SEK7veZatWpp/vz5+vzzzxUREaFx48bpxRdfvKbzDh8+XFarVTNmzNDTTz+tRo0a6auvvtKTTz7p1LE/J/Xr19emTZs0ceJEzZ8/X2fOnFHlypXVpEkTvfDCC9dUlzv8+uuv2Zrk2b8fNGgQoR0ASgmTla4oAADAi1gsFlWqVEm9e/fWe++95+lyAAC4JlzTDgAASqyUlJRsXdnff/99JSYm6o477vBMUQAAuBEz7QAAoMT6/vvvNXLkSP3jH/9QhQoV9Ouvv2ru3LmqV6+eNm/eLH9/f0+XmM3x48fz3B8UFKTQ0NBiqgYAYHSEdgAAUGIdPHhQTz75pDZs2KDExESFh4ere/fumjp1qipXruzp8nKUX4O8QYMGaf78+cVTDADA8Dwe2v/66y+NHTtW33zzjS5duqQbbrhB8+bNU7NmzSRJVqtVL774ot577z2dO3dOrVu31pw5c1SnTh3HORITE/XEE0/ov//9r8xms/r06aO33npLZcqU8dTbAgAAyNGqVavy3F+1alXVr1+/mKoBABidR0P72bNn1aRJE7Vv315Dhw5VpUqVtHfvXtWuXVu1a9eWJE2bNk1TpkzRggULVLNmTT3//PPavn27du3a5egK261bNyUkJOidd95Renq6Hn74YTVv3lyLFi3y1FsDAAAAAOCaeTS0x8bG6qefftIPP/yQ436r1aqqVatq9OjRevrppyVJSUlJqlKliubPn6/7779fu3fvVv369bVx40bH7Pzy5cvVvXt3HT16VFWrVi229wMAAAAAgDt5tHv8V199pWbNmukf//iH476oWW/NcuDAAR0/flydOnVybAsNDVWLFi20fv16SdL69etVvnx5R2CXpE6dOslsNuuXX37J8XVTU1N1/vx5p6/U1NQiepcAAAAAAFwdX0+++J9//qk5c+Zo1KhRevbZZ7Vx40Y9+eST8vf316BBgxzdVatUqeL0vCpVqjj2HT9+PFujGV9fX4WHh+fanXXKlCmaOHGi07Z+/fqpf//+7nprAAAAAADkqWfPnvke49HQbrFY1KxZM73yyiuSpCZNmmjHjh2Ki4vToEGDiux1x40bp1GjRjltM5vNCggIKLLXLEnS09O1cuVKde7cWX5+fp4uBwbAmIArxgSyYjzAFWMCrhgTcMWYKDiPhvbIyMhs3VHr1aunzz77TJIUEREhSTpx4oQiIyMdx5w4cUKNGzd2HHPy5Emnc2RkZCgxMdHxfFcBAQEE9ALw8/PjDxCcMCbgijGBrBgPcMWYgCvGBFwxJvLn0WvaW7durd9//91p2x9//KEaNWpIkmrWrKmIiAitXr3asf/8+fP65ZdfFB0dLUmKjo7WuXPntHnzZscxa9askcViUYsWLYrhXQAAAAAAUDQ8OtM+cuRItWrVSq+88or69u2rDRs26N1339W7774rSTKZTHrqqaf08ssvq06dOo5bvlWtWlW9evWSZJuZ79q1qx555BHFxcUpPT1dw4cP1/3330/neAAAAABAiebR0N68eXN9/vnnGjdunCZNmqSaNWvqzTff1IABAxzHjBkzRsnJyXr00Ud17tw5tWnTRsuXL3fco12SFi5cqOHDh6tjx44ym83q06eP3n77bU+8JQAAAAAA3MajoV2S7rrrLt1111257jeZTJo0aZImTZqU6zHh4eFatGhRUZQHAAAAAEXKarUqIyNDmZmZni6l2KSnp8vX11cpKSle+759fHzk6+srk8l0TefxeGgHAAAAgNIqLS1NCQkJunTpkqdLKVZWq1URERE6cuTINYdaIwsODlZkZKT8/f2v+hyEdgAAAADwAIvFogMHDsjHx0dVq1aVv7+/VwfYrCwWiy5evKgyZcrIbPZof/QiYbValZaWplOnTunAgQOqU6fOVb9PQjsAAAAAeEBaWposFouqVaum4OBgT5dTrCwWi9LS0hQYGOiVoV2SgoKC5Ofnp0OHDjne69Xwzp8OAAAAAJQQ3hpa4Z7fLaMDAAAAAACDIrQDAAAAAGBQhHYAAAAAQLE5ePCgfHx8tH379gI/Z/78+Spfvrzb6zCZTNq6datbz+tuhHYAAAAAQKEdOXJE//znPx2d72vUqKERI0bozJkzeT6vWrVq+uuvv1SvXr0Cv1a/fv30xx9/XGvJJRKhHQAAAABKuISky4rff1oJSZeL5fX+/PNPNWvWTHv37tVHH32kffv2KS4uTqtXr1Z0dLQSExNzfF5aWpp8fHwUEREhX9+C38wsKChIlStXdlf5JQqhHQAAAABKsMUbD6v11DV64L1f1HrqGi3eeLjIX3PYsGHy9/fXihUr1K5dO1WvXl3dunXTqlWr9Ndff2n8+PGSpKioKL300ksaOHCgypUrp0cffTTH5fFfffWV6tSpo8DAQLVv314LFiyQyWTSuXPnJGVfHj9hwgQ1btxYH3zwgaKiohQaGqr7779fFy5ccByzfPlytWnTRuXLl1eFChV01113af/+/UX+s3E3QjsAAAAAlFAJSZc1bul2Way27y1W6dmlO4p0xj0xMVHffvutHn/8cQUFBTnti4iI0IABA7R48WJZrbaiXnvtNTVq1EhbtmzR888/n+18Bw4c0H333adevXpp27ZteuyxxxyhPy/79+/XF198oa+//lpff/211q5dq6lTpzr2Jycna9SoUdq0aZNWr14ts9mse++9VxaL5Rp/AsWr4OsRAAAAAACGcuB0siOw22VarTp4+pIiQ4NyftI12rt3r6xWa67XpNerV09nz57VqVOnJEkdOnTQ6NGjHfsPHjzodPw777yjm266Sa+++qok6aabbtKOHTs0efLkPOuwWCyaP3++ypYtK0l66KGHtHr1asfz+vTp43T8f/7zH1WqVEm7du1SgwYNCv6GPYyZdgAAAAAooWpWDJHZ5LzNx2RSVMXgIn9t+0x6fpo1a5bn/t9//13Nmzd32nbbbbfle96oqChHYJekyMhInTx50vH93r171b9/f9WqVUvlypVTVFSUJOnw4aK/fMCdCO0AAAAAUEJFhgZpSu+G8jHZkruPyaRXejcosll2SbrhhhtkMpm0e/fuHPfv3r1bYWFhqlSpkiQpJCSkSOrw8/Nz+t5kMjktfb/77ruVmJio9957T7/88ot++eUXSbZmeCUJy+MBAAAAoATr17y62t5YSQdPX1JUxeAiDeySVKFCBXXu3FmzZ8/WyJEjna5rP378uBYuXKiBAwfKZDLlcZYrbrrpJi1btsxp28aNG6+pxjNnzuj333/Xe++9p9tvv12S9OOPP17TOT2FmXYAAAAAKOEiQ4MUXbtCkQd2u5kzZyo1NVVdunTRunXrdOTIES1fvlydO3fWddddl+/16Fk99thj2rNnj8aOHas//vhDS5Ys0fz58yWpwMHfVVhYmCpUqKB3331X+/bt05o1azRq1KirOpenEdoBAAAAAIVSp04dbdq0SbVq1VLfvn1Vu3ZtPfroo2rfvr3Wr1+v8PDwAp+rZs2a+vTTT7V06VLdcsstmjNnjqN7fEBAwFXVZzab9fHHH2vz5s1q0KCBRo4c6Wh0V9KwPB4AAAAAUGg1atRwzIjnxrVTvGRrIJeZmanz5887tt1zzz265557HN9PnjxZ119/vQIDAyVJgwcP1uDBgx37J0yYoAkTJjid96mnntJTTz3l+L5Tp07atWuX0zFZm+dFRUUVuJmeJxHaAQAAAAAeNXv2bDVv3lwVKlTQTz/9pFdffVXDhw/3dFmGQGgHAAAAAHjU3r179fLLLysxMVHVq1fX6NGjNW7cOE+XZQiEdgAAAACAR73xxht64403PF2GIdGIDgAAAAAAgyK0AwAAAABgUIR2AAAAAAAMitAOAAAAAIBBEdoBAAAAADAoQjsAAAAAAAZFaAcAAAAAeDWTyaQvvvjC7ee944479NRTT7n9vFkR2gEAAAAAhXLq1CkNHTpU1atXV0BAgCIiItSlSxf99NNPHq1rwoQJaty4sUdrcDdfTxcAAAAAAChZ+vTpo7S0NC1YsEC1atXSiRMntHr1ap05c8bTpXkdZtoBAAAAAAV27tw5/fDDD5o2bZrat2+vGjVq6LbbbtO4ceN0zz33SLItR3/nnXd01113KTg4WPXq1dP69eu1b98+3XHHHSpbtqzuvPNO7d+/3+ncc+bMUe3ateXv76+bbrpJH3zwgdP+w4cPq2fPnipTpozKlSunvn376sSJE5Kk+fPna+LEidq2bZtMJpNMJpPmz5/veO7p06d17733Kjg4WHXq1NFXX33ldO4dO3aoW7duKlOmjKpUqaKHHnpIp0+fduxPTk7WwIEDVaZMGUVGRmrGjBnu/LHmitAOAAAAACVdXJwUFWV7LGJlypRRmTJl9MUXXyg1NTXX41566SUNHDhQW7duVd26dfXAAw/oscce07hx47RhwwZJ0hNPPOE4/vPPP9eIESM0evRo7dixQ4899pgefvhhfffdd5Iki8Winj17KjExUWvXrtXKlSv1559/ql+/fpKkfv36afTo0br55puVkJCghIQExz5Jmjhxovr27avffvtN3bt314ABA5SYmCjJ9kFEhw4d1KRJE23atEnLly/XiRMn1LdvX8fzn3nmGa1du1ZffvmlVqxYoe+//16//vqr+36wuSC0AwAAAEBJN3WqdOiQ7bGI+fr6av78+VqwYIHKly+v1q1b69lnn9Vvv/3mdNzDDz+svn376sYbb9TYsWN18OBBDRgwQF26dFG9evX02GOPae3atY7jX3vtNQ0ePFiPP/64brzxRo0aNUq9e/fWa6+9JklavXq1tm/frkWLFqlp06Zq0aKF3n//fa1du1YbN25UUFCQypQpI19fX0VERCgiIkJBQUGO8w8ePFj9+/fXDTfcoFdeeUUXL150fHgwc+ZMNWnSRK+88orq1q2rJk2a6D//+Y++++47/fHHH7p48aLmzp2r1157TR07dlTDhg21YMECZWRkFPnPm9AOAAAAACVdbKxUo4btsRj06dNHx44d01dffaWuXbvq+++/16233uq0HP2WW25x/HeVKlUkSQ0bNnRsq1y5slJSUnT+/HlJ0u7du9W6dWun12ndurV2797t2F+tWjVVq1bNsb9+/foqX76845i8ZK0nJCRE5cqV08mTJyVJ27Zt03fffedYRVCmTBnVrVtXkrR//37t379faWlpatGiheMc4eHhuummm/J93WtFIzoAAAAAKOliYmxfxSgwMFCdO3dW586d9fzzz+tf//qXXnzxRQ0ePFiS5Ofn5zjWZDLlus1isRRLvVlf2/769te+ePGi7r77bk2bNi3b8yIjI7Vv375iqTEnzLQDAAAAAK5Z/fr1lZycfNXPr1evXrZbxv3000+qX7++Y/+RI0d05MgRx/5du3bp3LlzjmP8/f2VmZlZ6Ne+9dZbtXPnTkVFRemGG25w+goJCVHt2rXl5+enX375xfGcs2fP6o8//riat1oohHYAAAAAQIGdOXNGHTp00IcffqjffvtNBw4c0CeffKLp06erZ8+eV33eZ555RvPnz9ecOXO0d+9evf7661q6dKmefvppSVKnTp3UsGFDDRgwQL/++qs2bNiggQMHql27dmrWrJkkKSoqSgcOHNDWrVt1+vTpPBvlZTVs2DAlJiaqf//+2rhxo/bv369vv/1WDz/8sDIzM1WmTBkNGTJEzzzzjNasWaMdO3Zo8ODBMpuLPlIT2gEAAAAABVamTBm1aNFCb7zxhtq2basGDRro+eef1yOPPKKZM2de9Xl79eqlt956S6+99ppuvvlmvfPOO5o3b57uuOMOSbbl7F9++aXCwsLUtm1bderUSbVq1dLixYsd5+jTp4+6du2q9u3bq1KlSvroo48K9NpVq1bVTz/9pMzMTN15551q2LChnnrqKZUvX94RzF999VXdfvvtuvvuu9WpUye1adNGTZs2ver3W1Amq9VqLfJXQYmSnp6uZcuWqXv37tmu+0DpxJiAK8YEsmI8wBVjAq4YEzlLSUnRgQMHVLNmTQUGBnq6nGJlsVh0/vx5lStXrlhmqz3FHb9j7/3pAAAAAABQwhHaAQAAAAAwKEI7AAAAAAAGRWgHAAAAAMCgCO0AAAAA4EH0Bvde7vjdEtoBAAAAwAPsnfQvXbrk4UpQVOy/22u5a4Kvu4oBAAAAABScj4+Pypcvr5MnT0qSgoODZTKZPFxV8bBYLEpLS1NKSopX3vLNarXq0qVLOnnypMqXLy8fH5+rPhehHQAAAAA8JCIiQpIcwb20sFqtunz5soKCgrz6g4ry5cs7fsdXi9AOAAAAAB5iMpkUGRmpypUrKz093dPlFJv09HStW7dObdu2vaal40bm5+d3TTPsdoR2AAAAAPAwHx8ftwS8ksLHx0cZGRkKDAz02tDuLt538QAAAAAAAF6C0A4AAAAAgEER2gEAAAAAMChCOwAAAAAABkVoBwAAAADAoAjtAAAAAAAYFKEdAAAAAACDIrQDAAAAAGBQhHYAAAAAAAyK0A4AAAAAgEER2gEAAAAAMChCOwAAAAAABkVoBwAAAADAoAjtAAAAAAAYFKEdAAAAAACDIrQDAAAAAGBQhHYAAAAAAAyK0A4AAAAAgEER2gEAAAAAMChCOwAAAAAABkVoBwAAAADAoAjtAAAAAAAYFKEdAAAAAACDIrQDAAAAAGBQhHYAAAAAAAyK0A4AAAAAgEER2gEAAAAAMChCOwAAAAAABkVoBwAAAADAoAjtAAAAAAAYFKEdAAAAAACDIrQDAAAAAGBQhHYAAAAAAAyK0A4AAAAAgEER2gEAAAAAMChCOwAAAAAABkVoBwAAAADAoAjtAAAAAAAYFKEdAAAAAACDIrQDAAAAAGBQhHYAAAAAAAyK0A4AAAAAgEF5NLRPmDBBJpPJ6atu3bqO/SkpKRo2bJgqVKigMmXKqE+fPjpx4oTTOQ4fPqwePXooODhYlStX1jPPPKOMjIzifisAAAAAALidr6cLuPnmm7Vq1SrH976+V0oaOXKk/ve//+mTTz5RaGiohg8frt69e+unn36SJGVmZqpHjx6KiIhQfHy8EhISNHDgQPn5+emVV14p9vcCAAAAAIA7eTy0+/r6KiIiItv2pKQkzZ07V4sWLVKHDh0kSfPmzVO9evX0888/q2XLllqxYoV27dqlVatWqUqVKmrcuLFeeukljR07VhMmTJC/v39xvx0AAAAAANzG46F97969qlq1qgIDAxUdHa0pU6aoevXq2rx5s9LT09WpUyfHsXXr1lX16tW1fv16tWzZUuvXr1fDhg1VpUoVxzFdunTR0KFDtXPnTjVp0iTH10xNTVVqaqrTNrPZrICAgKJ5kyVMenq60yPAmIArxgSyYjzAFWMCrhgTcMWYsPHz88v3GI+G9hYtWmj+/Pm66aablJCQoIkTJ+r222/Xjh07dPz4cfn7+6t8+fJOz6lSpYqOHz8uSTp+/LhTYLfvt+/LzZQpUzRx4kSnbf369VP//v3d8K68x8qVKz1dAgyGMQFXjAlkxXiAK8YEXDEm4Kq0j4mePXvme4xHQ3u3bt0c/33LLbeoRYsWqlGjhpYsWaKgoKAie91x48Zp1KhRTtuYab8iPT1dK1euVOfOnQv0yQ+8H2MCrhgTyIrxAFeMCbhiTMAVY6LgPL48Pqvy5cvrxhtv1L59+9S5c2elpaXp3LlzTrPtJ06ccFwDHxERoQ0bNjidw95dPqfr5O0CAgII6AXg5+fHHyA4YUzAFWMCWTEe4IoxAVeMCbhiTOTPUPdpv3jxovbv36/IyEg1bdpUfn5+Wr16tWP/77//rsOHDys6OlqSFB0dre3bt+vkyZOOY1auXKly5cqpfv36xV4/AAAAAADu5NGZ9qefflp33323atSooWPHjunFF1+Uj4+P+vfvr9DQUA0ZMkSjRo1SeHi4ypUrpyeeeELR0dFq2bKlJOnOO+9U/fr19dBDD2n69Ok6fvy4nnvuOQ0bNoyZdAAAAABAiefR0H706FH1799fZ86cUaVKldSmTRv9/PPPqlSpkiTpjTfekNlsVp8+fZSamqouXbpo9uzZjuf7+Pjo66+/1tChQxUdHa2QkBANGjRIkyZN8tRbAgAAAADAbTwa2j/++OM89wcGBmrWrFmaNWtWrsfUqFFDy5Ytc3dpAAAAAAB4nKGuaQcAAAAAAFcQ2gEAAAAAMChCOwAAAAAABkVoBwAAAADAoAjtAAAAAAAYFKEdAAAAAACDIrQDAAAAAGBQhHYAAAAAAAyK0A4AAAAAgEER2gEAAAAAMChCOwAAAAAABkVoBwAAAADAoAjtAAAAAAAYFKEdAAAAAACDIrQDAAAAAGBQhHYAAAAAAAyK0A4AAAAAgEER2gEAAAAAMChCOwAAAAAABkVoBwAAAADAoAjtAAAAAAAYFKEdAAAAAACDIrQDAAAAAGBQhHYAAAAAAAyK0A4AAAAAgEER2gEAAAAAMChCOwAAAAAABkVoBwAAAADAoAjtAAAAAAAYFKEdAAAAAACDIrQDAAAAAGBQhHYAAAAAAAyK0A4AAAAAgEER2gEAAAAAMChCOwAAAAAABuXr6QIAlB7bjpzVqt0nVLlsoDrVr6LI0CBPlwQAAAAYGqEdQJFKSLqslbuO6/31h7TvZLJj+/Nf7tSd9aroniZV1bRGGAEeAAAAyAGhHUCRee3bPZr53f5c96/YfUIrdp+QJI3rVlePtatdXKUBAAAAJQKhHYDbJSRd1tAPN2vrkaQCP2fKN3t0PiVdz3SpW4SVAQAAACULoR0o5ezL1w+cviR/H5MC/HzUsW5lNaoWdlXne2fdfk1Ztueqnjvr71l5gjsAAABgQ2gHSrHclq+/vXqf6lYpo2n33VKo8D7hyx2av/7QNdU067v9upiSoYk9G1zTeQAAAABvQGgHSqmH52/Qd3tO5bp/z4mL6jkrXnWrlNHLvW7O81xXsxw+LwvWH9Lhs5c0b/BtbjkfAAAAUFIR2oFS6NXle/IM7FntOXFR973zi6oGmnXdLUlqVrOiY19C0mX9e/VeLdpwJN/z1AgP0iNta6ljvSo6eT5Fb6/ep9V7TuZ6/Hd7TmnClzs0gRl3AAAAlGKEdqCUSUi6rFnf597RPTfHUsy6751fVLtisDrVr6Idx87rp31nCvTcQdE1nJa7R4YGae7g5tp25Kx6zorP9Xnz1x9SSKAv17gDAACg1DJ7ugAAxWvqN1fXJM5u/+lLemfdgQIH9nHd6uZ6fXqjamGa1qdhns+f9d1+vfrttdUMAAAAlFSEdqAUeWftfn259ViO+6qUDVC7GyvmuO9qNK4WqvXjOuR77/V+zatr/bgOalytfK7HENwBAABQWhHagVIiIelynrPsXwxvrQX/bKH14zqoV+Oq1/Rag6Jr6IthbRQZGlSg4yNDg/TFsNbqUr9KrscQ3AEAAFAaEdqBUuLA6WRZc9k3rntdR8CODA3Sm/c3uerwPq5bXU1M+FGqUEHy95fMZsnHx/nR39+2Py7O6bkTeubdpX7Wd/v1zrrCX48PAAAAlFSEdqCUCPH3yXH74Ogaeqxt9iXsWcP7PY0ipFwjv80Dt1XT7v0L9Fj7OtLQoVJiopSeLlmtksXi/Jiebts/dKgtxIeESHFxigwNyvca9ynL9mjbkbMFft8AAABASUb3eKCU+N9vCTlu79IgMs/nRYYGacZ9t6ipz1HpugY6lJgif1+T0jKsqlDGX1EVQtThpacUNP1TWyB3ZTLZvqzWK49Zj7NapUuXbAH+ySfVr2xZtR49Xm3O35RrTT1nxWtan4bq17x6gd47AAAAUFIR2oFSICHpst774UC27WaTFFUxuEDnKB8gdb+tuvz8/K5sfOAB6eOPs4d1Pz+pbFlp8mQpJib7yeLipPHjpQsXpIyMK8//ewb++uee1u9lQzWp5QNa2KR7jvWM/Wy76kaUVaNqYQWqHwAAACiJWB4PlALzfjyQ4+L2f7WpVeBmcU7i4mzXpH/0kXNgDw6W5syR0tKkM2dyDuySbfuZM7bjLBapf3/bLLyd1aqA8+f08so5GrBlWa5l9JwVr8UbDxe+fgAAAKCEILQDXi63WXaTpIfbRF3dScePt12TbmcP68nJuQf1vCxaZAvvc+ZI4eGOAG+yWvXyitnaNaNPruF97GfbucYdAAAAXovQDni53LrGP3J74WfZze++a5thP/t3SDabry2su7LPwM+ebQvvsn24EJyRqpdXzNZbX03P8WnMuAMAAMBbEdoBL5db1/get0QU+lzmF16wzbBbrbbbt82a5Z6w7soe3rMsmzdJumf3Om156/4cZ92ZcQcAAIA3IrQDXi45LTPH7ZfSLAU+h/ndd9XtwQedZ9hnziyawJ6Vfdl8//6SbME9LOWiJq3I+Vp3ZtwBAADgbQjtgJfbfjQp2zYfk6nAXeMl2wy7/8WLMhX1DHtuFi2yLcM32/7K8pE11+XyzLgDAADAmxDaAS+WkHRZ05bvybZ9TLebCn49e1ycY4bdajIVzwx7TmJibB8WhIfLqryXyzPjDgAAAG9BaAe82LwfD8iSQxe6W64rX7ATxMVJw4fLZLXKYjbL8u9/eyaw2/19rbupf39HcA9Luain132Q7dCxn21XQtLlYi8RAAAAcCdCO+ClcrvVm9mkgi+NHz9eysyU1WzW9kcfleXRR91c5VVatEimOXNk+btJXWjKhRxn3Kd9k32VAQAAAFCSENoBL5Xbrd7+1aaAt3rLsixeoaE62LWrW+u7ZjExMs+eLYvZR2bl3KDui63H9M66/Z6rEQAAALhGhHbAS9WsGCKzyXmbWdLDbaLyf/Lfy+Ltt3azvPRSUZR47WJiZJ410zHj7iOrJq6McwruU5btoTEdAAAASixCO+ClIkODdG+T65y23XvrdQWbZf97Wbz91m6GWRafk79n3C+XDZVFkq/Vkm3GncZ0AAAAKKkI7YCXSki6rM+3/OW07Ystx/JvzpZ1WXz58p5tPFdQMTEKOn9Ol0PKScr5lnA0pgMAAEBJRGgHvNSB08nZOsdnWq06ePpS7k9yWRavyZOLtkg3y3jpJZ0NLOt0S7isM+40pgMAAEBJQ2gHvNT2o0nZtvmYTHl3jndZFl8iZtmzCB35pJYs36Kv6rV1BPesM+40pgMAAEBJQ2gHvFBC0mVNW559VnlMt5tyv6a9JC6Lz8Fj7Wrrjzfe0XN3Pp7jjPuUZXtYJg8AAIASg9AOeKGclsZL0i3Xlc/5CSV8WbyrZ7rUVflRT+Q64/7v1fs8Wh8AAABQUIR2wAvldLu3PJfGT51qWxbv41Mil8Xn5JkudbXmhTdznHH/aMNhZtsBAABQIhDaAS8UGRqksd3qOoK7j8mkV3o3yH1pfKtWtsDet69XBHa72G51tbBJ92wz7m9+NV3zfjzo4eoAAACA/BHaAS+0eONhTftmjyxWW1Ad0/Um9WtePeeD4+KkJUtsM+3x8cVaZ1GLDA3SuG51NeKeMdlm3JPfnslsOwAAAAyP0A54mYSkyxq3dLvjmnarpOnLf885oNqvZbcvjY+NLdZai8Nj7WqrV+PIbDPuE1fG6YdRL3u6PAAAACBPhHbAyxTq/uxeeC17TjrVj5Akx4x7pkzytVrU5z9TtOLJCZ4tDgAAAMgDoR3wMoVqQuel17K7alojzPHfC5t01/nAEEmSj6zqMPMlgjsAAAAMi9AOeJnI0CBN6d1QPiZbcs+1CZ0XX8vuyn5tu91rbQfqbGBZWST5Wi3q+O9JWjf6Jc8VCAAAAOTC19MFAHC/fs2rq25EWW08eFbNo8LUqFpY9oOyLo33wmvZXT3WrrZ2JZzXl1uPaWGT7lrYpLu2vHW/wlIuykdWtXpjgpKuD1XoyCc9XSoAAADgwEw74IUWbzyse2fH6+X/7da9s+O1eOPh7AeVkqXxWcVmmW2Xss+4+zz/vGcKAwAAAHJBaAe8jGv3eItVenbpDufu8aVoaXxWkaFBmtanoeP7hU26q8mIj5QUWEaSFJx8XhdCQpX0xtueKhEAAABwQmgHvEyBuseXsqXxWfVrXl1fDmvltO21tgOVYTLLLKnspfOyPPuc3lm73zMFAgAAAFkQ2gEvk2/3+Lg46cIFKTzcq2/zlpdG1cKcGtMtbNJdL3aOUaZsP7hyKRd1+JXX9eKXOzxVIgAAACCJ0A54nXy7x48fLyUm2v67FAZ2u8fa1dag6BqO7xc26a4X7hyqDJNZPrJq4so4Zcyeo44zvte2I2c9WCkAAABKM7rHA16oX/PqantjJR08fUlRFYOz3+4NkqSJPRvo8NlL+m7PKUm24C5Jk1bMka/Vokkr5ugFST1PJatulTKadt8tOXfiBwAAAIoIM+2Al4oMDVJ07QrOgT0uzvYYHi5NnuyZwgxm3uDbNNhlxv18YIgkOWbcB2xZpj0nLqrnrHi1m7ZaE7/ayew7AAAAigWhHfBCCUmXFb//dPaO8cOH25bGly1bqpfGu5rQs4HGdb9yjbvrreCeXveBY9+hsymaF39QPWfFq+Nr3+mD9Qedf84AAACAGxHaAS+zeONhtZ66Rg+894taT11z5R7tpbhjfEE81ra21o/roMbVyme7FVy5lIsasGVZtufsP31Jz3+5U9FT1ujRBZv09W/HCPAAAABwK0I74EXyvEd7q1a2wN63L7PsuYgMDdIXw1prePvakq7cCi7rMvncrNh9QsMXbVH0lDV6dulvhHcAAAC4BaEd8CJ53qM9Pt420x4f75niSpCnu9TV+nEdlPzwvxy3grM3pssruNst2nCE8A4AAAC3ILQDXiS3e7TX/2rhlXuzszS+QCJDg/Tm/U00fMlrSgkpK0kFmnHPyh7eHZcoAAAAAIVEaAe8SE73aF9s3arQZ0bRgO4qRYYGKeS1acoMC5NV2RvTFcTYz7bTbR4AAABXhdAOeJl+zavrx9j2+uiRlvoxtr2affwuDeiuVUyMfBITZQoPlySVT72ojy1bdUPlkAKfoueseGbcAQAAUGiEdsALOd2jnQZ07jN5smQyyWS1quXc17Vq1B36clgrdaxbuUBPH7d0O9e4AwAAoFAI7YCXyXaPdhrQuU9MjBQWZvvvc+ekuDg1qhamuYOba/24Dnrgtup5Pt1ila0pIAAAAFBAhgntU6dOlclk0lNPPeXYlpKSomHDhqlChQoqU6aM+vTpoxMnTjg97/Dhw+rRo4eCg4NVuXJlPfPMM8rIyCjm6gFjcL1H+6bYV2hA526TJ9tWLlgs0vDhUlycJNvqhld6N9T6cR3Uq3HVXJ8e7G+Yv3YBAABQAhjiX48bN27UO++8o1tuucVp+8iRI/Xf//5Xn3zyidauXatjx46pd+/ejv2ZmZnq0aOH0tLSFB8frwULFmj+/Pl64YUXivstAB6X0z3aI+a8RQM6d4uJkWbOlEwm2wqG8eOddtu7zj/QolqOT//fb8eLo0oAAAB4CY+H9osXL2rAgAF67733FGZfdiopKSlJc+fO1euvv64OHTqoadOmmjdvnuLj4/Xzzz9LklasWKFdu3bpww8/VOPGjdWtWze99NJLmjVrltLS0jz1lgCPcL1H+4AtyxSSdlnpoeWZZXe3HJbJu3qiQx2Zsm2V/u/HP7muHQAAAAXm6+kChg0bph49eqhTp056+eWXHds3b96s9PR0derUybGtbt26ql69utavX6+WLVtq/fr1atiwoapUqeI4pkuXLho6dKh27typJk2a5PiaqampSk1NddpmNpsVEBDg5ndXMqWnpzs9omS4PjRAZpMcwf3pde8rLOWiMgPDlD5kiHQNv0/GRHbmSZNkHjFCpsxMWYcPlyUzU5ZHH3Xsrxjsq3+2rqG5Px1yep7FKu0/cV4Vgz3+1+81YUwgK8YDXDEm4IoxAVeMCRs/P798j/Hovxo//vhj/frrr9q4cWO2fcePH5e/v7/Kly/vtL1KlSo6fvy445isgd2+374vN1OmTNHEiROdtvXr10/9+/e/mrfhtVauXOnpElBIfWuatPhPs6xZ5ngzM9L1zbJlbjk/YyKL669X1COPqOE778icmanM2Fh9c/31TodUT5VM8nH6fUhW7d/6s87sLt5yiwpjAlkxHuCKMQFXjAm4Ku1jomfPnvke47HQfuTIEY0YMUIrV65UYGBgsb72uHHjNGrUKKdtzLRfkZ6erpUrV6pz584F+uQHxtFd0n1Hk3T537NVJtBX1uBw+UyapO7du1/TeRkTuejeXaYlS6TERPlduqS7jh51mm2XJL/qRzX+i12yX7lgkkl+1W9R96bXZz9fCcKYQFaMB7hiTMAVYwKuGBMF57HQvnnzZp08eVK33nqrY1tmZqbWrVunmTNn6ttvv1VaWprOnTvnNNt+4sQJRURESJIiIiK0YcMGp/Pau8vbj8lJQEAAAb0A/Pz8+ANUwizeeFjjlm7Xurmz5Hf+nJIjrlPIsGHycdP5GRM5mDxZGj5cpsxM+YwYIR8fH6emf+3rRcj05S5Z/07tVknPf7lb7etFKDI0yDM1uxFjAlkxHuCKMQFXjAm4Ykzkz2ON6Dp27Kjt27dr69atjq9mzZppwIABjv/28/PT6tWrHc/5/fffdfjwYUVHR0uSoqOjtX37dp08edJxzMqVK1WuXDnVr1+/2N8T4En27vH9f7U1oDsbWEZTGvWi6VlRy6ebvGuDQEnKtFq5XzsAAAAKxGOhvWzZsmrQoIHTV0hIiCpUqKAGDRooNDRUQ4YM0ahRo/Tdd99p8+bNevjhhxUdHa2WLVtKku68807Vr19fDz30kLZt26Zvv/1Wzz33nIYNG8ZMOkodezgc+vOnCku5oGT/YH3YuBvhsDjk0U2+ZsUQmV3ayPuYTIqqGFx89QEAAKDE8vgt3/Lyxhtv6K677lKfPn3Utm1bRUREaOnSpY79Pj4++vrrr+Xj46Po6Gg9+OCDGjhwoCZNmuTBqgHPsIfDzdfVVYbJrM3X1SUcFqfJkyUfH8likYYPdwT3yNAgTendUD4mW3L3MZn0Su8GXrE0HgAAAEXPUPcc+v77752+DwwM1KxZszRr1qxcn1OjRg0tc1NnbKAkiwwN0hLrNjXe86N8rRY1/WsP4bA42a9jf/zxK8vk/97Wr3l1tb2xkg6evqSoisH8TgAAAFBghp5pB1A4jRe9I1+rRRazj8pOGK9+zat7uqTSJesyeReRoUGKrl2BwA4AAIBCIbQDXmJT7Cu6cOqszgaW0QudH9PyNr08XVLpNHmyFB5u++8s17YnJF1W/P7TNAYEAABAoRhqeTyAq5OQdFkRc95SWMoFHS1XWR827i6fpTvU9sZKzOwWt5gYaepU6dAh27XtkhY37a5xS7fLYpXMJmlK74asggAAAECBMNMOeIEDp5OdGtBJ3FbMo2JjHbeAy3z2WUdglySLVRr32XZm3AEAAFAghHbAC9SsGKKmf+1xNKCTuK2YR2W5tt187pz6/+rcLNMi6d+r93mgMAAAAJQ0hHbAC0R+tEAVrak6G1hGc1rex23FjODvW8CZrFZNXBmnAVucg/uiDYf1zrr9HioOAAAAJQWhHfACyRNfVuCFJCX7B2tRk+4a0/Umrpn2tJgYaeZMycdHvlaLhv78abZDpizbwzJ5AAAA5InQDpRwSW+8rbRz5x2z7FZJ05f/Thg0gpgYqW9fWX18HL0GXLFMHgAAAHkhtAMlXMBrryos5YKS/YO1sEl3STShM5T4eJkyM3XX7z9mWyIvSR9vPMwHLAAAAMgVoR0o4aytop26xks0oTOU2FjJx0c+FkuO17ZbrOIDFgAAAOSK0A6UZHFxCvp8abau8TShM5B8rm3nAxYAAADkxdfTBQC4BlOnSpmZko+PNHasnru9nppHhalRtTBPV4asYmKkdeukJUt0uXkLmU22GXY+YAEAAEB+CO1ASRUXJ124IIWHa9Mjo9X3wk2y/G+3zCZpSu+GdI83mvh4KTNTdb5fpi09OmnXPQMUVTGYwA4AAIA8sTweKKmmTpUSE5URUkZ9TY1ksdo2W6zSs0t30NzMaP6+tl2ZmQp9ZpSiV35CYAcAAEC+CO1ASdWqleTjo7ONmzkCux3d4w0oy7Xtysy0fegCAAAA5IPQDpRUfy+3Dtzwc7ZdNDczqL/v2y4fH9uHLgAAAEA+CO1ASfT39eyWsDBNa9wr2+4x3W5i6bVR/f1hi5Yssf0eAQAAgDwQ2oGSJi5OGj5cSkzUBb8gfdi4e7ZDbrmufPHXhYLJcm27hg8nuAMAACBPhHagpPn7Nm9WHx9Nz2GW3WwSS+ONjGvbAQAAUAiEdqCk+bsB3enuPbWwSfZZ9n+1qcXSeKPj2nYAAAAUEKEdKGn+viY6bOsmmXLY/XCbqOKuCFch48efbCsmuLYdAAAAeSC0AyXJ3w3oFB6u5JGjs+3OKcTDeBZvPKwX692lDJNZpsxMJU982dMlAQAAwKAI7UBJMnWqlJgolS2rWTd2ksvt2WWVuD+7wSUkXVbsZ9u1sEl3vdg5RmcDyyrtXJK+HzlJCUmXPV0eAAAADMbX0wUAKKAss+xJI0bpvR8OZDuEJnTGt+lgouPDloVNuuvpdR8oLOWiGsW9piYBTdX2hoqqXaWM/H1MCvDzUce6ldWoWphHawYAAIDnENqBkmL8eNsse3i4dt7zgKzv/ZLtEJrQGZ/J5HoRg9Xpcd2+01q377Rj79ur96nPrddpRt/GxVIfAAAAjIXl8UAJtP1oUrZtZtGEriRoWsN51vy1tgN1NrCsJGnAlmU5PuezX//StiNni7w2AAAAGA+hHSgJ7N3Fw8OV9NyLmrZ8T7ZDxnavyyx7CRAZGqRx3eo6vl/YpLuS/YMUlnJRE1fG5RrcNx0ktAMAAJRGhHagJMjSgG7nPQ/I4tqBTtIt15Uv9rJwdR5rV1vjul8J7nNa3qcMk1m+VouG/vxpjs9pFsV17QAAAKUR17QDRpelAZ1iY/XT3tM5Hhbsz2dwJcljbWvrnkZVtWrXCS2oHKL/HdmhHnt+1Obr6mY7ts+t19GMDgAAoJQitANGl6UBXUL/QZo9ZU2Oh11KsxRzYbhWkaFBeig6Sg9FRynt9QPytVp09+8/yff8L9p+9/0K8PVRB7rHAwAAlGqEdqAEmffjgWz3Zpe41Zs38H/uWWn4cJkzM9Vj2fvqMXuSp0sCAACAAbCeFjAylwZ0Od2bXZLGdqMJXYkXEyPNnGm7DOLChSu/ewAAAJRqhHbAqOLipOHDnRrQ5TTL/sBt1fVY29rFXh6KQEyMVLas7Xc+daqnqwEAAIABENoBo5o6VcrMlHx8pNhYhfj75HhYv+bXF3NhKFKtWtl+561aeboSAAAAGAChHTAqe3jr21eKidH/fkvI8TAa0HmZ+HjbhzVLlrBEHgAAAIR2wJDi4myhLTNTio9XQtLlHK9npwGdF4qNtX1Yk5nJEnkAAAAQ2gFDclkan1vX+H+1qUUDOm9DQzoAAABkQWgHjCYuzhbWwsOlmTOV0H9QjrPsJkkPt4kq9vJQDGJibI+JidL48Z6tBQAAAB5FaAeMZvx4W1iTpJgYHTidnOMs+yO3M8sOAAAAeDtCO2AkcXHS2bNOm2pWDJEph0OZZfdykyfbVltILJEHAAAoxQjtgJFMnSpZrbZr2SdPzvWwnEI8vAz3bAcAAIAI7YBxuFzLbr+uOafl8VZJB09fKvYSUcxiY2lIBwAAUMoR2gGjcLmW3a5mxRCZXabWfUwmbvVWGtCQDgAAoNQjtANGkMO17Hbr/jgla5apdpNJeqV3A5rQAQAAAKUAoR3wtLg4afjwHK9lT0i6rHFLtzstjzdZpbY3Vir+OuEZNKQDAAAo1QjtgKdNnSplZtoCe5Zr2SXb9ewWlwvaLeJ69lKFhnQAAAClmm9hn3DgwAH98MMPOnTokC5duqRKlSqpSZMmio6OVmBgYFHUCHi3Vq2ko0elvn2dArt05Xr2rMGd69lLodhY2zXt9oZ0LuMEAAAA3qvAM+0LFy7Ubbfdptq1a2vs2LH64osv9MMPP+j//u//1LVrV1WpUkWPP/64Dh06VJT1At4lLk5assQ20x4fn213ZGiQxnar62hE52MycT17acRsOwAAQKlVoJn2Jk2ayN/fX4MHD9Znn32matWqOe1PTU3V+vXr9fHHH6tZs2aaPXu2/vGPfxRJwYDXsF/Lbl8aHxub7ZDFGw9r2jd7ZLHa7s0+putN6te8evHXCs+zr8ho1crTlQAAAKAYFWimferUqfrll1/0+OOPZwvskhQQEKA77rhDcXFx2rNnj2rVquX2QgGvM368LbCbzdmuZZeuNKGzL423Spq+/HclJF0u/lrhefHxtvGyZAkN6QAAAEqRAoX2Ll26FPiEFSpUUNOmTa+6IKBUyHqLt/Llc7xGOacmdJlWK03oSqvYWNuKjMxMlsgDAACUIoXuHt+hQwdNnDgx2/azZ8+qQ4cObikK8Gp53OItK3sTuqxoQleKxcTYVmSEh19pSAcAAACvV+jQ/v3332vmzJnq1auXkpOTHdvT0tK0du1atxYHeKV8lsXbRYYGaUrvhvIx2ZI7TehAQzoAAIDS56ru075q1SodP35cLVu21MGDB91cEuCl4uKkChXyXRafVb/m1fVjbHt99EhL/RjbniZ0sDWi8/GhIR0AAEApcVWhPTIyUmvXrlXDhg3VvHlzff/9924uC/BC48fbZkjzWRbvKjI0SNG1KzDDDhsa0gEAAJQqhQ7tpr+X6gYEBGjRokUaMWKEunbtqtmzZ7u9OMBrZG08l8+yeFcJSZcVv/80XeNhQ0M6AACAUqVA92nPymp1bmf93HPPqV69eho0aJDbigK8ygMPSB99ZPtvH59CBfbFGw87bvtmNklTejdkiXxpZx8748dfaUhXwPEEAACAkqfQM+0HDhxQxYoVnbb16dNHP//8s/7zn/+4rTDAK8TFXQnsUqFn2LPep91ilZ5duoMZd9CQDgAAoBQp9Ex7jRo1ctzeoEEDNWjQ4JoLArxG1hl2Serfv1Azonndp53r26FWraSjR2lIBwAA4OUKHNp79+5doOOWLl161cUAXiEu7krTObs5cwq9hNl+n/aswZ37tMPB3pAuPt7TlQAAAKAIFXh5fGhoqNPX//73P5nN5mzbgVLPNbAXcobdjvu0I0+xsVJ4+JXr2gEAAOCVCjzTPm/ePKfvP/30U02fPl21atVye1GAVzCbpVmzrqlJWL/m1dX2xko6ePqSoioGE9hxRUyM7Xr2Q4dsjzSjAwAA8EpXdZ92AHmYPFmqUeOaA7tka0Z34HQygR05Y7YdAADA6xHaAXeLiZEOHrzmwL5442G1nrpGD7z3i1pPXaPFGw+7pz54D/sYS0y0XZYBAAAAr0NoBwyI270BAAAAkApxTftXX33l9L3FYtHq1au1Y8cOp+333HOPeyoDSqhtR85q1e4TSsuwKMDPRx3rVlajamGFOse8Hw9wuzcUzOTJV2bZ4+K4th0AAMDLFDi09+rVK9u2xx57zOl7k8mkzMzMay4KKKlGL9mqz379y2nb26v3qXbFYA1uXVOd6lfJN3QnJF3Wez8cyLbdbBK3e0N2NKQDAADwagVeHm+xWPL9IrCjNNt25Gy2wG63//QlPf/lTkVPWaMRH23Jc5n7gdPJsuaw/V9tajHLjpzRkA4AAMBrcU074CYbDibmf5CkL7cdyzO8f775aI7P63FLxDXVBy8WEyOVLWtrSDd1qqerAQAAgBsVKLT//PPPBT7hpUuXtHPnzqsuCCipbosKL9TxruE9Iemyes36UZ/kMlt/Kc3ijjLhrVq1knx8bI8AAADwGgUK7Q899JC6dOmiTz75RMnJyTkes2vXLj377LOqXbu2Nm/e7NYigZKgUbUw9bn1ukI/zx7eo6es0dYjSTkew/XsyFd8vJSZKS1ZwhJ5AAAAL1Kg0L5r1y716NFDzz33nMqXL6+bb75ZnTt31t133602bdqoYsWKuvXWW3XgwAGtWLFCAwcOLOq6AUOa0bexvhzWSiM63KB2N1Z023nHdqvL9ezIW2ysbaY9M5Ml8gAAAF6kQN3j/fz89OSTT+rJJ5/Upk2b9OOPP+rQoUO6fPmyGjVqpJEjR6p9+/YKDy/c8mDAGzWqFua4xVtC0mWt2nVCC9Yf1L6TOa9Syc/g6Bp6rG1td5YIb2TvGj9+/JWGdHSSBwAAKPEKfMs3u2bNmqlZs2ZFUQvgdSJDg/RQdJQeio7StiNnFfvZdu0+fqHAz29ft5Im9GxQhBXCq3D7NwAAAK9D93igmDSqFqZvnmqrL4e1Ur2IsvkePyi6huYNvq0YKoNXoSEdAACAVyG0A8WsIOF9XLe6msgMO66GvSFdfLynKwEAAIAbFHp5PAD3sIf3bUfOas3uk/L3MyuqQohurRFG0zlcvdhYrmsHAADwIoR2wMOyNq4DrhnXtQMAAHiVQi+P//PPP4uiDgCAu8TGSuHhV2bbAQAAUGIVOrTfcMMNat++vT788EOlpKQURU0AgGthn11PTLQtlQcAAECJVejQ/uuvv+qWW27RqFGjFBERoccee0wbNmwoitoAAAAAACjVCh3aGzdurLfeekvHjh3Tf/7zHyUkJKhNmzZq0KCBXn/9dZ06daoo6gQAFMbkybYl8hJL5AEAAEqwq77lm6+vr3r37q1PPvlE06ZN0759+/T000+rWrVqGjhwoBISEtxZJwCgMGJipLJlbUvkp071dDUAAAC4Slcd2jdt2qTHH39ckZGRev311/X0009r//79WrlypY4dO6aePXu6s04AQGHRkA4AAKDEK3Rof/3119WwYUO1atVKx44d0/vvv69Dhw7p5ZdfVs2aNXX77bdr/vz5+vXXX4uiXgBAQTHbDgAAUOIV+j7tc+bM0T//+U8NHjxYkZGROR5TuXJlzZ0795qLAwBco1atpKNHbY8AAAAocQod2vfu3ZvvMf7+/ho0aNBVFQQAcKP4eCkz0/YIAACAEqfQy+PnzZunTz75JNv2Tz75RAsWLHBLUQAAN+G6dgAAgBKt0KF9ypQpqlixYrbtlStX1iuvvOKWogAAbsJ17QAAACVaoUP74cOHVbNmzWzba9SoocOHD7ulKACAGzHbDgAAUGIVOrRXrlxZv/32W7bt27ZtU4UKFdxSFADAjWJibI+JidL48Z6tBQAAAIVS6NDev39/Pfnkk/ruu++UmZmpzMxMrVmzRiNGjND9999fFDUCAAAAAFAqFTq0v/TSS2rRooU6duyooKAgBQUF6c4771SHDh0KfU37nDlzdMstt6hcuXIqV66coqOj9c033zj2p6SkaNiwYapQoYLKlCmjPn366MSJE07nOHz4sHr06KHg4GBVrlxZzzzzjDIyMgr7tgDAu02ebFsiL7FEHgAAoAQpdGj39/fX4sWLtWfPHi1cuFBLly7V/v379Z///Ef+/v6FOtf111+vqVOnavPmzdq0aZM6dOignj17aufOnZKkkSNH6r///a8++eQTrV27VseOHVPv3r0dz8/MzFSPHj2Ulpam+Ph4LViwQPPnz9cLL7xQ2LcFAN6NhnQAAAAlUqHv025344036sYbb7ymF7/77rudvp88ebLmzJmjn3/+Wddff73mzp2rRYsWqUOHDpJst5urV6+efv75Z7Vs2VIrVqzQrl27tGrVKlWpUkWNGzfWSy+9pLFjx2rChAmF/hABALxabKztmnZ7Qzr7te4AAAAwrEKH9szMTM2fP1+rV6/WyZMnZbFYnPavWbPmqgrJzMzUJ598ouTkZEVHR2vz5s1KT09Xp06dHMfUrVtX1atX1/r169WyZUutX79eDRs2VJUqVRzHdOnSRUOHDtXOnTvVpEmTHF8rNTVVqampTtvMZrMCAgKuqnZvk56e7vQIMCa8xJAh8p0yRabDh2WdMkUZQ4Zc9akYE8iK8QBXjAm4YkzAFWPCxs/PL99jCh3aR4wYofnz56tHjx5q0KCBTCbTVRVnt337dkVHRyslJUVlypTR559/rvr162vr1q3y9/dX+fLlnY6vUqWKjh8/Lkk6fvy4U2C377fvy82UKVM0ceJEp239+vVT//79r+m9eJuVK1d6ugQYDGOi5Gtao4aqHj2qYzVqaPOyZdd8PsYEsmI8wBVjAq4YE3BV2sdEz5498z2m0KH9448/1pIlS9S9e/erKsrVTTfdpK1btyopKUmffvqpBg0apLVr17rl3LkZN26cRo0a5bSNmfYr0tPTtXLlSnXu3LlAn/zA+zEmvIfvk0/KZLHoukOHVOUa/h5nTCArxgNcMSbgijEBV4yJgit0aPf399cNN9zgtgKynq9p06bauHGj3nrrLfXr109paWk6d+6c02z7iRMnFBERIUmKiIjQhg0bnM5n7y5vPyYnAQEBBPQC8PPz4w8QnDAmvMC4cdL48TJdvCi/uXOv+bp2xgSyYjzAFWMCrhgTcMWYyF+hu8ePHj1ab731lqxWa1HUI4vFotTUVDVt2lR+fn5avXq1Y9/vv/+uw4cPKzo6WpIUHR2t7du36+TJk45jVq5cqXLlyql+/fpFUh8AlGhZu8gPH87t3wAAAAyu0DPtP/74o7777jt98803uvnmm7N9KrJ06dICn2vcuHHq1q2bqlevrgsXLmjRokX6/vvv9e233yo0NFRDhgzRqFGjFB4ernLlyumJJ55QdHS0WrZsKUm68847Vb9+fT300EOaPn26jh8/rueee07Dhg1jJh0AchMbawvsmZm227/RRR4AAMCwCh3ay5cvr3vvvdctL37y5EkNHDhQCQkJCg0N1S233KJvv/1WnTt3liS98cYbMpvN6tOnj1JTU9WlSxfNnj3b8XwfHx99/fXXGjp0qKKjoxUSEqJBgwZp0qRJbqkPALxSTIy0bp20ZInUqpWnqwEAAEAeCh3a582b57YXnzt3bp77AwMDNWvWLM2aNSvXY2rUqKFlbuiADAClSny8baY9Pt7TlQAAACAPhb6mXZIyMjK0atUqvfPOO7pw4YIk6dixY7p48aJbiwMAFJHYWCk8XLpwgevaAQAADKzQof3QoUNq2LChevbsqWHDhunUqVOSpGnTpunpp592e4EAgCKQtSHd1KmergYAAAC5KHRoHzFihJo1a6azZ88qKCjIsf3ee+916vQOADA4ZtsBAAAMr9Ch/YcfftBzzz0nf39/p+1RUVH666+/3FYYAKCIMdsOAABgeIUO7RaLRZmZmdm2Hz16VGXLlnVLUQCAYtKqleTjQxd5AAAAgyp0aL/zzjv15ptvOr43mUy6ePGiXnzxRXXv3t2dtQEAipq9i/ySJSyRBwAAMKBCh/YZM2bop59+Uv369ZWSkqIHHnjAsTR+2rRpRVEjAKCoxMbaZtozM1kiDwAAYECFvk/79ddfr23btunjjz/Wb7/9posXL2rIkCEaMGCAU2M6AEAJEBNjexw//kpDOvs2AAAAeFyhQ7sk+fr66sEHH3R3LQAAT4iJsc2yHzpkeyS0AwAAGEahQ/v777+f5/6BAwdedTEAAA9p1Uo6epSGdAAAAAZT6NA+YsQIp+/T09N16dIl+fv7Kzg4mNAOACWRvSFdfLynKwEAAEAWhW5Ed/bsWaevixcv6vfff1ebNm300UcfFUWNAICiFhsrhYdfua4dAAAAhlDo0J6TOnXqaOrUqdlm4QEAJURMjFS2rJSYSBd5AAAAA3FLaJdszemOHTvmrtMBAIobs+0AAACGU+hr2r/66iun761WqxISEjRz5ky1bt3abYUBAIpZTIzt1m+JibZHusgDAAB4XKFDe69evZy+N5lMqlSpkjp06KAZM2a4qy4AAAAAAEq9Qod2i8VSFHUAAIxg8mTbLLtkWyLPbDsAAIBHue2adgCAF6AhHQAAgKEUeqZ91KhRBT729ddfL+zpAQCeFhtrm223N6Rjth0AAMBjCh3at2zZoi1btig9PV033XSTJOmPP/6Qj4+Pbr31VsdxJpPJfVUCAIpPTIxtlv3QIdsjoR0AAMBjCh3a7777bpUtW1YLFixQWFiYJOns2bN6+OGHdfvtt2v06NFuLxIAUMxatZKOHrU9AgAAwGMKfU37jBkzNGXKFEdgl6SwsDC9/PLLdI8HAG8RHy9lZtoeAQAA4DGFDu3nz5/XqVOnsm0/deqULly44JaiAAAeFhsrhYdfua4dAAAAHlHo0H7vvffq4Ycf1tKlS3X06FEdPXpUn332mYYMGaLevXsXRY0AgOKWtYv88OEEdwAAAA8pdGiPi4tTt27d9MADD6hGjRqqUaOGHnjgAXXt2lWzZ88uihoBAJ4QGyv5+NiWyXP7NwAAAI8odCO64OBgzZ49W6+++qr2798vSapdu7ZCQkLcXhwAwINiYqR166QlS2hIBwAA4CGFnmm3S0hIUEJCgurUqaOQkBBZrVZ31gUAMAIa0gEAAHhUoUP7mTNn1LFjR914443q3r27EhISJElDhgzhdm8A4G1oSAcAAOBRhQ7tI0eOlJ+fnw4fPqzg4GDH9n79+mn58uVuLQ4A4GFZG9JxXTsAAECxK3RoX7FihaZNm6brr7/eaXudOnV06NAhtxUGADAIZtsBAAA8ptChPTk52WmG3S4xMVEBAQFuKQoAYCAxMbbHxERp/HjP1gIAAFDKFDq033777Xr//fcd35tMJlksFk2fPl3t27d3a3EAAAAAAJRmhb7l2/Tp09WxY0dt2rRJaWlpGjNmjHbu3KnExET99NNPRVEjAMDTJk++MsseFycNGeLZegAAAEqJQs+0N2jQQH/88YfatGmjnj17Kjk5Wb1799aWLVtUu3btoqgRAOBpNKQDAADwiELNtKenp6tr166Ki4vTeK5rBIDSJTbWNtt+4YLM774ruTQkBQAAgPsVaqbdz89Pv/32W1HVAgAwsiyz7ebp0z1dDQAAQKlQ6OXxDz74oObOnVsUtQAAjK5VK8nHR9boaE9XAgAAUCoUuhFdRkaG/vOf/2jVqlVq2rSpQkJCnPa//vrrbisOAGAw8fFSZqZMn36qqLAwqXt3T1cEAADg1Qod2nfs2KFbb71VkvTHH3847TOZTO6pCgBgTLGx0vDhMmVmqs5nn0lvv+3pigAAALxagUP7n3/+qZo1a+q7774rynoAAEYWEyNJsj77rHwvX7Y1pBs2zMNFAQAAeK8CX9Nep04dnTp1yvF9v379dOLEiSIpCgBgYH83pPO/eJGGdAAAAEWswKHdarU6fb9s2TIlJye7vSAAgPFZo6NlMZtpSAcAAFDECt09HgAA0/r1MlssMn36qRQX5+lyAAAAvFaBQ7vJZMrWaI7GcwBQOlnGjJHFbJYpM1OaOtXT5QAAAHitAjeis1qtGjx4sAICAiRJKSkpiomJyXbLt6VLl7q3QgCA4VgefVS7duzQLYsXy3Thgm22/e8mdQAAAHCfAof2QYMGOX3/4IMPur0YAEDJcbBrV92ybJl0+LBttp3QDgAA4HYFDu3z5s0ryjoAACWQNTpapr/+klq18nQpAAAAXolGdACAq2Zav17KzJSWLKEhHQAAQBEgtAMArpplzBjJx8cW3GlIBwAA4HaEdgDAVbM8+qg0c6YUHi7ZG9IBAADAbQjtAIBrY29Al5gojR/v2VoAAAC8DKEdAAAAAACDIrQDAK7d5Mm2JfISS+QBAADciNAOALh2MTFS2bK2JfI0pAMAAHAbQjsAwD1iY2lIBwAA4GaEdgCAe9CQDgAAwO0I7QAAAAAAGBShHQDgPjSkAwAAcCtCOwDAfbI2pBs+nOAOAABwjQjtAAD3io2VfHykzEw6yQMAAFwjQjsAwL1iYqS+fW3BvVUrT1cDAABQohHaAQDuFx9vm2lfsoQl8gAAANeA0A4AcL+sS+S5th0AAOCqEdoBAO4XEyPNnMm17QAAANeI0A4AKBpc2w4AAHDNCO0AgKLDte0AAADXhNAOACg63P4NAADgmhDaAQBFhyXyAAAA14TQDgAoWiyRBwAAuGqEdgBA0eL2bwAAAFeN0A4AKFr227+ZTLbgPn68pysCAAAoMQjtAICiFxMjhYV5ugoAAIASh9AOACgekydL4eG2/2aJPAAAQIEQ2gEAxSMmRipbVkpM5Np2AACAAiK0AwCKT2ws17YDAAAUAqEdAFB8sl7bfu4cs+0AAAD5ILQDAIrX5Mm2W8BZLCyTBwAAyAehHQBQvLgFHAAAQIER2gEAxY9bwAEAABQIoR0A4BncAg4AACBfhHYAgGdwCzgAAIB8EdoBAJ7DLeAAAADyRGgHAHgOt4ADAADIE6EdAOBZWW8BN3So9MADnq4IAADAMAjtAADPst8Czu6jj5hxBwAA+BuhHQDgeTExUv/+V76nMR0AAIAkQjsAwCgWLZLmzKExHQAAQBaEdgCAcdCYDgAAwAmhHQBgLFkb07FMHgAAlHK+ni4AAODdEpIua9PBRB1KvKQzF9NUIcRfURVD1LRGmCJDg7I/ISbG9vj447Zl8sOGOW8HAAAoRQjtAIAis3jjYcV+tl3WXPZ3rFtJT3aso0bVwpx3xMTYrmlPTLwy427fDgAAUIp4NLRPmTJFS5cu1Z49exQUFKRWrVpp2rRpuummmxzHpKSkaPTo0fr444+VmpqqLl26aPbs2apSpYrjmMOHD2vo0KH67rvvVKZMGQ0aNEhTpkyRry+fSQCApyQkXc4zsEvS6j2ntHrPKdWuGKxO9asoLdMqfx+T0jKtatF/uNoueFOBF8/LnJmpy2NiNf262x37852xBwAA8AIeTbVr167VsGHD1Lx5c2VkZOjZZ5/VnXfeqV27dikkJESSNHLkSP3vf//TJ598otDQUA0fPly9e/fWTz/9JEnKzMxUjx49FBERofj4eCUkJGjgwIHy8/PTK6+84sm3BwCl2oHTyXkG9qz2n76k/esOOG2bV+Y2adgibXnrfoWlXFTAhSQ92belXms7UAubdHc6dly3unqsXW03VQ4AAGAcHm1Et3z5cg0ePFg333yzGjVqpPnz5+vw4cPavHmzJCkpKUlz587V66+/rg4dOqhp06aaN2+e4uPj9fPPP0uSVqxYoV27dunDDz9U48aN1a1bN7300kuaNWuW0tLSPPn2AKBUq1kxRCY3nOe1tgOVYTLLLCks5aKeXvdBtmOmfLNH76zb74ZXAwAAMBZDrR9PSkqSJIWHh0uSNm/erPT0dHXq1MlxTN26dVW9enWtX79eLVu21Pr169WwYUOn5fJdunTR0KFDtXPnTjVp0iTb66Smpio1NdVpm9lsVkBAQFG8rRInPT3d6RFgTMBVQcZExWBfTe5VX+O/2FXgGfec2GfVJ62YIx9ZFZpyQVveuj/bjPvUb/aoW/3KigwNvIZXw9Xg7wi4YkzAFWMCrhgTNn5+fvkeY7Jardfybym3sVgsuueee3Tu3Dn9+OOPkqRFixbp4Ycfzhawb7vtNrVv317Tpk3To48+qkOHDunbb7917L906ZJCQkK0bNkydevWLdtrTZgwQRMnTnTa1q9fP/Xv378I3hkAlG7nUqUDF0w6dVnae96kP86bpKuYgx+wZZkmroyTr9UiScqUSS/cOdQpuA+vn6k6oYb43xoAAEC+evbsme8xhplpHzZsmHbs2OEI7EVp3LhxGjVqlNM2ZtqvSE9P18qVK9W5c+cCffID78eYgKtrGRMJSSnacuScvv4tQSt3nyrw81xn3H1k1cSVcY59ZpPUt3t7Zto9gL8j4IoxAVeMCbhiTBScIUL78OHD9fXXX2vdunW6/vrrHdsjIiKUlpamc+fOqXz58o7tJ06cUEREhOOYDRs2OJ3vxIkTjn05CQgIIKAXgJ+fH3+A4IQxAVdXMyaqV/RT9Ypl1bNJNSUkXdaqXSd04HSy/H1NSsuw5v3Y+nGtrFNRree9qZBL5+VrtWjSijmSSbrlpbGqXrFsEb1TFAR/R8AVYwKuGBNwxZjIn0dDu9Vq1RNPPKHPP/9c33//vWrWrOm0v2nTpvLz89Pq1avVp08fSdLvv/+uw4cPKzo6WpIUHR2tyZMn6+TJk6pcubIkaeXKlSpXrpzq169fvG8IAFAokaFBeig6qnBPunuiNHOiLOHh0tmz8pFVL387W6bws9KiRUVSJwAAgKd4tHv8sGHD9OGHH2rRokUqW7asjh8/ruPHj+vy5cuSpNDQUA0ZMkSjRo3Sd999p82bN+vhhx9WdHS0WrZsKUm68847Vb9+fT300EPatm2bvv32Wz333HMaNmwYs+kA4MXMr7wi/d241CRJH30kVaggxcV5tC4AAAB38mhonzNnjpKSknTHHXcoMjLS8bV48WLHMW+88Ybuuusu9enTR23btlVERISWLl3q2O/j46Ovv/5aPj4+io6O1oMPPqiBAwdq0qRJnnhLAIDiEhMjnTkjZW0impgoDRtGcAcAAF7D48vj8xMYGKhZs2Zp1qxZuR5To0YNLVu2zJ2lAQBKiG3TZulkxRvVaeYkmaxWyWKRhg6V1q1juTwAACjxPDrTDgDAtRi9ZKt6zorXI8HN9VznoTobWNZxT3jrRx/Zrntn1h0AAJRghHYAQIm07chZffbrX47vFzbpriYjPtJX9drKKtt17uazZ2V5/HF9/fgLmrlmr77+7ZgSki57rGYAAIDCMsQt3wAAKKwNBxNz3D7injHaUK2B437uZqtVPea8pMvvTdfkDkM0vEl3ta4drujaFRVVMURNa4QpMjSomKsHAAAoGEI7AKBEui0qPNd9C5t0lyQ9ve4DlU+5IJOk4IxUvbxitm47skMj7hmjn/ZfCf2ta4era4NIdapfhQAPAAAMheXxAIASqVG1MPW59bpc92ddLp8pk2PJ/D2712nLW/drwJYrDUx/2p+o57/cqegpa/Togk0sowcAAIZBaAcAlFgz+jbWl8NaqV5E2VyPGXHPGNUe+1+na93DUi7qpRWzs4V3SVqx+4SGL9qi6Clr9OzS3wjvAADAowjtAIASrVG1MH3zVFt9OayVRnS4QTHtauqGyiHZjhtxzxg9d+fjypRJku1/gGEpFzVpxZxswd1u0YYjajVljRZvPFyUbwEAACBXXNMOAPAKjaqFqVG1MElSbLf62nbkrNbsPqnUzEzt+Ou8ftx3xula99CUCzJL8pFVL6+YrfFr5mpyhyGOY+ysksYt3a62N1biencAAFDsCO0AAK+UNcRLUkLSZW0+eFaHutyoJ/7xkGp88kGejeqyslilg6cvEdoBAECxY3k8AKBUiAwN0l2NqmpY+zr68F8tNXzJa/rp5z3a2+EuWVwa1e2fdrfe+mq647lmkxRVMdhjtQMAgNKLmXYAQKlkC/FB0ur/SpLO9rxP5b/6TCbZlszfs3ud7tr9g76uf7tS5n/ALDsAAPAIZtoBAJAU9uWnMs2ZI0twsGPW3UdW3bNrnfp1bSLFxXm6RAAAUAoR2gEAsIuJkTk5WaY5c6Rg23J4kyQlJkqPPy5VqEB4BwAAxYrQDgCAq5gYJRw7rf2TXpXVZLtFnKxWwjsAACh2hHYAAFws3nhYraeuUcfkenqu81BdCC4nq33n3+Hd+vjjBHcAAFDkCO0AAGSRkHRZ45Zul+XvlL6wSXc1fGKRnrvzcZ0NLCvL38eZrFZZhw5VWmCQvn78Bc1cs1df/3ZMCUmXPVY7AADwPnSPBwAgiwOnkx2BPauFTbprYZPuGrBlmdP93f1TU9Rjzku6/N50Te4wRMObdFfr2uGKrl1RURVD1LRGGJ3nAQDAVWOmHQCALGpWDJEpj/0Lm3RXkxEf6at6bZWZ5f7uwRmpennFbO2a0UdRn36o11b8oeGLtih6yhot3ni4mKoHAADehtAOAEAWkaFBiu1WN9/jRtwzRrXH/jfP8D5gyzJJUuxn21k2DwAArgqhHQAAF4+1q61x3fMP7lLBwvsDW5Zp88GzRVozAADwToR2AABy8Fjb2lo/roNe6nmz/tk6SjHtaqrNDRVyPT6/8N615Q10mwcAAIVGIzoAAHIRGRqkh6KjnLYlJF3W5oNndSgxWWcupsnf16Qdf53Xj/vOSLKF9xH3jNFbX03XXbt/kFlWmST5plyWhg6VRo+WZsyQYmKK/w0BAIASh9AOAEAhRIYG6a5G2bvBZw3z6/ef0VP28P7f6bp79w8yW/9uSX/pEuEdAAAUGMvjAQBwA1uYr6ph7evow3+1VPy4DvrokZa6LX65zBaL1L+/ZMrSl94e3v39pQoVWDoPAAByRGgHAKAIRIYGKbp2hSv3aF+0SMopvKenS4mJ0uOPE94BAEA2hHYAAIpTbuHdaiW8AwCAbAjtAAB4gj28z5kjhYdfCfD28D50qOTjIz3wgGfrBAAAHkVoBwDAk2JipDNnpNmzncO7ZAv1H30khYQw8w4AQClFaAcAwAhcw7uf35V99qZ1hHcAAEodQjsAAEZiD+9paXScBwAAhHYAAAyLjvMAAJR6hHYAAIwuv47zNK0DAMBrEdoBACgpcus4L11pWkd4BwDAqxDaAQAoafJqWkd4BwDAqxDaAQAoqbI2rZszRwoOvrLPHt7NZrrOAwBQghHaAQDwBjExUnJy9vButXLLOAAASjBCOwAA3sQ1vHPLOAAASjRCOwAA3sge3rllHAAAJRqhHQAAb8ct4wAAKLEI7QAAlBYFuWUcjesAADAUQjsAAKVNXreMo3EdAACGQmgHAKC0yumWcTSuAwDAUHw9XQAAADCAmBjbl2S7tv3jj22z7tKVxnVDh0rDhkn9+tmW2gNFaNuRs1q1+4TSMixKy7TK38fk9FirYog61a+iyNCga3qdhKTL2nQwUYcSL+nMxbRsr+Pu1wOAwiK0AwAAZ4sW2b5cw7t05dr3jz+WgoKkGTOkIUM8Vyu80uglW/XZr3/le9zzX+5U2xsqqnaVMo5wXSHEX1EVQ9S0RpgiQ4PyDOU7jp3XT/vOFLgu++tFlA+UrFL1CsFOrwUARYHQDgAAcmYP73Fx0vjx0oULtll3yenad98nn1S3gACZp061zcQD12DbkbMFCux26/ad1rp9p3Pcd0OlEO07leyu0hyvl5OOdSvpyY511KhamFtfDwC4ph0AAOQtn2vfTenp8r94Uebhw+k+j2u24WCi287l7sCel9V7TqnnrHh1fO07fbD+oBKSLhfbawPwbsy0AwCAgsvh2ner1SqTJJPkmIG3Dh0qy7BhMlmt2t22mz4dPT3X5ctAVrdFhee5f8CWZXp63QcKTrssP0uGLCazzFZLkT6arFZ9Xe92jbhnTL717z99Sc9/udOxlL5xjfLqWLcyM/AArhqhHQAAXJ1FizS61xgFzn3PKUTZA7yPxSJJqr92mZ5fu0wZZl8l+wfqtbYD9VqT7pKk1rXD1eC6UKeGX4T60q1RtTD1ufW6bOPKHqIdHxD9zWy1FMvjPbvX6e7d6xx1SHIa0wv/HtNZ2Zfuv716n2pXDNa9t17P2AZQaIR2AABwVRzXHjfp7hRY3vpquu7a/YOsJpN8soQsf0uG/FMu6qUVs/XSitlK8Q3Q5A5D9E4OYcfONdQH+Pkwa+mt7I0PTSbNsFodKzjs7EHZzv6du2fWrWazTBbnR7PlyjjOWofrmM5rVn7/6Ut6bcUfju9b1w5X1waRdKQHkC9COwAAuCq5XXs84p4xjsAyYMsyPbtmroIyUq+Enr+PC85I1csrZmviyrhcg85P+xP1037n17HPWnaqX4UQX5JlCemyWq/cpeDvx6yBXSbTleN8faWyZXVs9Hh90qyHUjMzlZZhlb+vSTv+Oq8f8+gG37p2uBpeH+o4Pi3Dqgpl/BVVIUS35jX7HRenzFGjZbp8yRHm7fVlHdO5zcrbP6DK+uGWfWyzjB5AfgjtAADgquR37bEkLcwyC+96LbI9xPvmEHTyu4Z4/+lL2r/ugKQrIX5w65rMWhpZ1rsQZGRkC+kOZrNTONfkyVf6KGRxvaSRObxMQtJlbT54VocSk3XmYlrBQnl+YmLkk0MNSW+8raAJL8qUfFE+mbYl/FlXl9hDfNYPqHIK8a7L6BnLALIyWa2uf1OitEtPT9eyZcvUvXt3+fn5ebocGABjAq4YE7Ar6P20c5LTMvqsrH9/5XfdsKuejaoqtntdAo8H2f+OuOvoUfmMGSNdvpw9nNvZQ3pQkDRjRo4BvSRISLqsVbtO6MyMt/XIl7MVlJGa63X4km1sZ+YxEy9511jm/xtwxZgoOEI7suEPEFwxJuCKMYGsNh04rfe+jle1mrVlscqx7Dinx9yWL2ddRp91tjIr+5XEuQUcV9w320MeeEDWjz+W1WRyWkbuxGQq8SE9L9uOnNWa3Se19eg5rf3jtNMHVFcT4ofdUVvPdK1b3G/Drfj/BlwxJgqO5fEAAOCaNLo+VN2rW9W9y40F+oeX6/Jlf1+T0lo/rn8/NcwR6q/1WnjJdt/s1XtO0bW7qOWw7N0kyZR1Xshkyne5uzdpVC3M8WFRQtJlrep5swbtPO74wCq3EO+b23L6GQGa02e4er3zEuMXKIUI7QAAoFhFhgbprka5Bw9bqG+i+YlP6czFNN327RK1XfCm/C5fkk9m7tfC57aM3rVr9wO3VdMTHesQfq5FXJw0enSuy96tkq1hmyRTv37SokXFXqJRRIYG6aHoKD0UHXXlA6su/6cuW/7SvpPJkgoW4mMWz1DmkjdksVoks9n2IVYp/9kCpQWhHQAAGEq2UH/3RGnmREm2QH/5H/cratV/ZZVzwLHffuvlFbM1fs3cXJfQL9pwRIs2HNG0Pg3Vr3n14nlT3iBrt3eLJedj/l72bpk+XV9ffz3LXl1kHdvD2tdxLKNfeuN0jfjjtOO4/EK8/edv/egjWT/6yBbiC9C8D0DJZM7/EAAAAGOIDA1SrRVfymyxyMeSqfOvv6X0wCBZZJvdlWzhxr68eN/0e7R/2t1666vp2c419rPt2nbkbHGWX/LExUkhIbZmcR99ZJtVzxrYTSbJz08KD5fmzLHtS06W5dFHPVdzCdKoWphG3nmTFvyzhdaP66CXet6sGyqHaMQ9Y1R77H91w5ivVGvs1/qqXltlyqQMk1kWSRkms6y6ctmI2WKx/W7S06XERFmGDpXFZFKmn7/SQsOU9Mbbnn2jAK4JoR0AAJRYoSOflN/lSzJbrVr1xItK9g1wBHj7zKSPrLpn9zr9Oe0u7ZrRRwO2LHM8v+eseA2Zv4HwntUDD9hCuo+PNHSodOmS8xJ4s9n21b+/LaSnpUlnzjCze43sy+hXjbpDXw5rpRsqhTj2uYb4G8Z8pefufNwx3u1h3v5bMv/95ZORLv/z53RhwmQt3ni4+N8UALcgtAMAAK/Q+e0JOn/6rJZt/UsbW3ZxzExmnZG0z8D/8WovbXnrfg3Yskyr95xSz1nx6vrG2tIZ3uPipAoVJH//vGfUg4Nts+mZmbYvrqUuMo2qhWnV6Ds0OLpGrscsbNJdN4/+zBHia439Ws/d+bjOBpZVqtlXFklpZl+dDSyjOS3v07il25WQdLn43gQAt+GadgAA4DUc1wyvX+64b3b6rNnqt/htp0709uvfX1oxW5NWzHF0oO85K159br1OM/o29vA7KQb2ZnKXLuW83/z33A7NzjxmQs8GigwL0tRle1SQezQvbNI991shWqWDpy/RgBEogQjtAADAK9mXGyt6uhJmTdT4b/ao/aSndNfuH2SWNctt5KzZOtAf3TdR1z87yqP1F4n8msl5+f3TS6LH2tbWPY2qavPBs/rvb8f07c4TV3Ues0mKqhjs5uoAFAeWxwMAAK8XGRqkN+9voj/eeEe1x/7XaRlx1uXz/pYMhaVcVNXxo23XdD/wgIcrv0aFXfr+dyM5Arux2FaQVNU7DzVzNKz7Z+sotbuxYoGebzJJU3o3ZJYdKKGYaQcAAKXGM13qqlyQn6ZKjmXEA7Ys07Nr5jotnzdLksXiuKWWxddX6UEhOhP7gvFn4PO5h7oklr6XYI4VJH+zXwZy4HSy/H1NSsuwOh4rlPFXVIUQ3VojjMAOlGCEdgAAUKq4LjdeqO5OAf7pdR8oOO2y/C0ZV0J8RoZ8LySp6vjRsowfrYyAQK345zPaftf9Ssu0qkKIv6IqhqipJ8JR1pBegHuos/Tdu7iGeADeh9AOAABKHXvDursaVdXXvx3T8EVbJDk38sp1Bl6Sf2qKesx5SV3jJststTiuhX+t7UAdvO9BNbguVAF+PupYt7IaVQtzX+FxcdL48dKFC1JGRvaQnnVm3WSSfH2lsmWlyZMJ6gBQQhHaAQBAqda0Rs6h2jXA22fg/bLMwPtabYE5azd6rZgti8kss9WiFN8AfTp4tO57b3LhC3OdQbdasy93dw3pJpPtv1n2DgBeg9AOAABKtcjQIE3r01BjP9ue6zGut9J666vpumv3D7KaTDJbLdlm4s1/h/ngjFT1+b9XZPnPVJmt1ivhuyCPuc2g2xHSAaBUILQDAIBSr1/z6mp7YyVN+2aPvth6LN/jR9wzRiPuGeP43nUm3j7Tbg/zJnsAt4fvgj5KV8K51cpydwAohQjtAAAAunJbuLHd6mbrxr3/1EWt/eN0rs91nYm3c52Rt4d5q9kskyWfR6tVBzvdraBPPqbzNwCUYoR2AACALHLrxp3brbV2/HVeP+47k+O5XGfkr8qUNZrWp6H6Na9+becBAJRIhHYAAIACyOvWWglJl7X54FkdSkzWjqNJ+mbnCbe+9ril29X2xkrMuANAKURoBwAAuEb2W8hJtgDv7tBusUoHT18itANAKWTO/xAAAAAUlL0bvTuZTVJUxWC3nhMAUDIw0w4AAOBm9m709mvg82tklxeTpCm9GzLLDgClFKEdAACgCLheA59bI7u8HmtVClHHelUI7ABQihHaAQAAikFejewAAMgN17QDAAAAAGBQhHYAAAAAAAyK0A4AAAAAgEER2gEAAAAAMChCOwAAAAAABkVoBwAAAADAoAjtAAAAAAAYFKEdAAAAAACDIrQDAAAAAGBQhHYAAAAAAAyK0A4AAAAAgEER2gEAAAAAMChCOwAAAAAABkVoBwAAAADAoAjtAAAAAAAYFKEdAAAAAACD8mhoX7dune6++25VrVpVJpNJX3zxhdN+q9WqF154QZGRkQoKClKnTp20d+9ep2MSExM1YMAAlStXTuXLl9eQIUN08eLFYnwXAAAAAAAUDY+G9uTkZDVq1EizZs3Kcf/06dP19ttvKy4uTr/88otCQkLUpUsXpaSkOI4ZMGCAdu7cqZUrV+rrr7/WunXr9OijjxbXWwAAAAAAoMj4evLFu3Xrpm7duuW4z2q16s0339Rzzz2nnj17SpLef/99ValSRV988YXuv/9+7d69W8uXL9fGjRvVrFkzSdK///1vde/eXa+99pqqVq1abO8FAAAAAAB382hoz8uBAwd0/PhxderUybEtNDRULVq00Pr163X//fdr/fr1Kl++vCOwS1KnTp1kNpv1yy+/6N57783x3KmpqUpNTXXaZjabFRAQUDRvpoRJT093egQYE3DFmEBWjAe4YkzAFWMCrhgTNn5+fvkeY9jQfvz4cUlSlSpVnLZXqVLFse/48eOqXLmy035fX1+Fh4c7jsnJlClTNHHiRKdt/fr1U//+/d1RutdYuXKlp0uAwTAm4IoxgawYD3DFmIArxgRclfYxYV9VnhfDhvaiNG7cOI0aNcppGzPtV6Snp2vlypXq3LlzgT75gfdjTMAVYwJZMR7gijEBV4wJuGJMFJxhQ3tERIQk6cSJE4qMjHRsP3HihBo3buw45uTJk07Py8jIUGJiouP5OQkICCCgF4Cfnx9/gOCEMQFXjAlkxXiAK8YEXDEm4IoxkT/D3qe9Zs2aioiI0OrVqx3bzp8/r19++UXR0dGSpOjoaJ07d06bN292HLNmzRpZLBa1aNGi2GsGAAAAAMCdPDrTfvHiRe3bt8/x/YEDB7R161aFh4erevXqeuqpp/Tyyy+rTp06qlmzpp5//nlVrVpVvXr1kiTVq1dPXbt21SOPPKK4uDilp6dr+PDhuv/+++kcDwAAAAAo8Twa2jdt2qT27ds7vrdfZz5o0CDNnz9fY8aMUXJysh599FGdO3dObdq00fLlyxUYGOh4zsKFCzV8+HB17NhRZrNZffr00dtvv13s7wUAAAAAAHfzaGi/4447ZLVac91vMpk0adIkTZo0KddjwsPDtWjRoqIoDwAAAAAAjzLsNe0AAAAAAJR2hHYAAAAAAAyK0A4AAAAAgEER2gEAAAAAMChCOwAAAAAABkVoBwAAAADAoAjtAAAAAAAYFKEdAAAAAACDIrQDAAAAAGBQhHYAAAAAAAyK0A4AAAAAgEER2gEAAAAAMChCOwAAAAAABkVoBwAAAADAoAjtAAAAAAAYFKEdAAAAAACDIrQDAAAAAGBQhHYAAAAAAAyK0A4AAAAAgEER2gEAAAAAMChCOwAAAAAABkVoBwAAAADAoAjtAAAAAAAYFKEdAAAAAACDIrQDAAAAAGBQhHYAAAAAAAyK0A4AAAAAgEER2gEAAAAAMChCOwAAAAAABkVoBwAAAADAoAjtAAAAAAAYFKEdAAAAAACDIrQDAAAAAGBQhHYAAAAAAAyK0A4AAAAAgEER2gEAAAAAMChCOwAAAAAABkVoBwAAAADAoAjtAAAAAAAYFKEdAAAAAACDIrQDAAAAAGBQhHYAAAAAAAyK0A4AAAAAgEER2gEAAAAAMChCOwAAAAAABkVoBwAAAADAoAjtAAAAAAAYFKEdAAAAAACDIrQDAAAAAGBQhHYAAAAAAAyK0A4AAAAAgEER2gEAAAAAMChCOwAAAAAABkVoBwAAAADAoAjtAAAAAAAYFKEdAAAAAACDIrQDAAAAAGBQhHYAAAAAAAyK0A4AAAAAgEER2gEAAAAAMChCOwAAAAAABkVoBwAAAADAoAjtAAAAAAAYFKEdAAAAAACDIrQDAAAAAGBQhHYAAAAAAAyK0A4AAAAAgEER2gEAAAAAMChCOwAAAAAABkVoBwAAAADAoAjtAAAAAAAYFKEdAAAAAACDIrQDAAAAAGBQhHYAAAAAAAyK0A4AAAAAgEER2gEAAAAAMChCOwAAAAAABkVoBwAAAADAoAjtAAAAAAAYFKEdAAAAAACDIrQDAAAAAGBQhHYAAAAAAAyK0A4AAAAAgEER2gEAAAAAMChCOwAAAAAABkVoBwAAAADAoAjtAAAAAAAYFKEdAAAAAACDIrQDAAAAAGBQhHYAAAAAAAyK0A4AAAAAgEER2gEAAAAAMCivCe2zZs1SVFSUAgMD1aJFC23YsMHTJQEAAAAAcE18PV2AOyxevFijRo1SXFycWrRooTfffFNdunTR77//rsqVKxfoHDNW7FFahkVpmVb5+5g89nj2UrpklcJC/DxWQ0papg4fNOnX/+1RoL+Px38mJelnl5ZpVa2KIepUv4oiQ4OKeOTD2yUkXdbKXcd14PQlQ/wZy/roI6v2HjBp+/LflSkTfy5yca2/Q6P8vZbfY42wQJlSPf3T9k7bjpzVqt0nivTfKEUxztzxb4nS+veGOyUkXdamg4k6lHhJZy6mefTvCvuY+GHpDpnNZsP/vWakx5Ly/4LCPhb23xLe+DOrEOKvqIohuuuWqnn+WTZZrVZrMf29UWRatGih5s2ba+bMmZIki8WiatWq6YknnlBsbGyBzhEV+7+iLBGl0LQ+DdWveXVPl+EW6enpWrZsmbp37y4/Pz9Pl1MqLN54WGM/2+7pMtzOm/5c5Mdbf4e5s+qVXjfrgZY1PV2I1xi9ZKs++/UvT5fhcaXp7w13WrzxsGI/264S/w99oBQ4OLVHnvtL/Ex7WlqaNm/erHHjxjm2mc1mderUSevXr8/xOampqUpNdZ4S2D/tbllNJpmtFllMZo8+SvJ4DSX10Qg/uxTfAE3uMETjTFJ0zTBFhgYW0egvPunp6U6PKFoJSSleG/bGLd3uNX8u8uLNv8PcmfTcl7vU5oaKXv/7LQ7bjiYR2P9WWv7ecKeEpBTFfrZdD2xZpqfXfaDgtMvys2R4/N9IRvr3Wkl75GfmnT+zDLOvkv0DpakX8vwzXeJD++nTp5WZmakqVao4ba9SpYr27NmT43OmTJmiiRMnOm2zStLfiw7sv2RPPRqhhpL6aIQagjNSNfTnT7WwSXf9lZSm6hXLqqSzWCzasmWLunbtykx7MTialOTpEoqMxSqv+XORF2/+HealtPx+i8OWo6VzDOWEcVV4R5OSZJU09OdPFZZyJQx4+t9IRvr3Wkl7NEINJe3RCDXk9+hvyZB/ykXlp8Qvjz927Jiuu+46xcfHKzo62rF9zJgxWrt2rX755Zdsz8lppj0gIEABAQFFXm9JcP78eYWGhiopKUnlypXzdDkwAMYEXDEmkBXjAa4YE3DFmIArxkTBlfiZ9ooVK8rHx0cnTpxw2n7ixAlFRETk+BwCOgAAAACgJCjxt3zz9/dX06ZNtXr1asc2i8Wi1atXO828AwAAAABQ0pT4mXZJGjVqlAYNGqRmzZrptttu05tvvqnk5GQ9/PDDni4NAAAAAICr5hWhvV+/fjp16pReeOEFHT9+XI0bN9by5cuzNadDwQQEBOjFF1/kEgI4MCbgijGBrBgPcMWYgCvGBFwxJgquxDeiAwAAAADAW5X4a9oBAAAAAPBWhHYAAAAAAAyK0A4AAAAAgEER2gEAAAAAMChCeyk1a9YsRf1/e/cfE3X9xwH8eXD8mic/7OAAQxyC4BT5IcKwhCTAlV35RynaADFsKEJoLTETUheZWbMkYzGz2OSHOWAtCC2BCUYR4EWUIr/b3MCRUfwy8O7z/aN56wKN4+t97pDnY7uNe9/7fff8sNfuPq/P58OxcCGsra0REhKC+vr6u87Nzc3F6tWr4eDgAAcHB0RGRt5zPs1M+tTEPxUWFkIikWD9+vWGDUii0rceBgYGkJycDBcXF1hZWWHx4sUoLy8XKS2JQd+aOHbsGLy9vWFjYwM3Nzfs2rULt27dEiktGdrFixehVCrh6uoKiUSC0tLS/1xTXV2NwMBAWFlZwdPTE59++qnBc5I49K2H4uJiREVFwdHREba2tggNDcW5c+fECUuimM57xB2XLl2CVCqFv7+/wfLNNGzaZ6GioiLs3r0bmZmZaGpqgp+fH9auXYsbN25MOr+6uhqbNm1CVVUV6urq4ObmhujoaFy/fl3k5GQo+tbEHd3d3XjllVewevVqkZKSGPSth7GxMURFRaG7uxtnz55Fa2srcnNzMX/+fJGTk6HoWxP5+flIT09HZmYmrly5gpMnT6KoqAivvfaayMnJUIaHh+Hn54cPP/xwSvO7urqwbt06rFmzBiqVCmlpaUhMTGSj9oDQtx4uXryIqKgolJeXo7GxEWvWrIFSqcTly5cNnJTEom9N3DEwMIC4uDg8/vjjBko2M/Ffvs1CISEhWLlyJbKzswEAGo0Gbm5uSElJQXp6+n+uV6vVcHBwQHZ2NuLi4gwdl0QwnZpQq9UICwvD1q1bUVNTg4GBAb2OopLp0rcecnJy8M477+Dq1auwsLAQOy6JQN+a2LlzJ65cuYILFy5ox15++WV8//33qK2tFS03iUMikaCkpOSeV1zt2bMHZWVlaGlp0Y7FxMRgYGAAFRUVIqQksUylHiazdOlSbNy4ERkZGYYJRkajT03ExMTAy8sL5ubmKC0thUqlMni+mYBn2meZsbExNDY2IjIyUjtmZmaGyMhI1NXVTek5RkZGMD4+jnnz5hkqJoloujVx8OBBODk54YUXXhAjJolkOvXwxRdfIDQ0FMnJyVAoFFi2bBmysrKgVqvFik0GNJ2aWLVqFRobG7WX0Hd2dqK8vBxPPvmkKJnJ9NTV1enUEACsXbt2yvse9GDTaDQYHBzkvuUsd+rUKXR2diIzM9PYUUyO1NgBSFz9/f1Qq9VQKBQ64wqFAlevXp3Sc+zZsweurq4TPnxpZppOTdTW1uLkyZM8+vkAmk49dHZ2orKyEs8//zzKy8vR3t6OHTt2YHx8nB+8D4Dp1MTmzZvR39+PRx99FIIg4Pbt20hKSuLl8bNYb2/vpDX0559/YnR0FDY2NkZKRqbg6NGjGBoawoYNG4wdhYykra0N6enpqKmpgVTKFvXfeKad9HL48GEUFhaipKQE1tbWxo5DRjA4OIjY2Fjk5uZCLpcbOw6ZAI1GAycnJ3z88cdYsWIFNm7ciH379iEnJ8fY0chIqqurkZWVhRMnTqCpqQnFxcUoKyvDoUOHjB2NiExMfn4+Dhw4gDNnzsDJycnYccgI1Go1Nm/ejAMHDmDx4sXGjmOSeBhjlpHL5TA3N0dfX5/OeF9fH5ydne+59ujRozh8+DC++eYbLF++3JAxSUT61kRHRwe6u7uhVCq1YxqNBgAglUrR2tqKRYsWGTY0Gcx03iNcXFxgYWEBc3Nz7diSJUvQ29uLsbExWFpaGjQzGdZ0amL//v2IjY1FYmIiAMDX1xfDw8N48cUXsW/fPpiZ8ZzBbOPs7DxpDdna2vIs+yxWWFiIxMREfP7557yCcxYbHBxEQ0MDLl++jJ07dwL4e99SEARIpVKcP38eERERRk5pXPzUnGUsLS2xYsUKnS8H0mg0uHDhAkJDQ++67siRIzh06BAqKioQFBQkRlQSib414ePjg59++gkqlUp7e/rpp7XfCOzm5iZmfLrPpvMe8cgjj6C9vV178AYArl27BhcXFzbsD4Dp1MTIyMiExvzOQR1+/+3sFBoaqlNDAPD111/fc9+DHmwFBQVISEhAQUEB1q1bZ+w4ZES2trYT9i2TkpLg7e0NlUqFkJAQY0c0Op5pn4V2796N+Ph4BAUFITg4GMeOHcPw8DASEhIAAHFxcZg/fz7eeustAMDbb7+NjIwM5OfnY+HChejt7QUAyGQyyGQyo20H3T/61IS1tTWWLVums97e3h4AJozTzKTve8T27duRnZ2Nl156CSkpKWhra0NWVhZSU1ONuRl0H+lbE0qlEu+99x4CAgIQEhKC9vZ27N+/H0qlUueKDJq5hoaG0N7err3f1dUFlUqFefPmYcGCBdi7dy+uX7+OvLw8AEBSUhKys7Px6quvYuvWraisrMSZM2dQVlZmrE2g+0jfesjPz0d8fDzef/99hISEaPctbWxsYGdnZ5RtoPtLn5owMzObsA/p5OQ06T7nrCXQrHT8+HFhwYIFgqWlpRAcHCx899132sfCw8OF+Ph47X13d3cBwIRbZmam+MHJYPSpiX+Lj48XnnnmGcOHJNHoWw/ffvutEBISIlhZWQkeHh7Cm2++Kdy+fVvk1GRI+tTE+Pi48MYbbwiLFi0SrK2tBTc3N2HHjh3C77//Ln5wMoiqqqpJ9w3u1EF8fLwQHh4+YY2/v79gaWkpeHh4CKdOnRI9NxmGvvUQHh5+z/k0803nPeKfMjMzBT8/P1GyzgT8P+1EREREREREJop/005ERERERERkoti0ExEREREREZkoNu1EREREREREJopNOxEREREREZGJYtNOREREREREZKLYtBMRERERERGZKDbtRERERERERCaKTTsRERERERGRiWLTTkRENMts2bIF69evN9rrx8bGIisra0pzY2Ji8O677xo4ERERkemSCIIgGDsEERER3R8SieSej2dmZmLXrl0QBAH29vbihPqHH3/8EREREejp6YFMJvvP+S0tLQgLC0NXVxfs7OxESEhERGRa2LQTERE9QHp7e7U/FxUVISMjA62trdoxmUw2pWbZUBITEyGVSpGTkzPlNStXrsSWLVuQnJxswGRERESmiZfHExERPUCcnZ21Nzs7O0gkEp0xmUw24fL4xx57DCkpKUhLS4ODgwMUCgVyc3MxPDyMhIQEzJ07F56envjqq690XqulpQVPPPEEZDIZFAoFYmNj0d/ff9dsarUaZ8+ehVKp1Bk/ceIEvLy8YG1tDYVCgWeffVbncaVSicLCwv//l0NERDQDsWknIiIifPbZZ5DL5aivr0dKSgq2b9+O5557DqtWrUJTUxOio6MRGxuLkZERAMDAwAAiIiIQEBCAhoYGVFRUoK+vDxs2bLjrazQ3N+OPP/5AUFCQdqyhoQGpqak4ePAgWltbUVFRgbCwMJ11wcHBqK+vx19//WWYjSciIjJhbNqJiIgIfn5+eP311+Hl5YW9e/fC2toacrkc27Ztg5eXFzIyMvDbb7+hubkZAJCdnY2AgABkZWXBx8cHAQEB+OSTT1BVVYVr165N+ho9PT0wNzeHk5OTduzXX3/FnDlz8NRTT8Hd3R0BAQFITU3VWefq6oqxsTGdS/+JiIhmCzbtREREhOXLl2t/Njc3x0MPPQRfX1/tmEKhAADcuHEDwN9fKFdVVaX9G3mZTAYfHx8AQEdHx6SvMTo6CisrK50vy4uKioK7uzs8PDwQGxuL06dPa8/m32FjYwMAE8aJiIhmAzbtREREBAsLC537EolEZ+xOo63RaAAAQ0NDUCqVUKlUOre2trYJl7ffIZfLMTIygrGxMe3Y3Llz0dTUhIKCAri4uCAjIwN+fn4YGBjQzrl58yYAwNHR8b5sKxER0UzCpp2IiIj0FhgYiJ9//hkLFy6Ep6enzm3OnDmTrvH39wcA/PLLLzrjUqkUkZGROHLkCJqbm9Hd3Y3Kykrt4y0tLXj44Ychl8sNtj1ERESmik07ERER6S05ORk3b97Epk2b8MMPP6CjowPnzp1DQkIC1Gr1pGscHR0RGBiI2tpa7diXX36JDz74ACqVCj09PcjLy4NGo4G3t7d2Tk1NDaKjow2+TURERKaITTsRERHpzdXVFZcuXYJarUZ0dDR8fX2RlpYGe3t7mJndffciMTERp0+f1t63t7dHcXExIiIisGTJEuTk5KCgoABLly4FANy6dQulpaXYtm2bwbeJiIjIFEkEQRCMHYKIiIhmh9HRUXh7e6OoqAihoaH/Of+jjz5CSUkJzp8/L0I6IiIi08Mz7URERCQaGxsb5OXlob+/f0rzLSwscPz4cQOnIiIiMl08005ERERERERkonimnYiIiIiIiMhEsWknIiIiIiIiMlFs2omIiIiIiIhMFJt2IiIiIiIiIhPFpp2IiIiIiIjIRLFpJyIiIiIiIjJRbNqJiIiIiIiITBSbdiIiIiIiIiITxaadiIiIiIiIyET9D4k8YTFrmotAAAAAAElFTkSuQmCC\n"
                },
                "metadata": {}
              }
            ]
          }
        },
        "644c8a528a3144fbb5be7c1c8971262c": {
          "model_module": "@jupyter-widgets/base",
          "model_name": "LayoutModel",
          "model_module_version": "1.2.0",
          "state": {
            "_model_module": "@jupyter-widgets/base",
            "_model_module_version": "1.2.0",
            "_model_name": "LayoutModel",
            "_view_count": null,
            "_view_module": "@jupyter-widgets/base",
            "_view_module_version": "1.2.0",
            "_view_name": "LayoutView",
            "align_content": null,
            "align_items": null,
            "align_self": null,
            "border": null,
            "bottom": null,
            "display": null,
            "flex": null,
            "flex_flow": null,
            "grid_area": null,
            "grid_auto_columns": null,
            "grid_auto_flow": null,
            "grid_auto_rows": null,
            "grid_column": null,
            "grid_gap": null,
            "grid_row": null,
            "grid_template_areas": null,
            "grid_template_columns": null,
            "grid_template_rows": null,
            "height": null,
            "justify_content": null,
            "justify_items": null,
            "left": null,
            "margin": null,
            "max_height": null,
            "max_width": null,
            "min_height": null,
            "min_width": null,
            "object_fit": null,
            "object_position": null,
            "order": null,
            "overflow": null,
            "overflow_x": null,
            "overflow_y": null,
            "padding": null,
            "right": null,
            "top": null,
            "visibility": null,
            "width": null
          }
        },
        "84c5fd6a7e7c48889ce054bba5a249b7": {
          "model_module": "@jupyter-widgets/controls",
          "model_name": "DropdownModel",
          "model_module_version": "1.5.0",
          "state": {
            "_dom_classes": [],
            "_model_module": "@jupyter-widgets/controls",
            "_model_module_version": "1.5.0",
            "_model_name": "DropdownModel",
            "_options_labels": [
              "glenn_1.wav",
              "AH_1.wav",
              "DM_1.wav",
              "Khm_1.wav",
              "misc_58.wav",
              "joe_7.wav"
            ],
            "_view_count": null,
            "_view_module": "@jupyter-widgets/controls",
            "_view_module_version": "1.5.0",
            "_view_name": "DropdownView",
            "description": "Select audio file:",
            "description_tooltip": null,
            "disabled": false,
            "index": 0,
            "layout": "IPY_MODEL_7bfff8952fb24c77bc7a96e7bcdfbae4",
            "style": "IPY_MODEL_38af38e2c180499285523d9815e8a139"
          }
        },
        "7bfff8952fb24c77bc7a96e7bcdfbae4": {
          "model_module": "@jupyter-widgets/base",
          "model_name": "LayoutModel",
          "model_module_version": "1.2.0",
          "state": {
            "_model_module": "@jupyter-widgets/base",
            "_model_module_version": "1.2.0",
            "_model_name": "LayoutModel",
            "_view_count": null,
            "_view_module": "@jupyter-widgets/base",
            "_view_module_version": "1.2.0",
            "_view_name": "LayoutView",
            "align_content": null,
            "align_items": null,
            "align_self": null,
            "border": null,
            "bottom": null,
            "display": null,
            "flex": null,
            "flex_flow": null,
            "grid_area": null,
            "grid_auto_columns": null,
            "grid_auto_flow": null,
            "grid_auto_rows": null,
            "grid_column": null,
            "grid_gap": null,
            "grid_row": null,
            "grid_template_areas": null,
            "grid_template_columns": null,
            "grid_template_rows": null,
            "height": null,
            "justify_content": null,
            "justify_items": null,
            "left": null,
            "margin": null,
            "max_height": null,
            "max_width": null,
            "min_height": null,
            "min_width": null,
            "object_fit": null,
            "object_position": null,
            "order": null,
            "overflow": null,
            "overflow_x": null,
            "overflow_y": null,
            "padding": null,
            "right": null,
            "top": null,
            "visibility": null,
            "width": null
          }
        },
        "38af38e2c180499285523d9815e8a139": {
          "model_module": "@jupyter-widgets/controls",
          "model_name": "DescriptionStyleModel",
          "model_module_version": "1.5.0",
          "state": {
            "_model_module": "@jupyter-widgets/controls",
            "_model_module_version": "1.5.0",
            "_model_name": "DescriptionStyleModel",
            "_view_count": null,
            "_view_module": "@jupyter-widgets/base",
            "_view_module_version": "1.2.0",
            "_view_name": "StyleView",
            "description_width": ""
          }
        },
        "54dc9a870ad542f4a2751e22d3e8223a": {
          "model_module": "@jupyter-widgets/controls",
          "model_name": "IntSliderModel",
          "model_module_version": "1.5.0",
          "state": {
            "_dom_classes": [],
            "_model_module": "@jupyter-widgets/controls",
            "_model_module_version": "1.5.0",
            "_model_name": "IntSliderModel",
            "_view_count": null,
            "_view_module": "@jupyter-widgets/controls",
            "_view_module_version": "1.5.0",
            "_view_name": "IntSliderView",
            "continuous_update": true,
            "description": "Pitch Floor:",
            "description_tooltip": null,
            "disabled": false,
            "layout": "IPY_MODEL_0b1b19bbafe547c88b7423ba88914ba1",
            "max": 100,
            "min": 1,
            "orientation": "horizontal",
            "readout": true,
            "readout_format": "d",
            "step": 1,
            "style": "IPY_MODEL_9c23085bb4cb4e1e84034c2b5cff3572",
            "value": 25
          }
        },
        "0b1b19bbafe547c88b7423ba88914ba1": {
          "model_module": "@jupyter-widgets/base",
          "model_name": "LayoutModel",
          "model_module_version": "1.2.0",
          "state": {
            "_model_module": "@jupyter-widgets/base",
            "_model_module_version": "1.2.0",
            "_model_name": "LayoutModel",
            "_view_count": null,
            "_view_module": "@jupyter-widgets/base",
            "_view_module_version": "1.2.0",
            "_view_name": "LayoutView",
            "align_content": null,
            "align_items": null,
            "align_self": null,
            "border": null,
            "bottom": null,
            "display": null,
            "flex": null,
            "flex_flow": null,
            "grid_area": null,
            "grid_auto_columns": null,
            "grid_auto_flow": null,
            "grid_auto_rows": null,
            "grid_column": null,
            "grid_gap": null,
            "grid_row": null,
            "grid_template_areas": null,
            "grid_template_columns": null,
            "grid_template_rows": null,
            "height": null,
            "justify_content": null,
            "justify_items": null,
            "left": null,
            "margin": null,
            "max_height": null,
            "max_width": null,
            "min_height": null,
            "min_width": null,
            "object_fit": null,
            "object_position": null,
            "order": null,
            "overflow": null,
            "overflow_x": null,
            "overflow_y": null,
            "padding": null,
            "right": null,
            "top": null,
            "visibility": null,
            "width": null
          }
        },
        "9c23085bb4cb4e1e84034c2b5cff3572": {
          "model_module": "@jupyter-widgets/controls",
          "model_name": "SliderStyleModel",
          "model_module_version": "1.5.0",
          "state": {
            "_model_module": "@jupyter-widgets/controls",
            "_model_module_version": "1.5.0",
            "_model_name": "SliderStyleModel",
            "_view_count": null,
            "_view_module": "@jupyter-widgets/base",
            "_view_module_version": "1.2.0",
            "_view_name": "StyleView",
            "description_width": "initial",
            "handle_color": null
          }
        },
        "f065c96d2ac24e41bbf8944d48b51ec3": {
          "model_module": "@jupyter-widgets/controls",
          "model_name": "IntSliderModel",
          "model_module_version": "1.5.0",
          "state": {
            "_dom_classes": [],
            "_model_module": "@jupyter-widgets/controls",
            "_model_module_version": "1.5.0",
            "_model_name": "IntSliderModel",
            "_view_count": null,
            "_view_module": "@jupyter-widgets/controls",
            "_view_module_version": "1.5.0",
            "_view_name": "IntSliderView",
            "continuous_update": true,
            "description": "Smooth:",
            "description_tooltip": null,
            "disabled": false,
            "layout": "IPY_MODEL_73677bcca04f431f85b5f80314dff62e",
            "max": 100,
            "min": 1,
            "orientation": "horizontal",
            "readout": true,
            "readout_format": "d",
            "step": 1,
            "style": "IPY_MODEL_a36c8172ccea456b8586b6992d37a854",
            "value": 6
          }
        },
        "73677bcca04f431f85b5f80314dff62e": {
          "model_module": "@jupyter-widgets/base",
          "model_name": "LayoutModel",
          "model_module_version": "1.2.0",
          "state": {
            "_model_module": "@jupyter-widgets/base",
            "_model_module_version": "1.2.0",
            "_model_name": "LayoutModel",
            "_view_count": null,
            "_view_module": "@jupyter-widgets/base",
            "_view_module_version": "1.2.0",
            "_view_name": "LayoutView",
            "align_content": null,
            "align_items": null,
            "align_self": null,
            "border": null,
            "bottom": null,
            "display": null,
            "flex": null,
            "flex_flow": null,
            "grid_area": null,
            "grid_auto_columns": null,
            "grid_auto_flow": null,
            "grid_auto_rows": null,
            "grid_column": null,
            "grid_gap": null,
            "grid_row": null,
            "grid_template_areas": null,
            "grid_template_columns": null,
            "grid_template_rows": null,
            "height": null,
            "justify_content": null,
            "justify_items": null,
            "left": null,
            "margin": null,
            "max_height": null,
            "max_width": null,
            "min_height": null,
            "min_width": null,
            "object_fit": null,
            "object_position": null,
            "order": null,
            "overflow": null,
            "overflow_x": null,
            "overflow_y": null,
            "padding": null,
            "right": null,
            "top": null,
            "visibility": null,
            "width": null
          }
        },
        "a36c8172ccea456b8586b6992d37a854": {
          "model_module": "@jupyter-widgets/controls",
          "model_name": "SliderStyleModel",
          "model_module_version": "1.5.0",
          "state": {
            "_model_module": "@jupyter-widgets/controls",
            "_model_module_version": "1.5.0",
            "_model_name": "SliderStyleModel",
            "_view_count": null,
            "_view_module": "@jupyter-widgets/base",
            "_view_module_version": "1.2.0",
            "_view_name": "StyleView",
            "description_width": "initial",
            "handle_color": null
          }
        },
        "4355db936f954f55bc3d68acd439169f": {
          "model_module": "@jupyter-widgets/output",
          "model_name": "OutputModel",
          "model_module_version": "1.0.0",
          "state": {
            "_dom_classes": [],
            "_model_module": "@jupyter-widgets/output",
            "_model_module_version": "1.0.0",
            "_model_name": "OutputModel",
            "_view_count": null,
            "_view_module": "@jupyter-widgets/output",
            "_view_module_version": "1.0.0",
            "_view_name": "OutputView",
            "layout": "IPY_MODEL_90b788bfa09544339cfc6871f7a52d86",
            "msg_id": "",
            "outputs": [
              {
                "output_type": "display_data",
                "data": {
                  "text/plain": "<Figure size 1200x600 with 2 Axes>",
                  "image/png": "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\n"
                },
                "metadata": {}
              },
              {
                "output_type": "stream",
                "name": "stdout",
                "text": [
                  "Processed data saved to: /content/Proper_project/output_csv/glenn_1_Pitch_strength_data.csv and plots displayed.\n"
                ]
              }
            ]
          }
        },
        "90b788bfa09544339cfc6871f7a52d86": {
          "model_module": "@jupyter-widgets/base",
          "model_name": "LayoutModel",
          "model_module_version": "1.2.0",
          "state": {
            "_model_module": "@jupyter-widgets/base",
            "_model_module_version": "1.2.0",
            "_model_name": "LayoutModel",
            "_view_count": null,
            "_view_module": "@jupyter-widgets/base",
            "_view_module_version": "1.2.0",
            "_view_name": "LayoutView",
            "align_content": null,
            "align_items": null,
            "align_self": null,
            "border": null,
            "bottom": null,
            "display": null,
            "flex": null,
            "flex_flow": null,
            "grid_area": null,
            "grid_auto_columns": null,
            "grid_auto_flow": null,
            "grid_auto_rows": null,
            "grid_column": null,
            "grid_gap": null,
            "grid_row": null,
            "grid_template_areas": null,
            "grid_template_columns": null,
            "grid_template_rows": null,
            "height": null,
            "justify_content": null,
            "justify_items": null,
            "left": null,
            "margin": null,
            "max_height": null,
            "max_width": null,
            "min_height": null,
            "min_width": null,
            "object_fit": null,
            "object_position": null,
            "order": null,
            "overflow": null,
            "overflow_x": null,
            "overflow_y": null,
            "padding": null,
            "right": null,
            "top": null,
            "visibility": null,
            "width": null
          }
        },
        "7f9767629b214fd7b2aeadd093b2b34d": {
          "model_module": "@jupyter-widgets/controls",
          "model_name": "VBoxModel",
          "model_module_version": "1.5.0",
          "state": {
            "_dom_classes": [
              "widget-interact"
            ],
            "_model_module": "@jupyter-widgets/controls",
            "_model_module_version": "1.5.0",
            "_model_name": "VBoxModel",
            "_view_count": null,
            "_view_module": "@jupyter-widgets/controls",
            "_view_module_version": "1.5.0",
            "_view_name": "VBoxView",
            "box_style": "",
            "children": [
              "IPY_MODEL_fae4be4739e3447181342b80c739725e",
              "IPY_MODEL_26ec25666563479a8c19caa5bcd04f6f"
            ],
            "layout": "IPY_MODEL_ef09224ff39e4e178f8bd1d66a6b0f5f"
          }
        },
        "fae4be4739e3447181342b80c739725e": {
          "model_module": "@jupyter-widgets/controls",
          "model_name": "DropdownModel",
          "model_module_version": "1.5.0",
          "state": {
            "_dom_classes": [],
            "_model_module": "@jupyter-widgets/controls",
            "_model_module_version": "1.5.0",
            "_model_name": "DropdownModel",
            "_options_labels": [
              "joe",
              "Khm",
              "DM",
              "AH",
              "glenn",
              "misc"
            ],
            "_view_count": null,
            "_view_module": "@jupyter-widgets/controls",
            "_view_module_version": "1.5.0",
            "_view_name": "DropdownView",
            "description": "Select File",
            "description_tooltip": null,
            "disabled": false,
            "index": 0,
            "layout": "IPY_MODEL_61d1c61788fa4b5dacc9a1a60e3854d3",
            "style": "IPY_MODEL_55379cf4cb504467b38387ca055b5f88"
          }
        },
        "26ec25666563479a8c19caa5bcd04f6f": {
          "model_module": "@jupyter-widgets/output",
          "model_name": "OutputModel",
          "model_module_version": "1.0.0",
          "state": {
            "_dom_classes": [],
            "_model_module": "@jupyter-widgets/output",
            "_model_module_version": "1.0.0",
            "_model_name": "OutputModel",
            "_view_count": null,
            "_view_module": "@jupyter-widgets/output",
            "_view_module_version": "1.0.0",
            "_view_name": "OutputView",
            "layout": "IPY_MODEL_3f013bdb5d6948458c134bada0e588f9",
            "msg_id": "",
            "outputs": [
              {
                "output_type": "display_data",
                "data": {
                  "text/plain": "<Figure size 800x600 with 1 Axes>",
                  "image/png": "iVBORw0KGgoAAAANSUhEUgAAAsQAAAIjCAYAAAAEFA25AAAAOXRFWHRTb2Z0d2FyZQBNYXRwbG90bGliIHZlcnNpb24zLjcuMSwgaHR0cHM6Ly9tYXRwbG90bGliLm9yZy/bCgiHAAAACXBIWXMAAA9hAAAPYQGoP6dpAAD110lEQVR4nOy9eZxT9fX//7rZk8kks88w7PsiOwhlE6ooKi60ykdslaVUf/qRqkWt60csVqkLuNQFrdVql6+WaimtiAKKCyIqCK2KCAgMArNPJjPZl/v74973TTLZl5nkJuf5eMzjDjc3995kMszrnvs6r8PxPM+DIAiCIAiCIAoURbZPgCAIgiAIgiCyCQligiAIgiAIoqAhQUwQBEEQBEEUNCSICYIgCIIgiIKGBDFBEARBEARR0JAgJgiCIAiCIAoaEsQEQRAEQRBEQUOCmCAIgiAIgihoSBATBEEQBEEQBQ0JYoIgZMWOHTvAcRx27NiR7VMhMkB3/DyXLl2KAQMGhKzjOA733Xdfxo5BEER+QYKYIIi4cByX0FcioubBBx/Exo0bu/2c//jHP4acm06nw7Bhw7BixQo0NDR0+/HlzoABA0Lev6qqKsyaNQv/+Mc/sn1qWSf4fVEoFKitrcV5551HF2kEIWNU2T4BgiBynz/96U8h/37llVewdevWsPUjR46Mu68HH3wQl19+ORYsWJDJU4zK6tWrMXDgQDidTnz00Ud49tlnsXnzZnz55ZcwGAw9cg5yZfz48bjlllsAAKdOncJzzz2HH//4x3j22Wdx3XXXZeQYZ511FhwOBzQaTUb2Fw2HwwGVKnN/8s4991wsXrwYPM/j6NGjeOaZZ3D22WfjzTffxAUXXJCx4xAE0TOQICYIIi5XXXVVyL8/+eQTbN26NWx9LnLBBRdg8uTJAICf//znKC8vx7p16/DPf/4TV155ZZbPLjp+vx9utxs6nS5r59C7d++Qn/HixYsxZMgQPPbYY2kLYqfTCY1GA4VC0SOvMdPHGDZsWMh786Mf/Qhjx47F448/nvOC2GazoaioKNunQRA5BVkmCILICDabDbfccgv69u0LrVaL4cOH49FHHwXP89I2HMfBZrPh5Zdflm45L126FABw/Phx/O///i+GDx8OvV6P8vJyLFy4EMeOHcvoeZ599tkAgKNHjwIAvF4v7r//fgwePBharRYDBgzAXXfdBZfLJT1n5cqVKC8vD3ktv/jFL8BxHJ588klpXUNDAziOw7PPPiutc7lcWLVqFYYMGQKtVou+ffviV7/6Vcj+2XuzYsUK/OUvf8EZZ5wBrVaLLVu2RHwNF110EQYNGhTxsWnTpkkXAACwdetWzJw5EyUlJTAajRg+fDjuuuuuRN+uEGpqajBy5EjpvQOAkydP4mc/+xmqq6uh1Wpxxhln4MUXXwx5HvMJv/rqq7jnnnvQu3dvGAwGWK3WqB7iDRs2YNKkSdDr9aioqMBVV12FkydPhp3Txo0bMXr0aOh0OowePTqqpSOSh/jkyZNYvnw5amtrodVqMXDgQFx//fVwu91JvzdjxoxBRUVFyHvz7rvvYtasWSgqKkJJSQkuvfRSHDhwQHr8P//5DziOw6ZNm6R1e/bsAcdxmDhxYsj+L7jgAkydOjVk3VtvvSXtv7i4GPPnz8dXX30Vss3SpUthNBpx5MgRXHjhhSguLsZPf/rTpF8fQeQ7VCEmCCJteJ7HJZdcgvfeew/Lly/H+PHj8fbbb+O2227DyZMn8dhjjwEQrBc///nPMWXKFFx77bUAgMGDBwMAPvvsM3z88cdYtGgR+vTpg2PHjuHZZ5/FnDlz8PXXX2fM3nDkyBEAQHl5OQChavzyyy/j8ssvxy233ILdu3djzZo1OHDggCSuZs2ahcceewxfffUVRo8eDQD48MMPoVAo8OGHH+LGG2+U1gGCDQAQqryXXHIJPvroI1x77bUYOXIk/vvf/+Kxxx7Dt99+G+alfvfdd/G3v/0NK1asQEVFRVhjGOOKK67A4sWL8dlnn+HMM8+U1h8/fhyffPIJHnnkEQDAV199hYsuughjx47F6tWrodVqcfjwYezcuTOl987j8eDEiRPSe9fQ0IAf/OAHkpivrKzEW2+9heXLl8NqteLmm28Oef79998PjUaDW2+9FS6XK6pN4o9//COWLVuGM888E2vWrEFDQwOeeOIJ7Ny5E1988QVKSkoAAO+88w4uu+wyjBo1CmvWrEFLSwuWLVuGPn36xH0tp06dwpQpU2CxWHDttddixIgROHnyJP7+97/DbrcnbeFoa2tDW1sbhgwZAgDYtm0bLrjgAgwaNAj33XcfHA4Hfve732HGjBnYu3cvBgwYgNGjR6OkpAQffPABLrnkEgCBz9X+/fthtVphMpng9/vx8ccfS78zgPC7tGTJEsybNw8PPfQQ7HY7nn32WcycORNffPFFyGfH6/Vi3rx5mDlzJh599FGyChFEJHiCIIgkueGGG/jg/z42btzIA+B/85vfhGx3+eWX8xzH8YcPH5bWFRUV8UuWLAnbp91uD1u3a9cuHgD/yiuvSOvee+89HgD/3nvvxTzHl156iQfAb9u2jW9qauJPnDjBv/rqq3x5eTmv1+v577//nt+3bx8PgP/5z38e8txbb72VB8C/++67PM/zfGNjIw+Af+aZZ3ie53mLxcIrFAp+4cKFfHV1tfS8G2+8kS8rK+P9fj/P8zz/pz/9iVcoFPyHH34Ysv/169fzAPidO3dK6wDwCoWC/+qrr2K+Lp7n+fb2dl6r1fK33HJLyPqHH36Y5ziOP378OM/zPP/YY4/xAPimpqa4++xK//79+fPOO49vamrim5qa+P379/OLFi3iAfC/+MUveJ7n+eXLl/O9evXim5ubQ567aNEi3mw2Sz9T9jMbNGhQ2M+568/T7XbzVVVV/OjRo3mHwyFt9+9//5sHwN97773SuvHjx/O9evXiLRaLtO6dd97hAfD9+/cPOQ4AftWqVdK/Fy9ezCsUCv6zzz4Le+3s5xcNAPzy5cv5pqYmvrGxkd+9ezd/zjnn8AD4tWvXSudWVVXFt7S0SM/bv38/r1Ao+MWLF0vr5s+fz0+ZMkX6949//GP+xz/+Ma9UKvm33nqL53me37t3Lw+A/+c//8nzPM93dHTwJSUl/DXXXBNyXvX19bzZbA5Zv2TJEh4Af8cdd8R8TQRR6JBlgiCItNm8eTOUSqVUKWXccsst4Hkeb731Vtx96PV66XuPx4OWlhYMGTIEJSUl2Lt3b8rnNnfuXFRWVqJv375YtGgRjEYj/vGPf6B3797YvHkzAMES0fW8AeDNN98EAFRWVmLEiBH44IMPAAA7d+6EUqnEbbfdhoaGBhw6dAiAUN2bOXMmOI4DINz2HzlyJEaMGIHm5mbpi9k23nvvvZDjzp49G6NGjYr7mkwmEy644AL87W9/C7FxvPbaa/jBD36Afv36AYBUSf3nP/8Jv9+f+Jsm8s4776CyshKVlZUYN24cNmzYgKuvvhoPPfQQeJ7H66+/josvvhg8z4e8vnnz5qG9vT3s57ZkyZKQn3MkPv/8czQ2NuJ///d/Q3y/8+fPx4gRI6SfyenTp7Fv3z4sWbIEZrNZ2u7cc8+N+x76/X5s3LgRF198cYi9hMF+frH4wx/+gMrKSlRVVWHq1KnYuXMnVq5ciZtvvlk6t6VLl6KsrEx6ztixY3HuuedKnztAuPuwd+9e2Gw2AMBHH32ECy+8EOPHj5fuOHz44YfgOA4zZ84EINhgLBYLrrzyypD3XalUYurUqWGfKwC4/vrr474mgihkyDJBEETaHD9+HLW1tSguLg5Zz1Injh8/HncfDocDa9aswUsvvYSTJ0+GCL329vaUz+3pp5/GsGHDoFKpUF1djeHDh0OhUEjnpVAopNvcjJqaGpSUlISc96xZsyQh8+GHH2Ly5MmYPHkyysrK8OGHH6K6uhr79+/HT37yE+k5hw4dwoEDB1BZWRnx3BobG0P+PXDgwIRf1xVXXIGNGzdi165dmD59Oo4cOYI9e/bg8ccfD9nmhRdewM9//nPccccdOOecc/DjH/8Yl19+ufQexGLq1Kn4zW9+A47jYDAYMHLkSElkNzY2wmKx4Pnnn8fzzz+fsdfH3vPhw4eHPTZixAh89NFHIdsNHTo0bLvhw4fHvIhqamqC1WqV7C+pcOmll2LFihXgOA7FxcU444wzpEa1WK9h5MiRePvtt6XGtlmzZsHr9WLXrl3o27cvGhsbMWvWLHz11VchgnjUqFGSuGYXYOzCqismkynk3yqVKiEbCUEUMiSICYLICX7xi1/gpZdews0334xp06bBbDaD4zgsWrQopeomY8qUKRGrgMEkUhGcOXMmfv/73+O7777Dhx9+iFmzZklVuw8//BC1tbXw+/2YNWuW9By/348xY8Zg3bp1EffZt2/fkH/Hq54Gc/HFF8NgMOBvf/sbpk+fjr/97W9QKBRYuHBhyP4++OADvPfee3jzzTexZcsWvPbaazj77LPxzjvvQKlUxjxGRUUF5s6dG/Ex9jO56qqrsGTJkojbjB07NuXXl+v06dMn6nuTDJMnT4ZOp8MHH3yAfv36oaqqCsOGDcOsWbPwzDPPwOVy4cMPP8SPfvQj6Tnsvf/Tn/6EmpqasH12jZfTarUJXQARRCFDgpggiLTp378/tm3bho6OjpAq8TfffCM9zogmPv/+979jyZIlWLt2rbTO6XTCYrF0z0mL5+X3+3Ho0KGQDOWGhgZYLJaQ82ZCd+vWrfjss89wxx13ABAa6J599lnU1taiqKgIkyZNkp4zePBg7N+/H+ecc05CojsZioqKcNFFF2HDhg1Yt24dXnvtNcyaNQu1tbUh2ykUCpxzzjk455xzsG7dOjz44IO4++678d5776Ul6CorK1FcXAyfz5cRYchg7/nBgwfDKqAHDx6UHmdLVi3tul0sKisrYTKZ8OWXX2bilMMIfg1d+eabb1BRUSFVkzUaDaZMmYIPP/wQ/fr1kz5ns2bNgsvlwl/+8hc0NDRIjZpAoBG1qqoqo+89QRQydMlIEETaXHjhhfD5fHjqqadC1j/22GPgOC4kl7WoqCiiyFUqlSE2CQD43e9+B5/P1y3nDAjnDSDEZgBAqujOnz9fWjdw4ED07t0bjz32GDweD2bMmAFAEC5HjhzB3//+d/zgBz8Iqc79z//8D06ePInf//73Ycd2OBySbzRVrrjiCpw6dQovvPAC9u/fjyuuuCLk8dbW1rDnjB8/HgDCYt+SRalU4rLLLsPrr78eUVg2NTWltN/JkyejqqoK69evDznHt956CwcOHJB+Jr169cL48ePx8ssvh1hqtm7diq+//jrmMRQKBRYsWIB//etf+Pzzz8Me7/o5TJbgcwv+rH/55Zd45513pM8dY9asWdi9ezfee+89SRBXVFRg5MiReOihh6RtGPPmzYPJZMKDDz4Ij8cTdvxU33uCKGSoQkwQRNpcfPHF+OEPf4i7774bx44dw7hx4/DOO+/gn//8J26++WapogUAkyZNwrZt27Bu3TrU1tZi4MCBmDp1Ki666CL86U9/gtlsxqhRo7Br1y5s27ZNivjqDsaNG4clS5bg+eefh8ViwezZs/Hpp5/i5ZdfxoIFC/DDH/4wZPtZs2bh1VdfxZgxY1BaWgoAmDhxIoqKivDtt9+G+IcB4Oqrr8bf/vY3XHfddXjvvfcwY8YM+Hw+fPPNN/jb3/6Gt99+O66dIxYsV/bWW2+VBGowq1evxgcffID58+ejf//+aGxsxDPPPIM+ffpIDVrp8Nvf/hbvvfcepk6dimuuuQajRo1Ca2sr9u7di23btkUU5PFQq9V46KGHsGzZMsyePRtXXnmlFLs2YMAA/PKXv5S2XbNmDebPn4+ZM2fiZz/7GVpbW/G73/0OZ5xxBjo7O2Me58EHH8Q777yD2bNnS5F4p0+fxoYNG/DRRx9JXulUeeSRR3DBBRdg2rRpWL58uRS7Zjabw/KQZ82ahQceeAAnTpwIEb5nnXUWnnvuOQwYMCDEA2wymfDss8/i6quvxsSJE7Fo0SJUVlairq4Ob775JmbMmBF2cUoQRByymHBBEIRM6Rq7xvNCFNQvf/lLvra2ller1fzQoUP5Rx55JCzC6ptvvuHPOussXq/X8wCkCLa2tjZ+2bJlfEVFBW80Gvl58+bx33zzDd+/f/+QmLZkY9cixWoF4/F4+F//+tf8wIEDebVazfft25e/8847eafTGbbt008/zQPgr7/++pD1c+fO5QHw27dvD3uO2+3mH3roIf6MM87gtVotX1payk+aNIn/9a9/zbe3t0vbAeBvuOGGmOcaiZ/+9Kc8AH7u3Llhj23fvp2/9NJL+draWl6j0fC1tbX8lVdeyX/77bdx99u/f39+/vz5cbdraGjgb7jhBr5v3768Wq3ma2pq+HPOOYd//vnnpW3Yz2zDhg1hz4/283zttdf4CRMm8Fqtli8rK+N/+tOf8t9//33Y819//XV+5MiRvFar5UeNGsW/8cYb/JIlS+LGrvE8zx8/fpxfvHgxX1lZyWu1Wn7QoEH8DTfcwLtcrpivOdGf1bZt2/gZM2bwer2eN5lM/MUXX8x//fXXYdtZrVZeqVTyxcXFvNfrldb/+c9/5gHwV199dcT9v/fee/y8efN4s9nM63Q6fvDgwfzSpUv5zz//XNpmyZIlfFFRUdxzJYhCh+P5NO8NEQRBEARBEISMIQ8xQRAEQRAEUdCQICYIgiAIgiAKGhLEBEEQBEEQREFDgpggCIIgCIIoaEgQEwRBEARBEAUNCWKCIAiCIAiioKHBHCni9/tx6tQpFBcXZ3wkK0EQBEEQBJE+PM+jo6MDtbW1UCii14FJEKfIqVOn0Ldv32yfBkEQBEEQBBGHEydOhEx87AoJ4hQpLi4GILzBJpMpy2dDEARBEARBdMVqtaJv376SbosGCeIUYTYJk8lEgpggCIIgCCKHiWdvpaY6giAIgiAIoqAhQUwQBEEQBEEUNCSICYIgCIIgiIKGPMQEQRAEQfQYPp8PHo8n26dB5AlKpRIqlSrtCFwSxARBEARB9AidnZ34/vvvwfN8tk+FyCMMBgN69eoFjUaT8j5IEBMEQRAE0e34fD58//33MBgMqKyspKFWRNrwPA+3242mpiYcPXoUQ4cOjTl8IxYkiAmCIAiC6HY8Hg94nkdlZSX0en22T4fIE/R6PdRqNY4fPw632w2dTpfSfqipjiAIgiCIHoMqw0SmSbUqHLKPDJwHQRAEQRAEQcgWEsQEQRAEQRBEQUOCmCAIgiAIIofgOA4bN27M9mkUFCSICYIgCIIgIsBxXMyv++67L+pzjx07Bo7jsG/fvoyf19KlS6Vz0Gg0GDJkCFavXg2v15vxYxUKlDJBEARBEAQRgdOnT0vfv/baa7j33ntx8OBBaZ3RaMzGaQEAzj//fLz00ktwuVzYvHkzbrjhBqjVatx5551ZOyeG2+1OKxM4G1CFmCAIgiCIHofnedjd3qx8JToYpKamRvoym83gOE76d1VVFdatW4c+ffpAq9Vi/Pjx2LJli/TcgQMHAgAmTJgAjuMwZ84cAMBnn32Gc889FxUVFTCbzZg9ezb27t2b9Pun1WpRU1OD/v374/rrr8fcuXOxadMmAEBbWxsWL16M0tJSGAwGXHDBBTh06JD0vldWVuLvf/+7tK/x48ejV69e0r8/+ugjaLVa2O12AIDFYsHPf/5zVFZWwmQy4eyzz8b+/ful7e+77z6MHz8eL7zwAgYOHJhy9Fk2oQoxQRAEQRA9jsPjw6h7387Ksb9ePQ8GTXoS6IknnsDatWvx3HPPYcKECXjxxRdxySWX4KuvvsLQoUPx6aefYsqUKdi2bRvOOOMMqWLa0dGBJUuW4He/+x14nsfatWtx4YUX4tChQyguLk75fPR6PVpaWgAIlopDhw5h06ZNMJlMuP3223HhhRfi66+/hlqtxllnnYUdO3bg8ssvR1tbGw4cOAC9Xo9vvvkGI0aMwPvvv48zzzwTBoMBALBw4ULo9Xq89dZbMJvNeO6553DOOefg22+/RVlZGQDg8OHDeP311/HGG29AqVSm9d5mA6oQEwRBEARBJMmjjz6K22+/HYsWLcLw4cPx0EMPYfz48Xj88ccBAJWVlQCA8vJy1NTUSMLx7LPPxlVXXYURI0Zg5MiReP7552G32/H++++ndB48z2Pbtm14++23cfbZZ0tC+IUXXsCsWbMwbtw4/OUvf8HJkyelRr05c+Zgx44dAIAPPvgAEyZMCFm3Y8cOzJ49G4BQLf7000+xYcMGTJ48GUOHDsWjjz6KkpKSkCqz2+3GK6+8ggkTJmDs2LEpvZZsQhVigiCS4qTFAZvLi2HVqVcyCIIg9Golvl49L2vHTger1YpTp05hxowZIetnzJgRYiWIRENDA+655x7s2LEDjY2N8Pl8sNvtqKurS+oc/v3vf8NoNMLj8cDv9+MnP/kJ7rvvPmzfvh0qlQpTp06Vti0vL8fw4cNx4MABAMDs2bNx0003oampCe+//z7mzJmDmpoa7NixA8uXL8fHH3+MX/3qVwCA/fv3o7OzE+Xl5SHHdzgcOHLkiPTv/v37SxcBcoQEMUEQCXOooQMXP/URXF4/XvnZFMwaKt///AiCyC4cx6VtW5AjS5YsQUtLC5544gn0798fWq0W06ZNg9vtTmo/P/zhD/Hss89Co9GgtrYWKlXi7+WYMWNQVlaG999/H++//z4eeOAB1NTU4KGHHsJnn30Gj8eD6dOnAwA6OzvRq1cvqXocTElJifR9UVFRUuefaxTeJ5EgiJT50yfH4fT4AQAvfnSUBDFBEAWJyWRCbW0tdu7cKVkLAGDnzp2YMmUKAEieYZ/PF/LcnTt34plnnsGFF14IADhx4gSam5uTPoeioiIMGTIkbP3IkSPh9Xqxe/duSdS2tLTg4MGDGDVqFADhYmTWrFn45z//ia+++gozZ86EwWCAy+XCc889h8mTJ0sCd+LEiaivr4dKpcKAAQOSPk+5QB5igiASZm9dm/T9ru9a4PH5s3g2BEEQ2eO2227DQw89hNdeew0HDx7EHXfcgX379uGmm24CAFRVVUGv12PLli1oaGhAe3s7AGDo0KH405/+hAMHDmD37t346U9/Cr1en7HzGjp0KC699FJcc801+Oijj7B//35cddVV6N27Ny699FJpuzlz5uD//b//h/Hjx8NoNEKhUOCss87CX/7ylxCRP3fuXEybNg0LFizAO++8g2PHjuHjjz/G3Xffjc8//zxj551tSBATBJEQLq8PB+s7pH87Pf6QfxMEQRQSN954I1auXIlbbrkFY8aMwZYtW7Bp0yYMHToUAKBSqfDkk0/iueeeQ21trSRG//CHP6CtrQ0TJ07E1VdfjRtvvBFVVVUZPbeXXnoJkyZNwkUXXYRp06aB53ls3rwZarVa2mb27Nnw+XxSHBwgiOSu6ziOw+bNm3HWWWdh2bJlGDZsGBYtWoTjx4+juro6o+edTTg+0TA+IgSr1Qqz2Yz29naYTKZsnw5BdDv//b4dFz/1Ecx6NYZVG/HZsTY8sWg8Lh3fO9unRhCEDHA6nTh69Khsc2qJ3CXWZytRvUYVYoIgEuJQo1ANHtXLhAHlgrfsWLM9m6dEEARBEBmBBDFBEAlxyuIAAPQp1WNAhSCIj7fYsnlKBEEQBJERSBATBJEQJy1OAECvEj0GioL4KAligiAIIg8gQUwQREKcbhcqxL1LdEGWCRLEBEEQhPwhQUwQeYDX58cn37XA6fHF3zhFTrMKsVmP3iVCRFCb3dOtxyQIgiCIniDrgvjpp5/GgAEDoNPpMHXqVHz66acxt9+wYQNGjBgBnU6HMWPGYPPmzSGPv/HGGzjvvPNQXl4OjuOwb9++qPvieR4XXHABOI6T5nsThBy5/fX/YtHzn+DnL3dfJiTzENeW6GDSq6BVCf99NFpd3XZMgiAIgugJsiqIX3vtNaxcuRKrVq3C3r17MW7cOMybNw+NjY0Rt//4449x5ZVXYvny5fjiiy+wYMECLFiwAF9++aW0jc1mw8yZM/HQQw/FPf7jjz8OjuMy9noIIhu0Ozx4fe/3AICPDjfjcGNnxo/R6fKiw+UFANSY9eA4DjVmIdqmocOZ8eMRBEEQRE+SVUG8bt06XHPNNVi2bBlGjRqF9evXw2Aw4MUXX4y4/RNPPIHzzz8ft912G0aOHIn7778fEydOxFNPPSVtc/XVV+Pee+/F3LlzYx573759WLt2bdRjEYRc2HO8NeTfu4+2ZPwYLZ1CFVivVsKoFSa+VxcLgri+nQQxQRAEIW+yJojdbjf27NkTIlwVCgXmzp2LXbt2RXzOrl27woTuvHnzom4fDbvdjp/85Cd4+umnUVNTk9BzXC4XrFZryBdB5AJfnrR2+Xd7xo/RYnMDAMqKNNK6alYhtpIgJgiCIORN1gRxc3MzfD5f2Ni/6upq1NfXR3xOfX19UttH45e//CWmT58eMtM7HmvWrIHZbJa++vbtm9QxCaK7ONIkWCSGVxcD6J5hGa2dgiAuNwYJ4mItABLEBEEQqbB06VIsWLAgrX3s2LEDHMfBYrEAAP74xz+ipKQk7XMrRLLeVNfTbNq0Ce+++y4ef/zxpJ535513or29Xfo6ceJE95wgQSTJyTah2W3a4HIAwIm2bhDEESrEkoeYmuoIgshjli5dCo7jwHEcNBoNhgwZgtWrV8Pr9aa13yeeeAJ//OMfM3OSIldccQW+/fbblJ//xz/+UXqtCoUCffr0wbJly6L2duUTqmwduKKiAkqlEg0NDSHrGxoaotoYampqkto+Eu+++y6OHDkSdgV12WWXYdasWdixY0fE52m1Wmi12oSPQxA9xfdBgviPHx/D6XYnvD4/VMrMXe9Gskyw79vs7owdhyAIIhc5//zz8dJLL8HlcmHz5s244YYboFarceeddya9L5/PB47jYDabM36eer0eer0+rX2YTCYcPHgQfr8f+/fvx7Jly3Dq1Cm8/fbbGTrL1OF5Hj6fDypV5uVr1irEGo0GkyZNwvbt26V1fr8f27dvx7Rp0yI+Z9q0aSHbA8DWrVujbh+JO+64A//5z3+wb98+6QsAHnvsMbz00kvJvxCCyCJur19KeZjYrxQalQI+P4/TGW50a7UJVeDyCIK4pZMEMUEQKcDzgNuWnS+eT+pUtVotampq0L9/f1x//fWYO3cuNm3aBEDoMbr11lvRu3dvFBUVYerUqSHFNWZj2LRpE0aNGgWtVou6urowy4TL5cKNN96Iqqoq6HQ6zJw5E5999lnIeWzevBnDhg2DXq/HD3/4Qxw7dizk8UiWiX/9618488wzodPpUFFRgR/96EcxXyvHcaipqUFtbS0uuOAC3Hjjjdi2bRscDgf8fj9Wr16NPn36QKvVYvz48diyZYv03MsvvxwrVqyQ/n3zzTeD4zh88803AIT+saKiImzbtg2AoPvWrFmDgQMHQq/XY9y4cfj73/8uPZ9ZQt566y1MmjQJWq0WH330UczzT5WsVYgBYOXKlViyZAkmT56MKVOm4PHHH4fNZsOyZcsAAIsXL0bv3r2xZs0aAMBNN92E2bNnY+3atZg/fz5effVVfP7553j++eelfba2tqKurg6nTp0CABw8eBCAUF0O/upKv379MHDgwO5+yQSRUU63O8DzgE6tQIVRgz6lenzXZMOJVjv6lhkydpxAhThwl4QqxARBpIXHDjxYm51j33UK0BSl/HS9Xo+WFiHRZ8WKFfj666/x6quvora2Fv/4xz9w/vnn47///S+GDh0KQGjmf+ihh/DCCy+gvLwcVVVVYfv81a9+hddffx0vv/wy+vfvj4cffhjz5s3D4cOHUVZWhhMnTuDHP/4xbrjhBlx77bX4/PPPccstt8Q8zzfffBM/+tGPcPfdd+OVV16B2+0Om9+QyGv1+/3wer1Yv3491q5di+eeew4TJkzAiy++iEsuuQRfffUVhg4ditmzZ+O5556Tnvv++++joqICO3bswIgRI/DZZ5/B4/Fg+vTpAIT+rD//+c9Yv349hg4dig8++ABXXXUVKisrMXv2bGk/d9xxBx599FEMGjQIpaWlSZ1/omTVQ3zFFVfg0Ucfxb333ovx48dj37592LJli9Q4V1dXh9OnT0vbT58+HX/961/x/PPPS1cRGzduxOjRo6VtNm3ahAkTJmD+/PkAgEWLFmHChAlYv359z744gugBmF2id4mQDcwmyJ3KeIVYbKoLqhCXGjTSY3yS1RaCIAg5wvM8tm3bhrfffhtnn3026urq8NJLL2HDhg2YNWsWBg8ejFtvvRUzZ84Muevs8XjwzDPPYPr06Rg+fDgMhtCChc1mw7PPPotHHnkEF1xwAUaNGoXf//730Ov1+MMf/gAAePbZZzF48GCsXbsWw4cPx09/+lMsXbo05vk+8MADWLRoEX79619j5MiRGDduXFI2j0OHDmH9+vWYPHkyiouL8eijj+L222/HokWLMHz4cDz00EMYP3681Jc1Z84cfP3112hqakJbWxu+/vpr3HTTTVLFfMeOHTjzzDNhMBjgcrnw4IMP4sUXX8S8efMwaNAgLF26FFdddVWIqAaA1atX49xzz8XgwYNRVlaW8PknQ1YrxIBwZRVcXg8mkp934cKFWLhwYdT9LV26NO4HpCv0x5yQK00dgpWBNbhVGoUKLssNzhQWuwcAUGJQS+tY4oTL64fd7UORNuv/nRAEISfUBqFSm61jJ8G///1vGI1GeDwe+P1+/OQnP8F9992HHTt2wOfzYdiwYSHbu1wulJeXS//WaDQYO3Zs1P0fOXIEHo8HM2bMCJyiWo0pU6bgwIEDAIADBw5g6tSpIc+LZxndt28frrnmmoRfJwC0t7fDaDTC7/fD6XRi5syZeOGFF2C1WnHq1KmQcwSAGTNmYP/+/QCA0aNHo6ysDO+//z40Gg0mTJiAiy66CE8//TQAoWI8Z84cAMDhw4dht9tx7rnnhuzP7XZjwoQJIesmT56c1GtIBfoLRhAyprmTeXsFIcxEanOGBbHVKQhisz4giPVqJbQqBVxeP1ptbhLEBEEkB8elZVvoSX74wx/i2WefhUajQW1trdTU1dnZCaVSiT179kCpVIY8x2g0St/r9fqsTMZNpcGuuLgYe/fuhUKhQK9evaR9JDJ/geM4nHXWWdixYwe0Wi3mzJmDsWPHwuVy4csvv8THH3+MW2+9FYDw3gGCraN3794h++kaYlBU1P2fk4KLXSOIfIJ5e5kQLpcqxJn19VodQryQKUgQcxxHPmKCIAqCoqIiDBkyBP369QtJOJgwYQJ8Ph8aGxsxZMiQkK9kErAGDx4MjUaDnTt3Sus8Hg8+++wzjBo1CgAwcuRIfPrppyHP++STT2Lud+zYsWFhBPFQKBQYMmQIBg0aFCKoTSYTamtrQ84RAHbu3CmdIwDMnj0bO3bswI4dOzBnzhwoFAqcddZZeOSRR+ByuaQKc3CDYdf3LhuzHqikQxAyhlkjKkQhzJZN3VQhDhbEgNBYd7rdKQlzgiCIQmLYsGH46U9/isWLF2Pt2rWYMGECmpqasH37dowdO1bqZ4pHUVERrr/+etx2220oKytDv3798PDDD8Nut2P58uUAgOuuuw5r167Fbbfdhp///OfYs2dP3BzjVatW4ZxzzsHgwYOxaNEieL1ebN68GbfffntKr/e2227DqlWrMHjwYIwfPx4vvfQS9u3bh7/85S/SNnPmzMEvf/lLaDQazJw5U1p366234swzz5SqvcXFxbj11lvxy1/+En6/HzNnzkR7ezt27twJk8mEJUuWpHSOqUKCmCBkDKsEs0otqxRnskLs9Pjg9voBACZd6H8ZUoWYBDFBEAXKSy+9hN/85je45ZZbcPLkSVRUVOAHP/gBLrrooqT289vf/hZ+vx9XX301Ojo6MHnyZLz99ttSqkK/fv3w+uuv45e//CV+97vfYcqUKXjwwQfxs5/9LOo+58yZgw0bNuD+++/Hb3/7W5hMJpx11lkpv9Ybb7wR7e3tuOWWW9DY2IhRo0Zh06ZNUpoGAIwZMwYlJSUYNmyYZBuZM2cOfD6f5B9m3H///aisrMSaNWvw3XffoaSkBBMnTsRdd92V8jmmCsdTR1lKWK1WmM1mtLe3w2QyZft0iALl0qd3Yv8JC56/ehLOO6MGX55sx0W/+whVxVp8evfcjByjscOJKQ9sB8cBRx64EApFwAd34//7Apv2n8I980fi57MGZeR4BEHkJ06nE0ePHsXAgQOh0+myfTpEHhHrs5WoXiMPMUHIGGlghjG0qa7V5obfn5lrXeYfLtaqQsQwEKgQt1KFmCAIgpAxJIgJQsYwa0SFKISZQPX6eXQ4vRk5RjT/cPDxqKmOIAiCkDMkiAlCpjg9PtjdPgBAiTgkQ6tSQq8Won/aHZ6MHMcq7sekCxfEpTS+mSAIgsgDSBAThExhlVuOE+wMDJYVbHFkRqRanSxyLbwHt9TAjpUZ8U0QBEEQ2YAEMUHIlGjeXjZNricqxGydlQQxQRAJQr38RKbJxGeKBDFByBRpepwhVKgyr2/GBHEMDzGrRpMgJggiHmySm9tNFisis9jtdgDCuOtUoRxigpAp0Sq35kwLYjalLlKFmAniDDXwEQSRv6hUKhgMBjQ1NUGtVkOhoJockR48z8Nut6OxsRElJSVh47OTgQQxQcgUydsbRRBb7JkRxB1ShTj8vwt2rE6XF16fHyol/YEjCCIyHMehV69eOHr0KI4fP57t0yHyiJKSkqRGZUeCBDFByBSpQtxFqJZk2MYQTXgDQHHQ5LoOp1dKnSAIgoiERqPB0KFDyTZBZAy1Wp1WZZhBgpggZIrk7e12y4Swn2Jd+H8XaqUCRRolbG4f2h0eEsQEQcRFoVDQpDoi56D7mwQhUyRvb5dmN3OmUyZiNNUFr2fbEQRBEITcIEFMEDIlXoU4cx5iMd4tQoU4+HiZEuAEQRAE0dOQICYImdIexUPMBHKnKzPJDzZxP0ZtZEEcyCKmpAmCIAhCnpAgJgiZEi12rUgUrpkSxGw/RdEEMVWICYIgCJlDgpggZApLfzB38fYaMyiIeZ6H3e0DABRpYlsmyENMEARByBUSxAQhUzockZvdmNe3MwPDMlxeP3x+YSRmkTZyrA2zbFCFmCAIgpArJIgJQqZYowzMYBVih8cHr8+f1jGCq8yGeBViEsQEQRCETCFBTBAyhOf5qCOVg72+NpcvreOwhjq9Wgmlgou4DTs+VYgJgiAIuUKCmCBkiMvrh1us/na1TGhUCmhUwq92hys9kcoEdbSGOiDYQ0wpEwRBEIQ8IUFMEDKE2SU4DijShHt7i0UBm3aF2M0i16KPxaSUCYIgCELukCAmCBlidwWSHzgu3MpgZI11aVaI40WuAYEKcQcJYoIgCEKmkCAmCBkSEKqRK7essa4jTRtDsPCOBqVMEARBEHKHBDFByJB42cCZGs5hiyO8gdDRzTzPp3U8giAIgsgGJIgJQobY4lgZmIc43SziRCwTLGXC6+fh8KTnWSYIgiCIbECCmCBkCBOqhggNdUCwhzhNy4TYVBfLMmHQKKESI9nINkEQBEHIERLEBCFD7FL6Q2ShmqnxzZ0JxK5xHCclTaTrWSYIgiCIbECCmCBkSDyhaszQ+GZmzYgVuwYExkXTtDqCIAhCjpAgJggZEq/ZzajJUFOdWIk2xKgQAwEfMVWICYIgCDlCgpggZIgtjreXVYg7MpYyEVsQSxViJ1WICYIgCPlBgpggZEg8oWqUJtWlK4h94v4StExQhZggCIKQISSICUKG2CQPcWShWpwhD7EUuxYjZQIItkxQhZggCIKQHySICUKGxKsQZ2owhxS7FtcyIQhiq4MqxARBEIT8IEFMEDIknofYIK5n26V8HLESHS3vmMEq0lQhJgiCIOQICWKCkCHxYteYlcLhTm9yXKIVYsohJgiCIOQMCWKCkCH2OLFrBjVrqktXEAvP16sTbaqjCjFBEAQhP0gQE4QMscVpdjOwCrHHB7+fT+kYfj8Pl9cv7C+OZYJyiAmCIAg5Q4KYIGRIZ7ymuiCh7PCkViUOfp4+riCmSXUEQRCEfCFBTBAyg+d5ycoQzTKhUyvAccL39hR9xMHP06niWSaoQkwQBEHIFxLEBCEzXF4/vKINIlqFmOM4GETfrz3FpAlHkH9YoeBibmvSU8oEQRAEIV9IEBOEzAiu3MYamKHXpNdYxywT8fzDQKBCbHP74PX5UzoeQRAEQWQLEsQEITNYQ51OrYAyRuVWil7zpFYhZpVlXZyECSCQMgGkPwyEIAiCIHoaEsQEITMCldvY2cCGdCvE7sQrxGqlQopmIx8xQRAEITeyLoiffvppDBgwADqdDlOnTsWnn34ac/sNGzZgxIgR0Ol0GDNmDDZv3hzy+BtvvIHzzjsP5eXl4DgO+/btC3m8tbUVv/jFLzB8+HDo9Xr069cPN954I9rb2zP90giiW3AkmA3MhGyqTXXJWCaAQJW4nZImCIIgCJmRVUH82muvYeXKlVi1ahX27t2LcePGYd68eWhsbIy4/ccff4wrr7wSy5cvxxdffIEFCxZgwYIF+PLLL6VtbDYbZs6ciYceeijiPk6dOoVTp07h0UcfxZdffok//vGP2LJlC5YvX94tr5EgMg0Tqjp17F/fgCBO1TLBjpOcIKYKMUEQBCE3Yt9z7WbWrVuHa665BsuWLQMArF+/Hm+++SZefPFF3HHHHWHbP/HEEzj//PNx2223AQDuv/9+bN26FU899RTWr18PALj66qsBAMeOHYt4zNGjR+P111+X/j148GA88MADuOqqq+D1eqFSZfUtIYi4MEEcLxs47QpxEpYJIDC+mabVEQRBEHIjaxVit9uNPXv2YO7cuYGTUSgwd+5c7Nq1K+Jzdu3aFbI9AMybNy/q9onS3t4Ok8kUUwy7XC5YrdaQL4LIBi5WIY6TDcwSKFKvEAvPi+dVZlAWMUEQBCFXsiaIm5ub4fP5UF1dHbK+uroa9fX1EZ9TX1+f1PaJnsf999+Pa6+9NuZ2a9asgdlslr769u2b8jEJIh0SrhCLKROpx675EzoOw6SjLGKCIAhCnmS9qS6bWK1WzJ8/H6NGjcJ9990Xc9s777wT7e3t0teJEyd65iQJogsOtyBU43l7WWU35dHNYoU4XvMeg1WIrQ6qEBMEQRDyImuG2YqKCiiVSjQ0NISsb2hoQE1NTcTn1NTUJLV9LDo6OnD++eejuLgY//jHP6BWq2Nur9VqodVqkz4OQWQaqUKcYMqELcVcYHuyHmKqEBMEQRAyJWsVYo1Gg0mTJmH79u3SOr/fj+3bt2PatGkRnzNt2rSQ7QFg69atUbePhtVqxXnnnQeNRoNNmzZBp9Ml/wIIIks4kxTEjhSb6uwJWjMYrKmOPMREtth/woLfvvUN9hxvzfapEAQhM7IaqbBy5UosWbIEkydPxpQpU/D444/DZrNJqROLFy9G7969sWbNGgDATTfdhNmzZ2Pt2rWYP38+Xn31VXz++ed4/vnnpX22trairq4Op06dAgAcPHgQgFBdrqmpkcSw3W7Hn//855AGucrKSiiVif3xJ4hsIeUQx02ZEAdzpNhU50yyQsxi1yhlgsgGJ1rtuOL5XXB6/Hhx51G8+YuZGFpdnO3TIghCJmRVEF9xxRVoamrCvffei/r6eowfPx5btmyRGufq6uqgUASK2NOnT8df//pX3HPPPbjrrrswdOhQbNy4EaNHj5a22bRpkySoAWDRokUAgFWrVuG+++7D3r17sXv3bgDAkCFDQs7n6NGjGDBgQHe9XILICIEc4jgpE9r0YtfsCQ4AYVAOMZFNntlxBE6xEdTt9eP5D77DIwvHZfmsCIKQC1kP3V2xYgVWrFgR8bEdO3aErVu4cCEWLlwYdX9Lly7F0qVLoz4+Z84c8Dyf7GkSRM6QqIdYr2axa+laJhL7b8KkoxxiIjs4PT7844vvAQC3nDsMa7d+i60HGuD1+aFSFnTvOEEQCUL/UxCEzHBKlonYv75F2vSa6hxSDnFyKRNUISZ6mp2Hm+H0+FFr1uH6OYNRalDDYvfgs2Nt2T41giBkAgligpAZyaZMpBy7lnRTHaVMENnhvYONAICzR1ZBpVRg5tBKAMDnx6i5jiCIxCBBTBAygwlVbYI5xKkO5kjeQ0w5xER2+KLOAgCYNqgCADCujxkAsP/79mydEkEQMoMEMUHIjERj19joZkeKKROOFFMm3D6/dI4E0d04PT58U98BABjfrwQAMK6vsPzP95bsnBRBELKDBDFByAxppHK8pjpRyNo9vpQaSZMdzGHUqMBxwvfkIyZ6iq9OtcPn51Fh1KLWLGTKj641Q8EBjR0uNHY4s3yGBEHIARLEBCEznAnmELOmOp6HFEeVDI4kUyYUCg5GLWUREz3L/hOCLWJ8XzM48YpMr1GiT6kBAPBdky1r50YQhHwgQUwQMiPRHGKdKvB4ssM5fH4ebm9ilehgTJQ0QfQw+0VbxNg+JSHrB1cWAQCONHX28BkRBCFHSBAThMxINGVCoeAku4M9ycY6e5CATtQyAQQP56AKMdEzHBT9w2fUmkLWD6o0AqAKMUEQiUGCmCBkRqKWCSCQNGH3JFexZQ11HAdoVYn/N2GipAmiB/H6/JLgHdZlTPNgURBThZggiEQgQUwQMiPRCjEQqO4mG73GjmFQKyVfZiJQFjHRkxxvtcPt80OvVqJ3iT7ksQEVgoe4rtWejVMjCEJmkCAmCBnh8fnh9QuJEckIYkeS45vtSVShgymm8c1ED3KoQaj+DqkyQqEIvXBjAvmUxZFSygpBEIUFCWKCkBHBU+d0cUY3A0HRa0k21aUuiFmFmCwTRPdzqEHwDw+tNoY9ViNGsDk9frTa3D16XgRByA8SxAQhI5h/WMEBGmX8X19pOEeSgzKckmUiscg1BqVMED3Jt41ChXhoVXHYY1qVElXFWgDAKQtlERMEERsSxAQhI1iesC5Bb68+RQ9xuhViq4MsE0T3c7Q5YJmIRK1omzhpIR8xQRCxIUFMEDIimYY6IOAhTt4y4U3qOIyAh5gqxET3wvM8jrcIQndAuSHiNr0lQUwVYoIgYkOCmCBkRKJDORipNtU5khzbzKCUCaKnsNg9kjWnb1kUQVwaaKwjCIKIBQligpARjiStDHo1yyFOLXYt9ZQJqhAT3ctxMU6t2qSNeoFYKzbWnWwjQUwQRGxIEBOEjHCmaJlIOXYtScuEiSbVET3E8RZhIEf/sqKo2wQ8xCSICYKIDQligpARyXqIU41dS9UyIVWIqamO6GZOiBXiflH8wwDQyywI4gYreYgJgogNCWKCkBFMqOoSFKqBprpUUyaSjV0Ttu90eWkYAtGtsIa6flH8wwBQKcautdjc8Pnp80gQRHRIEBOEjAhUiBP71ZVyiJNtqvOk2lQnVIj9PGBL8pgEkQzMQ9w/RoW43KgBAPj8PNrsNJyDIIjokCAmCBkR1UPs8wB/+jFwnxnYsFRaLeUQJ22ZSC12TatSQK0U8pHJNkF0J3UJVIjVSgXKigRR3Nzp6pHzIghCnpAgJggZETVl4vR/gCPbhe+/+gdw6gsAGWiqS7JCzHGc5COmaXVEd+H0+FAv+oL7l0dvqgOASqNgm2jqIEFMEER0SBAThIxwegWhqlV1Eaq2ptB/Pz8HQHBTXc9YJgBKmiC6n+/bhOqwUatCqUEdc1vmIyZBTBBELEgQE4SMcLiF0c1hldvOhojbG0QPcdKCOMWUCSA4i5gEMdE9BDfUxRthToKYIIhEIEFMEDIiauzaqb2h/zbWAAiyTCQ5mIMJ6EQn4gUTmFZHlgmie2CCOFZDHYMEMUEQiUCCmCBkRNSmusOif3jWLcLS3gz4/dJ2SecQS5aJ5GLXAKBYS1nERPdS1xq/oY4heYipqY4giBiQICYIGRE1h9jWLCzH/URY+r2Ao02qEDs9fviTyGFlAjo1y4Qgoml8M9Fd1CUwlINBFWKCIBKBBDFByIiIlgmPA/CKo2mNVYChXPi+sx5FWlXYcxM6ToopE0Agi5gsE0R3EXNss98HHPg3UPcJ4OpEBaVMEASRACSICUJGRBTEjjZhySkBbTFgrBb+3dkArUoB1nOUTBZxsiOigwlUiMkyQWQev5/HiTbhAjCih3jfX4DXfgq8OA/YeD0qioUcYrJMEAQRCxLEBCEjJA+xJuhXlwlifSnAcUKVGACaD4PjOBjUyWURe3x+eHyCvSKdlAmqEBPdQb3VCbfXD5WCQy+zLvRBngc++0Pg3wc2SYM52h0eGt9MEERUSBAThIxwREp/aDkiLIuFZAn0nSosv/k3AECfZPRasLUiFcuEWbRMtFNTHdENMP9w71I9VMouf8IObgZO7wtZVXZU+D3gefpMEgQRHRLEBCEjIloZTuwWlkwI95smLDsbAQSqvAkLYnE7BQdougqOBChhgtjuTvq5BBGPmCObj34Ytkr1xnLJxtNqo88kQRCRIUFMEDLC6YkwmINNqSsdICwNZcJStFIkO77Z7g5ErsUbehCJEnFymIWqcUQ3cLxVbKiL5B/urBeWA2YB5UOl1WXsM0kXaQRBRIEEMUHICOYh1gWPbnZahaXOJCz1pcLS0QbwfND45sQ8vekkTABAiUHwbFrsJIiJzHM8VoW49TtheeZyYPFGaXVfvSCEqUJMEEQ0SBAThEzgeT5gmQgWq852YakzC0smiH0uwONIelqdw5N6BjEQqBBbnak3MbU7PPj1v77Cqn9+SSKGCCEwlKNL5JrlBHB6v/B9+RDA3AcoEhpMh2haAQBtVCEmCCIKyY+hIggiK3h8vCQwQ5rqXGKFWCtWiDVGQKkBfG6g47Q0bc7mSs4ykUrkGhBoquN5YVpdqdjlnyg8z2PFX/fiw0PCsJFv6jvw6rU/SMm+QeQfTBCHWSaavxWWpt5AzRjh+9L+gK0RA5RNAMxotdFdC4IgIkMVYoKQCSHpD+pIlgmxQsxxQPVo4ftTXwQ11SVmmbCnaZlQKxUwigNBUvER7zneJolhANh9tBV769pSOhciv2h3eCQrTphlgnnpKwLeYZT0AwD0gdBgShVigiCiQYKYIGQC8w8rFRzUSrFayvOBHGImiAGg+gxh2XIk6aY6dpxULRNAoEqcShPTnz85DgC4YnJf/HhibwDAG3tPpnwuRP7AEiYqjJqQKYwApFQVZpMAAJT0BwBU+4XHyH5DEEQ0SBAThExwBFkZJPuAvRVwdwjfm/sENmY+YpcVerWYQ5yghzhdywSQetKEx+fHtgOCePmfM/tiwXhBEL/zdQN4noYqFDosYSJiQx2zTBiDBHGpKIgdhwEAbSSICYKIAnmICUImMMtE6FAO4Q89TH0AtT6wnlWLne0w6FKLXWMDPVKBCeL2JJMmPj/Whk6XF+VFGkzoWwK3zw+NUoGmDheOt9gxoKIo/k6IvCXgH47wOTj0jrAcODuwTqwQV7XtRQ1a0Gov6eYzJAhCrlCFmCBkgiPS2ObOBmFpqg3dOEgQJxu7Jlkm0qkQ61n0WnIVuY8OCz7Q2cMqoVBw0KmVGNtHeC2fHmtN+XyI/CDqUA6/L2CZ6DUusL7/dOnbIYpTVCEmCCIqJIgJQiY4I1kZ3J3CUlscunFwhTjJSXVMOKfaVAcEKsRtSVaI9x63AACmDCyT1k0eIHz/RZ0l5fMh8oOoGcQOCwDRUmMIfHag0gKD5gAAKmFJ+vNIEEThQIKYIGRCxLHNrsQFcfKWifQFcXsSHmKfn8f+7y0AgAn9SqX1o2qFOLmD9daUz4fID463CB7iMOuMXUwl0ZkBpTr0MWM1AKCSs6Dd4YHX5+/u0yQIQoaQICYImcDGNmsjZhAbQzdmgthlDeQQ57hl4mB9B+xuH4xaFYZUBV7PiBpB7H/b0Al/ioM+CPnj9Phwqt0JABjQNYPY3iIsDeXhTxSb7Ko4YYANjRQnCCISJIgJQiZErBAzy4SmS4WYDenIUoXYnIJl4osTQnzc+L4lUCoCQzgGVhRBo1Sg0+XFSYsj5XMi5M0JsaGuWKtCWddhLzaxQmyoCH+iWCGuVQkXj+QjJggiEiSICUImxLZMRKkQO9uhVwu/5ol7iNMXxGWG5CvE//1eqOCN62sOWa9WKjCoUrhF/m1DR8rnRMibY6J/uH+FIXxqYcwKsSCIa5SCIKYsYoIgIpF1Qfz0009jwIAB0Ol0mDp1Kj799NOY22/YsAEjRoyATqfDmDFjsHnz5pDH33jjDZx33nkoLy8Hx3HYt29f2D6cTiduuOEGlJeXw2g04rLLLkNDQ0MmXxZBZBxnJKHqEgWiJoog9nthVAhV2kQFcSYGc5QbBUHc3Jm4+DhQL7yWkb1MYY8xQXy02ZbyORHyhvmHI0auMQ9xUXTLRAUsAGhaHUEQkcmqIH7ttdewcuVKrFq1Cnv37sW4ceMwb948NDY2Rtz+448/xpVXXonly5fjiy++wIIFC7BgwQJ8+eWX0jY2mw0zZ87EQw89FPW4v/zlL/Gvf/0LGzZswPvvv49Tp07hxz/+ccZfH0Fkkog5xDY2nasydGNNEcAJ2xXBFvL8eGRiMEeFUQsAaLG5Ehqo4ffzOCRWf5lnOJgBogg61kKCuFBhP/sw/zAgDKgBYlaIy3jBkmOhpAmCICKQVUG8bt06XHPNNVi2bBlGjRqF9evXw2Aw4MUXX4y4/RNPPIHzzz8ft912G0aOHIn7778fEydOxFNPPSVtc/XVV+Pee+/F3LlzI+6jvb0df/jDH7Bu3TqcffbZmDRpEl566SV8/PHH+OSTT7rldRJEJohombCeFpamXqEbcxygEyqtBp9gq0g0hzjmYA63XRgXHQdWIXZ6/AlVpr9vc8Du9kGjUkjiNxiWKnCs2R53X0R+wiLXIlaI2YCa4l7hj4mC2OjvgAaepJJPCIIoHLImiN1uN/bs2RMiXBUKBebOnYtdu3ZFfM6uXbvChO68efOibh+JPXv2wOPxhOxnxIgR6NevX8z9uFwuWK3WkC+C6Emk0c3Bgzmsp4SlqXf4E0TbhMEvCGKnx59QSoNDFM4hlgmeB9bPAh7sBbx9V9x9GDQqSbi3JGCb+EaMVBtSaYRKGf7f0sAKskwUOpIg7ppBzPPA8Y+F7/vPCH+ivhRQCE2e5bCSICYIIiJZE8TNzc3w+Xyorq4OWV9dXY36+vqIz6mvr09q+2j70Gg0KCkpSWo/a9asgdlslr769u2b8DEJIhM4u1aIfR7AJTSihVkmAEkQ6/wBEZmIbSJiJbqzAaj/j/D9J88kdL6Sj9jmirvtwfrodgkgIIJOtzvgoRzZgsPt9eP7NkEQh2UQu22BtJWyQeFP5riwLGKCIIiuZL2pTi7ceeedaG9vl75OnDiR7VMiCowwDzETAUB4Ux0gRa9pPB1gTfmJZBGHpUz4PMDa4aEbJWSbEH3EiVSIRf/w8CiCuMKohVrJwc8DDVZn3P0R+cVJiwN+HtCpFagq1oY+6BC8wVBqBO98JIqEOLYKrp0EMUEQEcmaIK6oqIBSqQxLd2hoaEBNTU3E59TU1CS1fbR9uN1uWCyWpPaj1WphMplCvgiiJ3F0Fapu0U+rUAMqTfgTxAox52qXhmwkkkXMtpEsE23HwjdyWuLup0LMim3pTLxCHE0QKxQcepn1AIBTFhLEhUagoa4oPHLNITbU6cuAro8xxDso5RxZJgiCiEzWBLFGo8GkSZOwfft2aZ3f78f27dsxbdq0iM+ZNm1ayPYAsHXr1qjbR2LSpElQq9Uh+zl48CDq6uqS2g9B9DROr2AV0KmYIBatENGqYroS8YntUoNcvAY3j88Pr+gzNqjFpjpbU/iGlvh3SJhloiVO7qvL65O8wSNqol9o1pboAAi2CaKwON7MItdiJUyURd+BWCEmDzFBENGI0Ebec6xcuRJLlizB5MmTMWXKFDz++OOw2WxYtmwZAGDx4sXo3bs31qxZAwC46aabMHv2bKxduxbz58/Hq6++is8//xzPP/+8tM/W1lbU1dXh1Cmh2ejgwYMAhMpwTU0NzGYzli9fjpUrV6KsrAwmkwm/+MUvMG3aNPzgBz/o4XeAIBInLIdYmlIXTRCz4RxWqdobTxAHP65jzXtsCljfqUBnI9B2FNj5OHB55DQYBrNMNMepEB9u7ITPz8OsV6PapI26Xa1YIaZpdYXHcXFKXaQEEqmxNFLkGkN8rIzrIEFMEEREsiqIr7jiCjQ1NeHee+9FfX09xo8fjy1btkiNc3V1dVAoAkXs6dOn469//Svuuece3HXXXRg6dCg2btyI0aNHS9ts2rRJEtQAsGjRIgDAqlWrcN999wEAHnvsMSgUClx22WVwuVyYN28ennkmsUYhgsgWYc1uHtEyEVUQJz++mT2uVHDQsLSHTtGmVFQJNB4Qvv/y9fiCWLJMxK4QB9slwm6HB1FbwiwTJIgLjZiRayc/F5a9xkXfAasQk2WCIIgoZFUQA8CKFSuwYsWKiI/t2LEjbN3ChQuxcOHCqPtbunQpli5dGvOYOp0OTz/9NJ5++ulkTpUgskp4U108y0TQ+GapQhy7qY4dw6BWBsTp4W3CsmwQMGAWsOX2hM43eDhHLCRBXB3ZP8zoxSwT5CEuOL5rEu6GRBzK0XZcWFafEX0Hooe4DFZYHR74/TwUiugXXwRBFB6UMkEQMiG8qU4UxOo4gtgVsEzEi11jglkXnEHc9I2wHHY+MJpNdOQAf+x9MQ9xozW2IP4mTkMdg1WIyTJRWLi8PtSJlokhVRHSVFjKhD6Gh9gQqBD7eaDDldiQGoIgCgcSxAQhE8JyiONViLUBy4RenVhTXVjCBBAQHEWVQaKDDzQzRaGXWajo1seJSYuXQczoLQri0+1UIWZ819SJPcdbExqPLVeOt9jh54FirQqVXSPXgCBBXBJ9J5JlQvisWck2QRBEF0gQE4RMCPMQJ2GZKNIKz7HFqYyFHcPnBZzi8A99KaBUBUSxvTnmvmrEJrgOpxedUY7bbvdIgnlYHEHMBHa7w5PwGOp85uMjzTj3sQ9w2bO78PR7h7N9Ot3G4UbBLjG4yhjZY84iAPWl0XcS5CFWwE8+YoIgwiBBTBAygOf5gIeYpT94mCCO4KsEQgRxok11YUM5mBgGAoJDFBdS+kQUjFoVinVCZbo+SlTaQXEgR+8SPUw6ddz9MaHe1BE/2zjfeWzrt/CJEXnP7DiCDmd+irwjTBBXRrBL+P2AwyJ8z2IGI2HqA6iLoIMbg7lTJIi74PPz0h0ogihUSBAThAxwef3ScLjwCnEEoQCExK5Jlok4f/TCLBP2FvEYxUJ1GJD8mBHzibvAqrrRbA4H660A4vuHAYDjOOmWeWOBC+KmDhc+OyZYBfRqJexuHz4+0pLls+oejjSxCnGEOyGudgDsF6Mk+k6UKqBmDABgOHeCBHEQjVYnzl33Pias3oqPDsW+yCWIfIYEMUHIgODqTSBlIsHYNa8DxSrh+XFj1yTLhCh+G74UluWDAhuxCrE9vgBj0+WiJUN8fTox/zCDje0t9Arxp0cF//aImmJcPqkPAGBXngriw6IgHhKpQsyqw+oiQBU9wxoAYBSSJkq4ThLEQTz93mF812yDw+PDr//1VV770QkiFiSICUIGOD3ClDq1koOa5QOzwRzqKJYJbWDqm1khWBbieW/DLBP1/xWWvScFNhIjrNAS37car0L8jVghHtkrsVHolSSIAQC7jwrid+rAMkwbLAyd+PhI/lX3/H4eRxqFOyGDYyZMlMTfmWj5McMGi50EMSBYsd78b73070ONnfi2oTOLZ0QQ2YMEMUHIAMk/rApKf4hnmVAoJVFs5oRqcvyUCUEwG1gVmgkOY3Vgo/7TheW3W+Ket1QhjuAh9vt5KWFiZK/EKsQBy0RhJ03s/17wdk8eUIZJ/QWhd7ixM+98oPVWJxweH1QKDv3KIlz4JdJQxxC3KaVpdRJ1rXY0d7qgUSowdaDQLMsutgii0CBBTBAygFkdQvKB3XGa6gBJEJtEQZxyUx3zIwNA7QRhaUvEMhG9QlzXaofd7YNGpYg8kjcCZJkQLiQONQQuJKqKtTDpVPDzwHdNtiyfXWZh/uH+5YbAnZFgpApx4oK4hLORIBb5XPShj+5twhRREH95sj3WUwgibyFBTBAyICwODUhMDIhC1ghBKMWtEHu6NNVFEsTse3eHEMsWgxpJEIdXiJldYnh1MVSRxE4EyDIhDCaxu33QKBXoX14EjuMwTJzyd6ixI8tnl1lY5FrEgRxA4Hcg+PMZDcky0Uk5xCL7TlgAABP7leKMWuE9/PKkNYtnRBDZgwQxQciAsKEcQKCpzVAe/YlMEPNMEMfJIXZ3OU4sQQwArth/PPuUCpaJE62OsGadA0k21AFAVbEgsAs5ZeJbsTo8qLJIqpoOFQUxeyxfkBImIjXUAYGmuqQqxJ2wONwZODv5812z8P4OrynG6N7C3aRvGzrg8uaX9YYgEoEEMUHIgIiWCTYYg8WgRUIUr3p/YhXihCwTSnVgXDTzcEahb5kBSgUHh8eHhi4jnA+cFsT0iAQb6gCqEAOBqikTwUCggnq0Oc8sE6yhLqogTr6prgQ2dDhpsAsAHBUtNoMqjehdoodBo4TXz+P7NhqPThQeJIgJQgYELBPir6zPExCrMSvEgtjU+wURlbhlQgXwPNAhdqCzZAlpv4GhH7FQKxXoK1aJWTWK8dUpljCReIWYCeIWm1saSlFo1LUKfvAB5QHveN+gSnw+IUWuRbVMWIRlkhViskwId4tOid7+QRWC9YY1Lh5vya8LK4JIBBLEBCEDwjzEziCrQqzqmChcdd7OkP1EPY5UIVYAnQ2CT5hTAKUDQjdkx4wjiAFgYIVQTT7WbJfW1bc7cdLigIIDxvaJcf5dKC/SgOOEyVqttsK87X1CrN71LQ0SxKKQOdFmj/gcOdLu8Eh3AgZVRmm6TCFlgjzEAuz3scSgRmmRBoDQvAgAx1vy53NEEIlCgpggZIDkIWZWBja2WaUT4tWiIQpijVfwlsbPIRYe16tVQNsxYaW5b/jQA1YhZhW6GAysEKp73zUFKsR764Rb3SNqTDBqVXH3wVApFSgX/3gXqm3ihFgh7lsWLogtdk/ejHBmn5dqkxbF0cZ6S011JfF3KApiDeeDz9VZ8AMo6lqF/0OCE176i9+TICYKERLEBCEDJA8xqxB7xFvj0YZyMMTYNSaInR4//DGsBsxSUaRVBlkyysI3TNAyAQSa5phFAgD2HBeEDMvQTYZKsbGuqbPwBLHPz+MkqxCX6aX1Rq0KpQZBNOaL/zNuwgSQXOya2gBeKVzYFfk6pGE3hUq9aJeoLdFJ61iFmNlyCKKQIEFMEDIgzDLBMojjCWJRuKrcgfSBWLYJJogNGlXAlqGN4PFNQhCP6cPinNolMc4qxBP7l8R9flek4RzWwhvO0WB1wu3zQ6XgpKEnDMk2kSdi5khTnIY6IDkPMccFDefozJtKeqqcFn9/qk0BQdxHtOGcsuTHRRVBJAMJYoKQAayaFagQi6In1lAOQBKuCrcVHCesitVYxywTRVplIFJNGyEFgt2ijpMyAQBDq4zQqRXocHlxtMUGi92N/4iT1s4cEKH6HIcKo2CZaO4sPA8xG3BSbdJBqeBCHqsRhU1DnlhJWOTaoIoYQ1uSSZkAwDEfMdcJa4ELYlYhZsNzgMBnKNqodYLIZ0gQE4QMCMshliwT+ijPEBFTJjinVRrHHMtH3OkSBbFGBbjEqnJEQZx4hVilVGBs7xIAwM7DzdhxsAk+P4/h1cVSRSoZmIe41ZYfwi8ZGsSqXk2QiGFUmfKrcn5ESpiIkkLicQJe8fcgkQpx0HYl6ES7o7Cj1+rbwyvE7HPV7vDEnWpJEPkGCWKCkAGOrvnAkmUizsjjIOGq1wjNa9EqxD4/L1Wii7TBgjiGZSKBpjoAOGdkFQDg7a/q8fre7wEAc0dVJfTcrpQVBaLXCo0G6Ta3Nuyxaja0xCr/CwWPz486sbErbsIEp4x80RaJoPHNhW6ZqLeyCnHgotqkU0kX3fV5cmFFEIlCgpggZADz/YY31cWrEJcIS2e7NI45miAOrhwbNMGWiQiCOInYNQC4YHQvAMDOwy348FAzFByw6Mx+CT23K4EKceEJ4voIvk8GqxA3dMhfyNS12uH18zBolNJt/DCCxzZzXORtuhJUIbYW8HAOnuelCnHw+8txnGShqCfbBFFgkCAmCBkQ1lTHYtcS9BDD3QGjmFwV7VYoE8pKBQetShEYymGMUMlNwjIBAP3KDbhwTI307x9P7BMSG5YMZaIgbitAQcyqv5EFcf5UiI+ICRODKougUEQRu8kkTDDECzlzgQ/nsNg9cHmFu0FVXe42sM9WvZUa64jCIvEAUIIgskYgh1i8hpUSIMxRniESdCu5TC0IpWgeYpvoHzZolOA4DmgXrA0w9wnfWBLElvgnL/Lw5eMwpNIItVKBa84alPDzusKGCBSiZSJSVY9RxdI38qBC/J04gnpQRSIJEyWJ7zhofHNrAVeI2Z2G8iJN4K6TSI1UIZb/hRVBJAMJYoKQAZKHmP3xSrS7XqUBVHrA60CFyglAHTV2TcogFr3GkiA29Q7fOMiKkShGrQorzxue2MbNh4FNKwC/D7jsBaC0v/RQIVsmGmJZJkQPcYvNDY/PD7VSvjcAWYU4duRaKhXiwPjmYwXsIY7UUMeQxqMXYM43UdjI939MgiggwjzEycRNidXcUoVwCzSah1hKmNAqAZ4HHK3CA0WV4Rsbq4WlrSngZ84Ubjvw5x8BdbuA7z8FDmwKebhMjF2zu31S5bxQiNVUV16kgVLBgeeBZpmLGZYwMbgqRtOovUVYJjKljiH+vpQUeA4xu4vQ1S4BBC44C/EODFHYkCAmCBkQ5iFOpjomRq+VKWML4kAGsQrwOgG/eEs5UlOdsQrQlwG8H2g6mOCrSJA9LwGWusC/radDHi7WqqBWCr7SQqoSdzg9sIk/u0ixawoFh0oji16TryDmeV4ayhHTMtH8rbAsS8J+I4pnE2ywFnDsGhO75UURBLH4GZL7RRVBJAsJYoKQAc6usWvMP5lIdUysEJcohBgruyuah5hNqVMGItcAQBNBlHAcUD5Y+D5YvKYLzwOf/l74vnKEsOw41eXQHEoNhWebaBBFbrFOJUwSjACrHDfIODKr1eZGu8MDjgMGxhrK0fSNsKwamfjOxQqxibMX9GCOFnGoDRtyE0y5uK6lAAffEIUNCWKCkAFOsSNcqhCzSDRdnKY6QBK0Rk5sqovqIY4wlENTDCii/DfBGvbcnfHPIVFOfQG0HRVGUs9cKaw79pFgowiirABv6zaJE+iYxzMSlSyLWMbT6lh1uNasD1wARqKzUVhGavqMhngBaYYNHQXcVMcuJNnvUTAVUs63fD9DBJEKJIgJQgawprqw0c3qBKLLNEKVzcg5Q/bVFVYhDh3KEeOWNbNSBFeT0+XwNmE59Fxg5EWAua/gU/7v30I2Y1WsQppW1yrd5g4XMYzyPIik+07yD8f47AGBhJNkPMTitkbOiU67fKvo6dISQxAHV4h5nu/R8yKIbEKCmCByHJ7nw5vqWMU0Xg4xIAnXIggCIF7sWpFWGXtKXZf9StXqTNAh+oUrRwhCfup1wr+/+HPIZgHLROHc9mbiP5Lvk8Ei6Vrt8hXEUkNdtAl1gJA+whJOkkmZ0AViCPkkIgPzDemzZNQII7B/fw7w5ASg7hNJJHv9fEH7rInCgwQxQeQ4LEAfCPIQexIc3QxIlgkDYjfVsYYtg0YVe0odg1kmMlkhtjULS0OFsBw4S1h28SkHotcKp0IsVfUi+D4Z+RBJJzXUxYpcC477SyaHWKmGX7yrosjkhZzMaO1kFWIt0PAVcPJzoPU74F83Q6dSoFgreNSbC+j3iyBIEBNEjhNscdCpxF/ZZCrEomVCLwri6JPqmIdYGTSlribitgCCKsQZ9BAzQVxULi4rA+v9gQuDMrFKKmfhlyysySmWZaIsDwTx8RZBEA8sj3Gxx1JWNEZAqU7uAKJtQuOxwuPzx942D+F5Hs3B9hvrycCDTQeA0/uosY4oSEgQE0SOw+wSGqUCKqUC8HkAv2gVSMRDLPqAdf44FWKWMqFVBQRxcSKCOIMV4s4GYckqxGzJ+0Km4pUV4B/sWI1QDLkLYr+fx4k24XPavzzGZ1uaUpeEXUKEExtRTZy9IBvrbG4f3OJdp3JjF0EMAEc/lKLXaDgHUUiQICaIHCfgH2bVYVvgQU0ilglBuOr8QlXZFsVDHJJDzLy8xb2i7zfTgtjeKty2BQJRWipNIEmDiWUAZaKHuE3GXtlkYV3/iQhiuTbVNXQ44fb6oVJw6BUha1nCKVaIk2moE+FEEW2CrSCHczC7hE6tEOxRxz8O3eDk59JdiGaZfo4IIhVIEBNEjuPomkHMEiY4JaCMLo4kxAqxVhTEndFyiKXRzcrALWlDWYz9ZlgQ130CgAcqhgmDPxgVw4Tlyb3SqkKMXWuNMUyBEfy+yDEhoK5F+Iz2LtULd0OiIVWIS5I/iHiBZeYKczhHS3BzptcFHNoqPHDeA8Ly+z2B4Rwyju8jiGQhQUwQOY6z65Q6yT9cJAzIiIdYRVb7hFvR0W4Ts5SJ0KY6U8RthccynDJxfKew7D89dP2AmaGPIzh2rfAEcSIVYpfXL91ZkBPHW4XPdr+yOFagZCY1doUN54C9ICvELZ1Bn6OTewCvQ/DqT1oCgAOs36OPRrjItRTQHRiCIEFMEDlOWOSalDCRgH8YkCwTaq9YIY4jiIXYNbFRridziCVBPCN0fX9RENftklax2DWL3QNvATRG+f082uyCeIs0XYxh0CihFRsv5eivPiEK4r5xBbFFWKZbIS5AQSzdaTBqgKMfCisHzBR+n0v6AgB+0PJPAIDFUXjvD1G4kCAmiBzH6RGn1GlSyCAGJFGr9Aoi1+HxReyutwV7iNn0uUhjm6X9ZlgQN30rLGsnhq5nI6Ktp6VVpYZAskAh/NFud3jg8wsWiNIYFWKO42TdWHdctEz0784Kseg7NqEwLRPMd19q0ABtx4SVNWOFpfh+Dm/4NwDhgpMgCgUSxASR40gVYlWqFWJB1CqY9xiRq8RMHJh0qqAKcSKDOTIgiD2OwOsyVoY+xnzMXoewHQCVUoESURTLUfglC/NKm3QqqGN5axGUNCHD2911iVomUplSxyjwCnG7eAFp1qsBe4uw0iDGHM64CUDAXlUIF5sEwSBBTBA5jrNrUx2rECcsiAUPMefulHzIXRvreJ6X1hXr1MlNqvO5hOacdLC3CkuFKty3rDUJ64O3Q1ADmQytAckSuM0dvaGOIQliGb4vdQlbJjLjIbYWYOyaJVgQO8TfJyaIB5wFANC4WqGGlzzEREFBgpggchxH16Y6T7KWiWLpeWat0ITXtTJmd/ukW/LFWkVilglNkFhOdzhHcKWqa6MgxwF6sUrsCBLEko84//9oszzYWA11DCl6TWbvS4fTIwn/frEyiIG0cohDUyYKrwLKKsQlhggV4qIKQKkFBx7VXCtZJoiCggQxQeQ4YU117iTGNgMhorZCJ+yra9IE+7dKwUHv7QAgRnbFEhxKVaBK7U7TNtHZKCzZII6usIl1bGAIgBKDfK0BydKSQMIEo0QvWEnkJma+FwdylBjUMOniTJ+TKsQlyR9ItFkUozAHc7CLALNOBdiYIBYvODkOMPcBAPRGC6zOgHedIPIdEsQEkeMEcojFX9dkK8QqrZBZDKBSI/wx7OohZhXjYp0KnE0Up/pSYTBGLDLlIz69T1hWDo/8eKWYRdzwlbSqrEgQTXIdQpEMrHIaK2GCYRYFcbvMqp+n2wVBXGvWx984raY68hADQIWiE3C1A+CAkn6BDURB3ItrAc+jIKPpiMKEBDFB5DhRc4gT9RBznJQ0UaEWhFWHK/SPXIckiNWBiXDG6vj7zpQgbjwgLHuNi/x41Shh2XxIWlUqWQPy/w92IhnEDJNMBfEpixMAUFsSY0IdI52mOslDbEOHI/8vprrC7hxUeeqEFea+gDroIkQUxAPVrSHbE0S+Q4KYIHKccA+xaJlIZGwzQ/T7ljNBHFYhZg11KqCzSVhZ1CXtIeJ+RTtGuoKYVaVNtZEfLxKtFKwyiKDxzQVQIQ6JyooDs5LITRCzCnGveBVijwPwCuI5nQqxhvPB5bDF2Tj/YJ+LUudJYUX5oNANxAvhXirhd1puXnSCSBUSxASR4zDLhC7VlAlAqhCXqqIIYkfAMiHcRoUkHGLvV6wQO9sTP5dI2JqFZVEUDzETPkGCuFTG8WLJEhKVFQfZWibECnGveBVi1lDHKWOnoERDYwQvWoh4VmkuEPx+XrKJGB2iIC7pH7qRKIhrlMIESopeIwoFEsQEkeOknTIBSNVkszKyIGb/NunUiWUQM4prxB2cjr1dPGysKl0V+XEpZSJIEBdQhZhdsJjyWBCfStRDHNxQl8jo8q5wHPxitJ/CmaGx4zKhw+kFL/bI6WxMEPcL3cgo/A5WwgIAaCfLBFEgZF0QP/300xgwYAB0Oh2mTp2KTz/9NOb2GzZswIgRI6DT6TBmzBhs3rw55HGe53HvvfeiV69e0Ov1mDt3Lg4dOhSyzbfffotLL70UFRUVMJlMmDlzJt57772MvzaCyATSpLqugjjRlAlAsjaYFUIVrjPMQxyUQexOQhCbhVGvsJxI/Fy64vcF4p+i2TQiVIhZUx1ViEORqyA+3S5WiM3xKsRpNNSJ8KL3WOW2wF9AKQrsM6FXK6FsFz3EpQNCNxIrxGW8BUBhxBoSBJBlQfzaa69h5cqVWLVqFfbu3Ytx48Zh3rx5aGxsjLj9xx9/jCuvvBLLly/HF198gQULFmDBggX48ssvpW0efvhhPPnkk1i/fj12796NoqIizJs3D06nU9rmoosugtfrxbvvvos9e/Zg3LhxuOiii1BfXx/psASRVZxhsWspVIjFWKUSTvAFhleIgy0Toh84VgYxo0QUxO3fJ34uXXG0Abw4SprloXaFrbc3Az7h3FmF2GKTl/BLBWtwBT8OwYKY5+Uh9nielwRxbUmcCnE6DXUiCrGxzgi7NLK8EAi5sGo7LqwMs0wIFWKzT2iqK4SmVYIAsiyI161bh2uuuQbLli3DqFGjsH79ehgMBrz44osRt3/iiSdw/vnn47bbbsPIkSNx//33Y+LEiXjqqacACP+pPv7447jnnntw6aWXYuzYsXjllVdw6tQpbNy4EQDQ3NyMQ4cO4Y477sDYsWMxdOhQ/Pa3v4Xdbg8R1gSRK4TlEHtS8BCLlVezzwIgUlOdeEs+ZGxzAoKYWRnS8RCzDGJ9mZBtHIniXoBSC/i9QLtQjWaJCx0uL9xef+rHlwGSkDHEF8RspLXPz8Mm+s9znRabG26vHxwHVJu6v0LMiYLYDFtBZRFbxFSNMr0C6DglrGQXtQxREOv8NujgogoxUTBkTRC73W7s2bMHc+fODZyMQoG5c+di165dEZ+za9eukO0BYN68edL2R48eRX19fcg2ZrMZU6dOlbYpLy/H8OHD8corr8Bms8Hr9eK5555DVVUVJk2aFPV8XS4XrFZryBdB9ASOsNHNKaRMiILYKArirjnEoZYJViFOwDLBRHM6gzlsCaRaKBRA+WDh+5YjAIRqqUK0kObzH22nxycJfpMuygVDEDq1EhqV8F+7XN4X1lBXYdRK5x4VaUpdScrH48SGURNnL6gsYnZhVa3zBO7KsItahtYEqISLkgquvaAuGIjCJmuCuLm5GT6fD9XVoVmn1dXVUa0L9fX1Mbdny1jbcByHbdu24YsvvkBxcTF0Oh3WrVuHLVu2oLQ0esVhzZo1MJvN0lffvn2jbksQmSQshziNCnGRR/DqdhUBUlOdXgWwRqNEPMRMNKczujkRQQwECeLDAACFgiuIaXWsoU7BAUZtfEEMyM9HHGioSyCDOAMVYgRViK2OwhF8kiDWiL8vKn348B2Ok6rEVbAU1AUDUdhkvamup+F5HjfccAOqqqrw4Ycf4tNPP8WCBQtw8cUX4/Tp6J3yd955J9rb26WvEyfSaCIiiCQIS5mQPMRJVIhF8aD1CpVcaxehFIhdUwdFoCWSQyyegzsdQSwezxjneGWhghgASkV7QGseJ020ByVMcAmmKshNENdLDXXdPKWOIVWIbQU1iY0N2ahWiz01OlPkDcXGukquvaAuGIjCJmuCuKKiAkqlEg0NDSHrGxoaUFNTE/E5NTU1Mbdny1jbvPvuu/j3v/+NV199FTNmzMDEiRPxzDPPQK/X4+WXX456vlqtFiaTKeSLIHoCSRBLo5tFy0RSOcRCJVfjFZ7bNVu0I3gwBxuSEU+gAgHLRE9UiEvF5p+gBj7mI87naVqsQpdIwgSDbdv1widXYRXiuBnEQEaa6thzzSis8c3s81AuCeIoWeOSIKYKMVE4ZE0QazQaTJo0Cdu3b5fW+f1+bN++HdOmTYv4nGnTpoVsDwBbt26Vth84cCBqampCtrFardi9e7e0jd0uVNcUitCXrlAo4Pfnd2MOIU+kwRzppEyIf/hUHqFCbHf74PIGGq6klAmNIn4mcDDMMuF1SOkPSZOoIGYVwaAGPpY0URAV4gQSJhglMqsQN1pdAICaeA11QIYrxPaC8siyz0OZUrgAiSqIxd/FSs4im4sqgkiXrFomVq5cid///vd4+eWXceDAAVx//fWw2WxYtmwZAGDx4sW48847pe1vuukmbNmyBWvXrsU333yD++67D59//jlWrFgBQPAH33zzzfjNb36DTZs24b///S8WL16M2tpaLFiwAIAgqktLS7FkyRLs378f3377LW677TYcPXoU8+fP7/H3gCBi4ffzcHmDcoj9fkF8AsnlEIuDCDh3R1AjWuAPHasYlypsgWabaFPjQvYblESRqm0i3pQ6BqsIBk0XYxXifB7OwW5Zp1IhlkvlvLFDqFhWmbTxN85AU50kiGEvKMHHPg9lCvEuUxxBXIYOKfKPIPKdxDo0gvB4PNDr9di3bx9Gjx6d1sGvuOIKNDU14d5770V9fT3Gjx+PLVu2SE1xdXV1IZXc6dOn469//Svuuece3HXXXRg6dCg2btwYch6/+tWvYLPZcO2118JisWDmzJnYsmULdDqxa7aiAlu2bMHdd9+Ns88+Gx6PB2eccQb++c9/Yty4cWm9HoLINM6gKq5eoww01AHJVYhFywTn6kCJXo1WuwdtdjeqTTo4PT7YxSp0mYJVn4sBZQICTKUFFGrA7xEEcSoihVk04lWI2R9vJohQGOObkxnKwTDJtEJcVdzDTXWcraAEH/s8lPrEQTjFke2JLPe7lOtAp8sLr88PlbLgWo6IAiNpQaxWq9GvXz/4fJnJt1yxYoVU4e3Kjh07wtYtXLgQCxcujLo/juOwevVqrF69Ouo2kydPxttvv530uRJET+MIypHVqZSAPUgQqxJoQJKeLHreeR9qinxotQNt4kCLNlFMqhQcjBD3H61yFAmtURApqfqIE7ZMlAjLEMuEIPzyu0LMmuoS/+9abk11TZ2CIK4sTqRCnAnLRAkAoamukCrEkv3GywRxr8gbMkEM4Xe60+WVEl0IIl9J6ZLv7rvvxl133YXW1tZMnw9BEEGwhjqtSgGFggtkEKsNQjZvoqgNACd4kGt1QkWMZdS2dArL0iINOCY2kxHEzEectmUiXoW4RFh6bIBXEFDMQ5zP07SCUyYSRU6C2OX1Sbfyq+IJYr8/cEGUgaY6U4EN5mANckUu8SLUWB15Q3GyZbmCpdIUzntEFC5JV4gB4KmnnsLhw4dRW1uL/v37o6go1Mu4d+/ejJwcQRQ6UgaxJo0MYkDIFtUWA04LajQuAHrJN8wqxGUGDeAUL3KjxTFFQkqaSGE4h9seENKJNNWpDcJ70P49UD444CHOY8tEYIpgEk11BvkI4mbxgkyjVMS3hbjaAYjjqDPhIeYc6HA4U9+PzGDiX+sVs8ajjkoXBHEZJ/xuUtIEUQikJIhZgxpBEN2Lwx3UUAekljDB0JkApwWVGg8AvSQiWUJDWZEmqPqWTIWYTatLoUJsF6vDSm38QSAcB5T0A5q+AdqOAeWDAx7iPLZMpOIhllOFuNEqCNLKYm38nGXmH1cbBP96qgR9vn32NMaOywie59HpEgSxysPGs0e58BWFcgmsAHgSxERBkJIgXrVqVabPgyCICIQN5ZAyiJNImGCIf/wq1U4AJsl3m7YgTieLONg/nMjQCSaIrScBiFVt5LuHmE0RzFNB3NHD/mEAUGngU+mh9DrAOwtDENvdPvj8QnVdKQniKBehoiDWwIsiOMkyQRQEKbeNWiwWvPDCC7jzzjslL/HevXtx8uTJjJ0cQRQ6TBCnlUHMEAVxhUYQIOxWNROTpUXqnq8QdzJBnEDEGxCWRcw8xLYuucr5RDopE3JoGGtKRRCn4x8W8WuFzzgXFOOXzzC7hFLBgXOJlolo1ii1AVAJiR+lXCdViImCIKUK8X/+8x/MnTsXZrMZx44dwzXXXIOysjK88cYbqKurwyuvvJLp8ySIgsThFv6IGdL1EAPSH79KtSCAG8Rb1SyyrKxIC0h/KJOpEItVplQ8xIkmTDC6RK8V61RQKjj4/Dwsdg+qTcrkzyHHCXiIE//vuljctsPpBc/zCY98zgasQhy3oQ4ICGLR45oWOjNgq4fSbc359ygTSMN3tEpw7Hc1WoWY44QqsfUkStEhiwsrgkiXlCrEK1euxNKlS3Ho0CEp3xcALrzwQnzwwQcZOzmCKHQcXZvqWMqEJhXLhPDHr0ScUsUEcYOYAVtpzIKHmAliYwJT8YDAeYnnqVBwUvRavvqIo1aIHW0BgdiFYrEBz+vn4fTk9gTOlCrE6VomACjEfRT5O6XhN/kMy1su1/mF3HAguocYCGqso+EcRGGQkiD+7LPP8P/9f/9f2PrevXujvr4+7ZMiCEKANdVJlol0KsTiHz8zJwhiNgzhdLvw79oSfRY8xAlOqWNI0+rCxzfno4/Y5+elW90hHmKPA3juLOCZacL3XSjSKKWJhB05fru7iU2pS2Qoh13Mz81AhVhhCIxvLoQKKPsc9BItU+CUgYvZSEhZxFQhJgqDlASxVquF1WoNW//tt9+isjLBW58EQcQlrKlOqhCnbpkwioK4w+WFzeXFKYsgSHqZgwRxrMpRVzJRIU7WMhHk+8znaXWdQZW5kNi1Q1sBSx3QcRp44Vwhhi4IjuNg1Aq2iVyv7iVlmbCLsYD69AUxpxMqxCbYCsIjyy6satUs5rAidpa5PrhCnP/vD0GkJIgvueQSrF69Gh6P8EvCcRzq6upw++2347LLLsvoCRJEIeMMS5lgFeLULRMaTyeKRAtGXatdshrUluhSrBD3oIeY5aay5yG/p9Uxu4RerYRGFfTf9Xc7At83/Bf4f1cKQyuCYLaJ3K8QJ2OZEAVxpjzEEMY3txdAigITxL2U4u9pvN85Fr3GdVDKBFEQpCSI165di87OTlRVVcHhcGD27NkYMmQIiouL8cADD2T6HAmiYLGLTXUBD3H6KRNwWVFtEm5Pf1FnEfavVgoe1Wx5iBO1TJh7C8ugimhgOEduC79UYJW5MP/w0S69GvX/AY6FrgturMtV/H4+OUGcwQoxG+xhLpgKsTgNUCne3Y33OycK4nJQhZgoDFJKmTCbzdi6dSs++ugj/Oc//0FnZycmTpyIuXPnZvr8CKKgkQZzaDKXQwyXFQMqivBdsw0fHRYEaW2JTuiyd6aSMpGhHOJEMPcNPM/jBNQ6yUOcj011gbHNQf9VdzYBLYcAcMDtR4Gtq4C9LwNfbQQGzZE2M0kV4twVxB1OL7xiNm65URP/Cd1QIS4cD7HwOagAE8RxGlnFpkMzV1jjrYnCJSVB7HQ6odPpMHPmTMycOTPT50QQhEi4hzjNSXUA4LRiWN9ivPtNI7Z+3QAA6F1qAHxewC3eTk0m5zXVCrHfH9RUl2DKhL4UUOkBr0MYzpHn45utkRIm6vcLy/IhwvtxxgJBEO95CRgxHxh6LoCAiM5ly0SLTagOF2tV0KoSiMzLZIVY/IybYcOJAhB87HNQCvEuUNxR6SUARI91AVwwEERKlomSkhKcddZZ+L//+z+8++67cDjCu5wJgkif6B7idCwTHRhWLYhYj0+ozg2vNgYyiIHogf0R98s8xEkKYqcF4MVhGswbHA+OC9gmxGl1BVEhDm6oq/+vsKwZIyz7zwg89pfLpW+ZhziXb3e3SkNhEqgOA0E5xAl+XmLBLBNcYQg+VuU1+y3CiniWCXbBwBWGpYQgUhLE27Ztw/nnn4/du3fjkksuQWlpKWbOnIm7774bW7duzfQ5EkTB4nCLk+oymEMMlxXDqkMD+UfUmAL+YXURoEx8KlqgQpxkUx2zS+hKAFWCgggAzH2EpegjLi0Sm+rysUIcyUN8+j/CstdYYanSRqywy8FD3BI8NjwePk/goi2TlgkUhiWApY0YfRZhRYIV4hJ0otPlhV+0thBEvpKSIJ45cybuuusuvPPOO7BYLHjvvfcwZMgQPPzwwzj//PMzfY4EUbDYxQqxIRMV4mDLRHUxdOrAr/+MIRWpNdQBqXuIk/UPM4p7CcsOIfM8kEOcf1WsgIc4SBA3HhCW1aMD6/6/94Ulp5ByieUgiFkySHkiglgaQsIl/xmNhFgBNRVIBZRZJgxe8fc8XpU9yEPM80JMI0HkMyl5iAEhc3jHjh3Sl8vlwkUXXYQ5c+Zk8PQIorBxurtOqstAyoTXAQ3nw23zRuD+f3+Nq37QDzVmHdDKGuqSsEsAgQqx3wN4XULFMhFSFcRMDInVwvz2EHcZyuH3A63fCd+XDwlsWNxLEHhOC9ByGKgZIwvLRFIVYsk/XAIoMjCiOzhlIg8/O11hF0Yan3jhGm1sM4NdMMAODn5YHZ7wtBOCyCNSEsS9e/eGw+HAnDlzMGfOHNx+++0YO3Zs3s+CJ4ieJqypLq2UiaA/gK4OLJ85EFec2VfKJE65Qhw87crVmbgg7kwyco0hDecQBDHzn9rdPjg9vsBUvzwgbGyz9XvA5wIU6kDiBiB4qytHACc+AZoOioI49yvEzENclkzCRCYa6gDpc6ThfHA6bJnZZw7T4RI+S2qv+FrjCWLxgkHB8SiGPacvrAgiE6RkmaisrITdbkd9fT3q6+vR0NBAjXUE0Q0wQazLRMqEUh2wWoji16hVBS5kUxXESlVgv6722NsGY2sUlslWiIPi4wAhoUAlzinOtyoxEyEmUdyi5YiwLB0gvO/BlA4QlpY6APIYzCEJYkMiFeLMjW0GAGiM8HPC75Xf3hZnY/nDLoyUngQFsUor/V4LjYe5e2FFEJkgJUG8b98+1NfX44477oDL5cJdd92FiooKTJ8+HXfffXemz5EgChZHV8tEOh5iIBCn5oggAFIVxEBA1HY2Jv4ctq2xOrljdakQcxwXGN+cZ0kTYRXiVlEQlw8O37i0v7C0HAcgDw9xapaJDAlijoNPEz4KPB/heR4dTi84+KFggjj4zk40gqLpqEJM5DspCWJAiF675JJLcNddd+HOO+/E5Zdfjs8++wy//e1vM3l+BFHQhFgmeD69lAkgUF2LJIiZ4Egmg5hhqhWW1lOJP4d5iI3JeohZc2CgGs3GN1vybFqdtWtTXYvoHy6LIIhL+gnLNkEQy2Ewh9RU19NDOUT84sWVIpk7GzLE4fHB5+dhgAscxLQIbQKCuMCi6YjCJiUP8RtvvCE103399dcoKyvDzJkzsXbtWsyePTvT50gQBQurEBs0SsDrBNgfM7U+tR2KneMRBTETs6Zeye+3uEZYdpxO/DmsQpzoUA4GqxDam6VV+ZpF3C7epg6vEA8K37iEVYgFy4RJl/uDOSTLRFESY5szkUEswunMQDugclvjbyxj2EWRSeEUVnCKxO4yiRfHJQUSTUcUNikJ4uuuuw5nnXUWrr32WsyePRtjxozJ9HkRRMHD83yohzh4ElwqTXVAQBAzcRGMVcj1hal38vtllolI+41GqpYJqRp9Wqiac1xeJk3wPB9eIW6NUSFmlon2E4DfH5Qy4QXP8znZ9Mwm1SUWu8YsE6UZO77CIOzL4OvIu4bMYNhFUY1GeL+hNQmNmPGg8c1EAZGSIG5sTMInSBBESri8ful7vUYJsE54pSa8oSpRYlkmrGJ1tziFCjFr0El0fDPPB5rqkrVMMEHssQmNdTpzXnqIXV4/3D7hM2DWq4X3zHJCeJDZI4IprgU4JeBzAx2nUawTLjR8fuHCyqBJOWWzW7C7vXB6hNeX0KQ61viWQcuE0hAq+PJVELOhHL00dsCNxKvswdF0OXyngSAyQcr/Q/p8PmzcuBEHDggh8aNGjcKll14KpTI//0MhiJ6G2SUAQKdSBBImUm2oAwJ2A0eESm46Y3FZg44rwWl1rg7RAoLkLRNqvdBY52wXhnPozFJKQVseCWLWUKdUcEI0nqMN8IppPpGq+EqVMMXPchyw1MHQrxZKBQefX2ioyjVBzC5eNCpFIPovFpmOXYNomYCQtWt1elBZnGBkoMxg1d0aVZKCOGh883ckiIk8J6WmusOHD2PkyJFYvHgx3njjDbzxxhu4+uqrccYZZ+DIkSOZPkeCKEjYlDqNUgGVUhHIIE61oQ4IVNe6Wht4PtBpL1aFkkIaC52gIGYNdRpjahFyrPFPTJooMbDxzfnzR1uyS+jEaLx2sTpcVAWodZGfFJQ0wXEcjNrc9RG3Bk2pS8jOYc98U12hNI2xn3+1Svw/JOEKsVhBRydZJoi8JyVBfOONN2Lw4ME4ceIE9u7di71796Kurg4DBw7EjTfemOlzJIiCJDxyTawOplUhZk11XQSx2wb4xT94qaRMJGuZ6GwQlslmEDO6JE3ko4c4bGxz+0lhaY7h8Tb1EZZigySLXrPmoJhJKnIN6JYKcXAFNBffo0zBxGyFQrxgTfSiIviCIQcvqggik6R0D+3999/HJ598grKywC9VeXk5fvvb32LGjBkZOzmCKGScXafUpTOUg6GP4iFm1WGFKrUKdLKWiVQb6hhaNr5ZEMT56CFmAkRKmGgXmx7NfaI/qUvah9BY58jJ6l5rZxKCmOe7tUJsQmFUiM0sZUKb4Hj2oBziXPwMEUQmSalCrNVq0dER/oevs7MTGk2CV/sEQcREyiCWKsRpjG1mRLNMOCzCUleSWPd5V1imqSvBCnGqGcQMqUIsWCby2UPM8oQly0TwyOausIZISRDnvmUiIUHsbAd40VOf0Qqx6CHm8ns0MROzRkkQJ5BBDEgXDCUcWSaI/CclQXzRRRfh2muvxe7du8HzPHiexyeffILrrrsOl1xySabPkSAKEmaZyMjYZka0pjpWfUwlYQJIwTKRYgaxdLzQ8c1MVLXmkWXC2jWD2CpaJmLF4rEM6Y564Z85PJyD/awSEsTs86ouiu6fToUCqYBKghiiIE5kSh0QEruWzxV0ggBSFMRPPvkkhgwZgunTp0On00Gn02HGjBkYMmQInnjiiUyfI0EUJIEpdeKvabpjm4GAh9jZDviCBEDbUWEZaeBDImhYU12CAw6Yh9iYoiBmjX9ipZs11Tk9/pB0DjkT8BCLzraELBOiIBYj9HJ5OAezTCSUQdwNkWsACqapjlW/DZIgTvAuk3jBYMrzCwaCAJL0EPv9fjzyyCPYtGkT3G43FixYgCVLloDjOIwcORJDhgzprvMkiIIjMKVO/DVNd2wzEDrUwNkOFInd5uK4X5QOSG2/wZYJcVhGTCTLRIqCmHmPxUqzUauCWsnB4+PRZndDr0lxkl8OETaUIxkPcWe9OJxDbKpz5J6YaUlmSl03DOUAELBM5HnOLhOzOl5szGV3dOLBPNacAz6fJ6+HlxBEUhXiBx54AHfddReMRiN69+6NzZs3Y+PGjbj44otJDBNEhgmZUgdkpkKsVAUa0oJtE2wMcsoWBvEPLO8LpGHEIl3LRBevLMdxeTe+OcRD7PcHqupsMEkkjNUAOCExxN4iTavLxQpxm2SZUMffuDsa6gCpAlrEudBpd2Z23zkE+/lLgjhRy0RQ4ky+XzQQRFKC+JVXXsEzzzyDt99+Gxs3bsS//vUv/OUvf4Hf74//ZIIgkiIsdk2qEKchiIGAqLA1B9bZW8THUhjKAYQ2+iXiI5am1KUqiFmaQr20Kt+i10JSJuwtYiweFzuqTqkOPN5xKqipLvcqxOznxC5kYtIdkWuAVCEGAF8yY8dlBvv5a3ysDyHBu0xKlWSHovHNRL6TlCCuq6vDhRdeKP177ty54DgOp06dyviJEUShE91DnIZlAgi9rc5IVxArFMlFrzmEuLSUb4F3iRcDkL8VYr06UB02lAuiNxZBjXVShdiVe0KmXRyiUpKIIGYWm6KKzJ6EQgmPSvjc+u2WzO47h5AEsUf0+CczfCdofDMJYiKfSUoQe71e6HShHb5qtRoeD91GIYhM0y05xEDE6ipsoiAuSlEQA4lPq+P5QPNdol7GrrDX4LRIFo1S8da7JU+m1YWkTLCLF/a6YyE11p3K2dg1nudhcTBBnIBlgt3NMGRYEAPwiRYiThzyko+wn7/KJTYnJlNpDx5ekseNhwSRVFMdz/NYunQptNpAE4TT6cR1112HoqJA1eqNN97I3BkSRIFilywT4q+plEOcriAO9d+C5wMWhnQEB6sQx7NMuDsB8ML3iQ4I6IquBFDpAK9TqJ6WDsjbCrFZrwaak0jlCGo4NPbKTctEp8sLn1/4DEixcrFgdzAyXSEGwOtKANtJKFz5KYh5nkeH0wst3FD4XMLKZO7MsCxiqhATeU5SgnjJkiVh66666qqMnQxBEAEcUSvEaVommGDqEEWW0wL43KGPpYJUIY4jiMVhGlCoAHWKaRAcJ5yr5bjwOkoH5J+HWGqqUwUqxMYEKsTMQ2xrkmLXOnPMMsGq+Dq1IrHUAlYh7gZBzImCT+1JMDJQZri8fnj9PCog3rlRqJK7MyMlTdhy7k4DQWSSpATxSy+91F3nQRBEF5xShTiDOcRAeIWYCWNdSXpDD7QJeojZ49ri1KbiMVhDlGi/yKcKsc/PS75fwTIhVvCLE7hgCRLExTk6mIMJ4oQa6oBACko3WCaUouDT+zrg9vqhUaUUz5+zsObMUoV4h0lfmtzvXYFE0xFEfv3mE0QeEV4hzkAOMRDuIZaGZKRRHQYCwznc8QQx8w+naJdgMEEsej/zqUIcXIkz6dWBn1VCFWJRNNqaYdQGPMQ8z2f6NFPG4hB+RgnZJYDua6oDoCwS7APC8In8E3zsYqhKI9olkv29C/IQ59qFFUFkEhLEBJGjdEsOMRDIsbWeFPzDTBAnUn2MRaKWCSZuUk20YHQRxKVMENvkL2pYQ51Bo4RaqUhusl9IhVgQxB4fD5c3d+IxLfYkGup8HulnHDNyLkUUwdPq8lDwMRFboRZ/L7QJZhAzKGWCKBBIEBNEjmIPm1SXoZSJkv4ApxCa2zobgqqP6QriBC0TVjGmMdaAiYSOJ1a6JMuEIK7yoUIcMpQDCPyMEkmZCBLERRqVdHc8l8SMlDChT2Rss9hQxylDBkVkDGk8sT0vUxRY1btMLf5eaJJMdmHvD5ef7w9BMEgQE0SOIsWuSR5iljKRpmVCpRFEMQA0H8qgZSLBlAkmiJmXOVV0oiB2hnuIc8kekAohQzmAgIc4kZ8RqyI7WqHgfTBqci96zSL6vJOLXCsT8q4zTUiFOHfeo0zBLoTKVKIgTrZCzCwTyM8KOkEwSBATRI7CJtXpMp1DDAAVQ4Vly2Hg6PvC90wkp4pkmYjTrc+a+dKtELNqoUPIVmUeYpfXL9lN5EpgKIdKqLizi6FEBLG+VLgDAIjjm3MvaSKQQZzEUI5uaKgDECr4HLnzHmUKdiFUohQ9xMn2IARdMOTSRRVBZBoSxASRo0g5xGql4KP0i3+M0vUQA0D5EGF5cg9Q/1/h+zN+lN4+E/UQZ8oywSqhYvXUoFFKCQFyT5qwBmcQsxQQjTGx6p5CGfBn52jSRFIe4m7MIAZQMBVikySIk60QB6dM5M5niCAyDQligshRWJXToFEFEiaA9FMmAKBqlLD87wZhaawGjGk2LPW0ZaLL+GaO41AmVhzlPq0uxEPcmYLHO8hHbMzBaXXtYspESSIpE92YQQwgRPDl0nuUKZiILVY4hRXJTocMSZnIv/eHIBgkiAkiR7G7A0kDUsIEpwSUCWa3xqL/dGHpFf9IVgxLf5+Jjm5mDWJpV4hFQcw80AhUHGVfIXYyy4Q6Of8wIyh6LTC+OXeqe21JVYi7L4MYQJfRxLnzHmUKJmJNEP8PYeksiSJW0IvhQIfDlcEzI4jcggQxQeQgPj8Pp0eIyTJolKFT6tIZZsEoHwz0nhz4d69x6e9TSpmIUSH2eQM5xfqy9I7HYuI6GwC/8F7lSxZxwEOsDniykxEyOT6cw2JnOcRJeIi72TKRr4KP/dyNfvZ7l8TYZkD63Ck4HnB1yL5hlSCikXVB/PTTT2PAgAHQ6XSYOnUqPv3005jbb9iwASNGjIBOp8OYMWOwefPmkMd5nse9996LXr16Qa/XY+7cuTh06FDYft58801MnToVer0epaWlWLBgQSZfFkGkRXBTWJFWFZQwkQH/MGP27YHv+05Jf3+JDOYIbrjTpTmYo0j0EPu9gKMVQCCLWPYVYkfQlDo26jqZ9yvYMqHNvQoxE/ylRcmkTKSZWx2NIMHntlm65xhZhFWIjX7xc5SsIFZpwauEEevFsMHmlnfDKkFEI6uC+LXXXsPKlSuxatUq7N27F+PGjcO8efPQ2NgYcfuPP/4YV155JZYvX44vvvgCCxYswIIFC/Dll19K2zz88MN48sknsX79euzevRtFRUWYN28enE6ntM3rr7+Oq6++GsuWLcP+/fuxc+dO/OQnP+n210sQiWIXEwE4DtCqFJlNmGAMmg2Y+wLFtcCQuenvj/2htbcKAz8i4bQIS3URoExwSlk0VJrAbXTRR8w8xG0yF8QBD7Eqtcl+kmWiSdgHgE5Xbvg/eZ4PNNUlk0PcDUM5AAAqLbwKYWS5z27pnmNkEXYhpPcyQVyS/E6ChnNQFjGRr2RVEK9btw7XXHMNli1bhlGjRmH9+vUwGAx48cUXI27/xBNP4Pzzz8dtt92GkSNH4v7778fEiRPx1FNPARD+o3388cdxzz334NJLL8XYsWPxyiuv4NSpU9i4cSMAwOv14qabbsIjjzyC6667DsOGDcOoUaPwP//zPzHP1eVywWq1hnwRRHfBEiaEwQpc5jKIg1Fpges+BK7fmZlGPeYJdndGj15jE8eS9TFGQ2qsE3zE0rQ6mTfVheQQM092Ms1QUoW4OecqxJ0uL7x+4YIpqRzi7rJMAPBqhIsNv8PSbcfIFuznrmWCWJdkhRgAxxoPOXvOfI4IItNkTRC73W7s2bMHc+cGKlMKhQJz587Frl27Ij5n165dIdsDwLx586Ttjx49ivr6+pBtzGYzpk6dKm2zd+9enDx5EgqFAhMmTECvXr1wwQUXhFSZI7FmzRqYzWbpq2/fvim9boJIBFtwQx3QPRViQKjqGtL08jI0hkCVuP1k5G0yLYhZo5mYxMCm1bXmk4c4TctErjXVseqwVqUIZGzHortziAH4taJtgt3ByCOYZULlEb39qfzuBWU1U9IEka9kTRA3NzfD5/Ohujq0c7q6uhr19fURn1NfXx9ze7aMtc13330HALjvvvtwzz334N///jdKS0sxZ84ctLa2Rj3fO++8E+3t7dLXiRMnkni1BJEcDmlssygYWMpEJj3E3UGxWCXujPw7LN3+TuW2bcTjsQqxcDypqU7mlomQHOKULBMRmupyZDBHuyOJhAmfJ2Cz6cYKsTTkhV2w5RHChRAPJRPEycauAXmf1UwQQA401fU0frEb/e6778Zll12GSZMm4aWXXgLHcdiwYUPU52m1WphMppAvgugubO6gDGIgkEOcCWtDd8KqT84olgmLeCFpztAdli6COHh8s1zheV5qqjPp1YGLiGQq+awBzd6acznErEJcmsiUOrtYpOAUyTeDJYHCUAIAULnb8y5FocPphQEucBBfV7Kjm4EuWc25cWFFEJkma4K4oqICSqUSDQ0NIesbGhpQU1MT8Tk1NTUxt2fLWNv06iUMAxg1apT0uFarxaBBg1BXV5fGKyKIzOHoapmQS4U43vjmdlEQl2RIELOkCTGrtiwPUiacHj/cPuHC3axXB8WOJdFUxsSzuwMmtXBxlStCxuJgkWtJZBDry4QJfN2EqkgQ20a+U/Lv5wNOjw9unx9GOIQVnCK1/0OCs5pz5HNEEJkma4JYo9Fg0qRJ2L59u7TO7/dj+/btmDZtWsTnTJs2LWR7ANi6dau0/cCBA1FTUxOyjdVqxe7du6VtJk2aBK1Wi4MHD0rbeDweHDt2DP3798/Y6yOIdLC5xAqxllWIu8lDnGmYzzXacI5MDeXoejyxIl1h1AIAWmxu+P3yrPSxW9JKBYcijTKoqSwJQaw1C0NcAJRCuFXemSNCJqmhHN2dQSyiFCvEJs4OSx6lKLCLoGJO/P9DW5xajjmlTBAFgCqbB1+5ciWWLFmCyZMnY8qUKXj88cdhs9mwbNkyAMDixYvRu3dvrFmzBgBw0003Yfbs2Vi7di3mz5+PV199FZ9//jmef/55AMLo1ptvvhm/+c1vMHToUAwcOBD/93//h9raWiln2GQy4brrrsOqVavQt29f9O/fH4888ggAYOHChT3/JhBEBOxsbDNrOuqOlInugFWIo1kmWBd/pm5/SxYNwftZbhQqxD4/D4vDI1WM5URw5BoX4qFNQhArFEKV2NaEYjF/NlcsE+12NrY5kaEc3TylToQTP49m2GCxu9G7RN+tx+sp2M+8UiP+7JPxoQcTlDJxMkcurAgi02RVEF9xxRVoamrCvffei/r6eowfPx5btmyRmuLq6uqgUASK2NOnT8df//pX3HPPPbjrrrswdOhQbNy4EaNHj5a2+dWvfgWbzYZrr70WFosFM2fOxJYtW6DT6aRtHnnkEahUKlx99dVwOByYOnUq3n33XZSWdp9HjSCSgeUQG7TdnDKRabRxKsRM3LEmpnTpIojVSgXKijRotbnR1OGSpSAOaahj/mFOmfx7ZigXBnP4hffG5vbB5+ehVGRg0mEaWJIa28wyiLtXEAdbAtplHtkXDKsQV2rcgAeAJgX/MEApE0RBkFVBDAArVqzAihUrIj62Y8eOsHULFy6MWcnlOA6rV6/G6tWro26jVqvx6KOP4tFHH036fAmiJ7DLNWVC8hBH6daXKsQlGToeE+CBinSlUSsJ4uE1KXTUZ5mQyLVgy4AiSYeb2Fhn8FoACBXPTpc3Me9uN2KRUiaSqBB3uyAWLqzMsOWlZaJC7RIEcSoJE0CXlAmqEBP5ScGlTBCEHLCLTXVFck2ZyFKFGAAqiwUfcVOnM9Izcp6QoRzpZPCKjXVqZxs0KuG/+lyo7lmYZSIhD7E4tbSbLRPBgs+SVxVi4bWUqVzCilQFcUjKRP68PwQRDAligshBWIVYL9cKcSQPsdclTLEDMuchZmkKXifgEvYtCeIOV2aO0cOwW/YmnTq9CmlQ9Joph4ZzBMY2JyCIO8ULAmNVN54RhBQLAGZ0SikY+QD7eZcomSBOzzJh4ih2jchfSBATRA4SPLoZgIw8xMwyEaFC3HZcWGqMmRPE2uKAL7JTiFusEBvr5CqI2S1pIYM4hYQJhiSIW6ThHJ05MJyDWRLMyVSIu10QC5/HkjzzELO7DQFBnKZlAjZYZT4FkiCiQYKYIHIQZpkIVIhZykSuC+JwT69E21FhWTowteinaLDxzR2nAeRBhVjyEKtSyyBmBE1fM2pzZzhHUoM5xIsc6WfcXQSlTLTb5Gm1iQSr5po4MYc4zZQJDeeD22nPxKkRRM5BgpggchCpQtw1ZSLnBXEMy4T1pLA098nsMYuFYTss4zjgIZanIA5JmUgnhzfIX12cI5YJnucT9xDzfMAykcoFQTKIgljB8XDZ2rr3WD1IIIeYCeIUK8QaI3gx11rhsmTgzAgi9yBBTBA5iOQhVouWCY/4By3nm+piVIgdotBgt/IzRTGrEIuC2ChELMq+QpyuhzgHBbHN7YNXHJgSN4fY3Ql4xc99d1smVBp4VcLFpt/W2r3H6kHYHYEiiFXvVGPXOA68eMdB7bHCK05SJIh8ggQxQeQgNtHrKVWI5WKZYKOUPfZAxBrDLgqNTEWuMViFuLNLhVimgjhiykRKlomAIDZqhWpstgUxqw5rVAro1HH+/HSK/mGNsUcuBL1a0dfuyL8KsYEPmlSXIlxQ0kQueNEJItOQICaIHMTh6ZJDLJumOmMgIstSF/oYE8gsGSJTGLtUiEVB3Gb3wCPDSla7I6ipLi1BzMZaB1eIs+shDk6Y4OL5yJkg7m67hAivE20TLBowD+hwCe+3jhcvqNMRxEHRdNm+sCKI7oAEMUHkIDYXE8QqwO8P3DrO9dHNAFDST1iGCWKx8paphAlGFw9xiV4NlTiNraVTfh3xoR7iNCa1BTXVsdi1bFf22qWhHDmUMCHCiRdqKnf+VYi1vjQ9xEBI0kR7Hg0vIQgGCWKCyEEcYsqEQaMMZBADuV8hBgIe4a63nh3MMpFpQRxaIVYoOJTLOHpNEsRKd8Aqk45lwt2BYq1wgZDtyl6gQpxIwkTPVoiVRcLnssjXAad4h0busJ+32ivmf6cjiJllgrNn/XNEEN0BCWKCyDF4nofdE1QhDhbEKn2WzioJpGl1XRrrpApxpi0TNcKSRXRBvtPqfH4eHWIVt4QX3z+lJrVmqKCIrVJxUlm2hQwbepFQBjETxN0duSaiMgpV+FKuM28qoMwio/amb5lgdxzMNK2OyFNIEBNEjuH0+MELjfhChdgd1FCnkMGvbIRxygC60TIhCmKXVXqvKo3ybKwLFhpGiD93XUlquc0qjdSEWapwhO0/G0iWiUSm1PW0ZULKIu7Mm/HNbMiLwiMOysmEZYKzSfsliHxCBn9dCaKwYEM5AECvVspnbDMjkiDm+UDKRKab6rTFgEKMpxMb9+SaNMEEo0GjhJqJmHRSOcSfhVkU19muELMpcOZkxjb3kGWCfS5LuU4pDUPOuLw+uL1+KOGDwsti1zJlmciPCwaCCIYEMUHkGIEMYiUUCk4+CROMoHQDCbcN8It/RDNdIea4MBEuV0FsZQkTOnXg/WOvLRXE5xZzwmco2011koc4IctED02pY7DxzeiUxkvLGXbxUwRHYKU2xRxioItlgirERP5BgpggcoywKXVSBrEMEiaAIHEa5CG2HBeWWlP3VLq7CmLRMtEoM0HcHpwwwWLqMiCITX6h2pztyp70+hIZ29zDlglJEHOdUiVbzjDRWqURq91KLaDSpr5D8U6FibNJjZ8EkU+QICaIHMMmWib0cssgZkSyTDQeEJZVI1Pzw8Y9Zol4TAsAoMYsTKurt8qrqS5kKEcmKsRiA6NeEsRe8MygngWkprp4lomeHNvMEN8roUIsf8sEu/ip0ojiNZ3qMBC4uKIKMZGnkCAmiBzDwSrEGja2OQ88xCyTuGxwjxyzxiykcdS3y0sQS2Ob9aoMCWKh6qn3CtV6r5+Hy5u9YSXBgzli4uroubHNDPG9KuU60ZZHFeJKViFOp6EOCFgmOJs08IMg8gkSxASRYzCfZ2BKnWiZ6IHxtRkhaCCEhJ0NmCjvnmMyX7J4nF5ihbixwwWvjKbVWSVBnKkKsfC+aNwWqTBvzaJtIuHBHGxCXw+NbQYgNdWZODusNkecjXMfViGuUIu2oXQFcdBgDuZ1J4h8ggQxQeQYNlEQF2nFCrHsBHGECrGUMNFNgliaVncaAFBh1EKp4ODz82iW0bQ6qUKcqaY6gyCIOUcbjFo2vjl7YibEIx2LHh7KASBwIQfA09nac8ftJlg0WpmKVYhNMbZOAPH9KeJcsDvkf8FAEF0hQUwQOQYTxEzASE11chHE7A+vyyqMnQaCptRlOHKNYRIFsVUQxEoFh2oxaeJ0u3z+eEf2EJekvkNWOXe0CSIbQGeWBLHL65MaRuNOquvphAkAUKrgUQlVVJ9N/oKYXfiUqFjkWmY8xADAd80YJ4g8gAQxQeQYnS6WMtG1QpzmH7SewlAGcEoAPNApjFOWKn7dXiGul1ZJjXUy8hG3s9i1DDfVwdGGYl12K8SsOsxxkM4lKswyYezBCjEAr1Z4r/muY8dlCLNMmBUZskwolPCJOcac2LxKEPkECWKCyDHCKsTBk+rkgFINlPYXvm8+BPi8gZSJimHdc0xJEJ+SVvUSG+tOy0gQW4MtBUx0ZMBDjBDLRHY8xMGvTaGIkzQiWSZ6qKFOhBcvIBR5IYiF/0fM4pTCtAUxAF68+6NwUYWYyD9IEBNEjtEpeYhl2lQHBIRvyyGg+aCQGKApBsqHdM/xgi0TYqyYHKPXAh5iVWYsE2wqoL01UCHO0nAOSzJT6no6g1iEEz3XKrelR4/bHbALHyMnfv4zIIjZeGuDvxNOjy/t/RFELhHnvhVBED1NZ9SmOplYJoCA8G0+LAwEAIDa8YCim67BWYXY6xCEpL5ESpqQk2UitEKcuZQJONpQnOWmuoQj14BAhbiHBbHKKFh6inxWONy+QBa4DJEm1fGZqxArgpImOpxe6NTyfX8IoitUISaIHINZJorlmjIBABVDhWXLYeELAKpGdd/x1HpA9H8y/6kcPcSsqc6kVQhNiUBmPMQ+F0o1wucqW5aJpKbUZckyoRJjAc1cJ1ps8ppy2BUmiPW8mGOekQpxCQAxizjLUw8JItOQICaIHCN6hVgmHmIAKK4VlrYmwNYsfN/d1T69KBzFkcesQnzaKo+UCZ7nAzm9yiARn44g1hQBCqEiW6kShFG2UiYsiUauAdmzTLDhHOhEq00+cX2RYIJV7+8UVmRAEDP7jgl2mlZH5B0kiAkixwjLIfbI0DIRdKsedlEQF1X0zDGl8c1CU11Duwt+f/bGFSeK0+OHxyecp4kLmk6oSqCiGg2Ok3zElUrhc5S1lAm7IDDjWiZ4PmuWCfZelXCdaJG5IGY5xFqf+P9HujnEgDScw8TZsjrghSC6AxLEBJFj2MTYtbCUCTlZJiRBbAlEaHX3kAXWfCYmBFQVa8FxgNvnR7MMbn+z6rBSwcHgzYBdgiH+LEogVAqzNXY34Sl1rg7AK1bIe9gyEfxetcpooEsk2Put8YoVYl0GBLH4eWQeYoLIJ0gQE0SOEd0yIUNB7GoHWo4I3xtreuaYomVCrVSgxiTYJk625b5tQvIP61Tg2KhrQwaq6vpA1RPIYlNdopaJkLHNPWwTCnqv5GyZ4HleatBUeTqElZmoEDPLBHmIiTyEBDFB5Bg2N8sh7hK7ppaRIA6ubDotwq3/mjHde0wWMcYEFYA+pYJt4oQMBHHIWGPJZpKBQSbihUKxXxBG2U6ZiD+2mU2p6+HqMCC9V6Uyt0zY3T54RZuQwp3Juw0lAIQKsdVBFWIivyBBTBA5BM/zUtNTkVYl+CnlWCFWdkl07D8jPS9sIpjERj5rYDhH31Khwvh9m717j50BWEXPpFcHGhEzUiEWRF6RJIizbZmIN7Y5OwkTAKSLKjNsaJWBzSYakl1CwYNzZ9BDLFaIKWWCyEdIEBNEDuHy+qXKjlGrArwugBcD8OUkiLvSf3r3H8PUW1haT0qrpApxq1wrxBkQxOKwiSKfUCnszNJgjoQ9xFka2wwgUE3nHGjvtPX88TMEe69rdUGiNYMeYhPsUtMeQeQLJIgJIoewBYmVIo0qUB0G5CeIf/ZO4Puh53b/8SIJ4jL5VIhDBDEThRmsEOu8wqCP7FkmBAtCwpaJbFSIdWbwEMZKOztae/74GYJ9lnrpRNuHSgeotOnvOCiHmFImiHyDJtURRA7BEiYMGiUUCg5wix3iKh2gkNlUqH5Tgf/9RBB33e0fBgKCuP2kYDXhOKlC/L0MPMQhHlub2FSXEQ+xYAPQeARBbHf74PX5oVL2XD3E7w/KWI4riFnkWnU3n1UEFEr4NCao3O3w2+QviKu1bsCOzNglgJAc4k6HfD3WBBEJqhATRA4RljDhESubcqsOM6pGAgPP6pljMQ+xxyaNPWYe4pNtjpzPIg6xFNgz7yFWuSzSKnbh1VN0ur1gb78p0ZSJbFgmAPC6oAxtmcL86FVq0QedCbsEIFkmFBwPj8OamX0SRI5AgpggcohAwoSMI9eyhcYQGFUsNtb1MuugVHBw+/xo6sztJqlABVUDsNi1jHiIhfdE4WiDViX8l9/Tt7vbxeq3Tq2ATh3nTkc2LRMAOKPwnus9bXB5e/bCIVOwz1K5WsxzzlSFWK2DTylYL3i7JTP7JIgcgQQxQeQQgQoxi1wTLRNyilzLJkxAioJSpVRII5xPtOa2jzjEY2sXb9czgZ8OQVMDi3VCdbanfcQhYj8enaxCnAXLBAClWJku56yyzSJmFeJypWgVylSFGIBPI1aJ3ZaM7ZMgcgESxASRQ0iRaxqqEKeEJP4C/k+5+IgDgyuUkuWDNTGlBRPVjlaYxAutnk6aYP7ouAkTPA/YmIc4O5YJjgliWNEi02l10gWIIsMVYiBgm3CRZYLIL0gQE0QOwVImApYJmXuIexpJ/AX8n8xHXJfjFWJmKyhXuQCIhls2jjod2EWC34tKrXCMns6QtYgNWHH9wy5r9sY2M4rkXyGWEksU4mc+gxVidpGmdrfnvC+fIJKBBDFB5BCscmfUMUEsWiY0xiydkcxg0+rsgQrxgArhYuJYc27nyjIRU8ZEjEoPqHXp71itB5SCVaFKI4jN7Fkm4gjiU18Iy+JePT+2mSEK4gquXbaCmGUEGyHeFdFmYEqdiFLMtS6GDR1ZyrQmiO6ABDFB5BCs+78orKkuS+JAbrBqKGtKAzBIFMRHclgQ8zwvWSZMEM8zE3YJAOA46TZ3pUpoLOxpIZOwZeLkXmHZf0Y3n1EMioIsEzIVxOwCxMiLn6UMVoiV4ufSBLvkeyeIfIAEMUHkEJQykSbmPsKy/YS0alClUF3/rqkTPJ+bt3g7XV74xNvPJoh3BTJhl2CIHtJylVAx7GnLRMjQkViwhImSvt18RjEQGzMFy0RuJ5NEg73fen8GxzYzgoZzsAsdgsgHSBATRA4hpUywpjoPE8RkmUgIsyikLAFB3L/cAI4TbALNOdokxYSFVqWAxiM2K2WqQgxIFeIyJRPEPWyZkCrEcVImmCDOUsIEACn7OR88xFpf5ivE7ELNDBvaqEJM5BEkiAkih7CFxa5RhTgpWGUxqEKsUyulpInvmjqzcVZxCamgOi3CykxWiEVBXKIQBHFnDwti1lQXv0IsRq4VZSdhIvjYZehAS0duJ5NEg32eNF7x894NKRMmziYdhyDyARLEBJFDMKESZplQk4c4IViF2NYEeAJiZlCFaJvIUR9xyJQ6lpDRDRVis+hP7vGUiUQ9xDlRIRbGZSs4Hu6O5uydR4o4PT64vX4AgMrbIazUZa6pTrJMwIY2mVbQCSISJIgJIodgzU5sgEIgZYIqxAmhLw3YS9q/l1YPFBvrcrVCLAlGvQZwWISV3VAhLpYEcXZSJuJXiFkGcRYFsVIFr1ZozvRaG7N3HinChnIoOEDhYoK4GywTnE1qBCWIfIAEMUHkEOyPWbGuaw4xeYgTguOCGusCgnhwJRPEuV0hNhuCLBPdUCEuElMHejplIqFJdR4n4BIHkmRpKAeDF33ECkdzzjZiRoO91ya9GhwbntEdlgnYqamOyCtyQhA//fTTGDBgAHQ6HaZOnYpPP/005vYbNmzAiBEjoNPpMGbMGGzevDnkcZ7nce+996JXr17Q6/WYO3cuDh06FHFfLpcL48ePB8dx2LdvX6ZeEkGkBKvcBQQxeYiTxhA6vhkISprIUctEiMe2WyrEgiDS+4UKeU9XiBOyTLAJdUpNZl97CiiLhaEgZp9FyvSVC0wQl2oVgTtM3WGZ4GwUu0bkFVkXxK+99hpWrlyJVatWYe/evRg3bhzmzZuHxsbIt6o+/vhjXHnllVi+fDm++OILLFiwAAsWLMCXX34pbfPwww/jySefxPr167F7924UFRVh3rx5cDqdYfv71a9+hdra2m57fQSRDMzbKU30ohzi5CkSPKDBgnhIlSCIj7fY4PT4snFWMZFSGPTdVSEW9qXz97yH2OX1wSG+5zEn1QXbJTiuB84sOgo2vpmzoqkj/O9GLtMmfpZqDUFCPqMV4hIAQl42eYiJfCLrgnjdunW45pprsGzZMowaNQrr16+HwWDAiy++GHH7J554Aueffz5uu+02jBw5Evfffz8mTpyIp556CoBQHX788cdxzz334NJLL8XYsWPxyiuv4NSpU9i4cWPIvt566y288847ePTRR7v7ZRJEXPx+PshDLFaIu+OWZ75jCBfEVcValBVp4OeBbxs6snRi0QmpoHajh1grNll19qBloj3I01rMmkUjIQniLI1sDiZofHNjh7yyiJlI7aUVz1ulA1Rx4u6SQZwGqeW8cNqtmdsvQWSZrApit9uNPXv2YO7cudI6hUKBuXPnYteuXRGfs2vXrpDtAWDevHnS9kePHkV9fX3INmazGVOnTg3ZZ0NDA6655hr86U9/gsEQv/rmcrlgtVpDvggik9jcXjC7oqlrU522ODsnJUeYZcLWJK3iOA4jaoT38JvTuSeII8ausal7mUAU12q34NHtcHp7zBvbZgtkECsUMSq/LGGiKIcEMdrRJDdBLNoYarRi9TbTF9NqA/xKrfB90EUnQcidrAri5uZm+Hw+VFeHdhRXV1ejvr4+4nPq6+tjbs+WsbbheR5Lly7Fddddh8mTJyd0rmvWrIHZbJa++vbN4iQlIi9hvk61koNWJf5qsi5xaqpLHJNogWo/GbJ6ZC9BGHx9OvcuZiUPsSEoZSKTlglRXCudQqSbz89LNobuhgm00riRa7lUIRYuqio4q+wEcav4fleqxfPOZMIEAHAcfHoxms5BgpjIH7JumcgGv/vd79DR0YE777wz4efceeedaG9vl75OnDgR/0kEkQRW5h/WqcFxHOB1AT5W5aEKccKU9heWluMhq6UKcX0OCmJmmdAqAKeYtJDJCrF4m5tztIEVaXtqOAe7hV8ab0qdLQci1xhFwR5ieQlii1iRL1eJ3udusFtxoi1J67ZII8cJQu5kVRBXVFRAqVSioaEhZH1DQwNqamoiPqempibm9mwZa5t3330Xu3btglarhUqlwpAhQwAAkydPxpIlSyIeV6vVwmQyhXwRRCYJS5hwBWXmkiBOnBImiOtCVrMK8YHTHTkXpcXi9oTRyuK5ZVIQi/viPDaUaoX991R6AmvyKi1KdGxzLlSI2bQ6GXqIWUVeKQriTFeIASiMQgW9FB00rY7IG7IqiDUaDSZNmoTt27dL6/x+P7Zv345p06ZFfM60adNCtgeArVu3StsPHDgQNTU1IdtYrVbs3r1b2ubJJ5/E/v37sW/fPuzbt0+KbXvttdfwwAMPZPQ1EkSisM5/aSgHa6hTGwCFMktnJUNYhdFjD6R0ABhabYRSwaHd4UG9NbeSA9iAg1KOWWSKAWUci0Ey6EoATvjvvrdWeO09lTQhT8uEfCvE7P02i2O6u6NCrBArxGVcB0WvEXlDjJbfnmHlypVYsmQJJk+ejClTpuDxxx+HzWbDsmXLAACLFy9G7969sWbNGgDATTfdhNmzZ2Pt2rWYP38+Xn31VXz++ed4/vnnAQjNMzfffDN+85vfYOjQoRg4cCD+7//+D7W1tViwYAEAoF+/fiHnYDQK/szBgwejT58+PfTKCSIUq0Oo2Jn0rEIsiiOqDieHpkjorPc6hcY6McNZq1JicGURvm3oxIHTVvQy67N8ogIurw92t+DnNfPiXQFDBqvDAKBQCKLY0YpeGgf+A32PJU1Ilol4FWLrKWGZE5YJoQJq4hywWHOvCTMWrCJfDHGoTzdUiFmSSynXIR2PIORO1gXxFVdcgaamJtx7772or6/H+PHjsWXLFqkprq6uDgpFoJA9ffp0/PWvf8U999yDu+66C0OHDsXGjRsxevRoaZtf/epXsNlsuPbaa2GxWDBz5kxs2bIFOp2ux18fQSSKVCHWdh3bTA11ScFxQoWv/QRgawZKB0gPja4149uGTuw/0Y6zR+SA8EIgYYLjAIOP+YfLMn8gQxngaEWN2gagrMeGc7TaE/AQd9QLPy9wQNXIHjmvmOjM4BVqcH4PvB3yGt/MLkCMkiAuyfxBxAuGMljR7qAKMZEfZF0QA8CKFSuwYsWKiI/t2LEjbN3ChQuxcOHCqPvjOA6rV6/G6tWrEzr+gAEDcs5TSBQe1jAPMVWIU6aoQhBYnaFiZkK/ErzxxUl8ccKSnfOKABvKYdKpoXA2CysN3SCIRZFdqRSEUk9ZJljDYFksQdz0jbCsGJrZqWqpwnHwGyqg7DwNlbMFbq8fGlXu96DzPC/Zb/TiEJZuyTAXP59lXKcUq0cQcif3f8MJokCwhnmISRCnTIloi2o7FrJ6fF/BirD/hCVnLoJbxYpeeZEGsLcKK7urQgygQsmm1fVQhVh8fTHHNrMLl+LIzdTZgE2rq+CsaOqUh4/Y6vRKqQ9aHxvb3L2WiVaaVkfkCSSICSJHYAKFPMQZoGyQsGz9LmT1iF7F0KoUaHd4cLTZFuGJPY/UdFakARxCTnB3VohLIXyuekoQs6arslge4s4cilwT4aThHFbUtzuyfDaJwewSBo0Syu6ccsma6tCBZps8LhYIIh4kiAkiRwjErlGFOG2Yb7hL9JpaqcCY3sIt+S/qLD17TlFoFW85lxo0gKMbK8Ri9FoJJ1QOe6qpLlAhjiWIc2hKHUNKmmjHKUtupZJEoy3Yr80EcTdXiFs6qUJM5AckiAkiRwjErlGFOG1YpdEW3hA1vm8JAGBfjviI26QKqjrIMpHhlAlASq4w8axC3P3ez/+/vTMPb+K62vg72uVF8r5iYwNm33dDEpLgQEJaQpJmoWSjabaGNDRr02bp16ZZm2ZPKGmzfP2SJk1LyNIESoAEEgj7ZsCAwZjFlndZ3m1J9/vjzowkWzJeJI1knd/z6JlBc2fmzkWW3jnz3nPsDqfsje82Qlx5mC/dJkAqjjhxLFGwwVIfZoI4Wgu0BjJC7MpDXNMQHtFzgjgXJIgJIkSQijOYJEFMWSb6jhRpbKzqsmlSNheGO0vrgtkjn9S6pyWTIsQBtEzEOLhQCoZlwuqWQcNs7MZDXLaHLwdNCXifeky0y0NcFjaWCbenDXKEOACTFMXPp1pgaGuo9f/xCUIBSBATRIgge4g7F+agCHHvESdEoakS6DR5bnou/zE/XG6TPZdKIvUhIUoHNIsiPYCT6oyiIA6GZULyD5uNWqilmtGdsbcBzWJ2jfjcgPepx0iCGPUoD0fLhFQCPBCCWK2FQ8cjz87Gav8fnyAUgAQxQYQIvj3EVCa818SkAYIacLS7/KkiybF6DE/lUfdtJTVK9M6D2mZvEeIAWCZEkW2wc6EUjNLNHv5oX0gT6lTawFhF+opou0kW6lEeYpUNfSEJ4iQDeKVGIGBp7Jh009ZSGzIZWwiiP5AgJogQwdbFQyxaJvRkmeg1Gh0QP5ivVx/tsjl/CJ8UtOW48oLYM0Ic+LRrunYrgOB4iGU7SHcp1ySfd3Qy91aECmIKuFShFuXWMLFMiDmfU/RuTz4CdEOtiuZ/Q7HOejQEaYImQQQSEsQEEQLYHU65fC9NqvMTicP4slPqNQDIH8onBW0NAUEsRYgT9E7ALgqvAHqItW31ABgag+Eh7kmVOsnnHRNCGSYAwJQBAEgUGlDf2Ih2u1PhDp2bWjHjQ4pOTIWmiwHUgam/JeVpTqBME8QAgQQxQYQA7n5O2TIhTaojQdw3REGDBkuXTTOHJEAQgGOVjahU+HG4NBFKKpgBQR3Q6mICsyMWLfITiUDiYQfxhRQhDjVBbIwHU+sBAMmworIh9G0T1WIBkRSt2NdAVv1z81hXh0nhEoLoDhLEBBEC2Fq4IDZoVa4SsVKEWEeCuE/EpvNlQ3mXTXFROozN4GLh26NdM1EEiza7Q74Ziod4A2SMD4x1QGsENEYAQJzQgNYOJ9rsDv+fxw2pbHO3lolQzEEMAIIAQbRNpKAO5WGQek0SpkmaIAhi0WOdItShhgQxMQAgQUwQIYC1RSxeYHSLpFGWif4hlQH2EiEGgItGcgG28UjXXMXBQhKMapWAaIeYFSAQdgkJ8dgJYnGO+pbARok9Usr5IlQtE4B8U5Uq1KEsDHzE1aJ1IV4t9jUIgjhZqJfPSxDhDAligggBJGEUJ0XSGKNJdf0lVrRM2Mq8br5oBH/ku/loNTocyvhD3SedqVoDmHJNQszikKnngqm+ObCCuEce4vrTfCndwIQSJi6I04TakI8Qt7S7njaYBDHDRCAz1Ig3MMmClSwTxICABDFBhABSAQNZEHe0AEx8nE0R4r5xjgjxhEFxSIzWoaHNjh0nlSkuUNfkJhgDWZRDQhTE6TouiK3BihB3J4jL9vJl2riA9qVPyBFiK87WhXaEWBKlOo0KBrtotwpkhFj8+0pGPU2qIwYEJIgJIgSob+5kmZD8wxAAbbQynQp3JA9xUxXg6Cr8VCoBc8Qo8cYiZWwTHpPOAplyTUIU26naYEWIz+EhbqgAGsoACEDa+ID2pU+4pV4rrW1WuDPdUyUK4uQYPYS2IAhiMUKcIlhR0xja0XOC6AkkiAkiBKjrbJlwL9usoj/TPhGVCKg0AJir+EMnLhZ9xBsUEsQeOYhbRMtEIIpySIhiO1nFM1oEOkIsRS0TY/TeG5Tv48uk4aFpDRJtN6mow+kQF8TVDeKEupgAV6mTECdBRgltaLTVB+48BBEk6JeWIEIAKZJmjqKyzX5DpeIV6wCftonz85KhVgk4XtWE0pqmIHaOU+M+6UwSxIGs1iZNqlPxGy7J4xsI2u1OuRpeUowPy4S1lC+T8gLWj37h5iE+U9cMhzN0K7JJE9uSYvRugjiAHmJ9DBwa/vTK2akaJEGEIySICSIEkLJMyF7LVhLEfkH2EXdNvQYAZqMW03K4AF1/OPhRYjlCHK0NjmVCPHZ8ELJM1DTxiKVGJcBs9GGZaAzRHMQSYi7rNKEOHQ4nyutD10csReOTY/XBiRADcIpRYqHBQuWbibCHBDFBhACSlzNOEg7SD5oxTpkODRQkQewj0wQAzB3J00etLwp+lKtW9tgGaVKdeGwT4zdcARXEYsQyMUYHwVdeZblsc4gKYtEyESW0wYwmnKoJXduEnIM4Ru96whRgQawy8b8vk6NOfhpAEOEKCWKCCAG6ZJkIUoRnwCOVb6467LPJ3FFcjG07URuU6m3uuCLEQZpUJx472sEFkzWAk+qkSV6J0T78w4BbhDg5YP3oF1oD96IDSBdqcSqEfcRVwfYQA1DHSrmIrahQuOIjQfQXEsQEEQLUiV5Os5RlggSxf5BSeVkKfTYZkhyDIcnRsDsZNgW5ap1H4YogRoij7KIgDkKEOCm2G0FcfZQv43MC1o9+I9smakI600SlKIhTTAbX94c+wN8fMS5BbAnxPM0EcS5IEBNECFDfOcuELIjjlOnQQCFxKF9Kk7d8UDBKtE0E2Ucs3QglGDVuk+oCHyHW2/nnqz6Ak+rkR/i+qtR1tAC1J/h66tiA9aPfmDIBhH6EWBKkqSaD62lDIDOWAK7Ua7DCQhFiIswhQUwQCsMYkyN1rkl1Vr6kCHH/MGfzZWMF0OH7B3uuWxlne5Cq1jHGXD5bbRvAxPMGIcuEpqMRGtgDHCEWBbGvCHFVEb9mY4IcaQxJxAhxulATsh5ip5PJloX0aAHoEDOmBPLmCnAV5xDqUUmCmAhzSBAThMI0ttnldE7kIfYzUQmANoqv2876bDZlcDzMRi2szR3YfcoalK7ZWuxoF8V3sloUMNoo7lsNFAYzAD7BLQ5NAZ1UJ6UBS/QVIa44xJepYwBfk+5CAXFiXRrqcLKmKSSzKVQ3tcHuZBAEIFkjfpYEVWBLNwPyjUyKQBFiIvwhQUwQCiNNbNJrVDBo1fxNEsT+QRAAcxZft57y2UyjVuEisWrd14eDk21CmnQWq9dA3y5lFQlwRE+llj9TcUID6ls64AxQbl2PrAfeqBQFccrogJzfb4i5iFNVdWhotcv/b6FERb2rSp22zcrfNMYHvqiPW/TcUh9640IQvYEEMUEojLWzfxggQexP4kRBXH+622ZzRR9xsASxR97YliB5PgHZNhGPRjAGNAQoXVa1W9o1r1Qc5MvUEBfEYgnwLLUVAFBc0ahgZ7wj5UdOMxuCk61EwjwIAM9rba23Bv58BBFASBAThMJ0KcoBkCD2J3KEuHtBPGdEMjQqASeqmlBSHfiqda40WfrgihjxHGla7oeVPn/+pqanEeJQnlAHyFHQVIFPejxWGXqCWPIPp5kMwclWImEww6HlJbdZ/ZnAn48gAggJYoJQGLlss9FLhJgKc/SfHkaITQYtZgzhImJ9EKLE3iPEQRAx4jnSdVwQB8JH7HQyuSy1V0HcVMMnOgJA8ki/n9+viBHiaGcD9GhHcQgK4nIxw0TQI8SAHCWOailHS7sjOOckiABAgpggFKZLUQ6AIsT+RMo0cY4IMeCqWhcM24TLY6sDmsT8x9FBKFAhCqUUjRghDkBxjvqWDnmiaIK3SXWVol0iPgfQx/j9/H7FYJYnZqYJtThW2aBwh7oiTWhLMwc5QgxAHccFcbpQgzN1oZmFgyB6AgliglAYqxhJi5OKcjg6gHYxCkV5iPuPHCH2PalOQspHvONknZwbOlB4WCYag1jCWBRKyZIgDkCEWBL7ZqMWOo2XnxnJP5wyxu/n9juCINsmMoQaHAtBD7GHZUKOEAfBjw7IEeJMoQanSRATYQwJYoJQmLouRTlsro2BTpsUCUgeYlsZ4Oz+kW52YhSGpcTA4WT4/nh1QLslTTpLjtW7RYiTAnpOAHKEOFHgwk4qH+1PBsyEOgmxBPhQoQw1Te2obAitFGNn6vikuow4o6vAS5AixJIgTkcNTte2BOecBBEASBAThMLUNvFomiwepKIcuhhArVGmUwOJ2DRApQGcdqCh/JzNz8/jovS74kALYrcIsSSIY4IRIeaRw3gVF8S1ARDEkmBM9uYfdtiBkm/5eqinXJNIygMATI7mn4mDZ23dtQ4qDidDmZUL0ayEqOB7iE1cEGcI1TgdwpX8COJckCAmCIWRJh8lRIvigfzD/kWllqNYqOu+hDMAnDdMFMTHAiuIJctEcqweaJQixEEQxKJQMjHuhQ2IILbxa0szeykycnYnzwmtMQC5c/x+7oAQnwsAGK6rAQAUnq1XsjceWGyt6HAwaNVC8LNMAPLfVoZQI0eqCSIcIUFMEApT0/nxMgli/5MwhC9rj5+z6YwhidCoBJyqbQ5YqV73ss18Up3kIQ6GZYJHiGMcPMoZCEEseVpTTV4EcdURvhw8G4hO9Pu5A0LcYABABviNS2FZ6AhiKSqbEWeEWiUokGUik59fqMHp2sCnKySIQEGCmCAUpka0TCRJEWLJAxisSTGRQMJQvqw5tyCO0WswKTsOQOBsE+5lm5N07YBd9KQGxTLBhZLRzkVdIASxlPUgJdaLZaL6KF8mj/D7eQNGHM9UYmorB8BQGEKWCUkQZ8WLJcqbeRQ7aBFiExfEBqEDDXUVIVnamiB6AgliglAQxpgsSBKkCHFLkGeJRwJyhPhEj5qfN4ynP/s+QIK4qpELRpNBA32rKGC00YAuOiDn80CMHOo66gGw4FsmJEEs+nLDAjFTiaajEWY04ay1Rba8KM3pOsk/bAScTtcchGBFiDV6MNHqE9tWIU+oJIhwgwQxQSiIrdWODgePqCRK+VqbgzxLPBJIFCPEPRXEefxR/vfHq+F0+j/iVdUg2iWCnWECkD9XKmcHotEqe9j9SUVDN5YJWRAP9/t5A4bWKPu7z0/itoCdJ2uV7JHMGTFCPCg+iothxp88BPP7Q5BTr1WHZOESgugJJIgJQkGk6Fy0Tg2DVs3fbAmyBzASSHATxD14pDt+UBxi9BpYmztwsMz/j8erpCp1wc4wAfAiE2puZYgXGlHX3O5X0c8Yc3mIYzsJ4o5W18TGpDCyTACybeK8ZC5At5WEhiCWcv9mJUS57Fa6GEDjo2R2IHCbWFdcRYKYCE9IEBOEgtQ0SinX3H68moM8SzwSiB8MCGqgo7lHqde0ahVmimWcfzhR4/fuVLiX2g1mUQ6AF5oQP1tmNMLhZGhotfvt8LYWO1o7eJQyxdRJlNUeB8B4wZlgRcT9hSiIx8fwG6RQEcQl1VwQD1Yi5ZqEmyA+ThFiIkwhQUwQCiI9rvYoYEAeYv+j1sqCpicT6wBgei4XFYEQPuXugjjYlglAFkwZOu4/lSZ2+gPJLhEXpXU99ZCQMkwk5XFhHk6In58cDfeVF1lssDYr65etb+6Q81kPTYlxS7kW5O+O+BwAQK5gwXGKEBNhCgliglAQOeVatJsgVirKM9DppY94Wg4f/52ltX73EVtsXIimmQzBt0wAcoQ4U8/74c+JdT7tEgBQfYwvw80uAcgTM6OsxRiRGgvGgG+OVCnapeIqnks63WxAjF4T/KcNEmLGkKHCWfIQE2ELCWKCUBDZMhHt9mg52In1IwXZR9yzCPHYTDOMWjWszR045ucfeYsYIU5XwjIByE8f0nX8cbt/BTH/THexSwBuKdfCaEKdRMZEvizfi4JRPAvJukMVyvUHwLEK/rkclhLD32gU+xOTGtyOiDc4g4UK1NbbUN/SEdzzE4QfIEFMEApS0znlGkAR4kCROIwvpSjlOdCqVZg8OA4AsN3PGQUkQZxqUsgyId5spWgCIYgHWIYJieRR3IfeWo/LcvhP5zdHKtFmdyjWJSkaKwtiJZ42ALw8ut4MtcCQK1hwMIQq+RFETyFBTBAKInuIJcuE0+GqVEcRYv8iFYKoPNzjXSTbxA4/+ogdToYKMYdtutmojIgRI8RJKi6o/Jl6TRLEaZ0FsdMJ1BTz9XAUxBodkMBLOI/WliPNZEBTuwNfH6pUrEtSRoeuEeIgC2JBkKP+w4Sz2E+CmAhDSBAThILUSlXqpCwTrbxYAgCaVOdvUkbxZd1JoKOlR7tIE+u2l9T6rQJXTWMbHE4GtUpAcqweaJQixMEUxPy64gUuqPwZIZai310sE7YzPMuHSiuXQg47RCGvqjmGa6byzArvbytVrDuyZSJZFMQNoiCOTQt+Z8QbzjzVWRwgQUyEISSICUJBpEl1CXJRDjESqTfxzAiE/4hOFoUgcz26PweTsuKhVQuw2Fpxpq5nIvpcSBkmkmP0UDvagDZRPATTMhHNPbBmJz93nR8FcVk9H6cMs9FzgzTmiUMBtcZv5wsqUnW96mO4fno2VAKw5XgNjlgagt4Va3M7zlr5WI9MM/E3pZSCselB7w+SRwIA8oQzKCRBTIQhJIgJQkG6pF2jlGuBQxBcUeLKoh7tYtSpMS7TDMB/6dcsNreUa81iaWiVNrj/52IE0WTn5/enZeKseOOQGd9ZEEsZJsKoZHNnJKtH9VFkxhkxfwwfx+fW9Ozz5E8Kz/J8yNkJUTBHaXnBmQYL3xjsSXUAkDoWADBGOInSmma/3mQRRDAICUH8+uuvIycnBwaDATNmzMD27du7bf/xxx9j5MiRMBgMGDduHL788kuP7YwxPP7440hPT4fRaERBQQGOHXNNpDl58iRuvfVW5Obmwmg0YujQoXjiiSfQ3k5/wETwcDiZ/KhatkxQUY7AIkaxUNULH3Guf33EkqUgzeSeYSI5uHl5RUEc1SYJYv/kIW5ut6OumWcY6CqIpQl1YZhyTUIWxPz35IH5I6BWCVhfVImvg5xxQrIlSDdsaK0H7OJTDCUsE+kTAACDVZUwoSlkCpcQRE9RXBB/9NFHuO+++/DEE09g9+7dmDBhAubPn4/KSu8TFbZs2YLFixfj1ltvxZ49e7Bo0SIsWrQIhYWFcpvnnnsOr7zyClasWIFt27YhOjoa8+fPR2sr/yEqKiqC0+nEX/7yFxw8eBAvvvgiVqxYgd/85jdBuWaCAFxeUpXgNqmOyjYHll5GiAFgujixzl+ZJjyKckiToGKDHNETBZO23Qo92lHV4B9BLEWHYw0amAydLD9VYZxhQkKKbtvOAG0NGJocg5/NzgEA3P/xPpysbgpaVyRbwlhJEEufJUMcoDV63ymQRCUA5iwAwGhVaUAqPBJEIFFcEP/5z3/GbbfdhqVLl2L06NFYsWIFoqKi8Pbbb3tt//LLL+PSSy/Fgw8+iFGjRuEPf/gDJk+ejNdeew0Ajw6/9NJLePTRR3HFFVdg/Pjx+N///V+UlZVh9erVAIBLL70U77zzDubNm4chQ4Zg4cKFeOCBB7Bq1apgXTZByPlak2P10KjFP0UpYhjsWeKRQh8ixFMHJ0AQgJLqJlSKVdj6Q4W7ZULyfMYEOaJniAM0PAtEsmBFVQO/OesvZ0RPa2acF0EmR4jD2DJhjAdiM/h6xSEAwIPzR2LCIDPqWzpw/cofUFwZHD+xFCEeP0gUxLJ/WIHosIQYJR4jnMTW4ySIifBCUUHc3t6OXbt2oaCgQH5PpVKhoKAAW7du9brP1q1bPdoDwPz58+X2JSUlsFgsHm3MZjNmzJjh85gAUF9fj4QE31G5trY22Gw2jxdB9Aev+VqVyEkbSciZJkqB9p5F88xRWoxIjQUA7DxZ1+8ulFndqtQplRVAEGSfaZpghZP5xzYhRYgHdbZLtNQBTeLNXjgLYgBI415ZVBwAAOg0Krx181TkpcTAYmvFVW9sCXh0tKqhDadqmyEIbhFiyT+spCBOGw8AGK06iSMVDX578kAQwUBRQVxdXQ2Hw4HUVM/HhampqbBYLF73sVgs3baXlr05ZnFxMV599VXccccdPvv69NNPw2w2y6+srKzuL44gzkGFGG1McS9x2yROshKzABB+JjpJTG/GepWPeIZb+rX+csZdNCoZ1RMzEQwz8tRdlbb+ixfp2rpEiKvF/MOxGYA+tt/nUZS0cXxpOSC/lRJrwIe3z8Tk7DjYWu248W/b8MmeMwHrgvQ5HJlmgtkoWlOUzDAhkc4F8VTdaQDA14eVreRHEL1BccuE0pw9exaXXnoprrnmGtx2220+2z3yyCOor6+XX6dPnw5iL4mBiGSZSHXP19rkNsmKCAxyhK+w+3ZuSBPr+jtRyO5wylkmshKi3DzESghifs5cPX/aJT2x6A9SGjDfE+rCPDoMeBXEAJAYo8cHt83EgnFp6HAw/OqjfXh9Y3FAurCthEegpRs1AK6nDUpkmJAQLRNZjtMwohVfHihXri8E0UsUFcRJSUlQq9WoqPC8i6yoqEBamvcfiLS0tG7bS8ueHLOsrAwXXXQRZs2ahZUrV3bbV71eD5PJ5PEiiP5Q2a1lgjzEASNhCF/W9byggjSxrshiQ31LR59PXV7fCoeTQadRITlGr5yHGJAF8SAtF8SVfni8faaOl4LOjIvy3FB9hC+TwzjDhESqKIgrDvHKkm4YtGq8tngy7riAf8aeX3sE/9rl/0jxthP8xsxTEIdAhDg2HTBnQwUnZqgOY8vxGkq/RoQNigpinU6HKVOmYP369fJ7TqcT69evR35+vtd98vPzPdoDwLp16+T2ubm5SEtL82hjs9mwbds2j2OePXsWF154IaZMmYJ33nkHKlXEB8uJIGORBbF7hFiyTJCHOGDEZfNlfc+f8qSYDMhJjAJjwO7SvvuIT4uCcVCcESqV4OYhViCqJwridJUVgH8ixKdq+PUNTuwsiKUcxGGcYUIiIRfQRvMUZzXHu2xWqQQ8smAU7rl4GADgN58c8OtEu8qGVhyp4Meb5iGIQ8BDLAjAsLkAgKtMRXA4Gf69O3DWEYLwJ4qrwPvuuw9vvfUW3nvvPRw+fBh33XUXmpqasHTpUgDATTfdhEceeURuf++992LNmjV44YUXUFRUhN/97nfYuXMnli1bBgAQBAHLly/Hk08+ic8++wwHDhzATTfdhIyMDCxatAiASwxnZ2fjT3/6E6qqqmCxWHx6jAkiEEiWiRQpQux0ukWIyTIRMKSywbUnerXbtJz+2ybO1Ir+4YQoHl2ULDJKRPXEcyY6+fVU9NNDbGvtkAt85CRFe24cSJYJlRpIHc3XKw74bParguGYMzwZ7XYnHvh4v1+yeADAN0X8O2L8ILMrfzkQGhFiABjGJ7RfqNoPAPi/H0rh9NO1E0QgUVwQX3fddfjTn/6Exx9/HBMnTsTevXuxZs0aeVLcqVOnUF7u8iHNmjULH3zwAVauXIkJEybgX//6F1avXo2xY8fKbR566CHcc889uP322zFt2jQ0NjZizZo1MBi48Fi3bh2Ki4uxfv16DBo0COnp6fKLIIKFZJlIkwRxqxVw2vk6CeLAIXtACwF7zx/nTpcKdPQjH7EcIY438psf5gQElTL/36LX1OzgftSqfqaUK63m15YUo0eM3q00s70dqC3h6wMhQgz49BG7o1IJeObqcYjVa7D3tBWr/BQplSaqXTzSzVbFmHI5rTuTewGg0sDUXIqxhkqcrGmmyXVEWKC4IAaAZcuWobS0FG1tbdi2bRtmzJghb/vmm2/w7rvverS/5pprcOTIEbS1taGwsBALFizw2C4IAn7/+9/DYrGgtbUVX3/9NYYPd30R33LLLWCMeX0RRDBotzvlaJrsIZbsEgYzoNEp1LMIIGEIzyfraOvVxDpJEO8/Y0Vrh+Mcrb0jZWHIio9yRfSiU3jUMdiIkcTodv6562+E+GQNT2OX09kuUX8aYA5AY1Q+eukvxDLF3QliAEg3G3HPXG6deOG/R9HS3rfPjURrhwPfFfP/r4JRbsK31QrYxRsaJfzo7hhMQO4cAMAD2XxS4Z/XHaUoMRHyhIQgJohIo6qRiw+tWkB8lJg2iTJMBAdBADKn8PWzu3q8W3ZCFFJi9ehwMOw5Ze3TqU/X8ihqVoLRzfOpUERPrlZXDz3a+110pFQUxIMTO9klJOFvzgxueepAkj6RL8/u5lanbrgpPweZcUZYbK14Z0tJv067oagSze0OZJgNGJPhNrFb+iwZ4wGtwfvOwUS0TczWFCHWoEGRpQH/3EmZmYjQhgQxQSiANIEpJdYAQRIJ5B8OHn0QxIIg9Ns2IUVRsxOiAFsZf9OU2adj9RuD2a/V6kpEy0RuUqcIsXydGX0+dsiRPh7QRvFS65I/2gcGrRr3z+NPKP+2uaRfUeLVe84CABZOzHR9bwDKZivxRs55AABt6WY8dAH/Pvvjfw6jvL5FyV4RRLeQICYIBaio95JhopEEcdDInMqXvRDEgMs20ZcCHfUtHahu5DaZ3KRo5YWiIMhR4jShjlera+y7bcJnhNgqprdTSvgHArVWrsp2LtsEACyckIFB8UbUNLXjox2n+nRKa3M7vjnCvyMWTer0mVGq4qEv0sbxnMSONizRf49J2XFoaLPjvo/2ocPRfUSdIJSCBDFBKEC5KIjTzG6PNxtEgTRQfJahTOZkvqw+CrTW93g3SRDvPlUHey9/2EuquWBMidUj1qBVXhADckRRqlbXVx8xYwzFVfwYuZ0zTFQc4svkkX3rY6giZZqw7DtnU41ahTvnDAUArNx0Au323ovCf+06g3aHE6PSTRiZ1ikPfqhkmJAQBGDiDQAA1dGv8PxPJiBKp8bWEzV48otDCneOILxDgpggFMBVvtft8bJN/FEzhciP2kAmOsmVfu3s7h7vNjwlFmajFs3tDhwss/XqlCdEwTgkWRSMNv74W9HIqRhRHGrgfZMqzfWW6sZ2WJs7oBKAYSkxnhurxKIcKaP63M2QJGsmX574pkfNfzJlEJJj9Sirb8XqvWd7dSqnk+HvP/BI+40zB3dtoLQf3RvD5wEQgNLvMcx+DC9eNxEA8N7WUryy/piiXSMIb5AgJggFOOOefktCjhAPIK9lKDNIsk3s7PEuKpWAqYPjAfTeNnGiikeIhySLgjEUIsRiRHGwjov7vgriY2KhiOyEKBi0bhkznE5XvufEYX3vZygy9GK+tBxwWRa6waBV4+fn5QIAVnx7vFd+7U3HqlBa04xYg6arXQIAGiVBHEI30/E5wPhr+fqW1zB/TBoevZzfFP153dGAlbUmiL5CgpggFEASHh6CWIoQh4oPcKAzaDpfnvqhV7tJtoneFug4US1GiJOied5YpSfVAXJEUapWJ92o9ZajoiAelhLruaGhnFd0E9SuCoEDhZhk7pMFgOMberTLT2dkw2TQ4ERVE9Yd6nkhqJWb+E3FT6YMQpRO07WB9N0RE0IRYgCYdhtfHvkSsJXh5+cPwYPzefnu59cewZNfHKJ0bETIQIKYIBRAskxkxrlZJiQf4ECajR/KDJ7Fl6e28apxPSR/aCIAYNuJml75iF0R4migzQZ08H8rGtUTz50EXo5a+lz2lqOVXOwPT+1kl5Ciw/GD+US0gYaYXgzFX/eoeaxBi5vycwAAb3xzvEe573ecrMWW4zXQqgX8/Pwh3htJExfjvdgplGTQVJ7RpaMZ2PkOAODui4bhNwu4n/yv35Vg+Ud70WbvX35mgvAHJIgJIsjYWjtQ39IBAMiUIsStNqCdi4qQeuw5kEkdA+jNQHtDjzIFSIzJMMNs1KKhzY59Z3o2Ia/d7sRx0UOclxLrig4b4gBdlO8dA434NMLUwYs99FUQS5aJ4amdIsS1x/kywYeQC3eGzuXL4xt6fFO1dHYODFoV9p+px/fFNedsL/ltfzIlC5lxxq4N2ptdVeric3rUh6AhCMCMu/j6lleBZv5U5fYLhuLF6yZAoxLw2b4y/OzdHWhssyvYUYIgQUwQQeesKDrio7SuErdSdFhvAvQxPvYk/IpKDWSLE6NKt/R4N7VKwOxhPEr83bHqHu1TXNmIDgdDrEHDbTKhMKEOkLNMGFp5Oq++WCYYYzhi4YI4r3OEuFqcPJUwtO99DGWypgO6WJ6PuHxvj3ZJjNHjuqlZALjY7S5KvLGoEpuPVUOjEvCLC32MoRQdNph5YY5QY+zVQMoYbp3Z9Lz89pWTBuGdpdMQpVPj++IaLHnrB9Q29byUOkH4GxLEBBFkJEGc6TGhLsTSJkUKkm2i9Pte7TZ7WBIA4Pvingniw+V80trodBMvqFAnihjzoF6d1++IEWK1WK2uodUuP73oKWfqWmBrtUOnVvHotzuVYootKUXZQEOtBYbwMsUo7pmPGADumDMUeo0K20/WYu1B7xPy2uwO/F5MUbZ0dg6yEnw8Sag7yZehFh2WUKmAix/l6zvfAVqs8qbz85LxwW0zER+lxb4z9bj2L1upeAehGCSICSLIyBkm4ijlmuIMns2XpVv4RLcecv4wXjxl96m6Hj3qPSQJYqncbo1oJVA684LBDGj4jdnIKDH1Wi9tE4VnuW1kRFosdJpOPykVB/kydWz/+hnKDJNsE+t7vEtGnBG3X8BtJE99eRitHV3tFq9tKEZJdROSYvT45dw83wcLdUEMACMuc0WJN/zBY9PErDh8fGc+0s0GFFc24oa/bkMdRYoJBSBBTBBB5ozXCDGlXFOE9AmuErxVRT3eLTsxCtkJUbA7GbadOLcP9JCYs3hUuiSIxZRTiQpbCQQBMHPbxrgY3sdTtU29OkRhGRfEYzM7FYtorBK9rcLAK8rhjuQjPr29V0Ve7pwzFKkmPU7VNuN3nx302LbxSCVeE9OS/W7haF7IxRfS04ZQFsSCAMx9jK/vfAewnvbYPCwlVhbFx6uasPTdHWhuJ08xEVxIEBNEkPGacq3+DF8q/Qg90tDogEHT+HrJ5l7tel4et01I5XR94XQyHBRF42hJENeGSIQYkNOhjYnmfTxe1UtBfJYL6TEZZs8NlaLIS8gd2L74+MFAYh7AHD3ONgEA0XoNXrhmIgQB+HDHaTz5xSFUNbRh1e4zuOPvu8AYcP20LPxo/DluksMhQgzwKHHO+XycPv9ll82D4qPwvz+bDrNRi72nrXj0k8IeZeEgCH9Bgpgggsxp0TLhMWOcBLFyDLmQL09s7NVul4ziOV//e8jSbS7V4qpG2FrtMGrVGJEWCzg6XCImJAQxT9U1VMsj3Sd6IYgZY7JlYmxmJ0FsKeTL1DH972OoM3ohX+79R692Oy8vCY9ezv3Vf/2uBNP++DXu++c+tNuduGR0Kn5/RQ+sJuEiiAFg3pOASsuzcpz8rsvmvNRY/OXGKVAJwKo9Z/HRjtNeDkIQgYEEMUEEEcYYTlZzQZybFO3aIAtihbMORCJDL+LLks1crPaQWcMSEaPXoMLWhn1nrD7bSRXtJmXHQatWAdZTgNPOrRqhMIlSjBBngEe6pfRwPaG0phk1Te3QqVUYmdZpQp3sHx7nl26GNGOv5suT3wEdrb3a9dbzcvHmksm8YAuAhGgd7r9kON5YMrmrJ7szjIWXIM6YCEy+ia+v/a3XsZo5JBEPiMU7fv/FoT5XTySI3kKCmCCCSHVjOxrb7BAEeM4arxfTcJmzlOlYJJM2ATAm8HzEZ3f1eDe9Ro0LR/DJdb4yBQC8sAIATMvhFe5k/3DCUD4DX2lEQZzQwSunHa9q7PGjaunaJmSZPUs2A0BFBEWIk0cBpkF80tjBT3q9+2Xj0rHhgQtx+PeXYudvC3DP3Dx+83QuGivFSoCq8PnuOO9X/GawfC/wwxtem9x5wVBMy4lHc7sDj35ygKwTRFAIgW9jgogcSqr54+jMOKNLQLTWA23iZByl89JGIiqVK3XW8d7ZJuaP4WnL1h60eP3RZoxh50leBU4q+RwyE+okRMuEsfE0BAFoaLWjurFns/yla5sqiX0Jh901STESBLFKBUz8KV8/trbPhzHq1FCphJ7vUCPmeTZnhU8lwLgsYIGYj/j7lzzSsEmoVAKevmo8dGoVNh6pwhf7y4PaRSIyIUFMEEHkpCiIPe0SYnTYGD+wJx+FMkNE20QvfcQXjUyBUatGSXUTdpXWddl+vKoRZ60t0KlVmJQdx9+UBXEI+IcBudyv0FCO3Dguqnpqm3BFvzsVhKgpBhztgC5GFtwDnuHz+bLoS6Dp3JlH/IJUYTEtzGwpExbzqHprPfDVQ15THg5LicEvLuI3jc98VeQ1NR1B+BMSxAQRRE54FcQ0oU5xJB/xmZ29Sp0Vo9fg8vHcB/zPnV0nAP33ELdSzBqWiCidWJUw1ARxdDKgMQBgmJ7A/ZpFYt7k7qiwteJEdRMEAZiS3SlCLNklUkaHhi0kGGRO4bl2HW29ykncL8r382W4CWKVGpgn5iPe/xFw1HtU/Y4LhiLNZMBZawv+d+vJ4PWPiEgi5JuKIEIDKUKck+guiEUhZSJBrBhx2dzTyxxeZ793x3XTuHfz833lqGlsk99njOGzvTy/9CWjU107hEpRDglBkKO40808yn3g7LkF8bdH+SS88YPiYI7q9LhenlAXAXYJCUEARlzK13f8rVeFXvqMHCEeH/hz+Zu8S4D8ZXx93WPcZtMJo06N++YNB8ALlVibqWAHEThIEBNEEJE8xLnJXgQxZZhQlqEX8+Wx//Zqt6mD4zEu04yWDgfe2lwiv7/ntBVFlgboNSr8aJyYS7a9CbCJFplQ8RADQBKvhDZGxyPaB85az7nLJlEQzxme3HVjJApiAJh2G6DWA6d/AMr2BPZc9jag6jBfD7cIscSch/iE1uqjwNpHvDa5evIgjEiNha3Vjr99V+K1DUH4AxLEBBEkOhxOnKjm3sxhyW5eYfesA4RyDBeje0fX9iq6JwgClhdwQfnelpMorWkCYwwvrjsKAPjR+AxXBLX2BF8aE4CoBG+HU4ZknuYqy8ntO8WVjWjqpiS1w8mw+Vg1gHMI4nAVan3FlO7yEh/5MrDnqiri6fsMceFrtzKYgflP8fXtK71meVGrXH9f7245CVtrz1MjEkRvIEFMEEHiZHUTOhwM0Tq1Z1GOKi6ckDxcmY4RnJzzAG000FAOWPb3ateLR6Zg5pAEtHQ4sPTdHXj43/ux+Vg1dGqV/GMOIPT8wxJJXBBH1R9HqkkPJwMOdeMj3l5Si/qWDsRFaTFhUKeCHC11gE30xaeMClSPQ5fRV/DlrvcApzNw55HsEunjuV0jXJm4GBh/PV9fdYfXrBPzx6RhWEoMGlrt+PvW0uD2j4gYSBATRJAosjQAAIanxbpSKzk6XFHDJBLEiqI1uCbX+Zjk4wtBEPDCtRORbjbgRFUT/rmTC8LfLBjpmW9a9g+H2NMA0TKB6qMYPygOALDbS9YMiS/2c2/0/NFp0HTOl1txiC/jsnkEMNIYfQWgNwFNlcDZnYE7jzyhLgz9w50peIJn2ak5Bmz4Q5fNKpWAX1zI/2be/q4ELe2UcYLwPySICSJIHK3ggnhEqltFr7qTgLODJ6qnSXXKIz/u/qrXu2bGGbHqF7NwU/5gXDQiGa//dDJumZ3r2ShkBbF4M9ZUhQsG8fzY3x/3njrM7nBiTSEv4iFl2PCgbDdfDgSh1hfUWmDEAr7+/cuBO0+4plzzhikDuOqvfH3HX72WwF44IQNZCUbUNLXjH9tPBbmDRCRAgpgggoQUIR7hXuK2WrRLJA6LnPRUoUzePL4s2w00+K4+54t0sxG/v2Is3lk63btYlAophJplQh8jF4W5IJ7nFt5eUoM2e9dI3MYjVahpakdCtA75QxO7HuvUD3yZNT1g3Q15zr+PL4v+E5icxE7HwBLEAJBXAEy/na9/fq+rJLWIRq3CnXP4jeTKTSe8fjYJoj/QLzBBBIkjFi8R4qojfEl2idAgNg3ImMTXe5lt4pw4OlwiJiUEsy+IGSGy27mPuLXDie/EiXPuSPlgr52a1bW8MGNugnhmIHsb2iSPEP+PGXD4U/8fv+IgLzWuiwWSR/r/+Eox/ykgO5/ncv7kri6p2H4yZRBSTXpYbK1YtfusQp0kBiokiAkiCNQ3d+BUbTMAYFS6ybVBEsTiLH8iBBh+GV8eXePf41YcBOytgN4cehFiQL4REMr24LKxPLr9+b4yjyZFFhs2H6uGSgCWzMjueozaE0BzNU89ljEx0D0ObSYt4cvvXuI3Q/7k1Fa+zJrOi1wMFNRa4PI/AxojcGoL8M1THpv1GjVuv4BHid/4phh2RwAnLRIRBwligggC+8W8rtkJUYiP1rk2lO/jy4Hy2HMgIOUjPr3Nv8eVjpc1LTTtMVJkvGwPrpjI8yZ/WWhBVQMvNsIYw3Nr+A3cZWPTPScLSkhCLXMyoNEHvMshzZSlQFQSYC0FDnzs32OXbuHLwfn+PW4okDoauPwFvv7di0DJJo/NP52ejcRoHU7XtuDTvWVeDkAQfSMEv5UJYuCx/wwvBzwhK871ZnszUC1GiNMnBr1PhA+M8Xxp93NVLFkQz/Dvcf2FJIirj2BiqgYTs+LQbnfilfXc97xq91lsKKqERiXI1cO6INslQvQag4kuCpglVmLb/AL3/foDxlw3Htmz/HPMUGPSEmDcNQBzcuuE1VUW3ahT4+fnDwEAvP5NMRzOIFQEJCICEsQEEQT2nrYCgGfO1oqD/As/OoV7V4nQQHoE7fT3Y+4QF8SxaUBsBsCcECwH8MA8buP5+w+luOnt7Xj43zzN17KLh2Goe2EZdyTRnx3B/mF3pv1cTCdWDBz8xD/HrD0BNFYAah2QOcU/xwxFFvwJiM/lOa0/vdvjhuKGmdkwG7U4UdWErwrLFewkMZAgQUwQAYYxhv1nrAA6RYjL9/Jl+oTwTqw/0FCLVeWcviu19Zr6M/yHXVCHtojJnMyXZ3fjvLwk/HIuz0+86WgV7E6GKyZm4J6L87zv21TjypoSqqI/2OhjgZl38/VNz/unUIcUHc6YzHNnD1SMccCSj7nwL/kW2PCkvCnWoMXS2TkAgNc2FMNJUWLCD5AgJogAc7q2BRW2NmhUAsZkuE2okwRxpE8+CjVUGr70pyA+vZ0v08byFGehivRZFEvo3nfJcHx4+0wsL8jDWzdNxUvXTYRa5ePm7cRGvkwZE1plqZVmxu18ImVVEXD4s/4fbyD7hzuTlAdc8QZf3/KKR2nnpbNyEaPXoMjSgLUHLQp1kBhIkCAmiADzwwmeh3RCVhyidBrXBslvGcoRw0hEEsTM6b/Su7J/OMStBJIn9cQ38iPqmUMSsbxgOC4ZnQqhuycZxV/zZV5BYPsYbhjMwIw7+Hp/o8QdrUDRF3w9d07/+xYOjPsJMGohv0H99B6glZcUN0e5osTPrClCu50yThD9gwQxQQQYSRDPHOIWNWuwcF8hBJ53kwgdVG43Lf6KEsuCOMSLVWTN4AKupRY404uyw04nULyerw8jQdyFmXcBuhigohA42vsqiDKntgKt9UBMWuQIYkEALnsWiEkFKg96lHa+Y85QJMXoUVrTLOfHJoi+QoKYIAIIY8xNELtV9Sr9ni/TxnKvHBE6+FsQ28qBsr18PdRvftQaYOhcvn5sbc/3K98DNFUC2ujQj4IrQVQCMP02vv7tczxTRF+oKOTLwfmhmbovUJgygEWidWL7SmDvBwCAGL0GD4gZT15ZfwzVjW1K9ZAYAETQXxRBBJ/jVY0oq2+FTq3ClMHxrg0nRUE8eLYyHSN8429BvP9DAIwLRXNm/48XaIbP58ujvajUV7hK3HceoNF13zZSyV8GaKP43IG+5ri2i4JPH9t9u4HIsALg/Af4+pcPAXWlAIBrpmZhdLoJtlY7HltdCNbXmw0i4iFBTBABZO3BCgDArGGJnv5haTZ+xmQFekV0i5RlAui/IGYM2PM+X5cql4U6wy4BIAAVB4C6k+du73S6BPHYnwSyZ+FNdJLr793Wx7LDDjE3tjpCbzou+i2QOZWXrf5wCeCwQ60S8NxPxkOjEvBVoYVKOhN9hgQxQQSQ/4qzn+eN7pRnWIr06KKD3CPinAhuX4v9FcRndgA1x3hkcMyV/TtWsIhOBHLP5+v7e1Bh7dAnQEMZz6SQd0lg+xbuSNHzvhZ9iXRBrFIB1/2d53auOACsexwAMDbTLKcDfOSTA3Led4LoDSSICSJAnK5txr4z9RAEoGB0iudGhyiII728bSgiCP5Lvbbn73w5+orwesw94ad8ufNvQFuD73ZOJ7DpT3x9xh30eT4XanF8HH30ujrEYjGRKogB7if+8St8/YfXgf3/BMALxswdmYJ2uxM/f28Hiiw2BTtJhCMkiAkiQPxzJy83OmtoIlJiOyXQt5MgDmlUfijO0VQNFIrVySbd0P8+BZMxVwLxOUBDOfDNM77bHf0KqDwE6GKB/LuD1r2wpb8RYul7I5IFMQCMXgjMvpevf7oMOLMLapWAlxdPwpgME6ob23HNiq348gBVsSN6DgligggAdocTH+3ggvin0wd7aSD9sJEgDkmkCLGjH+WbD63mXsfEYa78vuGC1sBL5wLAD28ClsKubdqbXdXDZtxO2VJ6Qr8jxBFumXBn7u+A4ZfxsfzH9UDtCcToNfjg5zMxdXA8Glrt+MX7u3HT29ux+VgVOhyUp5joHs25mxAE0Vs+2XMWlQ1tSIzW4ZLRqV0bSD9sNCM/NFGp+VIsTtEnWqx8mT0zPFNk5V3CCyIc/gz4/JfALV+6SgUzBvznPh4d1ptc5YmJ7pEjxP20TND3Bv+buvot4O3LuJ/4vYXALV/AHJ+Df9w+Ey99fRQrvj2BTUersOloFWL0GoxMi0V2QhRiDRpE6zUwaNXQa1T8Ja/zZXy0FlkJUUiO0XdfkIYYMJAgJgg/02534pUNxwAAt18wBDqNFzFkb+VLjaHrNkJ5/OEh7mjmS20YT5y89Blete7sLmDlhcC8P/CJoNtXAgc/ASAAV/+VT8Qjzo0cIe7rpDqyTHigjwVu+Dfw7gJe6Oi9HwM//RjalJF4cP5IXDc1G3/ZdBxfFVpQ29SOnaV12Fla16tTGLQq5CRGY2RaLEalm+RXciw93RtokCAmCD/z2sZinK5tQVKMHjfl53hvZKdHnyGNlHrN2Q/LRLsoiHVR/e+PUpgzges/AD5aAlQdBt53T6smAAued+UtJs6NNGegzxFi6XtD2327SCI2FbjlP8A7lwG1J4C3LgYWvgKMvRrZiVH445Xj8D8Lx+BYZSOOVjTAUt+KhlY7GtvsaLM70WZ38GWH+7oD1Y3tKK9vQWuHE0WWBhRZGrB6b5l82uRYPUanmzA6w4QxGSaMTjchJzEaKhVFk8MVEsQE4Ue+L67G6xuLAQBP/Hg0jDq194aUZSK08UuEuIkvwzlCDPAUbHdvB9b/ASj6AmhvBIZcCFz8KJAxSenehRfSDXCfI8RSlgn63vAgNg342X+Bf/8MKNkE/PtWYMdfgUt+D2RNh0atkiO7vaHd7kSZtQXHqxpxuNyGw+UNOFxuQ0lNE6oa2vBtQxW+PVolt4/SqTEq3SWQx2SYMTwtBnqNj98BIqQICUH8+uuv4/nnn4fFYsGECRPw6quvYvr06T7bf/zxx3jsscdw8uRJ5OXl4dlnn8WCBQvk7YwxPPHEE3jrrbdgtVoxe/ZsvPnmm8jLy5Pb1NbW4p577sHnn38OlUqFq6++Gi+//DJiYmICeq3EwGVDUQWWfbAHDifDlZMy8eMJGd4bOp1ukR76YQtJ/OEhHggRYonYNGDR6wB7jf+bPJV9o78RYsoy4ZuYZOCGT4BNzwHfvwyc2gr87RJeDGXKLTz1YS8nfuo0KuQkRSMnKRpzR7nmgjS321FkacChMhsOldtwsMyGonIbmtsd2FVah11utgyNSsCwlBiMdhPJo9NNMEdRlD/UUFwQf/TRR7jvvvuwYsUKzJgxAy+99BLmz5+PI0eOICUlpUv7LVu2YPHixXj66afxox/9CB988AEWLVqE3bt3Y+zYsQCA5557Dq+88gree+895Obm4rHHHsP8+fNx6NAhGAzcs7lkyRKUl5dj3bp16OjowNKlS3H77bfjgw8+COr1E+GN08mw94wVf9tcgv+IKX7Oz0vCM1eP872Te3SIIsShiZR2rT9ZJmQP8QAQxBIkhPuHHCHubx5iElNeUWuAi34DTL4Z+OYpnqO4bDd/bXkVWLbDL5/hKJ0Gk7PjMTk7Xn7P7nCipLoJB2WRXI+DZTZYmztky8UquKroDYo3ugRyhgk5iVHIjDd6VjQlgorAFC78PWPGDEybNg2vvcYjD06nE1lZWbjnnnvw61//ukv76667Dk1NTfjiiy/k92bOnImJEydixYoVYIwhIyMD999/Px54gNc9r6+vR2pqKt59911cf/31OHz4MEaPHo0dO3Zg6tSpAIA1a9ZgwYIFOHPmDDIyfET23LDZbDCbzaivr4fJ1LvHML2lze7AhsOV8r87/4d1/h9knVq4b++6b9f//qim0zDXF3k5tu/jej125wO77dB12zn27e485zhY9/3s/uPfed8OhxMNbXY0ttpR29SOU7XNaG7nUURBAC4anoKrpmRC211WgY4W4JPb+fqjlSSKQ5HXZ3LP7IWPACmj+3aMb58FKgqBq94Cxl/r3/4R4cmWV4H/PgoMng3MuLP3+6//Pa98eN37wKgf+b9/A42mamDn28DGP/J/X/FGUAvkMDDUNXfgdG0zTte24ExdM07VNaOm0bdlJkavQUK0DiajBlE6DaJ0akTpNDBqVVCrVFCrBGjEl7qTX9ld6wvoJPwFr6vyPgwqVGYW9PFKe0+62YgJWXFBOVdP9ZqityLt7e3YtWsXHnnkEfk9lUqFgoICbN261es+W7duxX333efx3vz587F69WoAQElJCSwWCwoKXP+xZrMZM2bMwNatW3H99ddj69atiIuLk8UwABQUFEClUmHbtm248squJVbb2trQ1ua6q7fZglcFp7HVjrve3x20892gXocnte8E7Xxhj/vTyxLx1RMENT36DFWkm5Rvnu7/scKpQh0RWKSnBaXf81efj2P0T38GOtFJwJyHgMJV/Ab3018E9fQCgATxNcF9Q3df+wxAo/gKIm1Mi6va3gva+a6clIkXr5sYtPP1BEUFcXV1NRwOB1JTPfO0pqamoqioyOs+FovFa3uLxSJvl97rrk1nO4ZGo0FCQoLcpjNPP/00/ud//qeHV+ZfNGoVpuckeL7p++aP/7vLdt93kp3/ndgyCEcaxvSqj/15CtX7Xbvfo8vWfj4h63w3rVGpoFEL0KpViNKpYdSpoerLSUYuoEfQocp5vwK2/QVg/Uzmb8oAci/wT5+I8Gfk5cDxDTxy2VfMg4DBYVboRWkufhT44Y3+zQkIAnbG0G53ot3uQIeDweFksDv50uFkYGBgjD/ZZQCc3p7g9uKZv3tTO7SYmhbvs62/yU0KvcnGZFbpIY888ohHZNpmsyErKyso5zYbtfjnnflBORdnJoAHgng+gggxxiziL4LwJ7FpwPXvK92LyGPUj8LCYqIRX0rNOviXQucNFRQtn5SUlAS1Wo2KigqP9ysqKpCWluZ1n7S0tG7bS8tztamsrPTYbrfbUVtb6/O8er0eJpPJ40UQBEEQBEGEP4oKYp1OhylTpmD9+vXye06nE+vXr0d+vveIaH5+vkd7AFi3bp3cPjc3F2lpaR5tbDYbtm3bJrfJz8+H1WrFrl275DYbNmyA0+nEjBkz/HZ9BEEQBEEQROijuGXivvvuw80334ypU6di+vTpeOmll9DU1ISlS5cCAG666SZkZmbi6af55JZ7770Xc+bMwQsvvIDLL78cH374IXbu3ImVK1cCAARBwPLly/Hkk08iLy9PTruWkZGBRYsWAQBGjRqFSy+9FLfddhtWrFiBjo4OLFu2DNdff32PMkwQBEEQBEEQAwfFBfF1112HqqoqPP7447BYLJg4cSLWrFkjT4o7deoUVG4prGbNmoUPPvgAjz76KH7zm98gLy8Pq1evlnMQA8BDDz2EpqYm3H777bBarTjvvPOwZs0aOQcxALz//vtYtmwZ5s6dKxfmeOWVV4J34QRBEARBEERIoHge4nAlmHmICYIgCIIgiN7TU72mqIeYIAiCIAiCIJSGBDFBEARBEAQR0ZAgJgiCIAiCICIaEsQEQRAEQRBEREOCmCAIgiAIgohoSBATBEEQBEEQEQ0JYoIgCIIgCCKiIUFMEARBEARBRDQkiAmCIAiCIIiIhgQxQRAEQRAEEdGQICYIgiAIgiAiGhLEBEEQBEEQRERDgpggCIIgCIKIaDRKdyBcYYwBAGw2m8I9IQiCIAiCILwh6TRJt/mCBHEfaWhoAABkZWUp3BOCIAiCIAiiOxoaGmA2m31uF9i5JDPhFafTibKyMsTGxkIQBKW7E1LYbDZkZWXh9OnTMJlMSncnZKBx8Q2NjW9obHxDY+MbGhvf0Nj4ZiCODWMMDQ0NyMjIgErl2ylMEeI+olKpMGjQIKW7EdKYTKYB8wflT2hcfENj4xsaG9/Q2PiGxsY3NDa+GWhj011kWIIm1REEQRAEQRARDQligiAIgiAIIqIhQUz4Hb1ejyeeeAJ6vV7proQUNC6+obHxDY2Nb2hsfENj4xsaG99E8tjQpDqCIAiCIAgioqEIMUEQBEEQBBHRkCAmCIIgCIIgIhoSxARBEARBEEREQ4KYIAiCIAiCiGhIEBPn5Omnn8a0adMQGxuLlJQULFq0CEeOHPFo09rairvvvhuJiYmIiYnB1VdfjYqKCo82p06dwuWXX46oqCikpKTgwQcfhN1uD+alBJxnnnkGgiBg+fLl8nuRPDZnz57FDTfcgMTERBiNRowbNw47d+6UtzPG8PjjjyM9PR1GoxEFBQU4duyYxzFqa2uxZMkSmEwmxMXF4dZbb0VjY2OwL8WvOBwOPPbYY8jNzYXRaMTQoUPxhz/8Ae5znCNlbDZt2oQf//jHyMjIgCAIWL16tcd2f43D/v37cf7558NgMCArKwvPPfdcoC+t33Q3Nh0dHXj44Ycxbtw4REdHIyMjAzfddBPKyso8jhGJY9OZO++8E4Ig4KWXXvJ4P5LH5vDhw1i4cCHMZjOio6Mxbdo0nDp1St4ekb9bjCDOwfz589k777zDCgsL2d69e9mCBQtYdnY2a2xslNvceeedLCsri61fv57t3LmTzZw5k82aNUvebrfb2dixY1lBQQHbs2cP+/LLL1lSUhJ75JFHlLikgLB9+3aWk5PDxo8fz+699175/Ugdm9raWjZ48GB2yy23sG3btrETJ06wtWvXsuLiYrnNM888w8xmM1u9ejXbt28fW7hwIcvNzWUtLS1ym0svvZRNmDCB/fDDD2zz5s1s2LBhbPHixUpckt/44x//yBITE9kXX3zBSkpK2Mcff8xiYmLYyy+/LLeJlLH58ssv2W9/+1u2atUqBoB98sknHtv9MQ719fUsNTWVLVmyhBUWFrJ//OMfzGg0sr/85S/Busw+0d3YWK1WVlBQwD766CNWVFTEtm7dyqZPn86mTJnicYxIHBt3Vq1axSZMmMAyMjLYiy++6LEtUsemuLiYJSQksAcffJDt3r2bFRcXs08//ZRVVFTIbSLxd4sEMdFrKisrGQD27bffMsb4F7NWq2Uff/yx3Obw4cMMANu6dStjjP+BqlQqZrFY5DZvvvkmM5lMrK2tLbgXEAAaGhpYXl4eW7duHZszZ44siCN5bB5++GF23nnn+dzudDpZWloae/755+X3rFYr0+v17B//+AdjjLFDhw4xAGzHjh1ym6+++ooJgsDOnj0buM4HmMsvv5z97Gc/83jvqquuYkuWLGGMRe7YdP7x9tc4vPHGGyw+Pt7j7+nhhx9mI0aMCPAV+Y/uRJ/E9u3bGQBWWlrKGKOxOXPmDMvMzGSFhYVs8ODBHoI4ksfmuuuuYzfccIPPfSL1d4ssE0Svqa+vBwAkJCQAAHbt2oWOjg4UFBTIbUaOHIns7Gxs3boVALB161aMGzcOqampcpv58+fDZrPh4MGDQex9YLj77rtx+eWXe4wBENlj89lnn2Hq1Km45pprkJKSgkmTJuGtt96St5eUlMBisXiMjdlsxowZMzzGJi4uDlOnTpXbFBQUQKVSYdu2bcG7GD8za9YsrF+/HkePHgUA7Nu3D9999x0uu+wyAJE9Nu74axy2bt2KCy64ADqdTm4zf/58HDlyBHV1dUG6msBTX18PQRAQFxcHILLHxul04sYbb8SDDz6IMWPGdNkeqWPjdDrxn//8B8OHD8f8+fORkpKCGTNmeNgqIvV3iwQx0SucTieWL1+O2bNnY+zYsQAAi8UCnU4nfwlLpKamwmKxyG3c/3Ck7dK2cObDDz/E7t278fTTT3fZFsljc+LECbz55pvIy8vD2rVrcdddd+GXv/wl3nvvPQCua/N27e5jk5KS4rFdo9EgISEhrMfm17/+Na6//nqMHDkSWq0WkyZNwvLly7FkyRIAkT027vhrHAbq35g7ra2tePjhh7F48WKYTCYAkT02zz77LDQaDX75y1963R6pY1NZWYnGxkY888wzuPTSS/Hf//4XV155Ja666ip8++23ACL3d0ujdAeI8OLuu+9GYWEhvvvuO6W7EhKcPn0a9957L9atWweDwaB0d0IKp9OJqVOn4qmnngIATJo0CYWFhVixYgVuvvlmhXunLP/85z/x/vvv44MPPsCYMWOwd+9eLF++HBkZGRE/NkTv6ejowLXXXgvGGN58802lu6M4u3btwssvv4zdu3dDEASluxNSOJ1OAMAVV1yBX/3qVwCAiRMnYsuWLVixYgXmzJmjZPcUhSLERI9ZtmwZvvjiC2zcuBGDBg2S309LS0N7ezusVqtH+4qKCqSlpcltOs9Qlf4ttQlHdu3ahcrKSkyePBkajQYajQbffvstXnnlFWg0GqSmpkbs2KSnp2P06NEe740aNUqeySxdm7drdx+byspKj+12ux21tbVhPTYPPvigHCUeN24cbrzxRvzqV7+SnzJE8ti4469xGKh/Y4BLDJeWlmLdunVydBiI3LHZvHkzKisrkZ2dLX8vl5aW4v7770dOTg6AyB2bpKQkaDSac343R+LvFgli4pwwxrBs2TJ88skn2LBhA3Jzcz22T5kyBVqtFuvXr5ffO3LkCE6dOoX8/HwAQH5+Pg4cOODxBSR9eXf+wwwn5s6diwMHDmDv3r3ya+rUqViyZIm8HqljM3v27C7p+Y4ePYrBgwcDAHJzc5GWluYxNjabDdu2bfMYG6vVil27dsltNmzYAKfTiRkzZgThKgJDc3MzVCrPr1+1Wi1HbyJ5bNzx1zjk5+dj06ZN6OjokNusW7cOI0aMQHx8fJCuxv9IYvjYsWP4+uuvkZiY6LE9UsfmxhtvxP79+z2+lzMyMvDggw9i7dq1ACJ3bHQ6HaZNm9btd3PE/qYrPauPCH3uuusuZjab2TfffMPKy8vlV3Nzs9zmzjvvZNnZ2WzDhg1s586dLD8/n+Xn58vbpRQt8+bNY3v37mVr1qxhycnJYZ2ixRfuWSYYi9yx2b59O9NoNOyPf/wjO3bsGHv//fdZVFQU+7//+z+5zTPPPMPi4uLYp59+yvbv38+uuOIKrym1Jk2axLZt28a+++47lpeXF3apxTpz8803s8zMTDnt2qpVq1hSUhJ76KGH5DaRMjYNDQ1sz549bM+ePQwA+/Of/8z27NkjZ0rwxzhYrVaWmprKbrzxRlZYWMg+/PBDFhUVFfLps7obm/b2drZw4UI2aNAgtnfvXo/vZvdZ/pE4Nt7onGWCscgdm1WrVjGtVstWrlzJjh07xl599VWmVqvZ5s2b5WNE4u8WCWLinADw+nrnnXfkNi0tLewXv/gFi4+PZ1FRUezKK69k5eXlHsc5efIku+yyy5jRaGRJSUns/vvvZx0dHUG+msDTWRBH8th8/vnnbOzYsUyv17ORI0eylStXemx3Op3sscceY6mpqUyv17O5c+eyI0eOeLSpqalhixcvZjExMcxkMrGlS5eyhoaGYF6G37HZbOzee+9l2dnZzGAwsCFDhrDf/va3HkImUsZm48aNXr9fbr75ZsaY/8Zh37597LzzzmN6vZ5lZmayZ555JliX2Ge6G5uSkhKf380bN26UjxGJY+MNb4I4ksfmb3/7Gxs2bBgzGAxswoQJbPXq1R7HiMTfLYExt9JIBEEQBEEQBBFhkIeYIAiCIAiCiGhIEBMEQRAEQRARDQligiAIgiAIIqIhQUwQBEEQBEFENCSICYIgCIIgiIiGBDFBEARBEAQR0ZAgJgiCIAiCICIaEsQEQRAEQRBEREOCmCAIIoK45ZZbsGjRIqW7QRAEEVJolO4AQRAE4R8EQeh2+xNPPIGXX34ZVKCUIAjCExLEBEEQA4Ty8nJ5/aOPPsLjjz+OI0eOyO/FxMQgJiZGia4RBEGENGSZIAiCGCCkpaXJL7PZDEEQPN6LiYnpYpm48MILcc8992D58uWIj49Hamoq3nrrLTQ1NWHp0qWIjY3FsGHD8NVXX3mcq7CwEJdddhliYmKQmpqKG2+8EdXV1UG+YoIgCP9AgpggCCLCee+995CUlITt27fjnnvuwV133YVrrrkGs2bNwu7duzFv3jzceOONaG5uBgBYrVZcfPHFmDRpEnbu3Ik1a9agoqIC1157rcJXQhAE0TdIEBMEQUQ4EyZMwKOPPoq8vDw88sgjMBgMSEpKwm233Ya8vDw8/vjjqKmpwf79+wEAr732GiZNmoSnnnoKI0eOxKRJk/D2229j48aNOHr0qMJXQxAE0XvIQ0wQBBHhjB8/Xl5Xq9VITEzEuHHj5PdSU1MBAJWVlQCAffv2YePGjV79yMePH8fw4cMD3GOCIAj/QoKYIAgiwtFqtR7/FgTB4z0pe4XT6QQANDY24sc//jGeffbZLsdKT08PYE8JgiACAwligiAIoldMnjwZ//73v5GTkwONhn5GCIIIf8hDTBAEQfSKu+++G7W1tVi8eDF27NiB48ePY+3atVi6dCkcDofS3SMIgug1JIgJgiCIXpGRkYHvv/8eDocD8+bNw7hx47B8+XLExcVBpaKfFYIgwg+BUckigiAIgiAIIoKhW3mCIAiCIAgioiFBTBAEQRAEQUQ0JIgJgiAIgiCIiIYEMUEQBEEQBBHRkCAmCIIgCIIgIhoSxARBEARBEEREQ4KYIAiCIAiCiGhIEBMEQRAEQRARDQligiAIgiAIIqIhQUwQBEEQBEFENCSICYIgCIIgiIjm/wHdDeE2cihNlgAAAABJRU5ErkJggg==\n"
                },
                "metadata": {}
              }
            ]
          }
        },
        "ef09224ff39e4e178f8bd1d66a6b0f5f": {
          "model_module": "@jupyter-widgets/base",
          "model_name": "LayoutModel",
          "model_module_version": "1.2.0",
          "state": {
            "_model_module": "@jupyter-widgets/base",
            "_model_module_version": "1.2.0",
            "_model_name": "LayoutModel",
            "_view_count": null,
            "_view_module": "@jupyter-widgets/base",
            "_view_module_version": "1.2.0",
            "_view_name": "LayoutView",
            "align_content": null,
            "align_items": null,
            "align_self": null,
            "border": null,
            "bottom": null,
            "display": null,
            "flex": null,
            "flex_flow": null,
            "grid_area": null,
            "grid_auto_columns": null,
            "grid_auto_flow": null,
            "grid_auto_rows": null,
            "grid_column": null,
            "grid_gap": null,
            "grid_row": null,
            "grid_template_areas": null,
            "grid_template_columns": null,
            "grid_template_rows": null,
            "height": null,
            "justify_content": null,
            "justify_items": null,
            "left": null,
            "margin": null,
            "max_height": null,
            "max_width": null,
            "min_height": null,
            "min_width": null,
            "object_fit": null,
            "object_position": null,
            "order": null,
            "overflow": null,
            "overflow_x": null,
            "overflow_y": null,
            "padding": null,
            "right": null,
            "top": null,
            "visibility": null,
            "width": null
          }
        },
        "61d1c61788fa4b5dacc9a1a60e3854d3": {
          "model_module": "@jupyter-widgets/base",
          "model_name": "LayoutModel",
          "model_module_version": "1.2.0",
          "state": {
            "_model_module": "@jupyter-widgets/base",
            "_model_module_version": "1.2.0",
            "_model_name": "LayoutModel",
            "_view_count": null,
            "_view_module": "@jupyter-widgets/base",
            "_view_module_version": "1.2.0",
            "_view_name": "LayoutView",
            "align_content": null,
            "align_items": null,
            "align_self": null,
            "border": null,
            "bottom": null,
            "display": null,
            "flex": null,
            "flex_flow": null,
            "grid_area": null,
            "grid_auto_columns": null,
            "grid_auto_flow": null,
            "grid_auto_rows": null,
            "grid_column": null,
            "grid_gap": null,
            "grid_row": null,
            "grid_template_areas": null,
            "grid_template_columns": null,
            "grid_template_rows": null,
            "height": null,
            "justify_content": null,
            "justify_items": null,
            "left": null,
            "margin": null,
            "max_height": null,
            "max_width": null,
            "min_height": null,
            "min_width": null,
            "object_fit": null,
            "object_position": null,
            "order": null,
            "overflow": null,
            "overflow_x": null,
            "overflow_y": null,
            "padding": null,
            "right": null,
            "top": null,
            "visibility": null,
            "width": null
          }
        },
        "55379cf4cb504467b38387ca055b5f88": {
          "model_module": "@jupyter-widgets/controls",
          "model_name": "DescriptionStyleModel",
          "model_module_version": "1.5.0",
          "state": {
            "_model_module": "@jupyter-widgets/controls",
            "_model_module_version": "1.5.0",
            "_model_name": "DescriptionStyleModel",
            "_view_count": null,
            "_view_module": "@jupyter-widgets/base",
            "_view_module_version": "1.2.0",
            "_view_name": "StyleView",
            "description_width": ""
          }
        },
        "3f013bdb5d6948458c134bada0e588f9": {
          "model_module": "@jupyter-widgets/base",
          "model_name": "LayoutModel",
          "model_module_version": "1.2.0",
          "state": {
            "_model_module": "@jupyter-widgets/base",
            "_model_module_version": "1.2.0",
            "_model_name": "LayoutModel",
            "_view_count": null,
            "_view_module": "@jupyter-widgets/base",
            "_view_module_version": "1.2.0",
            "_view_name": "LayoutView",
            "align_content": null,
            "align_items": null,
            "align_self": null,
            "border": null,
            "bottom": null,
            "display": null,
            "flex": null,
            "flex_flow": null,
            "grid_area": null,
            "grid_auto_columns": null,
            "grid_auto_flow": null,
            "grid_auto_rows": null,
            "grid_column": null,
            "grid_gap": null,
            "grid_row": null,
            "grid_template_areas": null,
            "grid_template_columns": null,
            "grid_template_rows": null,
            "height": null,
            "justify_content": null,
            "justify_items": null,
            "left": null,
            "margin": null,
            "max_height": null,
            "max_width": null,
            "min_height": null,
            "min_width": null,
            "object_fit": null,
            "object_position": null,
            "order": null,
            "overflow": null,
            "overflow_x": null,
            "overflow_y": null,
            "padding": null,
            "right": null,
            "top": null,
            "visibility": null,
            "width": null
          }
        },
        "42bee828eb5a43d58c298be44b096b98": {
          "model_module": "@jupyter-widgets/controls",
          "model_name": "DropdownModel",
          "model_module_version": "1.5.0",
          "state": {
            "_dom_classes": [],
            "_model_module": "@jupyter-widgets/controls",
            "_model_module_version": "1.5.0",
            "_model_name": "DropdownModel",
            "_options_labels": [
              "AH_1",
              "DM_1",
              "glenn_1",
              "joe_7",
              "misc_58",
              "Khm_1"
            ],
            "_view_count": null,
            "_view_module": "@jupyter-widgets/controls",
            "_view_module_version": "1.5.0",
            "_view_name": "DropdownView",
            "description": "Select Prefix:",
            "description_tooltip": null,
            "disabled": false,
            "index": 3,
            "layout": "IPY_MODEL_d1fcfd0daa714b84ac2cc06d9430bc82",
            "style": "IPY_MODEL_d30e6881b3d9421b9dd19e9a0194b7b5"
          }
        },
        "d1fcfd0daa714b84ac2cc06d9430bc82": {
          "model_module": "@jupyter-widgets/base",
          "model_name": "LayoutModel",
          "model_module_version": "1.2.0",
          "state": {
            "_model_module": "@jupyter-widgets/base",
            "_model_module_version": "1.2.0",
            "_model_name": "LayoutModel",
            "_view_count": null,
            "_view_module": "@jupyter-widgets/base",
            "_view_module_version": "1.2.0",
            "_view_name": "LayoutView",
            "align_content": null,
            "align_items": null,
            "align_self": null,
            "border": null,
            "bottom": null,
            "display": null,
            "flex": null,
            "flex_flow": null,
            "grid_area": null,
            "grid_auto_columns": null,
            "grid_auto_flow": null,
            "grid_auto_rows": null,
            "grid_column": null,
            "grid_gap": null,
            "grid_row": null,
            "grid_template_areas": null,
            "grid_template_columns": null,
            "grid_template_rows": null,
            "height": null,
            "justify_content": null,
            "justify_items": null,
            "left": null,
            "margin": null,
            "max_height": null,
            "max_width": null,
            "min_height": null,
            "min_width": null,
            "object_fit": null,
            "object_position": null,
            "order": null,
            "overflow": null,
            "overflow_x": null,
            "overflow_y": null,
            "padding": null,
            "right": null,
            "top": null,
            "visibility": null,
            "width": null
          }
        },
        "d30e6881b3d9421b9dd19e9a0194b7b5": {
          "model_module": "@jupyter-widgets/controls",
          "model_name": "DescriptionStyleModel",
          "model_module_version": "1.5.0",
          "state": {
            "_model_module": "@jupyter-widgets/controls",
            "_model_module_version": "1.5.0",
            "_model_name": "DescriptionStyleModel",
            "_view_count": null,
            "_view_module": "@jupyter-widgets/base",
            "_view_module_version": "1.2.0",
            "_view_name": "StyleView",
            "description_width": ""
          }
        },
        "7a021e20481c492abf76336a450eadd4": {
          "model_module": "@jupyter-widgets/controls",
          "model_name": "DropdownModel",
          "model_module_version": "1.5.0",
          "state": {
            "_dom_classes": [],
            "_model_module": "@jupyter-widgets/controls",
            "_model_module_version": "1.5.0",
            "_model_name": "DropdownModel",
            "_options_labels": [
              "AH_1",
              "DM_1",
              "glenn_1",
              "joe_7",
              "misc_58"
            ],
            "_view_count": null,
            "_view_module": "@jupyter-widgets/controls",
            "_view_module_version": "1.5.0",
            "_view_name": "DropdownView",
            "description": "Select Prefix:",
            "description_tooltip": null,
            "disabled": false,
            "index": 0,
            "layout": "IPY_MODEL_67ccca18d7c44a4b9b7b944e499e5342",
            "style": "IPY_MODEL_a79b7b6de9294b2d95af890a166435fe"
          }
        },
        "67ccca18d7c44a4b9b7b944e499e5342": {
          "model_module": "@jupyter-widgets/base",
          "model_name": "LayoutModel",
          "model_module_version": "1.2.0",
          "state": {
            "_model_module": "@jupyter-widgets/base",
            "_model_module_version": "1.2.0",
            "_model_name": "LayoutModel",
            "_view_count": null,
            "_view_module": "@jupyter-widgets/base",
            "_view_module_version": "1.2.0",
            "_view_name": "LayoutView",
            "align_content": null,
            "align_items": null,
            "align_self": null,
            "border": null,
            "bottom": null,
            "display": null,
            "flex": null,
            "flex_flow": null,
            "grid_area": null,
            "grid_auto_columns": null,
            "grid_auto_flow": null,
            "grid_auto_rows": null,
            "grid_column": null,
            "grid_gap": null,
            "grid_row": null,
            "grid_template_areas": null,
            "grid_template_columns": null,
            "grid_template_rows": null,
            "height": null,
            "justify_content": null,
            "justify_items": null,
            "left": null,
            "margin": null,
            "max_height": null,
            "max_width": null,
            "min_height": null,
            "min_width": null,
            "object_fit": null,
            "object_position": null,
            "order": null,
            "overflow": null,
            "overflow_x": null,
            "overflow_y": null,
            "padding": null,
            "right": null,
            "top": null,
            "visibility": null,
            "width": null
          }
        },
        "a79b7b6de9294b2d95af890a166435fe": {
          "model_module": "@jupyter-widgets/controls",
          "model_name": "DescriptionStyleModel",
          "model_module_version": "1.5.0",
          "state": {
            "_model_module": "@jupyter-widgets/controls",
            "_model_module_version": "1.5.0",
            "_model_name": "DescriptionStyleModel",
            "_view_count": null,
            "_view_module": "@jupyter-widgets/base",
            "_view_module_version": "1.2.0",
            "_view_name": "StyleView",
            "description_width": ""
          }
        },
        "89255085908e4ade863af7bc9d13b968": {
          "model_module": "@jupyter-widgets/controls",
          "model_name": "DropdownModel",
          "model_module_version": "1.5.0",
          "state": {
            "_dom_classes": [],
            "_model_module": "@jupyter-widgets/controls",
            "_model_module_version": "1.5.0",
            "_model_name": "DropdownModel",
            "_options_labels": [
              "AH_1",
              "DM_1",
              "glenn_1",
              "joe_7",
              "misc_58",
              "Khm_1"
            ],
            "_view_count": null,
            "_view_module": "@jupyter-widgets/controls",
            "_view_module_version": "1.5.0",
            "_view_name": "DropdownView",
            "description": "Select Prefix:",
            "description_tooltip": null,
            "disabled": false,
            "index": 0,
            "layout": "IPY_MODEL_a78979bc116346e891b871782d623988",
            "style": "IPY_MODEL_4cbd29bdb60d4a3989f19c46deb0db96"
          }
        },
        "a78979bc116346e891b871782d623988": {
          "model_module": "@jupyter-widgets/base",
          "model_name": "LayoutModel",
          "model_module_version": "1.2.0",
          "state": {
            "_model_module": "@jupyter-widgets/base",
            "_model_module_version": "1.2.0",
            "_model_name": "LayoutModel",
            "_view_count": null,
            "_view_module": "@jupyter-widgets/base",
            "_view_module_version": "1.2.0",
            "_view_name": "LayoutView",
            "align_content": null,
            "align_items": null,
            "align_self": null,
            "border": null,
            "bottom": null,
            "display": null,
            "flex": null,
            "flex_flow": null,
            "grid_area": null,
            "grid_auto_columns": null,
            "grid_auto_flow": null,
            "grid_auto_rows": null,
            "grid_column": null,
            "grid_gap": null,
            "grid_row": null,
            "grid_template_areas": null,
            "grid_template_columns": null,
            "grid_template_rows": null,
            "height": null,
            "justify_content": null,
            "justify_items": null,
            "left": null,
            "margin": null,
            "max_height": null,
            "max_width": null,
            "min_height": null,
            "min_width": null,
            "object_fit": null,
            "object_position": null,
            "order": null,
            "overflow": null,
            "overflow_x": null,
            "overflow_y": null,
            "padding": null,
            "right": null,
            "top": null,
            "visibility": null,
            "width": null
          }
        },
        "4cbd29bdb60d4a3989f19c46deb0db96": {
          "model_module": "@jupyter-widgets/controls",
          "model_name": "DescriptionStyleModel",
          "model_module_version": "1.5.0",
          "state": {
            "_model_module": "@jupyter-widgets/controls",
            "_model_module_version": "1.5.0",
            "_model_name": "DescriptionStyleModel",
            "_view_count": null,
            "_view_module": "@jupyter-widgets/base",
            "_view_module_version": "1.2.0",
            "_view_name": "StyleView",
            "description_width": ""
          }
        },
        "2381240373be48f084f148f84b409d1f": {
          "model_module": "@jupyter-widgets/controls",
          "model_name": "DropdownModel",
          "model_module_version": "1.5.0",
          "state": {
            "_dom_classes": [],
            "_model_module": "@jupyter-widgets/controls",
            "_model_module_version": "1.5.0",
            "_model_name": "DropdownModel",
            "_options_labels": [
              "AH_1",
              "DM_1",
              "glenn_1",
              "joe_7",
              "misc_58",
              "Khm_1"
            ],
            "_view_count": null,
            "_view_module": "@jupyter-widgets/controls",
            "_view_module_version": "1.5.0",
            "_view_name": "DropdownView",
            "description": "Select Prefix:",
            "description_tooltip": null,
            "disabled": false,
            "index": 1,
            "layout": "IPY_MODEL_b2fa4962fe3a4fdd81d7e1b691c9f8b4",
            "style": "IPY_MODEL_24aabf0d541245f49c475a9ce8d7a0d5"
          }
        },
        "b2fa4962fe3a4fdd81d7e1b691c9f8b4": {
          "model_module": "@jupyter-widgets/base",
          "model_name": "LayoutModel",
          "model_module_version": "1.2.0",
          "state": {
            "_model_module": "@jupyter-widgets/base",
            "_model_module_version": "1.2.0",
            "_model_name": "LayoutModel",
            "_view_count": null,
            "_view_module": "@jupyter-widgets/base",
            "_view_module_version": "1.2.0",
            "_view_name": "LayoutView",
            "align_content": null,
            "align_items": null,
            "align_self": null,
            "border": null,
            "bottom": null,
            "display": null,
            "flex": null,
            "flex_flow": null,
            "grid_area": null,
            "grid_auto_columns": null,
            "grid_auto_flow": null,
            "grid_auto_rows": null,
            "grid_column": null,
            "grid_gap": null,
            "grid_row": null,
            "grid_template_areas": null,
            "grid_template_columns": null,
            "grid_template_rows": null,
            "height": null,
            "justify_content": null,
            "justify_items": null,
            "left": null,
            "margin": null,
            "max_height": null,
            "max_width": null,
            "min_height": null,
            "min_width": null,
            "object_fit": null,
            "object_position": null,
            "order": null,
            "overflow": null,
            "overflow_x": null,
            "overflow_y": null,
            "padding": null,
            "right": null,
            "top": null,
            "visibility": null,
            "width": null
          }
        },
        "24aabf0d541245f49c475a9ce8d7a0d5": {
          "model_module": "@jupyter-widgets/controls",
          "model_name": "DescriptionStyleModel",
          "model_module_version": "1.5.0",
          "state": {
            "_model_module": "@jupyter-widgets/controls",
            "_model_module_version": "1.5.0",
            "_model_name": "DescriptionStyleModel",
            "_view_count": null,
            "_view_module": "@jupyter-widgets/base",
            "_view_module_version": "1.2.0",
            "_view_name": "StyleView",
            "description_width": ""
          }
        },
        "39277c43a1904b5bb4f40131b6d7ff6d": {
          "model_module": "@jupyter-widgets/controls",
          "model_name": "DropdownModel",
          "model_module_version": "1.5.0",
          "state": {
            "_dom_classes": [],
            "_model_module": "@jupyter-widgets/controls",
            "_model_module_version": "1.5.0",
            "_model_name": "DropdownModel",
            "_options_labels": [
              "AH_1",
              "DM_1",
              "glenn_1",
              "joe_7",
              "misc_58",
              "Khm_1"
            ],
            "_view_count": null,
            "_view_module": "@jupyter-widgets/controls",
            "_view_module_version": "1.5.0",
            "_view_name": "DropdownView",
            "description": "Select Prefix:",
            "description_tooltip": null,
            "disabled": false,
            "index": 0,
            "layout": "IPY_MODEL_8494ee61459d4d95ad4e80f3f13dd2ff",
            "style": "IPY_MODEL_3be8f65d09164e7a816c944a8f905558"
          }
        },
        "8494ee61459d4d95ad4e80f3f13dd2ff": {
          "model_module": "@jupyter-widgets/base",
          "model_name": "LayoutModel",
          "model_module_version": "1.2.0",
          "state": {
            "_model_module": "@jupyter-widgets/base",
            "_model_module_version": "1.2.0",
            "_model_name": "LayoutModel",
            "_view_count": null,
            "_view_module": "@jupyter-widgets/base",
            "_view_module_version": "1.2.0",
            "_view_name": "LayoutView",
            "align_content": null,
            "align_items": null,
            "align_self": null,
            "border": null,
            "bottom": null,
            "display": null,
            "flex": null,
            "flex_flow": null,
            "grid_area": null,
            "grid_auto_columns": null,
            "grid_auto_flow": null,
            "grid_auto_rows": null,
            "grid_column": null,
            "grid_gap": null,
            "grid_row": null,
            "grid_template_areas": null,
            "grid_template_columns": null,
            "grid_template_rows": null,
            "height": null,
            "justify_content": null,
            "justify_items": null,
            "left": null,
            "margin": null,
            "max_height": null,
            "max_width": null,
            "min_height": null,
            "min_width": null,
            "object_fit": null,
            "object_position": null,
            "order": null,
            "overflow": null,
            "overflow_x": null,
            "overflow_y": null,
            "padding": null,
            "right": null,
            "top": null,
            "visibility": null,
            "width": null
          }
        },
        "3be8f65d09164e7a816c944a8f905558": {
          "model_module": "@jupyter-widgets/controls",
          "model_name": "DescriptionStyleModel",
          "model_module_version": "1.5.0",
          "state": {
            "_model_module": "@jupyter-widgets/controls",
            "_model_module_version": "1.5.0",
            "_model_name": "DescriptionStyleModel",
            "_view_count": null,
            "_view_module": "@jupyter-widgets/base",
            "_view_module_version": "1.2.0",
            "_view_name": "StyleView",
            "description_width": ""
          }
        }
      }
    }
  },
  "nbformat": 4,
  "nbformat_minor": 0
}